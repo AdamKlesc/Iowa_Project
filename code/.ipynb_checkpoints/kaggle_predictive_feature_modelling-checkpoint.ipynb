{
 "cells": [
  {
   "cell_type": "code",
   "execution_count": 1,
   "id": "888ae5b3",
   "metadata": {},
   "outputs": [],
   "source": [
    "import pandas as pd\n",
    "import numpy as np\n",
    "import seaborn as sns\n",
    "import matplotlib.pyplot as plt\n",
    "\n",
    "from sklearn.linear_model import LinearRegression, Ridge, RidgeCV, Lasso, LassoCV\n",
    "from sklearn.model_selection import train_test_split, cross_val_score\n",
    "from sklearn.dummy import DummyRegressor\n",
    "from sklearn.tree import DecisionTreeRegressor\n",
    "\n",
    "from sklearn.preprocessing import StandardScaler, PolynomialFeatures, PowerTransformer\n",
    "\n",
    "import sklearn.metrics as metrics"
   ]
  },
  {
   "cell_type": "markdown",
   "id": "e7c7e759",
   "metadata": {},
   "source": [
    "# REMEMBER\n",
    "There are 3 main metrics for model evaluation in regression:\n",
    "* R Square/Adjusted R Square.\n",
    "* Mean Square Error(MSE)/Root Mean Square Error(RMSE)\n",
    "* Mean Absolute Error(MAE)\n",
    "\n",
    "Along with the standard scoring and cross val score."
   ]
  },
  {
   "cell_type": "code",
   "execution_count": 2,
   "id": "0a97d92d",
   "metadata": {},
   "outputs": [],
   "source": [
    "def r2adj(model, X, y):\n",
    "    return 1 - (1-model.score(X, y))*(len(y)-1)/(len(y)-X.shape[1]-1)"
   ]
  },
  {
   "cell_type": "markdown",
   "id": "76274008",
   "metadata": {},
   "source": [
    "## Test Dataset With Converted Object to Float/Int Columns"
   ]
  },
  {
   "cell_type": "code",
   "execution_count": 3,
   "id": "14c9a81f",
   "metadata": {},
   "outputs": [
    {
     "data": {
      "text/html": [
       "<div>\n",
       "<style scoped>\n",
       "    .dataframe tbody tr th:only-of-type {\n",
       "        vertical-align: middle;\n",
       "    }\n",
       "\n",
       "    .dataframe tbody tr th {\n",
       "        vertical-align: top;\n",
       "    }\n",
       "\n",
       "    .dataframe thead th {\n",
       "        text-align: right;\n",
       "    }\n",
       "</style>\n",
       "<table border=\"1\" class=\"dataframe\">\n",
       "  <thead>\n",
       "    <tr style=\"text-align: right;\">\n",
       "      <th></th>\n",
       "      <th>Id</th>\n",
       "      <th>PID</th>\n",
       "      <th>MS_SubClass</th>\n",
       "      <th>MS_Zoning</th>\n",
       "      <th>Lot_Frontage</th>\n",
       "      <th>Lot_Area</th>\n",
       "      <th>Street</th>\n",
       "      <th>Alley</th>\n",
       "      <th>Lot_Shape</th>\n",
       "      <th>Land_Contour</th>\n",
       "      <th>...</th>\n",
       "      <th>3Ssn_Porch</th>\n",
       "      <th>Screen_Porch</th>\n",
       "      <th>Pool_Area</th>\n",
       "      <th>Pool_QC</th>\n",
       "      <th>Fence</th>\n",
       "      <th>Misc_Feature</th>\n",
       "      <th>Misc_Val</th>\n",
       "      <th>Mo_Sold</th>\n",
       "      <th>Yr_Sold</th>\n",
       "      <th>Sale_Type</th>\n",
       "    </tr>\n",
       "  </thead>\n",
       "  <tbody>\n",
       "    <tr>\n",
       "      <th>0</th>\n",
       "      <td>2658</td>\n",
       "      <td>902301120</td>\n",
       "      <td>190</td>\n",
       "      <td>RM</td>\n",
       "      <td>69.0</td>\n",
       "      <td>9142</td>\n",
       "      <td>Pave</td>\n",
       "      <td>Grvl</td>\n",
       "      <td>Reg</td>\n",
       "      <td>Lvl</td>\n",
       "      <td>...</td>\n",
       "      <td>0</td>\n",
       "      <td>0</td>\n",
       "      <td>0</td>\n",
       "      <td>0</td>\n",
       "      <td>NaN</td>\n",
       "      <td>NaN</td>\n",
       "      <td>0</td>\n",
       "      <td>4</td>\n",
       "      <td>2006</td>\n",
       "      <td>WD</td>\n",
       "    </tr>\n",
       "    <tr>\n",
       "      <th>1</th>\n",
       "      <td>2718</td>\n",
       "      <td>905108090</td>\n",
       "      <td>90</td>\n",
       "      <td>RL</td>\n",
       "      <td>0.0</td>\n",
       "      <td>9662</td>\n",
       "      <td>Pave</td>\n",
       "      <td>NaN</td>\n",
       "      <td>IR1</td>\n",
       "      <td>Lvl</td>\n",
       "      <td>...</td>\n",
       "      <td>0</td>\n",
       "      <td>0</td>\n",
       "      <td>0</td>\n",
       "      <td>0</td>\n",
       "      <td>NaN</td>\n",
       "      <td>NaN</td>\n",
       "      <td>0</td>\n",
       "      <td>8</td>\n",
       "      <td>2006</td>\n",
       "      <td>WD</td>\n",
       "    </tr>\n",
       "    <tr>\n",
       "      <th>2</th>\n",
       "      <td>2414</td>\n",
       "      <td>528218130</td>\n",
       "      <td>60</td>\n",
       "      <td>RL</td>\n",
       "      <td>58.0</td>\n",
       "      <td>17104</td>\n",
       "      <td>Pave</td>\n",
       "      <td>NaN</td>\n",
       "      <td>IR1</td>\n",
       "      <td>Lvl</td>\n",
       "      <td>...</td>\n",
       "      <td>0</td>\n",
       "      <td>0</td>\n",
       "      <td>0</td>\n",
       "      <td>0</td>\n",
       "      <td>NaN</td>\n",
       "      <td>NaN</td>\n",
       "      <td>0</td>\n",
       "      <td>9</td>\n",
       "      <td>2006</td>\n",
       "      <td>New</td>\n",
       "    </tr>\n",
       "    <tr>\n",
       "      <th>3</th>\n",
       "      <td>1989</td>\n",
       "      <td>902207150</td>\n",
       "      <td>30</td>\n",
       "      <td>RM</td>\n",
       "      <td>60.0</td>\n",
       "      <td>8520</td>\n",
       "      <td>Pave</td>\n",
       "      <td>NaN</td>\n",
       "      <td>Reg</td>\n",
       "      <td>Lvl</td>\n",
       "      <td>...</td>\n",
       "      <td>0</td>\n",
       "      <td>0</td>\n",
       "      <td>0</td>\n",
       "      <td>0</td>\n",
       "      <td>NaN</td>\n",
       "      <td>NaN</td>\n",
       "      <td>0</td>\n",
       "      <td>7</td>\n",
       "      <td>2007</td>\n",
       "      <td>WD</td>\n",
       "    </tr>\n",
       "    <tr>\n",
       "      <th>4</th>\n",
       "      <td>625</td>\n",
       "      <td>535105100</td>\n",
       "      <td>20</td>\n",
       "      <td>RL</td>\n",
       "      <td>0.0</td>\n",
       "      <td>9500</td>\n",
       "      <td>Pave</td>\n",
       "      <td>NaN</td>\n",
       "      <td>IR1</td>\n",
       "      <td>Lvl</td>\n",
       "      <td>...</td>\n",
       "      <td>0</td>\n",
       "      <td>185</td>\n",
       "      <td>0</td>\n",
       "      <td>0</td>\n",
       "      <td>NaN</td>\n",
       "      <td>NaN</td>\n",
       "      <td>0</td>\n",
       "      <td>7</td>\n",
       "      <td>2009</td>\n",
       "      <td>WD</td>\n",
       "    </tr>\n",
       "  </tbody>\n",
       "</table>\n",
       "<p>5 rows × 80 columns</p>\n",
       "</div>"
      ],
      "text/plain": [
       "     Id        PID  MS_SubClass MS_Zoning  Lot_Frontage  Lot_Area Street  \\\n",
       "0  2658  902301120          190        RM          69.0      9142   Pave   \n",
       "1  2718  905108090           90        RL           0.0      9662   Pave   \n",
       "2  2414  528218130           60        RL          58.0     17104   Pave   \n",
       "3  1989  902207150           30        RM          60.0      8520   Pave   \n",
       "4   625  535105100           20        RL           0.0      9500   Pave   \n",
       "\n",
       "  Alley Lot_Shape Land_Contour  ... 3Ssn_Porch Screen_Porch Pool_Area Pool_QC  \\\n",
       "0  Grvl       Reg          Lvl  ...          0            0         0       0   \n",
       "1   NaN       IR1          Lvl  ...          0            0         0       0   \n",
       "2   NaN       IR1          Lvl  ...          0            0         0       0   \n",
       "3   NaN       Reg          Lvl  ...          0            0         0       0   \n",
       "4   NaN       IR1          Lvl  ...          0          185         0       0   \n",
       "\n",
       "  Fence Misc_Feature Misc_Val Mo_Sold  Yr_Sold  Sale_Type  \n",
       "0   NaN          NaN        0       4     2006        WD   \n",
       "1   NaN          NaN        0       8     2006        WD   \n",
       "2   NaN          NaN        0       9     2006        New  \n",
       "3   NaN          NaN        0       7     2007        WD   \n",
       "4   NaN          NaN        0       7     2009        WD   \n",
       "\n",
       "[5 rows x 80 columns]"
      ]
     },
     "execution_count": 3,
     "metadata": {},
     "output_type": "execute_result"
    }
   ],
   "source": [
    "testdice = pd.read_csv('../created_datasets/test_indice_cols_clean.csv')\n",
    "testdice.drop(columns = 'Unnamed: 0', inplace = True)\n",
    "testdice.head()"
   ]
  },
  {
   "cell_type": "markdown",
   "id": "27efb5fa",
   "metadata": {},
   "source": [
    "## Training Dataset With Converted Object to Float/Int Columns"
   ]
  },
  {
   "cell_type": "code",
   "execution_count": 4,
   "id": "3313cc9b",
   "metadata": {},
   "outputs": [
    {
     "data": {
      "text/html": [
       "<div>\n",
       "<style scoped>\n",
       "    .dataframe tbody tr th:only-of-type {\n",
       "        vertical-align: middle;\n",
       "    }\n",
       "\n",
       "    .dataframe tbody tr th {\n",
       "        vertical-align: top;\n",
       "    }\n",
       "\n",
       "    .dataframe thead th {\n",
       "        text-align: right;\n",
       "    }\n",
       "</style>\n",
       "<table border=\"1\" class=\"dataframe\">\n",
       "  <thead>\n",
       "    <tr style=\"text-align: right;\">\n",
       "      <th></th>\n",
       "      <th>Id</th>\n",
       "      <th>PID</th>\n",
       "      <th>MS_SubClass</th>\n",
       "      <th>MS_Zoning</th>\n",
       "      <th>Lot_Frontage</th>\n",
       "      <th>Lot_Area</th>\n",
       "      <th>Street</th>\n",
       "      <th>Alley</th>\n",
       "      <th>Lot_Shape</th>\n",
       "      <th>Land_Contour</th>\n",
       "      <th>...</th>\n",
       "      <th>Screen_Porch</th>\n",
       "      <th>Pool_Area</th>\n",
       "      <th>Pool_QC</th>\n",
       "      <th>Fence</th>\n",
       "      <th>Misc_Feature</th>\n",
       "      <th>Misc_Val</th>\n",
       "      <th>Mo_Sold</th>\n",
       "      <th>Yr_Sold</th>\n",
       "      <th>Sale_Type</th>\n",
       "      <th>SalePrice</th>\n",
       "    </tr>\n",
       "  </thead>\n",
       "  <tbody>\n",
       "    <tr>\n",
       "      <th>0</th>\n",
       "      <td>109</td>\n",
       "      <td>533352170</td>\n",
       "      <td>60</td>\n",
       "      <td>RL</td>\n",
       "      <td>0.0</td>\n",
       "      <td>13517</td>\n",
       "      <td>Pave</td>\n",
       "      <td>NaN</td>\n",
       "      <td>IR1</td>\n",
       "      <td>Lvl</td>\n",
       "      <td>...</td>\n",
       "      <td>0</td>\n",
       "      <td>0</td>\n",
       "      <td>0</td>\n",
       "      <td>NaN</td>\n",
       "      <td>NaN</td>\n",
       "      <td>0</td>\n",
       "      <td>3</td>\n",
       "      <td>2010</td>\n",
       "      <td>WD</td>\n",
       "      <td>130500</td>\n",
       "    </tr>\n",
       "    <tr>\n",
       "      <th>1</th>\n",
       "      <td>544</td>\n",
       "      <td>531379050</td>\n",
       "      <td>60</td>\n",
       "      <td>RL</td>\n",
       "      <td>43.0</td>\n",
       "      <td>11492</td>\n",
       "      <td>Pave</td>\n",
       "      <td>NaN</td>\n",
       "      <td>IR1</td>\n",
       "      <td>Lvl</td>\n",
       "      <td>...</td>\n",
       "      <td>0</td>\n",
       "      <td>0</td>\n",
       "      <td>0</td>\n",
       "      <td>NaN</td>\n",
       "      <td>NaN</td>\n",
       "      <td>0</td>\n",
       "      <td>4</td>\n",
       "      <td>2009</td>\n",
       "      <td>WD</td>\n",
       "      <td>220000</td>\n",
       "    </tr>\n",
       "    <tr>\n",
       "      <th>2</th>\n",
       "      <td>153</td>\n",
       "      <td>535304180</td>\n",
       "      <td>20</td>\n",
       "      <td>RL</td>\n",
       "      <td>68.0</td>\n",
       "      <td>7922</td>\n",
       "      <td>Pave</td>\n",
       "      <td>NaN</td>\n",
       "      <td>Reg</td>\n",
       "      <td>Lvl</td>\n",
       "      <td>...</td>\n",
       "      <td>0</td>\n",
       "      <td>0</td>\n",
       "      <td>0</td>\n",
       "      <td>NaN</td>\n",
       "      <td>NaN</td>\n",
       "      <td>0</td>\n",
       "      <td>1</td>\n",
       "      <td>2010</td>\n",
       "      <td>WD</td>\n",
       "      <td>109000</td>\n",
       "    </tr>\n",
       "    <tr>\n",
       "      <th>3</th>\n",
       "      <td>318</td>\n",
       "      <td>916386060</td>\n",
       "      <td>60</td>\n",
       "      <td>RL</td>\n",
       "      <td>73.0</td>\n",
       "      <td>9802</td>\n",
       "      <td>Pave</td>\n",
       "      <td>NaN</td>\n",
       "      <td>Reg</td>\n",
       "      <td>Lvl</td>\n",
       "      <td>...</td>\n",
       "      <td>0</td>\n",
       "      <td>0</td>\n",
       "      <td>0</td>\n",
       "      <td>NaN</td>\n",
       "      <td>NaN</td>\n",
       "      <td>0</td>\n",
       "      <td>4</td>\n",
       "      <td>2010</td>\n",
       "      <td>WD</td>\n",
       "      <td>174000</td>\n",
       "    </tr>\n",
       "    <tr>\n",
       "      <th>4</th>\n",
       "      <td>255</td>\n",
       "      <td>906425045</td>\n",
       "      <td>50</td>\n",
       "      <td>RL</td>\n",
       "      <td>82.0</td>\n",
       "      <td>14235</td>\n",
       "      <td>Pave</td>\n",
       "      <td>NaN</td>\n",
       "      <td>IR1</td>\n",
       "      <td>Lvl</td>\n",
       "      <td>...</td>\n",
       "      <td>0</td>\n",
       "      <td>0</td>\n",
       "      <td>0</td>\n",
       "      <td>NaN</td>\n",
       "      <td>NaN</td>\n",
       "      <td>0</td>\n",
       "      <td>3</td>\n",
       "      <td>2010</td>\n",
       "      <td>WD</td>\n",
       "      <td>138500</td>\n",
       "    </tr>\n",
       "  </tbody>\n",
       "</table>\n",
       "<p>5 rows × 81 columns</p>\n",
       "</div>"
      ],
      "text/plain": [
       "    Id        PID  MS_SubClass MS_Zoning  Lot_Frontage  Lot_Area Street Alley  \\\n",
       "0  109  533352170           60        RL           0.0     13517   Pave   NaN   \n",
       "1  544  531379050           60        RL          43.0     11492   Pave   NaN   \n",
       "2  153  535304180           20        RL          68.0      7922   Pave   NaN   \n",
       "3  318  916386060           60        RL          73.0      9802   Pave   NaN   \n",
       "4  255  906425045           50        RL          82.0     14235   Pave   NaN   \n",
       "\n",
       "  Lot_Shape Land_Contour  ... Screen_Porch Pool_Area Pool_QC Fence  \\\n",
       "0       IR1          Lvl  ...            0         0       0   NaN   \n",
       "1       IR1          Lvl  ...            0         0       0   NaN   \n",
       "2       Reg          Lvl  ...            0         0       0   NaN   \n",
       "3       Reg          Lvl  ...            0         0       0   NaN   \n",
       "4       IR1          Lvl  ...            0         0       0   NaN   \n",
       "\n",
       "  Misc_Feature Misc_Val Mo_Sold Yr_Sold  Sale_Type  SalePrice  \n",
       "0          NaN        0       3    2010        WD      130500  \n",
       "1          NaN        0       4    2009        WD      220000  \n",
       "2          NaN        0       1    2010        WD      109000  \n",
       "3          NaN        0       4    2010        WD      174000  \n",
       "4          NaN        0       3    2010        WD      138500  \n",
       "\n",
       "[5 rows x 81 columns]"
      ]
     },
     "execution_count": 4,
     "metadata": {},
     "output_type": "execute_result"
    }
   ],
   "source": [
    "traindice = pd.read_csv('../created_datasets/train_indice_cols_clean.csv')\n",
    "traindice.drop(columns = 'Unnamed: 0', inplace = True)\n",
    "traindice.head()"
   ]
  },
  {
   "cell_type": "markdown",
   "id": "1b730c54",
   "metadata": {},
   "source": [
    "#### Avoid columns Garage_Yr_Blt"
   ]
  },
  {
   "cell_type": "code",
   "execution_count": 5,
   "id": "db42e2ba",
   "metadata": {},
   "outputs": [
    {
     "data": {
      "text/plain": [
       "Id              0\n",
       "PID             0\n",
       "MS_SubClass     0\n",
       "MS_Zoning       0\n",
       "Lot_Frontage    0\n",
       "               ..\n",
       "Misc_Val        0\n",
       "Mo_Sold         0\n",
       "Yr_Sold         0\n",
       "Sale_Type       0\n",
       "SalePrice       0\n",
       "Length: 81, dtype: int64"
      ]
     },
     "execution_count": 5,
     "metadata": {},
     "output_type": "execute_result"
    }
   ],
   "source": [
    "traindice.isnull().sum()"
   ]
  },
  {
   "cell_type": "code",
   "execution_count": 6,
   "id": "05f6af00",
   "metadata": {},
   "outputs": [],
   "source": [
    "from statsmodels.stats.outliers_influence import variance_inflation_factor"
   ]
  },
  {
   "cell_type": "code",
   "execution_count": 7,
   "id": "78bbecbc",
   "metadata": {},
   "outputs": [],
   "source": [
    "pricecorr = traindice.corr()[['SalePrice']].sort_values('SalePrice').iloc[:-1, :]\n",
    "price_corr = pricecorr.loc[pricecorr['SalePrice'] > 0.5]"
   ]
  },
  {
   "cell_type": "code",
   "execution_count": 8,
   "id": "8b41d0d1",
   "metadata": {},
   "outputs": [
    {
     "data": {
      "image/png": "[encoded data removed]",
      "text/plain": [
       "<Figure size 1152x432 with 2 Axes>"
      ]
     },
     "metadata": {
      "needs_background": "light"
     },
     "output_type": "display_data"
    }
   ],
   "source": [
    "plt.figure(figsize=(16,6))\n",
    "sns.heatmap(price_corr, cmap = 'viridis', vmin = -1, vmax = 1)\n",
    "plt.savefig('../graphs/indcolscorr')"
   ]
  },
  {
   "cell_type": "code",
   "execution_count": 9,
   "id": "81784f30",
   "metadata": {},
   "outputs": [
    {
     "data": {
      "text/plain": [
       "SalePrice  PID               -0.255052\n",
       "           Enclosed_Porch    -0.135656\n",
       "           Kitchen_AbvGr     -0.125444\n",
       "           Overall_Cond      -0.097019\n",
       "           MS_SubClass       -0.087335\n",
       "           Id                -0.051398\n",
       "           Bsmt_Half_Bath    -0.045290\n",
       "           Low_Qual_Fin_SF   -0.041594\n",
       "           Yr_Sold           -0.015203\n",
       "           Misc_Val          -0.007375\n",
       "           BsmtFin_SF_2       0.016432\n",
       "           Pool_Area          0.023106\n",
       "           Pool_QC            0.030585\n",
       "           Mo_Sold            0.032735\n",
       "           Exter_Cond         0.036418\n",
       "           3Ssn_Porch         0.048732\n",
       "           Screen_Porch       0.134581\n",
       "           Bedroom_AbvGr      0.137067\n",
       "           Lot_Frontage       0.181456\n",
       "           Bsmt_Unf_SF        0.190861\n",
       "           Bsmt_Cond          0.225075\n",
       "           2nd_Flr_SF         0.248452\n",
       "           Garage_Cond        0.265021\n",
       "           Central_Air        0.277378\n",
       "           Half_Bath          0.283001\n",
       "           Bsmt_Full_Bath     0.283332\n",
       "           Garage_Qual        0.285281\n",
       "           Lot_Area           0.296566\n",
       "           Wood_Deck_SF       0.326490\n",
       "           Open_Porch_SF      0.333476\n",
       "           BsmtFin_SF_1       0.423856\n",
       "           Bsmt_Exposure      0.424863\n",
       "           Heating_QC         0.458354\n",
       "           Fireplaces         0.471093\n",
       "           Mas_Vnr_Area       0.503579\n",
       "           TotRms_AbvGrd      0.504014\n",
       "           Garage_Yr_Blt      0.533922\n",
       "           Full_Bath          0.537969\n",
       "           Fireplace_Qu       0.538925\n",
       "           Year_Remod/Add     0.550370\n",
       "           Garage_Finish      0.557839\n",
       "           Year_Built         0.571849\n",
       "           Bsmt_Qual          0.612188\n",
       "           1st_Flr_SF         0.618486\n",
       "           Total_Bsmt_SF      0.629303\n",
       "           Garage_Cars        0.647781\n",
       "           Garage_Area        0.649897\n",
       "           Kitchen_Qual       0.692336\n",
       "           Gr_Liv_Area        0.697038\n",
       "           Exter_Qual         0.712146\n",
       "           Overall_Qual       0.800207\n",
       "dtype: float64"
      ]
     },
     "execution_count": 9,
     "metadata": {},
     "output_type": "execute_result"
    }
   ],
   "source": [
    "pcsort = pricecorr.unstack().sort_values()\n",
    "#https://www.geeksforgeeks.org/sort-correlation-matrix-in-python/\n",
    "pcsort"
   ]
  },
  {
   "cell_type": "markdown",
   "id": "7d57c843",
   "metadata": {},
   "source": [
    "# INITIAL FEATURE SELECTION\n",
    "For this notebook, I will not be accounting for multicollinearity.\n",
    "\n",
    "In a notebook afterwards, I will be accounting for multicollinearity."
   ]
  },
  {
   "cell_type": "markdown",
   "id": "a4c92af2",
   "metadata": {},
   "source": [
    "## First feature setting\n",
    "Using features with coefficients ranging from 0.5-1.0 "
   ]
  },
  {
   "cell_type": "code",
   "execution_count": 10,
   "id": "437d1da1",
   "metadata": {},
   "outputs": [],
   "source": [
    "features = ['Overall_Qual', 'Exter_Qual', 'Gr_Liv_Area', 'Kitchen_Qual', 'Garage_Area', 'Garage_Cars',\n",
    "           'Total_Bsmt_SF', '1st_Flr_SF', 'Bsmt_Qual', 'Year_Built', 'Garage_Finish', 'Year_Remod/Add', 'Fireplace_Qu',\n",
    "           'Full_Bath', 'TotRms_AbvGrd', 'Mas_Vnr_Area']\n",
    "X = traindice[features]\n",
    "y = traindice['SalePrice']"
   ]
  },
  {
   "cell_type": "code",
   "execution_count": 11,
   "id": "8a68221b",
   "metadata": {},
   "outputs": [],
   "source": [
    "vif_data = pd.DataFrame()\n",
    "vif_data[\"feature\"] = X.columns\n",
    "vif_data[\"VIF\"] = [variance_inflation_factor(X.values, i) for i in range(len(X.columns))]"
   ]
  },
  {
   "cell_type": "code",
   "execution_count": 12,
   "id": "4c95ddc9",
   "metadata": {},
   "outputs": [
    {
     "data": {
      "text/html": [
       "<div>\n",
       "<style scoped>\n",
       "    .dataframe tbody tr th:only-of-type {\n",
       "        vertical-align: middle;\n",
       "    }\n",
       "\n",
       "    .dataframe tbody tr th {\n",
       "        vertical-align: top;\n",
       "    }\n",
       "\n",
       "    .dataframe thead th {\n",
       "        text-align: right;\n",
       "    }\n",
       "</style>\n",
       "<table border=\"1\" class=\"dataframe\">\n",
       "  <thead>\n",
       "    <tr style=\"text-align: right;\">\n",
       "      <th></th>\n",
       "      <th>feature</th>\n",
       "      <th>VIF</th>\n",
       "    </tr>\n",
       "  </thead>\n",
       "  <tbody>\n",
       "    <tr>\n",
       "      <th>0</th>\n",
       "      <td>Overall_Qual</td>\n",
       "      <td>70.537466</td>\n",
       "    </tr>\n",
       "    <tr>\n",
       "      <th>1</th>\n",
       "      <td>Exter_Qual</td>\n",
       "      <td>103.035529</td>\n",
       "    </tr>\n",
       "    <tr>\n",
       "      <th>2</th>\n",
       "      <td>Gr_Liv_Area</td>\n",
       "      <td>50.546873</td>\n",
       "    </tr>\n",
       "    <tr>\n",
       "      <th>3</th>\n",
       "      <td>Kitchen_Qual</td>\n",
       "      <td>38.201914</td>\n",
       "    </tr>\n",
       "    <tr>\n",
       "      <th>4</th>\n",
       "      <td>Garage_Area</td>\n",
       "      <td>32.950942</td>\n",
       "    </tr>\n",
       "    <tr>\n",
       "      <th>5</th>\n",
       "      <td>Garage_Cars</td>\n",
       "      <td>38.443098</td>\n",
       "    </tr>\n",
       "    <tr>\n",
       "      <th>6</th>\n",
       "      <td>Total_Bsmt_SF</td>\n",
       "      <td>30.312065</td>\n",
       "    </tr>\n",
       "    <tr>\n",
       "      <th>7</th>\n",
       "      <td>1st_Flr_SF</td>\n",
       "      <td>41.543228</td>\n",
       "    </tr>\n",
       "    <tr>\n",
       "      <th>8</th>\n",
       "      <td>Bsmt_Qual</td>\n",
       "      <td>43.244029</td>\n",
       "    </tr>\n",
       "    <tr>\n",
       "      <th>9</th>\n",
       "      <td>Year_Built</td>\n",
       "      <td>9382.777263</td>\n",
       "    </tr>\n",
       "    <tr>\n",
       "      <th>10</th>\n",
       "      <td>Garage_Finish</td>\n",
       "      <td>8.793663</td>\n",
       "    </tr>\n",
       "    <tr>\n",
       "      <th>11</th>\n",
       "      <td>Year_Remod/Add</td>\n",
       "      <td>9172.820749</td>\n",
       "    </tr>\n",
       "    <tr>\n",
       "      <th>12</th>\n",
       "      <td>Fireplace_Qu</td>\n",
       "      <td>2.954747</td>\n",
       "    </tr>\n",
       "    <tr>\n",
       "      <th>13</th>\n",
       "      <td>Full_Bath</td>\n",
       "      <td>17.881653</td>\n",
       "    </tr>\n",
       "    <tr>\n",
       "      <th>14</th>\n",
       "      <td>TotRms_AbvGrd</td>\n",
       "      <td>57.074942</td>\n",
       "    </tr>\n",
       "    <tr>\n",
       "      <th>15</th>\n",
       "      <td>Mas_Vnr_Area</td>\n",
       "      <td>1.824514</td>\n",
       "    </tr>\n",
       "  </tbody>\n",
       "</table>\n",
       "</div>"
      ],
      "text/plain": [
       "           feature          VIF\n",
       "0     Overall_Qual    70.537466\n",
       "1       Exter_Qual   103.035529\n",
       "2      Gr_Liv_Area    50.546873\n",
       "3     Kitchen_Qual    38.201914\n",
       "4      Garage_Area    32.950942\n",
       "5      Garage_Cars    38.443098\n",
       "6    Total_Bsmt_SF    30.312065\n",
       "7       1st_Flr_SF    41.543228\n",
       "8        Bsmt_Qual    43.244029\n",
       "9       Year_Built  9382.777263\n",
       "10   Garage_Finish     8.793663\n",
       "11  Year_Remod/Add  9172.820749\n",
       "12    Fireplace_Qu     2.954747\n",
       "13       Full_Bath    17.881653\n",
       "14   TotRms_AbvGrd    57.074942\n",
       "15    Mas_Vnr_Area     1.824514"
      ]
     },
     "execution_count": 12,
     "metadata": {},
     "output_type": "execute_result"
    }
   ],
   "source": [
    "vif_data"
   ]
  },
  {
   "cell_type": "code",
   "execution_count": null,
   "id": "9203ece8",
   "metadata": {},
   "outputs": [],
   "source": []
  },
  {
   "cell_type": "code",
   "execution_count": 13,
   "id": "eb14feb4",
   "metadata": {},
   "outputs": [
    {
     "data": {
      "text/html": [
       "<div>\n",
       "<style scoped>\n",
       "    .dataframe tbody tr th:only-of-type {\n",
       "        vertical-align: middle;\n",
       "    }\n",
       "\n",
       "    .dataframe tbody tr th {\n",
       "        vertical-align: top;\n",
       "    }\n",
       "\n",
       "    .dataframe thead th {\n",
       "        text-align: right;\n",
       "    }\n",
       "</style>\n",
       "<table border=\"1\" class=\"dataframe\">\n",
       "  <thead>\n",
       "    <tr style=\"text-align: right;\">\n",
       "      <th></th>\n",
       "      <th>Overall_Qual</th>\n",
       "      <th>Exter_Qual</th>\n",
       "      <th>Gr_Liv_Area</th>\n",
       "      <th>Kitchen_Qual</th>\n",
       "      <th>Garage_Area</th>\n",
       "      <th>Garage_Cars</th>\n",
       "      <th>Total_Bsmt_SF</th>\n",
       "      <th>1st_Flr_SF</th>\n",
       "      <th>Bsmt_Qual</th>\n",
       "      <th>Year_Built</th>\n",
       "      <th>Garage_Finish</th>\n",
       "      <th>Year_Remod/Add</th>\n",
       "      <th>Fireplace_Qu</th>\n",
       "      <th>Full_Bath</th>\n",
       "      <th>TotRms_AbvGrd</th>\n",
       "      <th>Mas_Vnr_Area</th>\n",
       "    </tr>\n",
       "  </thead>\n",
       "  <tbody>\n",
       "    <tr>\n",
       "      <th>532</th>\n",
       "      <td>6</td>\n",
       "      <td>3</td>\n",
       "      <td>1587</td>\n",
       "      <td>2</td>\n",
       "      <td>525.0</td>\n",
       "      <td>2.0</td>\n",
       "      <td>1587.0</td>\n",
       "      <td>1587</td>\n",
       "      <td>3</td>\n",
       "      <td>1971</td>\n",
       "      <td>1</td>\n",
       "      <td>1971</td>\n",
       "      <td>4</td>\n",
       "      <td>2</td>\n",
       "      <td>7</td>\n",
       "      <td>302.0</td>\n",
       "    </tr>\n",
       "    <tr>\n",
       "      <th>415</th>\n",
       "      <td>7</td>\n",
       "      <td>3</td>\n",
       "      <td>2267</td>\n",
       "      <td>2</td>\n",
       "      <td>498.0</td>\n",
       "      <td>2.0</td>\n",
       "      <td>1005.0</td>\n",
       "      <td>1262</td>\n",
       "      <td>3</td>\n",
       "      <td>1937</td>\n",
       "      <td>3</td>\n",
       "      <td>1980</td>\n",
       "      <td>4</td>\n",
       "      <td>1</td>\n",
       "      <td>7</td>\n",
       "      <td>0.0</td>\n",
       "    </tr>\n",
       "    <tr>\n",
       "      <th>273</th>\n",
       "      <td>5</td>\n",
       "      <td>3</td>\n",
       "      <td>864</td>\n",
       "      <td>3</td>\n",
       "      <td>720.0</td>\n",
       "      <td>2.0</td>\n",
       "      <td>864.0</td>\n",
       "      <td>864</td>\n",
       "      <td>3</td>\n",
       "      <td>1950</td>\n",
       "      <td>2</td>\n",
       "      <td>2002</td>\n",
       "      <td>0</td>\n",
       "      <td>1</td>\n",
       "      <td>5</td>\n",
       "      <td>0.0</td>\n",
       "    </tr>\n",
       "    <tr>\n",
       "      <th>1460</th>\n",
       "      <td>7</td>\n",
       "      <td>4</td>\n",
       "      <td>2260</td>\n",
       "      <td>3</td>\n",
       "      <td>533.0</td>\n",
       "      <td>2.0</td>\n",
       "      <td>1306.0</td>\n",
       "      <td>1306</td>\n",
       "      <td>5</td>\n",
       "      <td>1996</td>\n",
       "      <td>2</td>\n",
       "      <td>1997</td>\n",
       "      <td>0</td>\n",
       "      <td>2</td>\n",
       "      <td>7</td>\n",
       "      <td>0.0</td>\n",
       "    </tr>\n",
       "    <tr>\n",
       "      <th>250</th>\n",
       "      <td>8</td>\n",
       "      <td>4</td>\n",
       "      <td>2501</td>\n",
       "      <td>3</td>\n",
       "      <td>751.0</td>\n",
       "      <td>3.0</td>\n",
       "      <td>1242.0</td>\n",
       "      <td>1251</td>\n",
       "      <td>4</td>\n",
       "      <td>1995</td>\n",
       "      <td>2</td>\n",
       "      <td>1995</td>\n",
       "      <td>3</td>\n",
       "      <td>2</td>\n",
       "      <td>9</td>\n",
       "      <td>466.0</td>\n",
       "    </tr>\n",
       "  </tbody>\n",
       "</table>\n",
       "</div>"
      ],
      "text/plain": [
       "      Overall_Qual  Exter_Qual  Gr_Liv_Area  Kitchen_Qual  Garage_Area  \\\n",
       "532              6           3         1587             2        525.0   \n",
       "415              7           3         2267             2        498.0   \n",
       "273              5           3          864             3        720.0   \n",
       "1460             7           4         2260             3        533.0   \n",
       "250              8           4         2501             3        751.0   \n",
       "\n",
       "      Garage_Cars  Total_Bsmt_SF  1st_Flr_SF  Bsmt_Qual  Year_Built  \\\n",
       "532           2.0         1587.0        1587          3        1971   \n",
       "415           2.0         1005.0        1262          3        1937   \n",
       "273           2.0          864.0         864          3        1950   \n",
       "1460          2.0         1306.0        1306          5        1996   \n",
       "250           3.0         1242.0        1251          4        1995   \n",
       "\n",
       "      Garage_Finish  Year_Remod/Add  Fireplace_Qu  Full_Bath  TotRms_AbvGrd  \\\n",
       "532               1            1971             4          2              7   \n",
       "415               3            1980             4          1              7   \n",
       "273               2            2002             0          1              5   \n",
       "1460              2            1997             0          2              7   \n",
       "250               2            1995             3          2              9   \n",
       "\n",
       "      Mas_Vnr_Area  \n",
       "532          302.0  \n",
       "415            0.0  \n",
       "273            0.0  \n",
       "1460           0.0  \n",
       "250          466.0  "
      ]
     },
     "execution_count": 13,
     "metadata": {},
     "output_type": "execute_result"
    }
   ],
   "source": [
    "X_train, X_test, y_train, y_test = train_test_split(X,y, random_state = 42)\n",
    "X_train.head()"
   ]
  },
  {
   "cell_type": "markdown",
   "id": "f3b92c75",
   "metadata": {},
   "source": [
    "### LINEAR REGRESSION MODEL"
   ]
  },
  {
   "cell_type": "code",
   "execution_count": 14,
   "id": "2bc76357",
   "metadata": {},
   "outputs": [
    {
     "data": {
      "text/plain": [
       "LinearRegression()"
      ]
     },
     "execution_count": 14,
     "metadata": {},
     "output_type": "execute_result"
    }
   ],
   "source": [
    "lr = LinearRegression()\n",
    "lr.fit(X_train, y_train)"
   ]
  },
  {
   "cell_type": "code",
   "execution_count": 15,
   "id": "8c2d8404",
   "metadata": {},
   "outputs": [
    {
     "data": {
      "text/plain": [
       "0.8061520996713339"
      ]
     },
     "execution_count": 15,
     "metadata": {},
     "output_type": "execute_result"
    }
   ],
   "source": [
    "lr.score(X_train, y_train)"
   ]
  },
  {
   "cell_type": "code",
   "execution_count": 16,
   "id": "2f589b1e",
   "metadata": {},
   "outputs": [
    {
     "data": {
      "text/plain": [
       "0.8629596001778268"
      ]
     },
     "execution_count": 16,
     "metadata": {},
     "output_type": "execute_result"
    }
   ],
   "source": [
    "lr.score(X_test, y_test)"
   ]
  },
  {
   "cell_type": "code",
   "execution_count": 17,
   "id": "d9aaae57",
   "metadata": {},
   "outputs": [
    {
     "data": {
      "text/plain": [
       "array([0.82706964, 0.8155265 , 0.82247937, 0.78581741, 0.66652625])"
      ]
     },
     "execution_count": 17,
     "metadata": {},
     "output_type": "execute_result"
    }
   ],
   "source": [
    "cross_val_score(lr, X_train, y_train)"
   ]
  },
  {
   "cell_type": "code",
   "execution_count": 18,
   "id": "d65291f4",
   "metadata": {},
   "outputs": [
    {
     "data": {
      "text/plain": [
       "0.7834838325061366"
      ]
     },
     "execution_count": 18,
     "metadata": {},
     "output_type": "execute_result"
    }
   ],
   "source": [
    "cross_val_score(lr, X_train, y_train).mean()"
   ]
  },
  {
   "cell_type": "code",
   "execution_count": 19,
   "id": "fe1064f0",
   "metadata": {},
   "outputs": [
    {
     "data": {
      "text/plain": [
       "0.8612557707749545"
      ]
     },
     "execution_count": 19,
     "metadata": {},
     "output_type": "execute_result"
    }
   ],
   "source": [
    "cross_val_score(lr, X_test, y_test).mean()"
   ]
  },
  {
   "cell_type": "code",
   "execution_count": 20,
   "id": "0475f7b7",
   "metadata": {},
   "outputs": [],
   "source": [
    "preds = lr.predict(X_train)"
   ]
  },
  {
   "cell_type": "code",
   "execution_count": 21,
   "id": "66cd4954",
   "metadata": {},
   "outputs": [
    {
     "data": {
      "text/plain": [
       "(array([ 34., 390., 620., 263., 129.,  51.,  28.,  10.,   6.,   7.]),\n",
       " array([ 13100. ,  72955.7, 132811.4, 192667.1, 252522.8, 312378.5,\n",
       "        372234.2, 432089.9, 491945.6, 551801.3, 611657. ]),\n",
       " <BarContainer object of 10 artists>)"
      ]
     },
     "execution_count": 21,
     "metadata": {},
     "output_type": "execute_result"
    },
    {
     "data": {
      "image/png": "[encoded data removed]",
      "text/plain": [
       "<Figure size 432x288 with 1 Axes>"
      ]
     },
     "metadata": {
      "needs_background": "light"
     },
     "output_type": "display_data"
    }
   ],
   "source": [
    "plt.hist(preds, color ='r', alpha=.5)\n",
    "plt.hist(y_train, color='blue', alpha=.5)"
   ]
  },
  {
   "cell_type": "code",
   "execution_count": 22,
   "id": "69a135cc",
   "metadata": {},
   "outputs": [
    {
     "data": {
      "text/plain": [
       "<matplotlib.lines.Line2D at 0x7fdf8b3e3400>"
      ]
     },
     "execution_count": 22,
     "metadata": {},
     "output_type": "execute_result"
    },
    {
     "data": {
      "image/png": "[encoded data removed]",
      "text/plain": [
       "<Figure size 432x288 with 1 Axes>"
      ]
     },
     "metadata": {
      "needs_background": "light"
     },
     "output_type": "display_data"
    }
   ],
   "source": [
    "plt.scatter(preds, y_train)\n",
    "plt.axhline(y_train.mean())"
   ]
  },
  {
   "cell_type": "code",
   "execution_count": 23,
   "id": "95d310c0",
   "metadata": {},
   "outputs": [
    {
     "data": {
      "text/plain": [
       "0.8061520996713339"
      ]
     },
     "execution_count": 23,
     "metadata": {},
     "output_type": "execute_result"
    }
   ],
   "source": [
    "metrics.r2_score(y_train, preds)"
   ]
  },
  {
   "cell_type": "code",
   "execution_count": 24,
   "id": "fc9205c4",
   "metadata": {},
   "outputs": [
    {
     "data": {
      "text/plain": [
       "0.8041129370117293"
      ]
     },
     "execution_count": 24,
     "metadata": {},
     "output_type": "execute_result"
    }
   ],
   "source": [
    "r2adj(lr, X_train, y_train)"
   ]
  },
  {
   "cell_type": "code",
   "execution_count": null,
   "id": "c99c1ebf",
   "metadata": {},
   "outputs": [],
   "source": []
  },
  {
   "cell_type": "markdown",
   "id": "f9898643",
   "metadata": {},
   "source": [
    "### PREDICTION OF MODEL AND KAGGLE SUBMISSION"
   ]
  },
  {
   "cell_type": "code",
   "execution_count": 25,
   "id": "c5449317",
   "metadata": {},
   "outputs": [],
   "source": [
    "kagglesub1 = testdice\n",
    "preds =lr.predict(kagglesub1[features])\n",
    "kagglesub1['SalePrice'] = preds"
   ]
  },
  {
   "cell_type": "code",
   "execution_count": 26,
   "id": "bc320980",
   "metadata": {},
   "outputs": [
    {
     "data": {
      "text/html": [
       "<div>\n",
       "<style scoped>\n",
       "    .dataframe tbody tr th:only-of-type {\n",
       "        vertical-align: middle;\n",
       "    }\n",
       "\n",
       "    .dataframe tbody tr th {\n",
       "        vertical-align: top;\n",
       "    }\n",
       "\n",
       "    .dataframe thead th {\n",
       "        text-align: right;\n",
       "    }\n",
       "</style>\n",
       "<table border=\"1\" class=\"dataframe\">\n",
       "  <thead>\n",
       "    <tr style=\"text-align: right;\">\n",
       "      <th></th>\n",
       "      <th>Id</th>\n",
       "      <th>PID</th>\n",
       "      <th>MS_SubClass</th>\n",
       "      <th>MS_Zoning</th>\n",
       "      <th>Lot_Frontage</th>\n",
       "      <th>Lot_Area</th>\n",
       "      <th>Street</th>\n",
       "      <th>Alley</th>\n",
       "      <th>Lot_Shape</th>\n",
       "      <th>Land_Contour</th>\n",
       "      <th>...</th>\n",
       "      <th>Screen_Porch</th>\n",
       "      <th>Pool_Area</th>\n",
       "      <th>Pool_QC</th>\n",
       "      <th>Fence</th>\n",
       "      <th>Misc_Feature</th>\n",
       "      <th>Misc_Val</th>\n",
       "      <th>Mo_Sold</th>\n",
       "      <th>Yr_Sold</th>\n",
       "      <th>Sale_Type</th>\n",
       "      <th>SalePrice</th>\n",
       "    </tr>\n",
       "  </thead>\n",
       "  <tbody>\n",
       "    <tr>\n",
       "      <th>0</th>\n",
       "      <td>2658</td>\n",
       "      <td>902301120</td>\n",
       "      <td>190</td>\n",
       "      <td>RM</td>\n",
       "      <td>69.0</td>\n",
       "      <td>9142</td>\n",
       "      <td>Pave</td>\n",
       "      <td>Grvl</td>\n",
       "      <td>Reg</td>\n",
       "      <td>Lvl</td>\n",
       "      <td>...</td>\n",
       "      <td>0</td>\n",
       "      <td>0</td>\n",
       "      <td>0</td>\n",
       "      <td>NaN</td>\n",
       "      <td>NaN</td>\n",
       "      <td>0</td>\n",
       "      <td>4</td>\n",
       "      <td>2006</td>\n",
       "      <td>WD</td>\n",
       "      <td>131125.289025</td>\n",
       "    </tr>\n",
       "    <tr>\n",
       "      <th>1</th>\n",
       "      <td>2718</td>\n",
       "      <td>905108090</td>\n",
       "      <td>90</td>\n",
       "      <td>RL</td>\n",
       "      <td>0.0</td>\n",
       "      <td>9662</td>\n",
       "      <td>Pave</td>\n",
       "      <td>NaN</td>\n",
       "      <td>IR1</td>\n",
       "      <td>Lvl</td>\n",
       "      <td>...</td>\n",
       "      <td>0</td>\n",
       "      <td>0</td>\n",
       "      <td>0</td>\n",
       "      <td>NaN</td>\n",
       "      <td>NaN</td>\n",
       "      <td>0</td>\n",
       "      <td>8</td>\n",
       "      <td>2006</td>\n",
       "      <td>WD</td>\n",
       "      <td>196565.578273</td>\n",
       "    </tr>\n",
       "  </tbody>\n",
       "</table>\n",
       "<p>2 rows × 81 columns</p>\n",
       "</div>"
      ],
      "text/plain": [
       "     Id        PID  MS_SubClass MS_Zoning  Lot_Frontage  Lot_Area Street  \\\n",
       "0  2658  902301120          190        RM          69.0      9142   Pave   \n",
       "1  2718  905108090           90        RL           0.0      9662   Pave   \n",
       "\n",
       "  Alley Lot_Shape Land_Contour  ... Screen_Porch Pool_Area Pool_QC Fence  \\\n",
       "0  Grvl       Reg          Lvl  ...            0         0       0   NaN   \n",
       "1   NaN       IR1          Lvl  ...            0         0       0   NaN   \n",
       "\n",
       "  Misc_Feature Misc_Val Mo_Sold Yr_Sold  Sale_Type      SalePrice  \n",
       "0          NaN        0       4    2006        WD   131125.289025  \n",
       "1          NaN        0       8    2006        WD   196565.578273  \n",
       "\n",
       "[2 rows x 81 columns]"
      ]
     },
     "execution_count": 26,
     "metadata": {},
     "output_type": "execute_result"
    }
   ],
   "source": [
    "kagglesub1.head(2)"
   ]
  },
  {
   "cell_type": "code",
   "execution_count": 27,
   "id": "99bfe3e6",
   "metadata": {},
   "outputs": [],
   "source": [
    "kagglesub1 = kagglesub1[['Id', 'SalePrice']]"
   ]
  },
  {
   "cell_type": "code",
   "execution_count": 28,
   "id": "7973ee87",
   "metadata": {},
   "outputs": [
    {
     "data": {
      "text/html": [
       "<div>\n",
       "<style scoped>\n",
       "    .dataframe tbody tr th:only-of-type {\n",
       "        vertical-align: middle;\n",
       "    }\n",
       "\n",
       "    .dataframe tbody tr th {\n",
       "        vertical-align: top;\n",
       "    }\n",
       "\n",
       "    .dataframe thead th {\n",
       "        text-align: right;\n",
       "    }\n",
       "</style>\n",
       "<table border=\"1\" class=\"dataframe\">\n",
       "  <thead>\n",
       "    <tr style=\"text-align: right;\">\n",
       "      <th></th>\n",
       "      <th>Id</th>\n",
       "      <th>SalePrice</th>\n",
       "    </tr>\n",
       "  </thead>\n",
       "  <tbody>\n",
       "    <tr>\n",
       "      <th>0</th>\n",
       "      <td>2658</td>\n",
       "      <td>131125.289025</td>\n",
       "    </tr>\n",
       "    <tr>\n",
       "      <th>1</th>\n",
       "      <td>2718</td>\n",
       "      <td>196565.578273</td>\n",
       "    </tr>\n",
       "  </tbody>\n",
       "</table>\n",
       "</div>"
      ],
      "text/plain": [
       "     Id      SalePrice\n",
       "0  2658  131125.289025\n",
       "1  2718  196565.578273"
      ]
     },
     "execution_count": 28,
     "metadata": {},
     "output_type": "execute_result"
    }
   ],
   "source": [
    "kagglesub1.head(2)"
   ]
  },
  {
   "cell_type": "code",
   "execution_count": 29,
   "id": "a5f2f2c5",
   "metadata": {},
   "outputs": [],
   "source": [
    "kagglesub1.to_csv('../kaggle_submissions/kaggle1.csv', index=False)"
   ]
  },
  {
   "cell_type": "markdown",
   "id": "cfb173ae",
   "metadata": {},
   "source": [
    "### DUMMY AND TREE MODELS"
   ]
  },
  {
   "cell_type": "code",
   "execution_count": 30,
   "id": "33d3f3bf",
   "metadata": {},
   "outputs": [],
   "source": [
    "dummy = DummyRegressor()"
   ]
  },
  {
   "cell_type": "code",
   "execution_count": 31,
   "id": "7db0d2ef",
   "metadata": {},
   "outputs": [
    {
     "data": {
      "text/plain": [
       "DummyRegressor()"
      ]
     },
     "execution_count": 31,
     "metadata": {},
     "output_type": "execute_result"
    }
   ],
   "source": [
    "dummy.fit(X_train, y_train)"
   ]
  },
  {
   "cell_type": "code",
   "execution_count": 32,
   "id": "55a27a75",
   "metadata": {},
   "outputs": [
    {
     "data": {
      "text/plain": [
       "-0.0009377481689546663"
      ]
     },
     "execution_count": 32,
     "metadata": {},
     "output_type": "execute_result"
    }
   ],
   "source": [
    "cross_val_score(dummy, X_train, y_train).mean()"
   ]
  },
  {
   "cell_type": "code",
   "execution_count": 33,
   "id": "caff4de4",
   "metadata": {},
   "outputs": [
    {
     "data": {
      "text/plain": [
       "0.0"
      ]
     },
     "execution_count": 33,
     "metadata": {},
     "output_type": "execute_result"
    }
   ],
   "source": [
    "dummy.score(X_train, y_train)"
   ]
  },
  {
   "cell_type": "code",
   "execution_count": 34,
   "id": "c7e3cdf4",
   "metadata": {},
   "outputs": [
    {
     "data": {
      "text/plain": [
       "-0.00043273813883448753"
      ]
     },
     "execution_count": 34,
     "metadata": {},
     "output_type": "execute_result"
    }
   ],
   "source": [
    "dummy.score(X_test, y_test)"
   ]
  },
  {
   "cell_type": "code",
   "execution_count": 35,
   "id": "e6f102cf",
   "metadata": {},
   "outputs": [
    {
     "data": {
      "text/plain": [
       "DecisionTreeRegressor()"
      ]
     },
     "execution_count": 35,
     "metadata": {},
     "output_type": "execute_result"
    }
   ],
   "source": [
    "tree = DecisionTreeRegressor()\n",
    "tree.fit(X_train, y_train)"
   ]
  },
  {
   "cell_type": "code",
   "execution_count": 36,
   "id": "25ab9e55",
   "metadata": {},
   "outputs": [
    {
     "data": {
      "text/plain": [
       "0.75817819888185"
      ]
     },
     "execution_count": 36,
     "metadata": {},
     "output_type": "execute_result"
    }
   ],
   "source": [
    "cross_val_score(tree, X_train, y_train).mean()"
   ]
  },
  {
   "cell_type": "code",
   "execution_count": 37,
   "id": "9528d50b",
   "metadata": {},
   "outputs": [
    {
     "data": {
      "text/plain": [
       "0.7420661502897168"
      ]
     },
     "execution_count": 37,
     "metadata": {},
     "output_type": "execute_result"
    }
   ],
   "source": [
    "cross_val_score(tree, X_test, y_test).mean()"
   ]
  },
  {
   "cell_type": "code",
   "execution_count": 38,
   "id": "80b7e6e5",
   "metadata": {},
   "outputs": [
    {
     "data": {
      "text/plain": [
       "0.999778707113416"
      ]
     },
     "execution_count": 38,
     "metadata": {},
     "output_type": "execute_result"
    }
   ],
   "source": [
    "tree.score(X_train, y_train)"
   ]
  },
  {
   "cell_type": "code",
   "execution_count": 39,
   "id": "f4fe18de",
   "metadata": {},
   "outputs": [
    {
     "data": {
      "text/plain": [
       "0.7649699269016584"
      ]
     },
     "execution_count": 39,
     "metadata": {},
     "output_type": "execute_result"
    }
   ],
   "source": [
    "tree.score(X_test, y_test)"
   ]
  },
  {
   "cell_type": "markdown",
   "id": "02d5e0ec",
   "metadata": {},
   "source": [
    "## Second feature setting\n",
    "Using features with coefficients ranging from 0.6-1.0"
   ]
  },
  {
   "cell_type": "code",
   "execution_count": 40,
   "id": "ecc58ce3",
   "metadata": {},
   "outputs": [
    {
     "data": {
      "text/html": [
       "<div>\n",
       "<style scoped>\n",
       "    .dataframe tbody tr th:only-of-type {\n",
       "        vertical-align: middle;\n",
       "    }\n",
       "\n",
       "    .dataframe tbody tr th {\n",
       "        vertical-align: top;\n",
       "    }\n",
       "\n",
       "    .dataframe thead th {\n",
       "        text-align: right;\n",
       "    }\n",
       "</style>\n",
       "<table border=\"1\" class=\"dataframe\">\n",
       "  <thead>\n",
       "    <tr style=\"text-align: right;\">\n",
       "      <th></th>\n",
       "      <th>Overall_Qual</th>\n",
       "      <th>Exter_Qual</th>\n",
       "      <th>Gr_Liv_Area</th>\n",
       "      <th>Kitchen_Qual</th>\n",
       "      <th>Garage_Area</th>\n",
       "      <th>Garage_Cars</th>\n",
       "      <th>Total_Bsmt_SF</th>\n",
       "      <th>1st_Flr_SF</th>\n",
       "      <th>Bsmt_Qual</th>\n",
       "    </tr>\n",
       "  </thead>\n",
       "  <tbody>\n",
       "    <tr>\n",
       "      <th>532</th>\n",
       "      <td>6</td>\n",
       "      <td>3</td>\n",
       "      <td>1587</td>\n",
       "      <td>2</td>\n",
       "      <td>525.0</td>\n",
       "      <td>2.0</td>\n",
       "      <td>1587.0</td>\n",
       "      <td>1587</td>\n",
       "      <td>3</td>\n",
       "    </tr>\n",
       "    <tr>\n",
       "      <th>415</th>\n",
       "      <td>7</td>\n",
       "      <td>3</td>\n",
       "      <td>2267</td>\n",
       "      <td>2</td>\n",
       "      <td>498.0</td>\n",
       "      <td>2.0</td>\n",
       "      <td>1005.0</td>\n",
       "      <td>1262</td>\n",
       "      <td>3</td>\n",
       "    </tr>\n",
       "    <tr>\n",
       "      <th>273</th>\n",
       "      <td>5</td>\n",
       "      <td>3</td>\n",
       "      <td>864</td>\n",
       "      <td>3</td>\n",
       "      <td>720.0</td>\n",
       "      <td>2.0</td>\n",
       "      <td>864.0</td>\n",
       "      <td>864</td>\n",
       "      <td>3</td>\n",
       "    </tr>\n",
       "    <tr>\n",
       "      <th>1460</th>\n",
       "      <td>7</td>\n",
       "      <td>4</td>\n",
       "      <td>2260</td>\n",
       "      <td>3</td>\n",
       "      <td>533.0</td>\n",
       "      <td>2.0</td>\n",
       "      <td>1306.0</td>\n",
       "      <td>1306</td>\n",
       "      <td>5</td>\n",
       "    </tr>\n",
       "    <tr>\n",
       "      <th>250</th>\n",
       "      <td>8</td>\n",
       "      <td>4</td>\n",
       "      <td>2501</td>\n",
       "      <td>3</td>\n",
       "      <td>751.0</td>\n",
       "      <td>3.0</td>\n",
       "      <td>1242.0</td>\n",
       "      <td>1251</td>\n",
       "      <td>4</td>\n",
       "    </tr>\n",
       "  </tbody>\n",
       "</table>\n",
       "</div>"
      ],
      "text/plain": [
       "      Overall_Qual  Exter_Qual  Gr_Liv_Area  Kitchen_Qual  Garage_Area  \\\n",
       "532              6           3         1587             2        525.0   \n",
       "415              7           3         2267             2        498.0   \n",
       "273              5           3          864             3        720.0   \n",
       "1460             7           4         2260             3        533.0   \n",
       "250              8           4         2501             3        751.0   \n",
       "\n",
       "      Garage_Cars  Total_Bsmt_SF  1st_Flr_SF  Bsmt_Qual  \n",
       "532           2.0         1587.0        1587          3  \n",
       "415           2.0         1005.0        1262          3  \n",
       "273           2.0          864.0         864          3  \n",
       "1460          2.0         1306.0        1306          5  \n",
       "250           3.0         1242.0        1251          4  "
      ]
     },
     "execution_count": 40,
     "metadata": {},
     "output_type": "execute_result"
    }
   ],
   "source": [
    "features = ['Overall_Qual', 'Exter_Qual', 'Gr_Liv_Area', 'Kitchen_Qual', 'Garage_Area', 'Garage_Cars',\n",
    "           'Total_Bsmt_SF', '1st_Flr_SF', 'Bsmt_Qual']\n",
    "X = traindice[features]\n",
    "y = traindice['SalePrice']\n",
    "\n",
    "X_train, X_test, y_train, y_test = train_test_split(X,y, random_state = 42)\n",
    "X_train.head()"
   ]
  },
  {
   "cell_type": "code",
   "execution_count": 41,
   "id": "a07f0bd2",
   "metadata": {},
   "outputs": [],
   "source": [
    "vif_data = pd.DataFrame()\n",
    "vif_data[\"feature\"] = X.columns\n",
    "vif_data[\"VIF\"] = [variance_inflation_factor(X.values, i) for i in range(len(X.columns))]"
   ]
  },
  {
   "cell_type": "code",
   "execution_count": 42,
   "id": "5b645820",
   "metadata": {},
   "outputs": [
    {
     "data": {
      "text/html": [
       "<div>\n",
       "<style scoped>\n",
       "    .dataframe tbody tr th:only-of-type {\n",
       "        vertical-align: middle;\n",
       "    }\n",
       "\n",
       "    .dataframe tbody tr th {\n",
       "        vertical-align: top;\n",
       "    }\n",
       "\n",
       "    .dataframe thead th {\n",
       "        text-align: right;\n",
       "    }\n",
       "</style>\n",
       "<table border=\"1\" class=\"dataframe\">\n",
       "  <thead>\n",
       "    <tr style=\"text-align: right;\">\n",
       "      <th></th>\n",
       "      <th>feature</th>\n",
       "      <th>VIF</th>\n",
       "    </tr>\n",
       "  </thead>\n",
       "  <tbody>\n",
       "    <tr>\n",
       "      <th>0</th>\n",
       "      <td>Overall_Qual</td>\n",
       "      <td>66.728630</td>\n",
       "    </tr>\n",
       "    <tr>\n",
       "      <th>1</th>\n",
       "      <td>Exter_Qual</td>\n",
       "      <td>66.678319</td>\n",
       "    </tr>\n",
       "    <tr>\n",
       "      <th>2</th>\n",
       "      <td>Gr_Liv_Area</td>\n",
       "      <td>18.445319</td>\n",
       "    </tr>\n",
       "    <tr>\n",
       "      <th>3</th>\n",
       "      <td>Kitchen_Qual</td>\n",
       "      <td>36.899708</td>\n",
       "    </tr>\n",
       "    <tr>\n",
       "      <th>4</th>\n",
       "      <td>Garage_Area</td>\n",
       "      <td>31.441716</td>\n",
       "    </tr>\n",
       "    <tr>\n",
       "      <th>5</th>\n",
       "      <td>Garage_Cars</td>\n",
       "      <td>34.476680</td>\n",
       "    </tr>\n",
       "    <tr>\n",
       "      <th>6</th>\n",
       "      <td>Total_Bsmt_SF</td>\n",
       "      <td>26.520709</td>\n",
       "    </tr>\n",
       "    <tr>\n",
       "      <th>7</th>\n",
       "      <td>1st_Flr_SF</td>\n",
       "      <td>35.866358</td>\n",
       "    </tr>\n",
       "    <tr>\n",
       "      <th>8</th>\n",
       "      <td>Bsmt_Qual</td>\n",
       "      <td>37.104839</td>\n",
       "    </tr>\n",
       "  </tbody>\n",
       "</table>\n",
       "</div>"
      ],
      "text/plain": [
       "         feature        VIF\n",
       "0   Overall_Qual  66.728630\n",
       "1     Exter_Qual  66.678319\n",
       "2    Gr_Liv_Area  18.445319\n",
       "3   Kitchen_Qual  36.899708\n",
       "4    Garage_Area  31.441716\n",
       "5    Garage_Cars  34.476680\n",
       "6  Total_Bsmt_SF  26.520709\n",
       "7     1st_Flr_SF  35.866358\n",
       "8      Bsmt_Qual  37.104839"
      ]
     },
     "execution_count": 42,
     "metadata": {},
     "output_type": "execute_result"
    }
   ],
   "source": [
    "vif_data"
   ]
  },
  {
   "cell_type": "markdown",
   "id": "b3591b8d",
   "metadata": {},
   "source": [
    "#### EXTREME COLLINEARITY BETWEEN VARIABLES"
   ]
  },
  {
   "cell_type": "code",
   "execution_count": 43,
   "id": "4628e00e",
   "metadata": {},
   "outputs": [
    {
     "name": "stdout",
     "output_type": "stream",
     "text": [
      "Overall_Qual\n",
      "0.3580963968717398\n",
      "Exter_Qual\n",
      "0.21722326363443117\n",
      "Gr_Liv_Area\n",
      "0.6375733928443406\n",
      "Kitchen_Qual\n",
      "0.43408791930808005\n",
      "Garage_Area\n",
      "0.9142675161160231\n",
      "Garage_Cars\n",
      "0.8614584376805808\n",
      "Total_Bsmt_SF\n",
      "0.8650431303159756\n",
      "1st_Flr_SF\n",
      "0.6473633962677195\n",
      "Bsmt_Qual\n",
      "0.4382393183718829\n"
     ]
    }
   ],
   "source": [
    "from statsmodels.stats.stattools import durbin_watson\n",
    "from statsmodels.regression.linear_model import OLS\n",
    "def autocorr(i):\n",
    "    X1 =np.arange(len(X[[i]]))\n",
    "    Y = np.asarray(X[[i]])\n",
    "    ols_res = OLS(Y,X1).fit()\n",
    "    print(feature)\n",
    "    print(durbin_watson(ols_res.resid))\n",
    "for feature in features:\n",
    "    autocorr(feature)"
   ]
  },
  {
   "cell_type": "markdown",
   "id": "d5194c7d",
   "metadata": {},
   "source": [
    "#### EXTREME AUTOCORRELATION"
   ]
  },
  {
   "cell_type": "markdown",
   "id": "caf5b1bc",
   "metadata": {},
   "source": [
    "### LINEAR REGRESSION MODEL"
   ]
  },
  {
   "cell_type": "code",
   "execution_count": 44,
   "id": "21fffa09",
   "metadata": {},
   "outputs": [
    {
     "data": {
      "text/plain": [
       "LinearRegression()"
      ]
     },
     "execution_count": 44,
     "metadata": {},
     "output_type": "execute_result"
    }
   ],
   "source": [
    "lr = LinearRegression()\n",
    "lr.fit(X_train, y_train)"
   ]
  },
  {
   "cell_type": "code",
   "execution_count": 45,
   "id": "c89c579a",
   "metadata": {},
   "outputs": [
    {
     "data": {
      "text/plain": [
       "0.7931968977344549"
      ]
     },
     "execution_count": 45,
     "metadata": {},
     "output_type": "execute_result"
    }
   ],
   "source": [
    "lr.score(X_train, y_train)"
   ]
  },
  {
   "cell_type": "code",
   "execution_count": 46,
   "id": "c9f7011a",
   "metadata": {},
   "outputs": [
    {
     "data": {
      "text/plain": [
       "0.8524222816213304"
      ]
     },
     "execution_count": 46,
     "metadata": {},
     "output_type": "execute_result"
    }
   ],
   "source": [
    "lr.score(X_test, y_test)"
   ]
  },
  {
   "cell_type": "code",
   "execution_count": 47,
   "id": "a15ab6a4",
   "metadata": {},
   "outputs": [
    {
     "data": {
      "text/plain": [
       "array([0.82113432, 0.81931812, 0.81235442, 0.76883986, 0.66230248])"
      ]
     },
     "execution_count": 47,
     "metadata": {},
     "output_type": "execute_result"
    }
   ],
   "source": [
    "cross_val_score(lr, X_train, y_train)"
   ]
  },
  {
   "cell_type": "code",
   "execution_count": 48,
   "id": "1b7a6ad6",
   "metadata": {},
   "outputs": [
    {
     "data": {
      "text/plain": [
       "0.7767898401502137"
      ]
     },
     "execution_count": 48,
     "metadata": {},
     "output_type": "execute_result"
    }
   ],
   "source": [
    "cross_val_score(lr, X_train, y_train).mean()"
   ]
  },
  {
   "cell_type": "code",
   "execution_count": 49,
   "id": "d6eece0e",
   "metadata": {},
   "outputs": [],
   "source": [
    "preds = lr.predict(X_train)"
   ]
  },
  {
   "cell_type": "code",
   "execution_count": 50,
   "id": "1ab9291e",
   "metadata": {},
   "outputs": [
    {
     "data": {
      "text/plain": [
       "0.7931968977344549"
      ]
     },
     "execution_count": 50,
     "metadata": {},
     "output_type": "execute_result"
    }
   ],
   "source": [
    "metrics.r2_score(y_train, preds)"
   ]
  },
  {
   "cell_type": "code",
   "execution_count": 51,
   "id": "685a3580",
   "metadata": {},
   "outputs": [
    {
     "data": {
      "text/plain": [
       "1307930403.2315335"
      ]
     },
     "execution_count": 51,
     "metadata": {},
     "output_type": "execute_result"
    }
   ],
   "source": [
    "metrics.mean_squared_error(y_train, preds)"
   ]
  },
  {
   "cell_type": "code",
   "execution_count": 52,
   "id": "2561efd2",
   "metadata": {},
   "outputs": [
    {
     "data": {
      "text/plain": [
       "36165.320449728264"
      ]
     },
     "execution_count": 52,
     "metadata": {},
     "output_type": "execute_result"
    }
   ],
   "source": [
    "metrics.mean_squared_error(y_train, preds, squared=False)"
   ]
  },
  {
   "cell_type": "code",
   "execution_count": 53,
   "id": "7a6e4c28",
   "metadata": {},
   "outputs": [
    {
     "data": {
      "text/plain": [
       "23232.75756459273"
      ]
     },
     "execution_count": 53,
     "metadata": {},
     "output_type": "execute_result"
    }
   ],
   "source": [
    "metrics.mean_absolute_error(y_train, preds)"
   ]
  },
  {
   "cell_type": "code",
   "execution_count": 54,
   "id": "64878b1c",
   "metadata": {},
   "outputs": [
    {
     "data": {
      "text/plain": [
       "<matplotlib.lines.Line2D at 0x7fdf8af91550>"
      ]
     },
     "execution_count": 54,
     "metadata": {},
     "output_type": "execute_result"
    },
    {
     "data": {
      "image/png": "[encoded data removed]",
      "text/plain": [
       "<Figure size 432x288 with 1 Axes>"
      ]
     },
     "metadata": {
      "needs_background": "light"
     },
     "output_type": "display_data"
    }
   ],
   "source": [
    "plt.scatter(x=preds, y=y_train)\n",
    "plt.axhline(y_train.mean(), color ='r')"
   ]
  },
  {
   "cell_type": "code",
   "execution_count": 55,
   "id": "5b914ba8",
   "metadata": {},
   "outputs": [
    {
     "data": {
      "text/plain": [
       "(array([  5.,  37., 160., 141.,  72.,  39.,  24.,  15.,  10.,  10.]),\n",
       " array([ 12789. ,  57510.1, 102231.2, 146952.3, 191673.4, 236394.5,\n",
       "        281115.6, 325836.7, 370557.8, 415278.9, 460000. ]),\n",
       " <BarContainer object of 10 artists>)"
      ]
     },
     "execution_count": 55,
     "metadata": {},
     "output_type": "execute_result"
    },
    {
     "data": {
      "image/png": "[encoded data removed]",
      "text/plain": [
       "<Figure size 432x288 with 1 Axes>"
      ]
     },
     "metadata": {
      "needs_background": "light"
     },
     "output_type": "display_data"
    }
   ],
   "source": [
    "plt.hist(preds, color='r', alpha=.5)\n",
    "plt.hist(y_test, color = 'blue', alpha=.5)"
   ]
  },
  {
   "cell_type": "markdown",
   "id": "7bb35cc2",
   "metadata": {},
   "source": [
    "### KAGGLE SUB 2"
   ]
  },
  {
   "cell_type": "code",
   "execution_count": 56,
   "id": "ca16f340",
   "metadata": {},
   "outputs": [],
   "source": [
    "kagglesub2 = testdice\n",
    "preds =lr.predict(kagglesub2[features])\n",
    "kagglesub2['SalePrice'] = preds"
   ]
  },
  {
   "cell_type": "code",
   "execution_count": 57,
   "id": "8682a7c2",
   "metadata": {},
   "outputs": [
    {
     "data": {
      "text/html": [
       "<div>\n",
       "<style scoped>\n",
       "    .dataframe tbody tr th:only-of-type {\n",
       "        vertical-align: middle;\n",
       "    }\n",
       "\n",
       "    .dataframe tbody tr th {\n",
       "        vertical-align: top;\n",
       "    }\n",
       "\n",
       "    .dataframe thead th {\n",
       "        text-align: right;\n",
       "    }\n",
       "</style>\n",
       "<table border=\"1\" class=\"dataframe\">\n",
       "  <thead>\n",
       "    <tr style=\"text-align: right;\">\n",
       "      <th></th>\n",
       "      <th>Id</th>\n",
       "      <th>PID</th>\n",
       "      <th>MS_SubClass</th>\n",
       "      <th>MS_Zoning</th>\n",
       "      <th>Lot_Frontage</th>\n",
       "      <th>Lot_Area</th>\n",
       "      <th>Street</th>\n",
       "      <th>Alley</th>\n",
       "      <th>Lot_Shape</th>\n",
       "      <th>Land_Contour</th>\n",
       "      <th>...</th>\n",
       "      <th>Screen_Porch</th>\n",
       "      <th>Pool_Area</th>\n",
       "      <th>Pool_QC</th>\n",
       "      <th>Fence</th>\n",
       "      <th>Misc_Feature</th>\n",
       "      <th>Misc_Val</th>\n",
       "      <th>Mo_Sold</th>\n",
       "      <th>Yr_Sold</th>\n",
       "      <th>Sale_Type</th>\n",
       "      <th>SalePrice</th>\n",
       "    </tr>\n",
       "  </thead>\n",
       "  <tbody>\n",
       "    <tr>\n",
       "      <th>0</th>\n",
       "      <td>2658</td>\n",
       "      <td>902301120</td>\n",
       "      <td>190</td>\n",
       "      <td>RM</td>\n",
       "      <td>69.0</td>\n",
       "      <td>9142</td>\n",
       "      <td>Pave</td>\n",
       "      <td>Grvl</td>\n",
       "      <td>Reg</td>\n",
       "      <td>Lvl</td>\n",
       "      <td>...</td>\n",
       "      <td>0</td>\n",
       "      <td>0</td>\n",
       "      <td>0</td>\n",
       "      <td>NaN</td>\n",
       "      <td>NaN</td>\n",
       "      <td>0</td>\n",
       "      <td>4</td>\n",
       "      <td>2006</td>\n",
       "      <td>WD</td>\n",
       "      <td>140412.047595</td>\n",
       "    </tr>\n",
       "    <tr>\n",
       "      <th>1</th>\n",
       "      <td>2718</td>\n",
       "      <td>905108090</td>\n",
       "      <td>90</td>\n",
       "      <td>RL</td>\n",
       "      <td>0.0</td>\n",
       "      <td>9662</td>\n",
       "      <td>Pave</td>\n",
       "      <td>NaN</td>\n",
       "      <td>IR1</td>\n",
       "      <td>Lvl</td>\n",
       "      <td>...</td>\n",
       "      <td>0</td>\n",
       "      <td>0</td>\n",
       "      <td>0</td>\n",
       "      <td>NaN</td>\n",
       "      <td>NaN</td>\n",
       "      <td>0</td>\n",
       "      <td>8</td>\n",
       "      <td>2006</td>\n",
       "      <td>WD</td>\n",
       "      <td>202089.553641</td>\n",
       "    </tr>\n",
       "  </tbody>\n",
       "</table>\n",
       "<p>2 rows × 81 columns</p>\n",
       "</div>"
      ],
      "text/plain": [
       "     Id        PID  MS_SubClass MS_Zoning  Lot_Frontage  Lot_Area Street  \\\n",
       "0  2658  902301120          190        RM          69.0      9142   Pave   \n",
       "1  2718  905108090           90        RL           0.0      9662   Pave   \n",
       "\n",
       "  Alley Lot_Shape Land_Contour  ... Screen_Porch Pool_Area Pool_QC Fence  \\\n",
       "0  Grvl       Reg          Lvl  ...            0         0       0   NaN   \n",
       "1   NaN       IR1          Lvl  ...            0         0       0   NaN   \n",
       "\n",
       "  Misc_Feature Misc_Val Mo_Sold Yr_Sold  Sale_Type      SalePrice  \n",
       "0          NaN        0       4    2006        WD   140412.047595  \n",
       "1          NaN        0       8    2006        WD   202089.553641  \n",
       "\n",
       "[2 rows x 81 columns]"
      ]
     },
     "execution_count": 57,
     "metadata": {},
     "output_type": "execute_result"
    }
   ],
   "source": [
    "kagglesub2.head(2)"
   ]
  },
  {
   "cell_type": "code",
   "execution_count": 58,
   "id": "0cb7e4e0",
   "metadata": {},
   "outputs": [],
   "source": [
    "kagglesub2 = kagglesub2[['Id', 'SalePrice']]"
   ]
  },
  {
   "cell_type": "code",
   "execution_count": 59,
   "id": "e4c4fcb8",
   "metadata": {},
   "outputs": [
    {
     "data": {
      "text/html": [
       "<div>\n",
       "<style scoped>\n",
       "    .dataframe tbody tr th:only-of-type {\n",
       "        vertical-align: middle;\n",
       "    }\n",
       "\n",
       "    .dataframe tbody tr th {\n",
       "        vertical-align: top;\n",
       "    }\n",
       "\n",
       "    .dataframe thead th {\n",
       "        text-align: right;\n",
       "    }\n",
       "</style>\n",
       "<table border=\"1\" class=\"dataframe\">\n",
       "  <thead>\n",
       "    <tr style=\"text-align: right;\">\n",
       "      <th></th>\n",
       "      <th>Id</th>\n",
       "      <th>SalePrice</th>\n",
       "    </tr>\n",
       "  </thead>\n",
       "  <tbody>\n",
       "    <tr>\n",
       "      <th>0</th>\n",
       "      <td>2658</td>\n",
       "      <td>140412.047595</td>\n",
       "    </tr>\n",
       "    <tr>\n",
       "      <th>1</th>\n",
       "      <td>2718</td>\n",
       "      <td>202089.553641</td>\n",
       "    </tr>\n",
       "  </tbody>\n",
       "</table>\n",
       "</div>"
      ],
      "text/plain": [
       "     Id      SalePrice\n",
       "0  2658  140412.047595\n",
       "1  2718  202089.553641"
      ]
     },
     "execution_count": 59,
     "metadata": {},
     "output_type": "execute_result"
    }
   ],
   "source": [
    "kagglesub2.head(2)"
   ]
  },
  {
   "cell_type": "code",
   "execution_count": 60,
   "id": "b2c2f5d4",
   "metadata": {},
   "outputs": [],
   "source": [
    "kagglesub2.to_csv('../kaggle_submissions/kaggle2.csv', index=False)"
   ]
  },
  {
   "cell_type": "markdown",
   "id": "08c11a96",
   "metadata": {},
   "source": [
    "## POLYNOMIAL CREATION"
   ]
  },
  {
   "cell_type": "code",
   "execution_count": 61,
   "id": "80e87294",
   "metadata": {},
   "outputs": [
    {
     "data": {
      "text/plain": [
       "PolynomialFeatures(include_bias=False)"
      ]
     },
     "execution_count": 61,
     "metadata": {},
     "output_type": "execute_result"
    }
   ],
   "source": [
    "poly = PolynomialFeatures(include_bias = False)\n",
    "poly.fit(X)"
   ]
  },
  {
   "cell_type": "code",
   "execution_count": 62,
   "id": "f063c7d2",
   "metadata": {},
   "outputs": [
    {
     "data": {
      "text/plain": [
       "array([[6.000000e+00, 4.000000e+00, 1.479000e+03, ..., 5.256250e+05,\n",
       "        2.175000e+03, 9.000000e+00],\n",
       "       [7.000000e+00, 4.000000e+00, 2.122000e+03, ..., 8.335690e+05,\n",
       "        3.652000e+03, 1.600000e+01],\n",
       "       [5.000000e+00, 3.000000e+00, 1.057000e+03, ..., 1.117249e+06,\n",
       "        3.171000e+03, 9.000000e+00],\n",
       "       ...,\n",
       "       [6.000000e+00, 3.000000e+00, 1.913000e+03, ..., 1.373584e+06,\n",
       "        3.516000e+03, 9.000000e+00],\n",
       "       [4.000000e+00, 3.000000e+00, 1.200000e+03, ..., 1.440000e+06,\n",
       "        3.600000e+03, 9.000000e+00],\n",
       "       [7.000000e+00, 3.000000e+00, 1.804000e+03, ..., 1.056784e+06,\n",
       "        3.084000e+03, 9.000000e+00]])"
      ]
     },
     "execution_count": 62,
     "metadata": {},
     "output_type": "execute_result"
    }
   ],
   "source": [
    "X_poly = poly.transform(X)\n",
    "X_poly"
   ]
  },
  {
   "cell_type": "code",
   "execution_count": 63,
   "id": "8f96c911",
   "metadata": {},
   "outputs": [
    {
     "data": {
      "text/plain": [
       "['Overall_Qual',\n",
       " 'Exter_Qual',\n",
       " 'Gr_Liv_Area',\n",
       " 'Kitchen_Qual',\n",
       " 'Garage_Area',\n",
       " 'Garage_Cars',\n",
       " 'Total_Bsmt_SF',\n",
       " '1st_Flr_SF',\n",
       " 'Bsmt_Qual',\n",
       " 'Overall_Qual^2',\n",
       " 'Overall_Qual Exter_Qual',\n",
       " 'Overall_Qual Gr_Liv_Area',\n",
       " 'Overall_Qual Kitchen_Qual',\n",
       " 'Overall_Qual Garage_Area',\n",
       " 'Overall_Qual Garage_Cars',\n",
       " 'Overall_Qual Total_Bsmt_SF',\n",
       " 'Overall_Qual 1st_Flr_SF',\n",
       " 'Overall_Qual Bsmt_Qual',\n",
       " 'Exter_Qual^2',\n",
       " 'Exter_Qual Gr_Liv_Area',\n",
       " 'Exter_Qual Kitchen_Qual',\n",
       " 'Exter_Qual Garage_Area',\n",
       " 'Exter_Qual Garage_Cars',\n",
       " 'Exter_Qual Total_Bsmt_SF',\n",
       " 'Exter_Qual 1st_Flr_SF',\n",
       " 'Exter_Qual Bsmt_Qual',\n",
       " 'Gr_Liv_Area^2',\n",
       " 'Gr_Liv_Area Kitchen_Qual',\n",
       " 'Gr_Liv_Area Garage_Area',\n",
       " 'Gr_Liv_Area Garage_Cars',\n",
       " 'Gr_Liv_Area Total_Bsmt_SF',\n",
       " 'Gr_Liv_Area 1st_Flr_SF',\n",
       " 'Gr_Liv_Area Bsmt_Qual',\n",
       " 'Kitchen_Qual^2',\n",
       " 'Kitchen_Qual Garage_Area',\n",
       " 'Kitchen_Qual Garage_Cars',\n",
       " 'Kitchen_Qual Total_Bsmt_SF',\n",
       " 'Kitchen_Qual 1st_Flr_SF',\n",
       " 'Kitchen_Qual Bsmt_Qual',\n",
       " 'Garage_Area^2',\n",
       " 'Garage_Area Garage_Cars',\n",
       " 'Garage_Area Total_Bsmt_SF',\n",
       " 'Garage_Area 1st_Flr_SF',\n",
       " 'Garage_Area Bsmt_Qual',\n",
       " 'Garage_Cars^2',\n",
       " 'Garage_Cars Total_Bsmt_SF',\n",
       " 'Garage_Cars 1st_Flr_SF',\n",
       " 'Garage_Cars Bsmt_Qual',\n",
       " 'Total_Bsmt_SF^2',\n",
       " 'Total_Bsmt_SF 1st_Flr_SF',\n",
       " 'Total_Bsmt_SF Bsmt_Qual',\n",
       " '1st_Flr_SF^2',\n",
       " '1st_Flr_SF Bsmt_Qual',\n",
       " 'Bsmt_Qual^2']"
      ]
     },
     "execution_count": 63,
     "metadata": {},
     "output_type": "execute_result"
    }
   ],
   "source": [
    "features = poly.get_feature_names(features)\n",
    "features"
   ]
  },
  {
   "cell_type": "code",
   "execution_count": 64,
   "id": "353c51c6",
   "metadata": {},
   "outputs": [
    {
     "data": {
      "text/plain": [
       "0.8611448536081833"
      ]
     },
     "execution_count": 64,
     "metadata": {},
     "output_type": "execute_result"
    }
   ],
   "source": [
    "cross_val_score(lr,X_poly, y).mean()"
   ]
  },
  {
   "cell_type": "code",
   "execution_count": 65,
   "id": "1913f0bb",
   "metadata": {},
   "outputs": [
    {
     "data": {
      "text/plain": [
       "0.8611448536081833"
      ]
     },
     "execution_count": 65,
     "metadata": {},
     "output_type": "execute_result"
    }
   ],
   "source": [
    "cross_val_score(lr,X_poly, y).mean()"
   ]
  },
  {
   "cell_type": "code",
   "execution_count": 66,
   "id": "ca42d419",
   "metadata": {},
   "outputs": [
    {
     "data": {
      "text/html": [
       "<div>\n",
       "<style scoped>\n",
       "    .dataframe tbody tr th:only-of-type {\n",
       "        vertical-align: middle;\n",
       "    }\n",
       "\n",
       "    .dataframe tbody tr th {\n",
       "        vertical-align: top;\n",
       "    }\n",
       "\n",
       "    .dataframe thead th {\n",
       "        text-align: right;\n",
       "    }\n",
       "</style>\n",
       "<table border=\"1\" class=\"dataframe\">\n",
       "  <thead>\n",
       "    <tr style=\"text-align: right;\">\n",
       "      <th></th>\n",
       "      <th>Overall_Qual</th>\n",
       "      <th>Exter_Qual</th>\n",
       "      <th>Gr_Liv_Area</th>\n",
       "      <th>Kitchen_Qual</th>\n",
       "      <th>Garage_Area</th>\n",
       "      <th>Garage_Cars</th>\n",
       "      <th>Total_Bsmt_SF</th>\n",
       "      <th>1st_Flr_SF</th>\n",
       "      <th>Bsmt_Qual</th>\n",
       "      <th>Overall_Qual^2</th>\n",
       "      <th>...</th>\n",
       "      <th>Garage_Cars^2</th>\n",
       "      <th>Garage_Cars Total_Bsmt_SF</th>\n",
       "      <th>Garage_Cars 1st_Flr_SF</th>\n",
       "      <th>Garage_Cars Bsmt_Qual</th>\n",
       "      <th>Total_Bsmt_SF^2</th>\n",
       "      <th>Total_Bsmt_SF 1st_Flr_SF</th>\n",
       "      <th>Total_Bsmt_SF Bsmt_Qual</th>\n",
       "      <th>1st_Flr_SF^2</th>\n",
       "      <th>1st_Flr_SF Bsmt_Qual</th>\n",
       "      <th>Bsmt_Qual^2</th>\n",
       "    </tr>\n",
       "  </thead>\n",
       "  <tbody>\n",
       "    <tr>\n",
       "      <th>0</th>\n",
       "      <td>6.0</td>\n",
       "      <td>4.0</td>\n",
       "      <td>1479.0</td>\n",
       "      <td>3.0</td>\n",
       "      <td>475.0</td>\n",
       "      <td>2.0</td>\n",
       "      <td>725.0</td>\n",
       "      <td>725.0</td>\n",
       "      <td>3.0</td>\n",
       "      <td>36.0</td>\n",
       "      <td>...</td>\n",
       "      <td>4.0</td>\n",
       "      <td>1450.0</td>\n",
       "      <td>1450.0</td>\n",
       "      <td>6.0</td>\n",
       "      <td>525625.0</td>\n",
       "      <td>525625.0</td>\n",
       "      <td>2175.0</td>\n",
       "      <td>525625.0</td>\n",
       "      <td>2175.0</td>\n",
       "      <td>9.0</td>\n",
       "    </tr>\n",
       "    <tr>\n",
       "      <th>1</th>\n",
       "      <td>7.0</td>\n",
       "      <td>4.0</td>\n",
       "      <td>2122.0</td>\n",
       "      <td>3.0</td>\n",
       "      <td>559.0</td>\n",
       "      <td>2.0</td>\n",
       "      <td>913.0</td>\n",
       "      <td>913.0</td>\n",
       "      <td>4.0</td>\n",
       "      <td>49.0</td>\n",
       "      <td>...</td>\n",
       "      <td>4.0</td>\n",
       "      <td>1826.0</td>\n",
       "      <td>1826.0</td>\n",
       "      <td>8.0</td>\n",
       "      <td>833569.0</td>\n",
       "      <td>833569.0</td>\n",
       "      <td>3652.0</td>\n",
       "      <td>833569.0</td>\n",
       "      <td>3652.0</td>\n",
       "      <td>16.0</td>\n",
       "    </tr>\n",
       "    <tr>\n",
       "      <th>2</th>\n",
       "      <td>5.0</td>\n",
       "      <td>3.0</td>\n",
       "      <td>1057.0</td>\n",
       "      <td>3.0</td>\n",
       "      <td>246.0</td>\n",
       "      <td>1.0</td>\n",
       "      <td>1057.0</td>\n",
       "      <td>1057.0</td>\n",
       "      <td>3.0</td>\n",
       "      <td>25.0</td>\n",
       "      <td>...</td>\n",
       "      <td>1.0</td>\n",
       "      <td>1057.0</td>\n",
       "      <td>1057.0</td>\n",
       "      <td>3.0</td>\n",
       "      <td>1117249.0</td>\n",
       "      <td>1117249.0</td>\n",
       "      <td>3171.0</td>\n",
       "      <td>1117249.0</td>\n",
       "      <td>3171.0</td>\n",
       "      <td>9.0</td>\n",
       "    </tr>\n",
       "    <tr>\n",
       "      <th>3</th>\n",
       "      <td>5.0</td>\n",
       "      <td>3.0</td>\n",
       "      <td>1444.0</td>\n",
       "      <td>2.0</td>\n",
       "      <td>400.0</td>\n",
       "      <td>2.0</td>\n",
       "      <td>384.0</td>\n",
       "      <td>744.0</td>\n",
       "      <td>4.0</td>\n",
       "      <td>25.0</td>\n",
       "      <td>...</td>\n",
       "      <td>4.0</td>\n",
       "      <td>768.0</td>\n",
       "      <td>1488.0</td>\n",
       "      <td>8.0</td>\n",
       "      <td>147456.0</td>\n",
       "      <td>285696.0</td>\n",
       "      <td>1536.0</td>\n",
       "      <td>553536.0</td>\n",
       "      <td>2976.0</td>\n",
       "      <td>16.0</td>\n",
       "    </tr>\n",
       "    <tr>\n",
       "      <th>4</th>\n",
       "      <td>6.0</td>\n",
       "      <td>3.0</td>\n",
       "      <td>1445.0</td>\n",
       "      <td>2.0</td>\n",
       "      <td>484.0</td>\n",
       "      <td>2.0</td>\n",
       "      <td>676.0</td>\n",
       "      <td>831.0</td>\n",
       "      <td>2.0</td>\n",
       "      <td>36.0</td>\n",
       "      <td>...</td>\n",
       "      <td>4.0</td>\n",
       "      <td>1352.0</td>\n",
       "      <td>1662.0</td>\n",
       "      <td>4.0</td>\n",
       "      <td>456976.0</td>\n",
       "      <td>561756.0</td>\n",
       "      <td>1352.0</td>\n",
       "      <td>690561.0</td>\n",
       "      <td>1662.0</td>\n",
       "      <td>4.0</td>\n",
       "    </tr>\n",
       "    <tr>\n",
       "      <th>...</th>\n",
       "      <td>...</td>\n",
       "      <td>...</td>\n",
       "      <td>...</td>\n",
       "      <td>...</td>\n",
       "      <td>...</td>\n",
       "      <td>...</td>\n",
       "      <td>...</td>\n",
       "      <td>...</td>\n",
       "      <td>...</td>\n",
       "      <td>...</td>\n",
       "      <td>...</td>\n",
       "      <td>...</td>\n",
       "      <td>...</td>\n",
       "      <td>...</td>\n",
       "      <td>...</td>\n",
       "      <td>...</td>\n",
       "      <td>...</td>\n",
       "      <td>...</td>\n",
       "      <td>...</td>\n",
       "      <td>...</td>\n",
       "      <td>...</td>\n",
       "    </tr>\n",
       "    <tr>\n",
       "      <th>2046</th>\n",
       "      <td>8.0</td>\n",
       "      <td>4.0</td>\n",
       "      <td>1728.0</td>\n",
       "      <td>3.0</td>\n",
       "      <td>520.0</td>\n",
       "      <td>2.0</td>\n",
       "      <td>1884.0</td>\n",
       "      <td>1728.0</td>\n",
       "      <td>4.0</td>\n",
       "      <td>64.0</td>\n",
       "      <td>...</td>\n",
       "      <td>4.0</td>\n",
       "      <td>3768.0</td>\n",
       "      <td>3456.0</td>\n",
       "      <td>8.0</td>\n",
       "      <td>3549456.0</td>\n",
       "      <td>3255552.0</td>\n",
       "      <td>7536.0</td>\n",
       "      <td>2985984.0</td>\n",
       "      <td>6912.0</td>\n",
       "      <td>16.0</td>\n",
       "    </tr>\n",
       "    <tr>\n",
       "      <th>2047</th>\n",
       "      <td>4.0</td>\n",
       "      <td>3.0</td>\n",
       "      <td>861.0</td>\n",
       "      <td>2.0</td>\n",
       "      <td>539.0</td>\n",
       "      <td>2.0</td>\n",
       "      <td>861.0</td>\n",
       "      <td>861.0</td>\n",
       "      <td>3.0</td>\n",
       "      <td>16.0</td>\n",
       "      <td>...</td>\n",
       "      <td>4.0</td>\n",
       "      <td>1722.0</td>\n",
       "      <td>1722.0</td>\n",
       "      <td>6.0</td>\n",
       "      <td>741321.0</td>\n",
       "      <td>741321.0</td>\n",
       "      <td>2583.0</td>\n",
       "      <td>741321.0</td>\n",
       "      <td>2583.0</td>\n",
       "      <td>9.0</td>\n",
       "    </tr>\n",
       "    <tr>\n",
       "      <th>2048</th>\n",
       "      <td>6.0</td>\n",
       "      <td>3.0</td>\n",
       "      <td>1913.0</td>\n",
       "      <td>2.0</td>\n",
       "      <td>342.0</td>\n",
       "      <td>2.0</td>\n",
       "      <td>896.0</td>\n",
       "      <td>1172.0</td>\n",
       "      <td>3.0</td>\n",
       "      <td>36.0</td>\n",
       "      <td>...</td>\n",
       "      <td>4.0</td>\n",
       "      <td>1792.0</td>\n",
       "      <td>2344.0</td>\n",
       "      <td>6.0</td>\n",
       "      <td>802816.0</td>\n",
       "      <td>1050112.0</td>\n",
       "      <td>2688.0</td>\n",
       "      <td>1373584.0</td>\n",
       "      <td>3516.0</td>\n",
       "      <td>9.0</td>\n",
       "    </tr>\n",
       "    <tr>\n",
       "      <th>2049</th>\n",
       "      <td>4.0</td>\n",
       "      <td>3.0</td>\n",
       "      <td>1200.0</td>\n",
       "      <td>2.0</td>\n",
       "      <td>294.0</td>\n",
       "      <td>1.0</td>\n",
       "      <td>1200.0</td>\n",
       "      <td>1200.0</td>\n",
       "      <td>3.0</td>\n",
       "      <td>16.0</td>\n",
       "      <td>...</td>\n",
       "      <td>1.0</td>\n",
       "      <td>1200.0</td>\n",
       "      <td>1200.0</td>\n",
       "      <td>3.0</td>\n",
       "      <td>1440000.0</td>\n",
       "      <td>1440000.0</td>\n",
       "      <td>3600.0</td>\n",
       "      <td>1440000.0</td>\n",
       "      <td>3600.0</td>\n",
       "      <td>9.0</td>\n",
       "    </tr>\n",
       "    <tr>\n",
       "      <th>2050</th>\n",
       "      <td>7.0</td>\n",
       "      <td>3.0</td>\n",
       "      <td>1804.0</td>\n",
       "      <td>3.0</td>\n",
       "      <td>442.0</td>\n",
       "      <td>2.0</td>\n",
       "      <td>994.0</td>\n",
       "      <td>1028.0</td>\n",
       "      <td>3.0</td>\n",
       "      <td>49.0</td>\n",
       "      <td>...</td>\n",
       "      <td>4.0</td>\n",
       "      <td>1988.0</td>\n",
       "      <td>2056.0</td>\n",
       "      <td>6.0</td>\n",
       "      <td>988036.0</td>\n",
       "      <td>1021832.0</td>\n",
       "      <td>2982.0</td>\n",
       "      <td>1056784.0</td>\n",
       "      <td>3084.0</td>\n",
       "      <td>9.0</td>\n",
       "    </tr>\n",
       "  </tbody>\n",
       "</table>\n",
       "<p>2051 rows × 54 columns</p>\n",
       "</div>"
      ],
      "text/plain": [
       "      Overall_Qual  Exter_Qual  Gr_Liv_Area  Kitchen_Qual  Garage_Area  \\\n",
       "0              6.0         4.0       1479.0           3.0        475.0   \n",
       "1              7.0         4.0       2122.0           3.0        559.0   \n",
       "2              5.0         3.0       1057.0           3.0        246.0   \n",
       "3              5.0         3.0       1444.0           2.0        400.0   \n",
       "4              6.0         3.0       1445.0           2.0        484.0   \n",
       "...            ...         ...          ...           ...          ...   \n",
       "2046           8.0         4.0       1728.0           3.0        520.0   \n",
       "2047           4.0         3.0        861.0           2.0        539.0   \n",
       "2048           6.0         3.0       1913.0           2.0        342.0   \n",
       "2049           4.0         3.0       1200.0           2.0        294.0   \n",
       "2050           7.0         3.0       1804.0           3.0        442.0   \n",
       "\n",
       "      Garage_Cars  Total_Bsmt_SF  1st_Flr_SF  Bsmt_Qual  Overall_Qual^2  ...  \\\n",
       "0             2.0          725.0       725.0        3.0            36.0  ...   \n",
       "1             2.0          913.0       913.0        4.0            49.0  ...   \n",
       "2             1.0         1057.0      1057.0        3.0            25.0  ...   \n",
       "3             2.0          384.0       744.0        4.0            25.0  ...   \n",
       "4             2.0          676.0       831.0        2.0            36.0  ...   \n",
       "...           ...            ...         ...        ...             ...  ...   \n",
       "2046          2.0         1884.0      1728.0        4.0            64.0  ...   \n",
       "2047          2.0          861.0       861.0        3.0            16.0  ...   \n",
       "2048          2.0          896.0      1172.0        3.0            36.0  ...   \n",
       "2049          1.0         1200.0      1200.0        3.0            16.0  ...   \n",
       "2050          2.0          994.0      1028.0        3.0            49.0  ...   \n",
       "\n",
       "      Garage_Cars^2  Garage_Cars Total_Bsmt_SF  Garage_Cars 1st_Flr_SF  \\\n",
       "0               4.0                     1450.0                  1450.0   \n",
       "1               4.0                     1826.0                  1826.0   \n",
       "2               1.0                     1057.0                  1057.0   \n",
       "3               4.0                      768.0                  1488.0   \n",
       "4               4.0                     1352.0                  1662.0   \n",
       "...             ...                        ...                     ...   \n",
       "2046            4.0                     3768.0                  3456.0   \n",
       "2047            4.0                     1722.0                  1722.0   \n",
       "2048            4.0                     1792.0                  2344.0   \n",
       "2049            1.0                     1200.0                  1200.0   \n",
       "2050            4.0                     1988.0                  2056.0   \n",
       "\n",
       "      Garage_Cars Bsmt_Qual  Total_Bsmt_SF^2  Total_Bsmt_SF 1st_Flr_SF  \\\n",
       "0                       6.0         525625.0                  525625.0   \n",
       "1                       8.0         833569.0                  833569.0   \n",
       "2                       3.0        1117249.0                 1117249.0   \n",
       "3                       8.0         147456.0                  285696.0   \n",
       "4                       4.0         456976.0                  561756.0   \n",
       "...                     ...              ...                       ...   \n",
       "2046                    8.0        3549456.0                 3255552.0   \n",
       "2047                    6.0         741321.0                  741321.0   \n",
       "2048                    6.0         802816.0                 1050112.0   \n",
       "2049                    3.0        1440000.0                 1440000.0   \n",
       "2050                    6.0         988036.0                 1021832.0   \n",
       "\n",
       "      Total_Bsmt_SF Bsmt_Qual  1st_Flr_SF^2  1st_Flr_SF Bsmt_Qual  Bsmt_Qual^2  \n",
       "0                      2175.0      525625.0                2175.0          9.0  \n",
       "1                      3652.0      833569.0                3652.0         16.0  \n",
       "2                      3171.0     1117249.0                3171.0          9.0  \n",
       "3                      1536.0      553536.0                2976.0         16.0  \n",
       "4                      1352.0      690561.0                1662.0          4.0  \n",
       "...                       ...           ...                   ...          ...  \n",
       "2046                   7536.0     2985984.0                6912.0         16.0  \n",
       "2047                   2583.0      741321.0                2583.0          9.0  \n",
       "2048                   2688.0     1373584.0                3516.0          9.0  \n",
       "2049                   3600.0     1440000.0                3600.0          9.0  \n",
       "2050                   2982.0     1056784.0                3084.0          9.0  \n",
       "\n",
       "[2051 rows x 54 columns]"
      ]
     },
     "execution_count": 66,
     "metadata": {},
     "output_type": "execute_result"
    }
   ],
   "source": [
    "poly2df = pd.DataFrame(X_poly, columns = features)\n",
    "poly2df"
   ]
  },
  {
   "cell_type": "code",
   "execution_count": 67,
   "id": "70a70b00",
   "metadata": {},
   "outputs": [
    {
     "data": {
      "text/html": [
       "<div>\n",
       "<style scoped>\n",
       "    .dataframe tbody tr th:only-of-type {\n",
       "        vertical-align: middle;\n",
       "    }\n",
       "\n",
       "    .dataframe tbody tr th {\n",
       "        vertical-align: top;\n",
       "    }\n",
       "\n",
       "    .dataframe thead th {\n",
       "        text-align: right;\n",
       "    }\n",
       "</style>\n",
       "<table border=\"1\" class=\"dataframe\">\n",
       "  <thead>\n",
       "    <tr style=\"text-align: right;\">\n",
       "      <th></th>\n",
       "      <th>SalePrice</th>\n",
       "    </tr>\n",
       "  </thead>\n",
       "  <tbody>\n",
       "    <tr>\n",
       "      <th>Total_Bsmt_SF^2</th>\n",
       "      <td>0.497716</td>\n",
       "    </tr>\n",
       "    <tr>\n",
       "      <th>1st_Flr_SF^2</th>\n",
       "      <td>0.529102</td>\n",
       "    </tr>\n",
       "    <tr>\n",
       "      <th>Total_Bsmt_SF 1st_Flr_SF</th>\n",
       "      <td>0.539701</td>\n",
       "    </tr>\n",
       "    <tr>\n",
       "      <th>Bsmt_Qual</th>\n",
       "      <td>0.612188</td>\n",
       "    </tr>\n",
       "    <tr>\n",
       "      <th>1st_Flr_SF</th>\n",
       "      <td>0.618486</td>\n",
       "    </tr>\n",
       "    <tr>\n",
       "      <th>Gr_Liv_Area Total_Bsmt_SF</th>\n",
       "      <td>0.624888</td>\n",
       "    </tr>\n",
       "    <tr>\n",
       "      <th>Gr_Liv_Area 1st_Flr_SF</th>\n",
       "      <td>0.629107</td>\n",
       "    </tr>\n",
       "    <tr>\n",
       "      <th>Total_Bsmt_SF</th>\n",
       "      <td>0.629303</td>\n",
       "    </tr>\n",
       "    <tr>\n",
       "      <th>Gr_Liv_Area^2</th>\n",
       "      <td>0.629686</td>\n",
       "    </tr>\n",
       "    <tr>\n",
       "      <th>Garage_Area^2</th>\n",
       "      <td>0.642760</td>\n",
       "    </tr>\n",
       "    <tr>\n",
       "      <th>Garage_Cars</th>\n",
       "      <td>0.647781</td>\n",
       "    </tr>\n",
       "    <tr>\n",
       "      <th>Garage_Area</th>\n",
       "      <td>0.649897</td>\n",
       "    </tr>\n",
       "    <tr>\n",
       "      <th>Garage_Cars^2</th>\n",
       "      <td>0.664522</td>\n",
       "    </tr>\n",
       "    <tr>\n",
       "      <th>Garage_Area Garage_Cars</th>\n",
       "      <td>0.690596</td>\n",
       "    </tr>\n",
       "    <tr>\n",
       "      <th>Kitchen_Qual</th>\n",
       "      <td>0.692336</td>\n",
       "    </tr>\n",
       "    <tr>\n",
       "      <th>Garage_Area Total_Bsmt_SF</th>\n",
       "      <td>0.692389</td>\n",
       "    </tr>\n",
       "    <tr>\n",
       "      <th>Bsmt_Qual^2</th>\n",
       "      <td>0.693282</td>\n",
       "    </tr>\n",
       "    <tr>\n",
       "      <th>Gr_Liv_Area</th>\n",
       "      <td>0.697038</td>\n",
       "    </tr>\n",
       "    <tr>\n",
       "      <th>Garage_Area 1st_Flr_SF</th>\n",
       "      <td>0.705365</td>\n",
       "    </tr>\n",
       "    <tr>\n",
       "      <th>Kitchen_Qual^2</th>\n",
       "      <td>0.708433</td>\n",
       "    </tr>\n",
       "    <tr>\n",
       "      <th>Exter_Qual</th>\n",
       "      <td>0.712146</td>\n",
       "    </tr>\n",
       "    <tr>\n",
       "      <th>Exter_Qual^2</th>\n",
       "      <td>0.721290</td>\n",
       "    </tr>\n",
       "    <tr>\n",
       "      <th>Exter_Qual Total_Bsmt_SF</th>\n",
       "      <td>0.735545</td>\n",
       "    </tr>\n",
       "    <tr>\n",
       "      <th>Total_Bsmt_SF Bsmt_Qual</th>\n",
       "      <td>0.742991</td>\n",
       "    </tr>\n",
       "    <tr>\n",
       "      <th>Exter_Qual 1st_Flr_SF</th>\n",
       "      <td>0.753101</td>\n",
       "    </tr>\n",
       "    <tr>\n",
       "      <th>Gr_Liv_Area Garage_Area</th>\n",
       "      <td>0.754659</td>\n",
       "    </tr>\n",
       "    <tr>\n",
       "      <th>Exter_Qual Bsmt_Qual</th>\n",
       "      <td>0.755313</td>\n",
       "    </tr>\n",
       "    <tr>\n",
       "      <th>Kitchen_Qual Total_Bsmt_SF</th>\n",
       "      <td>0.759551</td>\n",
       "    </tr>\n",
       "    <tr>\n",
       "      <th>Garage_Cars 1st_Flr_SF</th>\n",
       "      <td>0.760121</td>\n",
       "    </tr>\n",
       "    <tr>\n",
       "      <th>1st_Flr_SF Bsmt_Qual</th>\n",
       "      <td>0.760798</td>\n",
       "    </tr>\n",
       "    <tr>\n",
       "      <th>Exter_Qual Kitchen_Qual</th>\n",
       "      <td>0.766494</td>\n",
       "    </tr>\n",
       "    <tr>\n",
       "      <th>Kitchen_Qual 1st_Flr_SF</th>\n",
       "      <td>0.767139</td>\n",
       "    </tr>\n",
       "    <tr>\n",
       "      <th>Garage_Cars Total_Bsmt_SF</th>\n",
       "      <td>0.767335</td>\n",
       "    </tr>\n",
       "    <tr>\n",
       "      <th>Overall_Qual Total_Bsmt_SF</th>\n",
       "      <td>0.768630</td>\n",
       "    </tr>\n",
       "    <tr>\n",
       "      <th>Exter_Qual Garage_Area</th>\n",
       "      <td>0.769923</td>\n",
       "    </tr>\n",
       "    <tr>\n",
       "      <th>Garage_Cars Bsmt_Qual</th>\n",
       "      <td>0.770014</td>\n",
       "    </tr>\n",
       "    <tr>\n",
       "      <th>Kitchen_Qual Bsmt_Qual</th>\n",
       "      <td>0.775066</td>\n",
       "    </tr>\n",
       "    <tr>\n",
       "      <th>Garage_Area Bsmt_Qual</th>\n",
       "      <td>0.775321</td>\n",
       "    </tr>\n",
       "    <tr>\n",
       "      <th>Exter_Qual Garage_Cars</th>\n",
       "      <td>0.778026</td>\n",
       "    </tr>\n",
       "    <tr>\n",
       "      <th>Overall_Qual 1st_Flr_SF</th>\n",
       "      <td>0.792151</td>\n",
       "    </tr>\n",
       "    <tr>\n",
       "      <th>Gr_Liv_Area Garage_Cars</th>\n",
       "      <td>0.793274</td>\n",
       "    </tr>\n",
       "    <tr>\n",
       "      <th>Kitchen_Qual Garage_Area</th>\n",
       "      <td>0.794718</td>\n",
       "    </tr>\n",
       "    <tr>\n",
       "      <th>Overall_Qual</th>\n",
       "      <td>0.800207</td>\n",
       "    </tr>\n",
       "    <tr>\n",
       "      <th>Kitchen_Qual Garage_Cars</th>\n",
       "      <td>0.803750</td>\n",
       "    </tr>\n",
       "    <tr>\n",
       "      <th>Overall_Qual Bsmt_Qual</th>\n",
       "      <td>0.812202</td>\n",
       "    </tr>\n",
       "    <tr>\n",
       "      <th>Overall_Qual Garage_Area</th>\n",
       "      <td>0.813247</td>\n",
       "    </tr>\n",
       "    <tr>\n",
       "      <th>Gr_Liv_Area Bsmt_Qual</th>\n",
       "      <td>0.814206</td>\n",
       "    </tr>\n",
       "    <tr>\n",
       "      <th>Exter_Qual Gr_Liv_Area</th>\n",
       "      <td>0.817933</td>\n",
       "    </tr>\n",
       "    <tr>\n",
       "      <th>Gr_Liv_Area Kitchen_Qual</th>\n",
       "      <td>0.819606</td>\n",
       "    </tr>\n",
       "    <tr>\n",
       "      <th>Overall_Qual Garage_Cars</th>\n",
       "      <td>0.819935</td>\n",
       "    </tr>\n",
       "    <tr>\n",
       "      <th>Overall_Qual^2</th>\n",
       "      <td>0.825539</td>\n",
       "    </tr>\n",
       "    <tr>\n",
       "      <th>Overall_Qual Kitchen_Qual</th>\n",
       "      <td>0.826133</td>\n",
       "    </tr>\n",
       "    <tr>\n",
       "      <th>Overall_Qual Exter_Qual</th>\n",
       "      <td>0.828303</td>\n",
       "    </tr>\n",
       "    <tr>\n",
       "      <th>Overall_Qual Gr_Liv_Area</th>\n",
       "      <td>0.837152</td>\n",
       "    </tr>\n",
       "  </tbody>\n",
       "</table>\n",
       "</div>"
      ],
      "text/plain": [
       "                            SalePrice\n",
       "Total_Bsmt_SF^2              0.497716\n",
       "1st_Flr_SF^2                 0.529102\n",
       "Total_Bsmt_SF 1st_Flr_SF     0.539701\n",
       "Bsmt_Qual                    0.612188\n",
       "1st_Flr_SF                   0.618486\n",
       "Gr_Liv_Area Total_Bsmt_SF    0.624888\n",
       "Gr_Liv_Area 1st_Flr_SF       0.629107\n",
       "Total_Bsmt_SF                0.629303\n",
       "Gr_Liv_Area^2                0.629686\n",
       "Garage_Area^2                0.642760\n",
       "Garage_Cars                  0.647781\n",
       "Garage_Area                  0.649897\n",
       "Garage_Cars^2                0.664522\n",
       "Garage_Area Garage_Cars      0.690596\n",
       "Kitchen_Qual                 0.692336\n",
       "Garage_Area Total_Bsmt_SF    0.692389\n",
       "Bsmt_Qual^2                  0.693282\n",
       "Gr_Liv_Area                  0.697038\n",
       "Garage_Area 1st_Flr_SF       0.705365\n",
       "Kitchen_Qual^2               0.708433\n",
       "Exter_Qual                   0.712146\n",
       "Exter_Qual^2                 0.721290\n",
       "Exter_Qual Total_Bsmt_SF     0.735545\n",
       "Total_Bsmt_SF Bsmt_Qual      0.742991\n",
       "Exter_Qual 1st_Flr_SF        0.753101\n",
       "Gr_Liv_Area Garage_Area      0.754659\n",
       "Exter_Qual Bsmt_Qual         0.755313\n",
       "Kitchen_Qual Total_Bsmt_SF   0.759551\n",
       "Garage_Cars 1st_Flr_SF       0.760121\n",
       "1st_Flr_SF Bsmt_Qual         0.760798\n",
       "Exter_Qual Kitchen_Qual      0.766494\n",
       "Kitchen_Qual 1st_Flr_SF      0.767139\n",
       "Garage_Cars Total_Bsmt_SF    0.767335\n",
       "Overall_Qual Total_Bsmt_SF   0.768630\n",
       "Exter_Qual Garage_Area       0.769923\n",
       "Garage_Cars Bsmt_Qual        0.770014\n",
       "Kitchen_Qual Bsmt_Qual       0.775066\n",
       "Garage_Area Bsmt_Qual        0.775321\n",
       "Exter_Qual Garage_Cars       0.778026\n",
       "Overall_Qual 1st_Flr_SF      0.792151\n",
       "Gr_Liv_Area Garage_Cars      0.793274\n",
       "Kitchen_Qual Garage_Area     0.794718\n",
       "Overall_Qual                 0.800207\n",
       "Kitchen_Qual Garage_Cars     0.803750\n",
       "Overall_Qual Bsmt_Qual       0.812202\n",
       "Overall_Qual Garage_Area     0.813247\n",
       "Gr_Liv_Area Bsmt_Qual        0.814206\n",
       "Exter_Qual Gr_Liv_Area       0.817933\n",
       "Gr_Liv_Area Kitchen_Qual     0.819606\n",
       "Overall_Qual Garage_Cars     0.819935\n",
       "Overall_Qual^2               0.825539\n",
       "Overall_Qual Kitchen_Qual    0.826133\n",
       "Overall_Qual Exter_Qual      0.828303\n",
       "Overall_Qual Gr_Liv_Area     0.837152"
      ]
     },
     "execution_count": 67,
     "metadata": {},
     "output_type": "execute_result"
    }
   ],
   "source": [
    "poly2df['SalePrice'] = traindice['SalePrice']\n",
    "\n",
    "polycorr = poly2df.corr()[['SalePrice']].sort_values('SalePrice').iloc[:-1, :]\n",
    "polycorr"
   ]
  },
  {
   "cell_type": "code",
   "execution_count": 68,
   "id": "b18ed165",
   "metadata": {},
   "outputs": [
    {
     "data": {
      "text/html": [
       "<div>\n",
       "<style scoped>\n",
       "    .dataframe tbody tr th:only-of-type {\n",
       "        vertical-align: middle;\n",
       "    }\n",
       "\n",
       "    .dataframe tbody tr th {\n",
       "        vertical-align: top;\n",
       "    }\n",
       "\n",
       "    .dataframe thead th {\n",
       "        text-align: right;\n",
       "    }\n",
       "</style>\n",
       "<table border=\"1\" class=\"dataframe\">\n",
       "  <thead>\n",
       "    <tr style=\"text-align: right;\">\n",
       "      <th></th>\n",
       "      <th>Overall_Qual</th>\n",
       "      <th>Exter_Qual</th>\n",
       "      <th>Gr_Liv_Area</th>\n",
       "      <th>Kitchen_Qual</th>\n",
       "      <th>Garage_Area</th>\n",
       "      <th>Garage_Cars</th>\n",
       "      <th>Total_Bsmt_SF</th>\n",
       "      <th>1st_Flr_SF</th>\n",
       "      <th>Bsmt_Qual</th>\n",
       "      <th>Overall_Qual^2</th>\n",
       "      <th>...</th>\n",
       "      <th>Garage_Cars^2</th>\n",
       "      <th>Garage_Cars Total_Bsmt_SF</th>\n",
       "      <th>Garage_Cars 1st_Flr_SF</th>\n",
       "      <th>Garage_Cars Bsmt_Qual</th>\n",
       "      <th>Total_Bsmt_SF^2</th>\n",
       "      <th>Total_Bsmt_SF 1st_Flr_SF</th>\n",
       "      <th>Total_Bsmt_SF Bsmt_Qual</th>\n",
       "      <th>1st_Flr_SF^2</th>\n",
       "      <th>1st_Flr_SF Bsmt_Qual</th>\n",
       "      <th>Bsmt_Qual^2</th>\n",
       "    </tr>\n",
       "  </thead>\n",
       "  <tbody>\n",
       "    <tr>\n",
       "      <th>532</th>\n",
       "      <td>6.0</td>\n",
       "      <td>3.0</td>\n",
       "      <td>1587.0</td>\n",
       "      <td>2.0</td>\n",
       "      <td>525.0</td>\n",
       "      <td>2.0</td>\n",
       "      <td>1587.0</td>\n",
       "      <td>1587.0</td>\n",
       "      <td>3.0</td>\n",
       "      <td>36.0</td>\n",
       "      <td>...</td>\n",
       "      <td>4.0</td>\n",
       "      <td>3174.0</td>\n",
       "      <td>3174.0</td>\n",
       "      <td>6.0</td>\n",
       "      <td>2518569.0</td>\n",
       "      <td>2518569.0</td>\n",
       "      <td>4761.0</td>\n",
       "      <td>2518569.0</td>\n",
       "      <td>4761.0</td>\n",
       "      <td>9.0</td>\n",
       "    </tr>\n",
       "    <tr>\n",
       "      <th>415</th>\n",
       "      <td>7.0</td>\n",
       "      <td>3.0</td>\n",
       "      <td>2267.0</td>\n",
       "      <td>2.0</td>\n",
       "      <td>498.0</td>\n",
       "      <td>2.0</td>\n",
       "      <td>1005.0</td>\n",
       "      <td>1262.0</td>\n",
       "      <td>3.0</td>\n",
       "      <td>49.0</td>\n",
       "      <td>...</td>\n",
       "      <td>4.0</td>\n",
       "      <td>2010.0</td>\n",
       "      <td>2524.0</td>\n",
       "      <td>6.0</td>\n",
       "      <td>1010025.0</td>\n",
       "      <td>1268310.0</td>\n",
       "      <td>3015.0</td>\n",
       "      <td>1592644.0</td>\n",
       "      <td>3786.0</td>\n",
       "      <td>9.0</td>\n",
       "    </tr>\n",
       "    <tr>\n",
       "      <th>273</th>\n",
       "      <td>5.0</td>\n",
       "      <td>3.0</td>\n",
       "      <td>864.0</td>\n",
       "      <td>3.0</td>\n",
       "      <td>720.0</td>\n",
       "      <td>2.0</td>\n",
       "      <td>864.0</td>\n",
       "      <td>864.0</td>\n",
       "      <td>3.0</td>\n",
       "      <td>25.0</td>\n",
       "      <td>...</td>\n",
       "      <td>4.0</td>\n",
       "      <td>1728.0</td>\n",
       "      <td>1728.0</td>\n",
       "      <td>6.0</td>\n",
       "      <td>746496.0</td>\n",
       "      <td>746496.0</td>\n",
       "      <td>2592.0</td>\n",
       "      <td>746496.0</td>\n",
       "      <td>2592.0</td>\n",
       "      <td>9.0</td>\n",
       "    </tr>\n",
       "    <tr>\n",
       "      <th>1460</th>\n",
       "      <td>7.0</td>\n",
       "      <td>4.0</td>\n",
       "      <td>2260.0</td>\n",
       "      <td>3.0</td>\n",
       "      <td>533.0</td>\n",
       "      <td>2.0</td>\n",
       "      <td>1306.0</td>\n",
       "      <td>1306.0</td>\n",
       "      <td>5.0</td>\n",
       "      <td>49.0</td>\n",
       "      <td>...</td>\n",
       "      <td>4.0</td>\n",
       "      <td>2612.0</td>\n",
       "      <td>2612.0</td>\n",
       "      <td>10.0</td>\n",
       "      <td>1705636.0</td>\n",
       "      <td>1705636.0</td>\n",
       "      <td>6530.0</td>\n",
       "      <td>1705636.0</td>\n",
       "      <td>6530.0</td>\n",
       "      <td>25.0</td>\n",
       "    </tr>\n",
       "    <tr>\n",
       "      <th>250</th>\n",
       "      <td>8.0</td>\n",
       "      <td>4.0</td>\n",
       "      <td>2501.0</td>\n",
       "      <td>3.0</td>\n",
       "      <td>751.0</td>\n",
       "      <td>3.0</td>\n",
       "      <td>1242.0</td>\n",
       "      <td>1251.0</td>\n",
       "      <td>4.0</td>\n",
       "      <td>64.0</td>\n",
       "      <td>...</td>\n",
       "      <td>9.0</td>\n",
       "      <td>3726.0</td>\n",
       "      <td>3753.0</td>\n",
       "      <td>12.0</td>\n",
       "      <td>1542564.0</td>\n",
       "      <td>1553742.0</td>\n",
       "      <td>4968.0</td>\n",
       "      <td>1565001.0</td>\n",
       "      <td>5004.0</td>\n",
       "      <td>16.0</td>\n",
       "    </tr>\n",
       "  </tbody>\n",
       "</table>\n",
       "<p>5 rows × 54 columns</p>\n",
       "</div>"
      ],
      "text/plain": [
       "      Overall_Qual  Exter_Qual  Gr_Liv_Area  Kitchen_Qual  Garage_Area  \\\n",
       "532            6.0         3.0       1587.0           2.0        525.0   \n",
       "415            7.0         3.0       2267.0           2.0        498.0   \n",
       "273            5.0         3.0        864.0           3.0        720.0   \n",
       "1460           7.0         4.0       2260.0           3.0        533.0   \n",
       "250            8.0         4.0       2501.0           3.0        751.0   \n",
       "\n",
       "      Garage_Cars  Total_Bsmt_SF  1st_Flr_SF  Bsmt_Qual  Overall_Qual^2  ...  \\\n",
       "532           2.0         1587.0      1587.0        3.0            36.0  ...   \n",
       "415           2.0         1005.0      1262.0        3.0            49.0  ...   \n",
       "273           2.0          864.0       864.0        3.0            25.0  ...   \n",
       "1460          2.0         1306.0      1306.0        5.0            49.0  ...   \n",
       "250           3.0         1242.0      1251.0        4.0            64.0  ...   \n",
       "\n",
       "      Garage_Cars^2  Garage_Cars Total_Bsmt_SF  Garage_Cars 1st_Flr_SF  \\\n",
       "532             4.0                     3174.0                  3174.0   \n",
       "415             4.0                     2010.0                  2524.0   \n",
       "273             4.0                     1728.0                  1728.0   \n",
       "1460            4.0                     2612.0                  2612.0   \n",
       "250             9.0                     3726.0                  3753.0   \n",
       "\n",
       "      Garage_Cars Bsmt_Qual  Total_Bsmt_SF^2  Total_Bsmt_SF 1st_Flr_SF  \\\n",
       "532                     6.0        2518569.0                 2518569.0   \n",
       "415                     6.0        1010025.0                 1268310.0   \n",
       "273                     6.0         746496.0                  746496.0   \n",
       "1460                   10.0        1705636.0                 1705636.0   \n",
       "250                    12.0        1542564.0                 1553742.0   \n",
       "\n",
       "      Total_Bsmt_SF Bsmt_Qual  1st_Flr_SF^2  1st_Flr_SF Bsmt_Qual  Bsmt_Qual^2  \n",
       "532                    4761.0     2518569.0                4761.0          9.0  \n",
       "415                    3015.0     1592644.0                3786.0          9.0  \n",
       "273                    2592.0      746496.0                2592.0          9.0  \n",
       "1460                   6530.0     1705636.0                6530.0         25.0  \n",
       "250                    4968.0     1565001.0                5004.0         16.0  \n",
       "\n",
       "[5 rows x 54 columns]"
      ]
     },
     "execution_count": 68,
     "metadata": {},
     "output_type": "execute_result"
    }
   ],
   "source": [
    "X = poly2df[features]\n",
    "y = poly2df['SalePrice']\n",
    "\n",
    "X_train, X_test, y_train, y_test = train_test_split(X,y, random_state = 42)\n",
    "X_train.head()"
   ]
  },
  {
   "cell_type": "code",
   "execution_count": 69,
   "id": "343b8b26",
   "metadata": {},
   "outputs": [
    {
     "data": {
      "text/plain": [
       "LinearRegression()"
      ]
     },
     "execution_count": 69,
     "metadata": {},
     "output_type": "execute_result"
    }
   ],
   "source": [
    "lr = LinearRegression()\n",
    "lr.fit(X_train, y_train)"
   ]
  },
  {
   "cell_type": "code",
   "execution_count": 70,
   "id": "a6e366ff",
   "metadata": {},
   "outputs": [
    {
     "data": {
      "text/plain": [
       "0.8480364062502934"
      ]
     },
     "execution_count": 70,
     "metadata": {},
     "output_type": "execute_result"
    }
   ],
   "source": [
    "cross_val_score(lr, X_train, y_train).mean()"
   ]
  },
  {
   "cell_type": "code",
   "execution_count": 71,
   "id": "d32d3ab2",
   "metadata": {},
   "outputs": [
    {
     "data": {
      "text/plain": [
       "0.8629324361064985"
      ]
     },
     "execution_count": 71,
     "metadata": {},
     "output_type": "execute_result"
    }
   ],
   "source": [
    "cross_val_score(lr, X_test, y_test).mean()"
   ]
  },
  {
   "cell_type": "code",
   "execution_count": 72,
   "id": "6ae56b81",
   "metadata": {},
   "outputs": [
    {
     "data": {
      "text/plain": [
       "0.886750361242026"
      ]
     },
     "execution_count": 72,
     "metadata": {},
     "output_type": "execute_result"
    }
   ],
   "source": [
    "lr.score(X_train, y_train)"
   ]
  },
  {
   "cell_type": "code",
   "execution_count": 73,
   "id": "715badfc",
   "metadata": {},
   "outputs": [
    {
     "data": {
      "text/plain": [
       "0.8783147239315748"
      ]
     },
     "execution_count": 73,
     "metadata": {},
     "output_type": "execute_result"
    }
   ],
   "source": [
    "lr.score(X_test, y_test)"
   ]
  },
  {
   "cell_type": "code",
   "execution_count": 74,
   "id": "69b4e64e",
   "metadata": {},
   "outputs": [],
   "source": [
    "preds = lr.predict(X_train)"
   ]
  },
  {
   "cell_type": "code",
   "execution_count": 75,
   "id": "c44459ee",
   "metadata": {},
   "outputs": [
    {
     "data": {
      "text/plain": [
       "0.886750361242026"
      ]
     },
     "execution_count": 75,
     "metadata": {},
     "output_type": "execute_result"
    }
   ],
   "source": [
    "metrics.r2_score(y_train, preds)"
   ]
  },
  {
   "cell_type": "code",
   "execution_count": 76,
   "id": "d5911e64",
   "metadata": {},
   "outputs": [
    {
     "data": {
      "text/plain": [
       "716249630.996086"
      ]
     },
     "execution_count": 76,
     "metadata": {},
     "output_type": "execute_result"
    }
   ],
   "source": [
    "metrics.mean_squared_error(y_train, preds)"
   ]
  },
  {
   "cell_type": "code",
   "execution_count": 77,
   "id": "bc14c34c",
   "metadata": {},
   "outputs": [
    {
     "data": {
      "text/plain": [
       "26762.840488185964"
      ]
     },
     "execution_count": 77,
     "metadata": {},
     "output_type": "execute_result"
    }
   ],
   "source": [
    "metrics.mean_squared_error(y_train, preds, squared=False)"
   ]
  },
  {
   "cell_type": "code",
   "execution_count": 78,
   "id": "4b928aab",
   "metadata": {},
   "outputs": [
    {
     "data": {
      "text/plain": [
       "0.8826266387248779"
      ]
     },
     "execution_count": 78,
     "metadata": {},
     "output_type": "execute_result"
    }
   ],
   "source": [
    "r2adj(lr, X_train, y_train)"
   ]
  },
  {
   "cell_type": "code",
   "execution_count": 79,
   "id": "53674b7d",
   "metadata": {},
   "outputs": [
    {
     "data": {
      "text/plain": [
       "18914.484052203057"
      ]
     },
     "execution_count": 79,
     "metadata": {},
     "output_type": "execute_result"
    }
   ],
   "source": [
    "metrics.mean_absolute_error(y_train, preds)"
   ]
  },
  {
   "cell_type": "code",
   "execution_count": 80,
   "id": "837d3223",
   "metadata": {},
   "outputs": [],
   "source": [
    "preds = lr.predict(X_test)"
   ]
  },
  {
   "cell_type": "code",
   "execution_count": 81,
   "id": "5ed9f68e",
   "metadata": {},
   "outputs": [
    {
     "data": {
      "text/plain": [
       "0.8783147239315748"
      ]
     },
     "execution_count": 81,
     "metadata": {},
     "output_type": "execute_result"
    }
   ],
   "source": [
    "metrics.r2_score(y_test, preds)"
   ]
  },
  {
   "cell_type": "code",
   "execution_count": 82,
   "id": "558f4e74",
   "metadata": {},
   "outputs": [],
   "source": [
    "residuals = y_test - preds"
   ]
  },
  {
   "cell_type": "code",
   "execution_count": 86,
   "id": "e28bfef1",
   "metadata": {},
   "outputs": [
    {
     "data": {
      "image/png": "[encoded data removed]",
      "text/plain": [
       "<Figure size 720x432 with 1 Axes>"
      ]
     },
     "metadata": {
      "needs_background": "light"
     },
     "output_type": "display_data"
    }
   ],
   "source": [
    "plt.figure(figsize=(10,6))\n",
    "residuals.hist(color='r', alpha=.5)\n",
    "plt.hist(x = preds, color='blue', alpha=.5)\n",
    "plt.hist(x = y_test, color='orange', alpha=.5)\n",
    "plt.legend(['red', 'blue', 'orange'])\n",
    "plt.title('Histogram of Residuals, Predictions, and SalePrice (Test)', fontsize = 16, fontweight = 'bold')\n",
    "plt.savefig('../graphs/hist_kagglemod', bbox_inches = 'tight')"
   ]
  },
  {
   "cell_type": "code",
   "execution_count": 87,
   "id": "bf54561d",
   "metadata": {},
   "outputs": [
    {
     "data": {
      "image/png": "[encoded data removed]",
      "text/plain": [
       "<Figure size 720x432 with 1 Axes>"
      ]
     },
     "metadata": {
      "needs_background": "light"
     },
     "output_type": "display_data"
    }
   ],
   "source": [
    "plt.figure(figsize=(10,6))\n",
    "plt.scatter(x=preds, y=residuals)\n",
    "plt.title('Predictions and Residuals (Test)', fontsize = 14, fontweight = 'bold')\n",
    "plt.axhline(0,color='r')\n",
    "plt.savefig('../graphs/preds_residuals_test_kagglemod', bbox_inches = 'tight')"
   ]
  },
  {
   "cell_type": "code",
   "execution_count": 88,
   "id": "15a8260c",
   "metadata": {},
   "outputs": [
    {
     "data": {
      "image/png": "[encoded data removed]",
      "text/plain": [
       "<Figure size 720x432 with 1 Axes>"
      ]
     },
     "metadata": {
      "needs_background": "light"
     },
     "output_type": "display_data"
    }
   ],
   "source": [
    "plt.figure(figsize=(10,6))\n",
    "plt.scatter(x=preds, y=y_test)\n",
    "plt.title('Predictions and SalePrice (Test)', fontsize = 14, fontweight = 'bold')\n",
    "plt.savefig('../graphs/preds_saleprice_test_kagglemod', bbox_inches='tight')"
   ]
  },
  {
   "cell_type": "code",
   "execution_count": 226,
   "id": "caf48afd",
   "metadata": {},
   "outputs": [
    {
     "data": {
      "text/plain": [
       "(array([  5.,  37., 160., 141.,  72.,  39.,  24.,  15.,  10.,  10.]),\n",
       " array([ 12789. ,  57510.1, 102231.2, 146952.3, 191673.4, 236394.5,\n",
       "        281115.6, 325836.7, 370557.8, 415278.9, 460000. ]),\n",
       " <BarContainer object of 10 artists>)"
      ]
     },
     "execution_count": 226,
     "metadata": {},
     "output_type": "execute_result"
    },
    {
     "data": {
      "image/png": "[encoded data removed]",
      "text/plain": [
       "<Figure size 432x288 with 1 Axes>"
      ]
     },
     "metadata": {
      "needs_background": "light"
     },
     "output_type": "display_data"
    }
   ],
   "source": [
    "plt.hist(preds, color='r', alpha=.5)\n",
    "plt.hist(y_test, color = 'blue', alpha=.5)"
   ]
  },
  {
   "cell_type": "markdown",
   "id": "8bd5f7d0",
   "metadata": {},
   "source": [
    "## KAGGLE SUBMISSION"
   ]
  },
  {
   "cell_type": "code",
   "execution_count": 227,
   "id": "b89a860f",
   "metadata": {},
   "outputs": [],
   "source": [
    "features = ['Overall_Qual', 'Exter_Qual', 'Gr_Liv_Area', 'Kitchen_Qual', 'Garage_Area', 'Garage_Cars',\n",
    "           'Total_Bsmt_SF', '1st_Flr_SF', 'Bsmt_Qual']\n",
    "X = testdice[features]\n",
    "\n",
    "poly = PolynomialFeatures(include_bias = False)\n",
    "poly.fit(X)\n",
    "\n",
    "X_poly = poly.transform(X)\n",
    "X_poly\n",
    "\n",
    "features = poly.get_feature_names(features)\n",
    "\n",
    "polykg2df = pd.DataFrame(X_poly, columns = features)\n",
    "\n",
    "polykg2df['ID'] = testdice['Id']\n",
    "\n",
    "X = polykg2df[features]\n",
    "\n",
    "\n",
    "\n",
    "preds = lr.predict(X)\n",
    "polykg2df['SalePrice'] = preds"
   ]
  },
  {
   "cell_type": "code",
   "execution_count": 228,
   "id": "bb1a631b",
   "metadata": {},
   "outputs": [
    {
     "data": {
      "text/html": [
       "<div>\n",
       "<style scoped>\n",
       "    .dataframe tbody tr th:only-of-type {\n",
       "        vertical-align: middle;\n",
       "    }\n",
       "\n",
       "    .dataframe tbody tr th {\n",
       "        vertical-align: top;\n",
       "    }\n",
       "\n",
       "    .dataframe thead th {\n",
       "        text-align: right;\n",
       "    }\n",
       "</style>\n",
       "<table border=\"1\" class=\"dataframe\">\n",
       "  <thead>\n",
       "    <tr style=\"text-align: right;\">\n",
       "      <th></th>\n",
       "      <th>Overall_Qual</th>\n",
       "      <th>Exter_Qual</th>\n",
       "      <th>Gr_Liv_Area</th>\n",
       "      <th>Kitchen_Qual</th>\n",
       "      <th>Garage_Area</th>\n",
       "      <th>Garage_Cars</th>\n",
       "      <th>Total_Bsmt_SF</th>\n",
       "      <th>1st_Flr_SF</th>\n",
       "      <th>Bsmt_Qual</th>\n",
       "      <th>Overall_Qual^2</th>\n",
       "      <th>...</th>\n",
       "      <th>Garage_Cars 1st_Flr_SF</th>\n",
       "      <th>Garage_Cars Bsmt_Qual</th>\n",
       "      <th>Total_Bsmt_SF^2</th>\n",
       "      <th>Total_Bsmt_SF 1st_Flr_SF</th>\n",
       "      <th>Total_Bsmt_SF Bsmt_Qual</th>\n",
       "      <th>1st_Flr_SF^2</th>\n",
       "      <th>1st_Flr_SF Bsmt_Qual</th>\n",
       "      <th>Bsmt_Qual^2</th>\n",
       "      <th>ID</th>\n",
       "      <th>SalePrice</th>\n",
       "    </tr>\n",
       "  </thead>\n",
       "  <tbody>\n",
       "    <tr>\n",
       "      <th>0</th>\n",
       "      <td>6.0</td>\n",
       "      <td>3.0</td>\n",
       "      <td>1928.0</td>\n",
       "      <td>1.0</td>\n",
       "      <td>440.0</td>\n",
       "      <td>1.0</td>\n",
       "      <td>1020.0</td>\n",
       "      <td>908.0</td>\n",
       "      <td>2.0</td>\n",
       "      <td>36.0</td>\n",
       "      <td>...</td>\n",
       "      <td>908.0</td>\n",
       "      <td>2.0</td>\n",
       "      <td>1040400.0</td>\n",
       "      <td>926160.0</td>\n",
       "      <td>2040.0</td>\n",
       "      <td>824464.0</td>\n",
       "      <td>1816.0</td>\n",
       "      <td>4.0</td>\n",
       "      <td>2658</td>\n",
       "      <td>142320.669958</td>\n",
       "    </tr>\n",
       "    <tr>\n",
       "      <th>1</th>\n",
       "      <td>5.0</td>\n",
       "      <td>3.0</td>\n",
       "      <td>1967.0</td>\n",
       "      <td>2.0</td>\n",
       "      <td>580.0</td>\n",
       "      <td>2.0</td>\n",
       "      <td>1967.0</td>\n",
       "      <td>1967.0</td>\n",
       "      <td>4.0</td>\n",
       "      <td>25.0</td>\n",
       "      <td>...</td>\n",
       "      <td>3934.0</td>\n",
       "      <td>8.0</td>\n",
       "      <td>3869089.0</td>\n",
       "      <td>3869089.0</td>\n",
       "      <td>7868.0</td>\n",
       "      <td>3869089.0</td>\n",
       "      <td>7868.0</td>\n",
       "      <td>16.0</td>\n",
       "      <td>2718</td>\n",
       "      <td>171394.000513</td>\n",
       "    </tr>\n",
       "  </tbody>\n",
       "</table>\n",
       "<p>2 rows × 56 columns</p>\n",
       "</div>"
      ],
      "text/plain": [
       "   Overall_Qual  Exter_Qual  Gr_Liv_Area  Kitchen_Qual  Garage_Area  \\\n",
       "0           6.0         3.0       1928.0           1.0        440.0   \n",
       "1           5.0         3.0       1967.0           2.0        580.0   \n",
       "\n",
       "   Garage_Cars  Total_Bsmt_SF  1st_Flr_SF  Bsmt_Qual  Overall_Qual^2  ...  \\\n",
       "0          1.0         1020.0       908.0        2.0            36.0  ...   \n",
       "1          2.0         1967.0      1967.0        4.0            25.0  ...   \n",
       "\n",
       "   Garage_Cars 1st_Flr_SF  Garage_Cars Bsmt_Qual  Total_Bsmt_SF^2  \\\n",
       "0                   908.0                    2.0        1040400.0   \n",
       "1                  3934.0                    8.0        3869089.0   \n",
       "\n",
       "   Total_Bsmt_SF 1st_Flr_SF  Total_Bsmt_SF Bsmt_Qual  1st_Flr_SF^2  \\\n",
       "0                  926160.0                   2040.0      824464.0   \n",
       "1                 3869089.0                   7868.0     3869089.0   \n",
       "\n",
       "   1st_Flr_SF Bsmt_Qual  Bsmt_Qual^2    ID      SalePrice  \n",
       "0                1816.0          4.0  2658  142320.669958  \n",
       "1                7868.0         16.0  2718  171394.000513  \n",
       "\n",
       "[2 rows x 56 columns]"
      ]
     },
     "execution_count": 228,
     "metadata": {},
     "output_type": "execute_result"
    }
   ],
   "source": [
    "polykg2df.head(2)"
   ]
  },
  {
   "cell_type": "code",
   "execution_count": 229,
   "id": "5883af94",
   "metadata": {},
   "outputs": [],
   "source": [
    "polykg2df = polykg2df[['ID', 'SalePrice']]"
   ]
  },
  {
   "cell_type": "code",
   "execution_count": 230,
   "id": "7e4408b3",
   "metadata": {},
   "outputs": [
    {
     "data": {
      "text/html": [
       "<div>\n",
       "<style scoped>\n",
       "    .dataframe tbody tr th:only-of-type {\n",
       "        vertical-align: middle;\n",
       "    }\n",
       "\n",
       "    .dataframe tbody tr th {\n",
       "        vertical-align: top;\n",
       "    }\n",
       "\n",
       "    .dataframe thead th {\n",
       "        text-align: right;\n",
       "    }\n",
       "</style>\n",
       "<table border=\"1\" class=\"dataframe\">\n",
       "  <thead>\n",
       "    <tr style=\"text-align: right;\">\n",
       "      <th></th>\n",
       "      <th>Id</th>\n",
       "      <th>SalePrice</th>\n",
       "    </tr>\n",
       "  </thead>\n",
       "  <tbody>\n",
       "    <tr>\n",
       "      <th>0</th>\n",
       "      <td>2658</td>\n",
       "      <td>131125.289025</td>\n",
       "    </tr>\n",
       "    <tr>\n",
       "      <th>1</th>\n",
       "      <td>2718</td>\n",
       "      <td>196565.578273</td>\n",
       "    </tr>\n",
       "  </tbody>\n",
       "</table>\n",
       "</div>"
      ],
      "text/plain": [
       "     Id      SalePrice\n",
       "0  2658  131125.289025\n",
       "1  2718  196565.578273"
      ]
     },
     "execution_count": 230,
     "metadata": {},
     "output_type": "execute_result"
    }
   ],
   "source": [
    "kagglesub1.head(2)"
   ]
  },
  {
   "cell_type": "code",
   "execution_count": 231,
   "id": "d4efe034",
   "metadata": {},
   "outputs": [],
   "source": [
    "polykg2df.to_csv('../kaggle_submissions/kagglepoly1.csv', index=False)"
   ]
  },
  {
   "cell_type": "markdown",
   "id": "071a9fdc",
   "metadata": {},
   "source": [
    "## CREATION OF LASSO AND RIDGE MODELS"
   ]
  },
  {
   "cell_type": "markdown",
   "id": "95b5c968",
   "metadata": {},
   "source": [
    "#### SCALING THE DATA FIRST PRIOR TO RIDGE USE"
   ]
  },
  {
   "cell_type": "code",
   "execution_count": 232,
   "id": "fc891500",
   "metadata": {},
   "outputs": [],
   "source": [
    "sc = StandardScaler()\n",
    "sc.fit(X_train)\n",
    "Z_train = sc.transform(X_train)\n",
    "Z_test = sc.transform(X_test)"
   ]
  },
  {
   "cell_type": "code",
   "execution_count": 233,
   "id": "0cf52bf4",
   "metadata": {},
   "outputs": [
    {
     "name": "stdout",
     "output_type": "stream",
     "text": [
      "Z_train shape is: (1538, 54)\n",
      "y_train shape is: (1538,)\n",
      "Z_test shape is: (513, 54)\n",
      "y_test shape is: (513,)\n"
     ]
    }
   ],
   "source": [
    "print(f'Z_train shape is: {Z_train.shape}')\n",
    "print(f'y_train shape is: {y_train.shape}')\n",
    "print(f'Z_test shape is: {Z_test.shape}')\n",
    "print(f'y_test shape is: {y_test.shape}')"
   ]
  },
  {
   "cell_type": "code",
   "execution_count": 234,
   "id": "2fd51fe7",
   "metadata": {},
   "outputs": [
    {
     "data": {
      "text/plain": [
       "LinearRegression()"
      ]
     },
     "execution_count": 234,
     "metadata": {},
     "output_type": "execute_result"
    }
   ],
   "source": [
    "ols = LinearRegression()\n",
    "ols.fit(Z_train, y_train)"
   ]
  },
  {
   "cell_type": "code",
   "execution_count": 235,
   "id": "1a95a051",
   "metadata": {},
   "outputs": [
    {
     "data": {
      "text/plain": [
       "(0.886750361242026, 0.8783147239536746)"
      ]
     },
     "execution_count": 235,
     "metadata": {},
     "output_type": "execute_result"
    }
   ],
   "source": [
    "ols.score(Z_train, y_train), ols.score(Z_test, y_test)"
   ]
  },
  {
   "cell_type": "code",
   "execution_count": 236,
   "id": "a8f3750d",
   "metadata": {},
   "outputs": [
    {
     "data": {
      "text/plain": [
       "35384530830.4194"
      ]
     },
     "execution_count": 236,
     "metadata": {},
     "output_type": "execute_result"
    }
   ],
   "source": [
    "(ols.coef_ ** 2).sum()"
   ]
  },
  {
   "cell_type": "markdown",
   "id": "3232a399",
   "metadata": {},
   "source": [
    "### RIDGE USE"
   ]
  },
  {
   "cell_type": "code",
   "execution_count": 237,
   "id": "34bf3971",
   "metadata": {},
   "outputs": [
    {
     "data": {
      "text/plain": [
       "(0.8807049114239573, 0.8920914767852388)"
      ]
     },
     "execution_count": 237,
     "metadata": {},
     "output_type": "execute_result"
    }
   ],
   "source": [
    "# Instantiate.\n",
    "ridge = Ridge(alpha=16.0)\n",
    "# Fit.\n",
    "ridge.fit(Z_train, y_train)\n",
    "# Evaluate model using R2.\n",
    "ridge.score(Z_train, y_train), ridge.score(Z_test, y_test)"
   ]
  },
  {
   "cell_type": "code",
   "execution_count": 238,
   "id": "da5ace66",
   "metadata": {},
   "outputs": [],
   "source": [
    "# Set up a list of ridge alphas to check.\n",
    "# np.logspace generates 100 values equally between 0 and 5,\n",
    "# then converts them to alphas between 10^0 and 10^5.\n",
    "alphas = np.logspace(0, 5, 100)\n",
    "# Cross-validate over our list of ridge alphas.\n",
    "ridge_cv = RidgeCV(alphas=alphas, cv=5)\n",
    "\n",
    "# Fit model using best ridge alpha!\n",
    "ridge_cv.fit(Z_train, y_train);"
   ]
  },
  {
   "cell_type": "code",
   "execution_count": 239,
   "id": "b753c9bf",
   "metadata": {},
   "outputs": [
    {
     "data": {
      "text/plain": [
       "14.508287784959395"
      ]
     },
     "execution_count": 239,
     "metadata": {},
     "output_type": "execute_result"
    }
   ],
   "source": [
    "ridge_cv.alpha_"
   ]
  },
  {
   "cell_type": "code",
   "execution_count": 240,
   "id": "d6202856",
   "metadata": {},
   "outputs": [
    {
     "data": {
      "text/plain": [
       "0.8625972919511259"
      ]
     },
     "execution_count": 240,
     "metadata": {},
     "output_type": "execute_result"
    }
   ],
   "source": [
    "ridge_cv.best_score_"
   ]
  },
  {
   "cell_type": "code",
   "execution_count": 241,
   "id": "6aa2ba0b",
   "metadata": {},
   "outputs": [
    {
     "data": {
      "text/plain": [
       "(0.8810505145499433, 0.8919640149147664)"
      ]
     },
     "execution_count": 241,
     "metadata": {},
     "output_type": "execute_result"
    }
   ],
   "source": [
    "ridge_cv.score(Z_train, y_train), ridge_cv.score(Z_test, y_test)"
   ]
  },
  {
   "cell_type": "code",
   "execution_count": 242,
   "id": "f3d23cf0",
   "metadata": {},
   "outputs": [
    {
     "data": {
      "text/plain": [
       "(0.886750361242026, 0.8783147239536746)"
      ]
     },
     "execution_count": 242,
     "metadata": {},
     "output_type": "execute_result"
    }
   ],
   "source": [
    "ols.score(Z_train, y_train), ols.score(Z_test, y_test)"
   ]
  },
  {
   "cell_type": "markdown",
   "id": "4e3ce90c",
   "metadata": {},
   "source": [
    "### LASSO"
   ]
  },
  {
   "cell_type": "code",
   "execution_count": 243,
   "id": "34ed881c",
   "metadata": {},
   "outputs": [
    {
     "name": "stderr",
     "output_type": "stream",
     "text": [
      "/Users/adamklesc11/opt/anaconda3/lib/python3.8/site-packages/sklearn/linear_model/_coordinate_descent.py:526: ConvergenceWarning: Objective did not converge. You might want to increase the number of iterations. Duality gap: 425707459496.258, tolerance: 778133067.1215106\n",
      "  model = cd_fast.enet_coordinate_descent_gram(\n",
      "/Users/adamklesc11/opt/anaconda3/lib/python3.8/site-packages/sklearn/linear_model/_coordinate_descent.py:526: ConvergenceWarning: Objective did not converge. You might want to increase the number of iterations. Duality gap: 417148517694.06354, tolerance: 778133067.1215106\n",
      "  model = cd_fast.enet_coordinate_descent_gram(\n",
      "/Users/adamklesc11/opt/anaconda3/lib/python3.8/site-packages/sklearn/linear_model/_coordinate_descent.py:526: ConvergenceWarning: Objective did not converge. You might want to increase the number of iterations. Duality gap: 406208382845.34326, tolerance: 778133067.1215106\n",
      "  model = cd_fast.enet_coordinate_descent_gram(\n",
      "/Users/adamklesc11/opt/anaconda3/lib/python3.8/site-packages/sklearn/linear_model/_coordinate_descent.py:526: ConvergenceWarning: Objective did not converge. You might want to increase the number of iterations. Duality gap: 390043924603.95013, tolerance: 778133067.1215106\n",
      "  model = cd_fast.enet_coordinate_descent_gram(\n",
      "/Users/adamklesc11/opt/anaconda3/lib/python3.8/site-packages/sklearn/linear_model/_coordinate_descent.py:526: ConvergenceWarning: Objective did not converge. You might want to increase the number of iterations. Duality gap: 363699698842.9531, tolerance: 778133067.1215106\n",
      "  model = cd_fast.enet_coordinate_descent_gram(\n",
      "/Users/adamklesc11/opt/anaconda3/lib/python3.8/site-packages/sklearn/linear_model/_coordinate_descent.py:526: ConvergenceWarning: Objective did not converge. You might want to increase the number of iterations. Duality gap: 342325631757.6161, tolerance: 778133067.1215106\n",
      "  model = cd_fast.enet_coordinate_descent_gram(\n",
      "/Users/adamklesc11/opt/anaconda3/lib/python3.8/site-packages/sklearn/linear_model/_coordinate_descent.py:526: ConvergenceWarning: Objective did not converge. You might want to increase the number of iterations. Duality gap: 346548240528.6974, tolerance: 778133067.1215106\n",
      "  model = cd_fast.enet_coordinate_descent_gram(\n",
      "/Users/adamklesc11/opt/anaconda3/lib/python3.8/site-packages/sklearn/linear_model/_coordinate_descent.py:526: ConvergenceWarning: Objective did not converge. You might want to increase the number of iterations. Duality gap: 315230215609.99927, tolerance: 778133067.1215106\n",
      "  model = cd_fast.enet_coordinate_descent_gram(\n",
      "/Users/adamklesc11/opt/anaconda3/lib/python3.8/site-packages/sklearn/linear_model/_coordinate_descent.py:526: ConvergenceWarning: Objective did not converge. You might want to increase the number of iterations. Duality gap: 249231567318.53955, tolerance: 778133067.1215106\n",
      "  model = cd_fast.enet_coordinate_descent_gram(\n",
      "/Users/adamklesc11/opt/anaconda3/lib/python3.8/site-packages/sklearn/linear_model/_coordinate_descent.py:526: ConvergenceWarning: Objective did not converge. You might want to increase the number of iterations. Duality gap: 217382233157.8911, tolerance: 778133067.1215106\n",
      "  model = cd_fast.enet_coordinate_descent_gram(\n",
      "/Users/adamklesc11/opt/anaconda3/lib/python3.8/site-packages/sklearn/linear_model/_coordinate_descent.py:526: ConvergenceWarning: Objective did not converge. You might want to increase the number of iterations. Duality gap: 201940241337.2647, tolerance: 778133067.1215106\n",
      "  model = cd_fast.enet_coordinate_descent_gram(\n",
      "/Users/adamklesc11/opt/anaconda3/lib/python3.8/site-packages/sklearn/linear_model/_coordinate_descent.py:526: ConvergenceWarning: Objective did not converge. You might want to increase the number of iterations. Duality gap: 141814220755.29657, tolerance: 778133067.1215106\n",
      "  model = cd_fast.enet_coordinate_descent_gram(\n",
      "/Users/adamklesc11/opt/anaconda3/lib/python3.8/site-packages/sklearn/linear_model/_coordinate_descent.py:526: ConvergenceWarning: Objective did not converge. You might want to increase the number of iterations. Duality gap: 117019951119.96442, tolerance: 778133067.1215106\n",
      "  model = cd_fast.enet_coordinate_descent_gram(\n",
      "/Users/adamklesc11/opt/anaconda3/lib/python3.8/site-packages/sklearn/linear_model/_coordinate_descent.py:526: ConvergenceWarning: Objective did not converge. You might want to increase the number of iterations. Duality gap: 50391468735.70044, tolerance: 778133067.1215106\n",
      "  model = cd_fast.enet_coordinate_descent_gram(\n",
      "/Users/adamklesc11/opt/anaconda3/lib/python3.8/site-packages/sklearn/linear_model/_coordinate_descent.py:526: ConvergenceWarning: Objective did not converge. You might want to increase the number of iterations. Duality gap: 42449338508.58362, tolerance: 778133067.1215106\n",
      "  model = cd_fast.enet_coordinate_descent_gram(\n",
      "/Users/adamklesc11/opt/anaconda3/lib/python3.8/site-packages/sklearn/linear_model/_coordinate_descent.py:526: ConvergenceWarning: Objective did not converge. You might want to increase the number of iterations. Duality gap: 45784210778.42041, tolerance: 778133067.1215106\n",
      "  model = cd_fast.enet_coordinate_descent_gram(\n",
      "/Users/adamklesc11/opt/anaconda3/lib/python3.8/site-packages/sklearn/linear_model/_coordinate_descent.py:526: ConvergenceWarning: Objective did not converge. You might want to increase the number of iterations. Duality gap: 24123720004.540527, tolerance: 778133067.1215106\n",
      "  model = cd_fast.enet_coordinate_descent_gram(\n",
      "/Users/adamklesc11/opt/anaconda3/lib/python3.8/site-packages/sklearn/linear_model/_coordinate_descent.py:526: ConvergenceWarning: Objective did not converge. You might want to increase the number of iterations. Duality gap: 23298397777.2854, tolerance: 778133067.1215106\n",
      "  model = cd_fast.enet_coordinate_descent_gram(\n",
      "/Users/adamklesc11/opt/anaconda3/lib/python3.8/site-packages/sklearn/linear_model/_coordinate_descent.py:526: ConvergenceWarning: Objective did not converge. You might want to increase the number of iterations. Duality gap: 16092362768.00061, tolerance: 778133067.1215106\n",
      "  model = cd_fast.enet_coordinate_descent_gram(\n",
      "/Users/adamklesc11/opt/anaconda3/lib/python3.8/site-packages/sklearn/linear_model/_coordinate_descent.py:526: ConvergenceWarning: Objective did not converge. You might want to increase the number of iterations. Duality gap: 12768913206.221191, tolerance: 778133067.1215106\n",
      "  model = cd_fast.enet_coordinate_descent_gram(\n",
      "/Users/adamklesc11/opt/anaconda3/lib/python3.8/site-packages/sklearn/linear_model/_coordinate_descent.py:526: ConvergenceWarning: Objective did not converge. You might want to increase the number of iterations. Duality gap: 12104028117.491577, tolerance: 778133067.1215106\n",
      "  model = cd_fast.enet_coordinate_descent_gram(\n",
      "/Users/adamklesc11/opt/anaconda3/lib/python3.8/site-packages/sklearn/linear_model/_coordinate_descent.py:526: ConvergenceWarning: Objective did not converge. You might want to increase the number of iterations. Duality gap: 11736801228.034546, tolerance: 778133067.1215106\n",
      "  model = cd_fast.enet_coordinate_descent_gram(\n",
      "/Users/adamklesc11/opt/anaconda3/lib/python3.8/site-packages/sklearn/linear_model/_coordinate_descent.py:526: ConvergenceWarning: Objective did not converge. You might want to increase the number of iterations. Duality gap: 11356613312.490967, tolerance: 778133067.1215106\n",
      "  model = cd_fast.enet_coordinate_descent_gram(\n",
      "/Users/adamklesc11/opt/anaconda3/lib/python3.8/site-packages/sklearn/linear_model/_coordinate_descent.py:526: ConvergenceWarning: Objective did not converge. You might want to increase the number of iterations. Duality gap: 11133356429.376465, tolerance: 778133067.1215106\n",
      "  model = cd_fast.enet_coordinate_descent_gram(\n",
      "/Users/adamklesc11/opt/anaconda3/lib/python3.8/site-packages/sklearn/linear_model/_coordinate_descent.py:526: ConvergenceWarning: Objective did not converge. You might want to increase the number of iterations. Duality gap: 11085589985.359497, tolerance: 778133067.1215106\n",
      "  model = cd_fast.enet_coordinate_descent_gram(\n",
      "/Users/adamklesc11/opt/anaconda3/lib/python3.8/site-packages/sklearn/linear_model/_coordinate_descent.py:526: ConvergenceWarning: Objective did not converge. You might want to increase the number of iterations. Duality gap: 11147789428.868774, tolerance: 778133067.1215106\n",
      "  model = cd_fast.enet_coordinate_descent_gram(\n",
      "/Users/adamklesc11/opt/anaconda3/lib/python3.8/site-packages/sklearn/linear_model/_coordinate_descent.py:526: ConvergenceWarning: Objective did not converge. You might want to increase the number of iterations. Duality gap: 11238954656.294067, tolerance: 778133067.1215106\n",
      "  model = cd_fast.enet_coordinate_descent_gram(\n",
      "/Users/adamklesc11/opt/anaconda3/lib/python3.8/site-packages/sklearn/linear_model/_coordinate_descent.py:526: ConvergenceWarning: Objective did not converge. You might want to increase the number of iterations. Duality gap: 11304506840.082031, tolerance: 778133067.1215106\n",
      "  model = cd_fast.enet_coordinate_descent_gram(\n",
      "/Users/adamklesc11/opt/anaconda3/lib/python3.8/site-packages/sklearn/linear_model/_coordinate_descent.py:526: ConvergenceWarning: Objective did not converge. You might want to increase the number of iterations. Duality gap: 11327237460.854004, tolerance: 778133067.1215106\n",
      "  model = cd_fast.enet_coordinate_descent_gram(\n",
      "/Users/adamklesc11/opt/anaconda3/lib/python3.8/site-packages/sklearn/linear_model/_coordinate_descent.py:526: ConvergenceWarning: Objective did not converge. You might want to increase the number of iterations. Duality gap: 11316929460.864136, tolerance: 778133067.1215106\n",
      "  model = cd_fast.enet_coordinate_descent_gram(\n",
      "/Users/adamklesc11/opt/anaconda3/lib/python3.8/site-packages/sklearn/linear_model/_coordinate_descent.py:526: ConvergenceWarning: Objective did not converge. You might want to increase the number of iterations. Duality gap: 11293117804.750977, tolerance: 778133067.1215106\n",
      "  model = cd_fast.enet_coordinate_descent_gram(\n",
      "/Users/adamklesc11/opt/anaconda3/lib/python3.8/site-packages/sklearn/linear_model/_coordinate_descent.py:526: ConvergenceWarning: Objective did not converge. You might want to increase the number of iterations. Duality gap: 11271846755.163574, tolerance: 778133067.1215106\n",
      "  model = cd_fast.enet_coordinate_descent_gram(\n",
      "/Users/adamklesc11/opt/anaconda3/lib/python3.8/site-packages/sklearn/linear_model/_coordinate_descent.py:526: ConvergenceWarning: Objective did not converge. You might want to increase the number of iterations. Duality gap: 11260365347.77417, tolerance: 778133067.1215106\n",
      "  model = cd_fast.enet_coordinate_descent_gram(\n",
      "/Users/adamklesc11/opt/anaconda3/lib/python3.8/site-packages/sklearn/linear_model/_coordinate_descent.py:526: ConvergenceWarning: Objective did not converge. You might want to increase the number of iterations. Duality gap: 11258221992.416138, tolerance: 778133067.1215106\n",
      "  model = cd_fast.enet_coordinate_descent_gram(\n"
     ]
    },
    {
     "name": "stderr",
     "output_type": "stream",
     "text": [
      "/Users/adamklesc11/opt/anaconda3/lib/python3.8/site-packages/sklearn/linear_model/_coordinate_descent.py:526: ConvergenceWarning: Objective did not converge. You might want to increase the number of iterations. Duality gap: 11261178077.80835, tolerance: 778133067.1215106\n",
      "  model = cd_fast.enet_coordinate_descent_gram(\n",
      "/Users/adamklesc11/opt/anaconda3/lib/python3.8/site-packages/sklearn/linear_model/_coordinate_descent.py:526: ConvergenceWarning: Objective did not converge. You might want to increase the number of iterations. Duality gap: 11264866724.649902, tolerance: 778133067.1215106\n",
      "  model = cd_fast.enet_coordinate_descent_gram(\n",
      "/Users/adamklesc11/opt/anaconda3/lib/python3.8/site-packages/sklearn/linear_model/_coordinate_descent.py:526: ConvergenceWarning: Objective did not converge. You might want to increase the number of iterations. Duality gap: 11266754266.248413, tolerance: 778133067.1215106\n",
      "  model = cd_fast.enet_coordinate_descent_gram(\n",
      "/Users/adamklesc11/opt/anaconda3/lib/python3.8/site-packages/sklearn/linear_model/_coordinate_descent.py:526: ConvergenceWarning: Objective did not converge. You might want to increase the number of iterations. Duality gap: 11266342840.578125, tolerance: 778133067.1215106\n",
      "  model = cd_fast.enet_coordinate_descent_gram(\n",
      "/Users/adamklesc11/opt/anaconda3/lib/python3.8/site-packages/sklearn/linear_model/_coordinate_descent.py:526: ConvergenceWarning: Objective did not converge. You might want to increase the number of iterations. Duality gap: 11264418804.834229, tolerance: 778133067.1215106\n",
      "  model = cd_fast.enet_coordinate_descent_gram(\n",
      "/Users/adamklesc11/opt/anaconda3/lib/python3.8/site-packages/sklearn/linear_model/_coordinate_descent.py:526: ConvergenceWarning: Objective did not converge. You might want to increase the number of iterations. Duality gap: 11262070049.84143, tolerance: 778133067.1215106\n",
      "  model = cd_fast.enet_coordinate_descent_gram(\n",
      "/Users/adamklesc11/opt/anaconda3/lib/python3.8/site-packages/sklearn/linear_model/_coordinate_descent.py:526: ConvergenceWarning: Objective did not converge. You might want to increase the number of iterations. Duality gap: 11260084607.040283, tolerance: 778133067.1215106\n",
      "  model = cd_fast.enet_coordinate_descent_gram(\n",
      "/Users/adamklesc11/opt/anaconda3/lib/python3.8/site-packages/sklearn/linear_model/_coordinate_descent.py:526: ConvergenceWarning: Objective did not converge. You might want to increase the number of iterations. Duality gap: 11258736429.352661, tolerance: 778133067.1215106\n",
      "  model = cd_fast.enet_coordinate_descent_gram(\n",
      "/Users/adamklesc11/opt/anaconda3/lib/python3.8/site-packages/sklearn/linear_model/_coordinate_descent.py:526: ConvergenceWarning: Objective did not converge. You might want to increase the number of iterations. Duality gap: 11257926216.089355, tolerance: 778133067.1215106\n",
      "  model = cd_fast.enet_coordinate_descent_gram(\n",
      "/Users/adamklesc11/opt/anaconda3/lib/python3.8/site-packages/sklearn/linear_model/_coordinate_descent.py:526: ConvergenceWarning: Objective did not converge. You might want to increase the number of iterations. Duality gap: 11257381849.158203, tolerance: 778133067.1215106\n",
      "  model = cd_fast.enet_coordinate_descent_gram(\n",
      "/Users/adamklesc11/opt/anaconda3/lib/python3.8/site-packages/sklearn/linear_model/_coordinate_descent.py:526: ConvergenceWarning: Objective did not converge. You might want to increase the number of iterations. Duality gap: 11256889368.951294, tolerance: 778133067.1215106\n",
      "  model = cd_fast.enet_coordinate_descent_gram(\n",
      "/Users/adamklesc11/opt/anaconda3/lib/python3.8/site-packages/sklearn/linear_model/_coordinate_descent.py:526: ConvergenceWarning: Objective did not converge. You might want to increase the number of iterations. Duality gap: 11256318268.251709, tolerance: 778133067.1215106\n",
      "  model = cd_fast.enet_coordinate_descent_gram(\n",
      "/Users/adamklesc11/opt/anaconda3/lib/python3.8/site-packages/sklearn/linear_model/_coordinate_descent.py:526: ConvergenceWarning: Objective did not converge. You might want to increase the number of iterations. Duality gap: 11255667803.640625, tolerance: 778133067.1215106\n",
      "  model = cd_fast.enet_coordinate_descent_gram(\n",
      "/Users/adamklesc11/opt/anaconda3/lib/python3.8/site-packages/sklearn/linear_model/_coordinate_descent.py:526: ConvergenceWarning: Objective did not converge. You might want to increase the number of iterations. Duality gap: 11254988539.681152, tolerance: 778133067.1215106\n",
      "  model = cd_fast.enet_coordinate_descent_gram(\n",
      "/Users/adamklesc11/opt/anaconda3/lib/python3.8/site-packages/sklearn/linear_model/_coordinate_descent.py:526: ConvergenceWarning: Objective did not converge. You might want to increase the number of iterations. Duality gap: 11254333205.808838, tolerance: 778133067.1215106\n",
      "  model = cd_fast.enet_coordinate_descent_gram(\n",
      "/Users/adamklesc11/opt/anaconda3/lib/python3.8/site-packages/sklearn/linear_model/_coordinate_descent.py:526: ConvergenceWarning: Objective did not converge. You might want to increase the number of iterations. Duality gap: 11253744301.823242, tolerance: 778133067.1215106\n",
      "  model = cd_fast.enet_coordinate_descent_gram(\n",
      "/Users/adamklesc11/opt/anaconda3/lib/python3.8/site-packages/sklearn/linear_model/_coordinate_descent.py:526: ConvergenceWarning: Objective did not converge. You might want to increase the number of iterations. Duality gap: 11253221786.973022, tolerance: 778133067.1215106\n",
      "  model = cd_fast.enet_coordinate_descent_gram(\n",
      "/Users/adamklesc11/opt/anaconda3/lib/python3.8/site-packages/sklearn/linear_model/_coordinate_descent.py:526: ConvergenceWarning: Objective did not converge. You might want to increase the number of iterations. Duality gap: 11252767989.826172, tolerance: 778133067.1215106\n",
      "  model = cd_fast.enet_coordinate_descent_gram(\n",
      "/Users/adamklesc11/opt/anaconda3/lib/python3.8/site-packages/sklearn/linear_model/_coordinate_descent.py:526: ConvergenceWarning: Objective did not converge. You might want to increase the number of iterations. Duality gap: 11252338468.051025, tolerance: 778133067.1215106\n",
      "  model = cd_fast.enet_coordinate_descent_gram(\n",
      "/Users/adamklesc11/opt/anaconda3/lib/python3.8/site-packages/sklearn/linear_model/_coordinate_descent.py:526: ConvergenceWarning: Objective did not converge. You might want to increase the number of iterations. Duality gap: 11251943350.436035, tolerance: 778133067.1215106\n",
      "  model = cd_fast.enet_coordinate_descent_gram(\n",
      "/Users/adamklesc11/opt/anaconda3/lib/python3.8/site-packages/sklearn/linear_model/_coordinate_descent.py:526: ConvergenceWarning: Objective did not converge. You might want to increase the number of iterations. Duality gap: 11251557506.924683, tolerance: 778133067.1215106\n",
      "  model = cd_fast.enet_coordinate_descent_gram(\n",
      "/Users/adamklesc11/opt/anaconda3/lib/python3.8/site-packages/sklearn/linear_model/_coordinate_descent.py:526: ConvergenceWarning: Objective did not converge. You might want to increase the number of iterations. Duality gap: 11251211483.739136, tolerance: 778133067.1215106\n",
      "  model = cd_fast.enet_coordinate_descent_gram(\n",
      "/Users/adamklesc11/opt/anaconda3/lib/python3.8/site-packages/sklearn/linear_model/_coordinate_descent.py:526: ConvergenceWarning: Objective did not converge. You might want to increase the number of iterations. Duality gap: 11250868113.063477, tolerance: 778133067.1215106\n",
      "  model = cd_fast.enet_coordinate_descent_gram(\n",
      "/Users/adamklesc11/opt/anaconda3/lib/python3.8/site-packages/sklearn/linear_model/_coordinate_descent.py:526: ConvergenceWarning: Objective did not converge. You might want to increase the number of iterations. Duality gap: 11250567515.797241, tolerance: 778133067.1215106\n",
      "  model = cd_fast.enet_coordinate_descent_gram(\n",
      "/Users/adamklesc11/opt/anaconda3/lib/python3.8/site-packages/sklearn/linear_model/_coordinate_descent.py:526: ConvergenceWarning: Objective did not converge. You might want to increase the number of iterations. Duality gap: 11250259462.831055, tolerance: 778133067.1215106\n",
      "  model = cd_fast.enet_coordinate_descent_gram(\n",
      "/Users/adamklesc11/opt/anaconda3/lib/python3.8/site-packages/sklearn/linear_model/_coordinate_descent.py:526: ConvergenceWarning: Objective did not converge. You might want to increase the number of iterations. Duality gap: 11249993226.155518, tolerance: 778133067.1215106\n",
      "  model = cd_fast.enet_coordinate_descent_gram(\n",
      "/Users/adamklesc11/opt/anaconda3/lib/python3.8/site-packages/sklearn/linear_model/_coordinate_descent.py:526: ConvergenceWarning: Objective did not converge. You might want to increase the number of iterations. Duality gap: 11249749199.243042, tolerance: 778133067.1215106\n",
      "  model = cd_fast.enet_coordinate_descent_gram(\n",
      "/Users/adamklesc11/opt/anaconda3/lib/python3.8/site-packages/sklearn/linear_model/_coordinate_descent.py:526: ConvergenceWarning: Objective did not converge. You might want to increase the number of iterations. Duality gap: 11249491962.82837, tolerance: 778133067.1215106\n",
      "  model = cd_fast.enet_coordinate_descent_gram(\n",
      "/Users/adamklesc11/opt/anaconda3/lib/python3.8/site-packages/sklearn/linear_model/_coordinate_descent.py:526: ConvergenceWarning: Objective did not converge. You might want to increase the number of iterations. Duality gap: 11249303747.328491, tolerance: 778133067.1215106\n",
      "  model = cd_fast.enet_coordinate_descent_gram(\n",
      "/Users/adamklesc11/opt/anaconda3/lib/python3.8/site-packages/sklearn/linear_model/_coordinate_descent.py:526: ConvergenceWarning: Objective did not converge. You might want to increase the number of iterations. Duality gap: 11249078359.405273, tolerance: 778133067.1215106\n",
      "  model = cd_fast.enet_coordinate_descent_gram(\n",
      "/Users/adamklesc11/opt/anaconda3/lib/python3.8/site-packages/sklearn/linear_model/_coordinate_descent.py:526: ConvergenceWarning: Objective did not converge. You might want to increase the number of iterations. Duality gap: 11248897688.937012, tolerance: 778133067.1215106\n",
      "  model = cd_fast.enet_coordinate_descent_gram(\n",
      "/Users/adamklesc11/opt/anaconda3/lib/python3.8/site-packages/sklearn/linear_model/_coordinate_descent.py:526: ConvergenceWarning: Objective did not converge. You might want to increase the number of iterations. Duality gap: 11248718722.747314, tolerance: 778133067.1215106\n",
      "  model = cd_fast.enet_coordinate_descent_gram(\n",
      "/Users/adamklesc11/opt/anaconda3/lib/python3.8/site-packages/sklearn/linear_model/_coordinate_descent.py:526: ConvergenceWarning: Objective did not converge. You might want to increase the number of iterations. Duality gap: 11248558380.312744, tolerance: 778133067.1215106\n",
      "  model = cd_fast.enet_coordinate_descent_gram(\n",
      "/Users/adamklesc11/opt/anaconda3/lib/python3.8/site-packages/sklearn/linear_model/_coordinate_descent.py:526: ConvergenceWarning: Objective did not converge. You might want to increase the number of iterations. Duality gap: 11248382026.774658, tolerance: 778133067.1215106\n",
      "  model = cd_fast.enet_coordinate_descent_gram(\n",
      "/Users/adamklesc11/opt/anaconda3/lib/python3.8/site-packages/sklearn/linear_model/_coordinate_descent.py:526: ConvergenceWarning: Objective did not converge. You might want to increase the number of iterations. Duality gap: 11248278389.505615, tolerance: 778133067.1215106\n",
      "  model = cd_fast.enet_coordinate_descent_gram(\n",
      "/Users/adamklesc11/opt/anaconda3/lib/python3.8/site-packages/sklearn/linear_model/_coordinate_descent.py:526: ConvergenceWarning: Objective did not converge. You might want to increase the number of iterations. Duality gap: 11248096858.574219, tolerance: 778133067.1215106\n",
      "  model = cd_fast.enet_coordinate_descent_gram(\n",
      "/Users/adamklesc11/opt/anaconda3/lib/python3.8/site-packages/sklearn/linear_model/_coordinate_descent.py:526: ConvergenceWarning: Objective did not converge. You might want to increase the number of iterations. Duality gap: 11247954781.306152, tolerance: 778133067.1215106\n",
      "  model = cd_fast.enet_coordinate_descent_gram(\n",
      "/Users/adamklesc11/opt/anaconda3/lib/python3.8/site-packages/sklearn/linear_model/_coordinate_descent.py:526: ConvergenceWarning: Objective did not converge. You might want to increase the number of iterations. Duality gap: 11247864281.10376, tolerance: 778133067.1215106\n",
      "  model = cd_fast.enet_coordinate_descent_gram(\n",
      "/Users/adamklesc11/opt/anaconda3/lib/python3.8/site-packages/sklearn/linear_model/_coordinate_descent.py:526: ConvergenceWarning: Objective did not converge. You might want to increase the number of iterations. Duality gap: 11247767441.622192, tolerance: 778133067.1215106\n",
      "  model = cd_fast.enet_coordinate_descent_gram(\n",
      "/Users/adamklesc11/opt/anaconda3/lib/python3.8/site-packages/sklearn/linear_model/_coordinate_descent.py:526: ConvergenceWarning: Objective did not converge. You might want to increase the number of iterations. Duality gap: 11247678348.826904, tolerance: 778133067.1215106\n",
      "  model = cd_fast.enet_coordinate_descent_gram(\n",
      "/Users/adamklesc11/opt/anaconda3/lib/python3.8/site-packages/sklearn/linear_model/_coordinate_descent.py:526: ConvergenceWarning: Objective did not converge. You might want to increase the number of iterations. Duality gap: 11247560599.850952, tolerance: 778133067.1215106\n",
      "  model = cd_fast.enet_coordinate_descent_gram(\n"
     ]
    },
    {
     "name": "stderr",
     "output_type": "stream",
     "text": [
      "/Users/adamklesc11/opt/anaconda3/lib/python3.8/site-packages/sklearn/linear_model/_coordinate_descent.py:526: ConvergenceWarning: Objective did not converge. You might want to increase the number of iterations. Duality gap: 11247485196.927002, tolerance: 778133067.1215106\n",
      "  model = cd_fast.enet_coordinate_descent_gram(\n",
      "/Users/adamklesc11/opt/anaconda3/lib/python3.8/site-packages/sklearn/linear_model/_coordinate_descent.py:526: ConvergenceWarning: Objective did not converge. You might want to increase the number of iterations. Duality gap: 11247383842.59668, tolerance: 778133067.1215106\n",
      "  model = cd_fast.enet_coordinate_descent_gram(\n",
      "/Users/adamklesc11/opt/anaconda3/lib/python3.8/site-packages/sklearn/linear_model/_coordinate_descent.py:526: ConvergenceWarning: Objective did not converge. You might want to increase the number of iterations. Duality gap: 11247325474.93457, tolerance: 778133067.1215106\n",
      "  model = cd_fast.enet_coordinate_descent_gram(\n",
      "/Users/adamklesc11/opt/anaconda3/lib/python3.8/site-packages/sklearn/linear_model/_coordinate_descent.py:526: ConvergenceWarning: Objective did not converge. You might want to increase the number of iterations. Duality gap: 11247265378.08545, tolerance: 778133067.1215106\n",
      "  model = cd_fast.enet_coordinate_descent_gram(\n",
      "/Users/adamklesc11/opt/anaconda3/lib/python3.8/site-packages/sklearn/linear_model/_coordinate_descent.py:526: ConvergenceWarning: Objective did not converge. You might want to increase the number of iterations. Duality gap: 11247176988.110962, tolerance: 778133067.1215106\n",
      "  model = cd_fast.enet_coordinate_descent_gram(\n",
      "/Users/adamklesc11/opt/anaconda3/lib/python3.8/site-packages/sklearn/linear_model/_coordinate_descent.py:526: ConvergenceWarning: Objective did not converge. You might want to increase the number of iterations. Duality gap: 11247116970.02356, tolerance: 778133067.1215106\n",
      "  model = cd_fast.enet_coordinate_descent_gram(\n",
      "/Users/adamklesc11/opt/anaconda3/lib/python3.8/site-packages/sklearn/linear_model/_coordinate_descent.py:526: ConvergenceWarning: Objective did not converge. You might want to increase the number of iterations. Duality gap: 11247040147.303589, tolerance: 778133067.1215106\n",
      "  model = cd_fast.enet_coordinate_descent_gram(\n",
      "/Users/adamklesc11/opt/anaconda3/lib/python3.8/site-packages/sklearn/linear_model/_coordinate_descent.py:526: ConvergenceWarning: Objective did not converge. You might want to increase the number of iterations. Duality gap: 11246999250.314941, tolerance: 778133067.1215106\n",
      "  model = cd_fast.enet_coordinate_descent_gram(\n",
      "/Users/adamklesc11/opt/anaconda3/lib/python3.8/site-packages/sklearn/linear_model/_coordinate_descent.py:526: ConvergenceWarning: Objective did not converge. You might want to increase the number of iterations. Duality gap: 11246978869.959717, tolerance: 778133067.1215106\n",
      "  model = cd_fast.enet_coordinate_descent_gram(\n",
      "/Users/adamklesc11/opt/anaconda3/lib/python3.8/site-packages/sklearn/linear_model/_coordinate_descent.py:526: ConvergenceWarning: Objective did not converge. You might want to increase the number of iterations. Duality gap: 11246964820.973145, tolerance: 778133067.1215106\n",
      "  model = cd_fast.enet_coordinate_descent_gram(\n",
      "/Users/adamklesc11/opt/anaconda3/lib/python3.8/site-packages/sklearn/linear_model/_coordinate_descent.py:526: ConvergenceWarning: Objective did not converge. You might want to increase the number of iterations. Duality gap: 11246872730.240234, tolerance: 778133067.1215106\n",
      "  model = cd_fast.enet_coordinate_descent_gram(\n",
      "/Users/adamklesc11/opt/anaconda3/lib/python3.8/site-packages/sklearn/linear_model/_coordinate_descent.py:526: ConvergenceWarning: Objective did not converge. You might want to increase the number of iterations. Duality gap: 11246833715.448242, tolerance: 778133067.1215106\n",
      "  model = cd_fast.enet_coordinate_descent_gram(\n",
      "/Users/adamklesc11/opt/anaconda3/lib/python3.8/site-packages/sklearn/linear_model/_coordinate_descent.py:526: ConvergenceWarning: Objective did not converge. You might want to increase the number of iterations. Duality gap: 11246722553.634521, tolerance: 778133067.1215106\n",
      "  model = cd_fast.enet_coordinate_descent_gram(\n",
      "/Users/adamklesc11/opt/anaconda3/lib/python3.8/site-packages/sklearn/linear_model/_coordinate_descent.py:526: ConvergenceWarning: Objective did not converge. You might want to increase the number of iterations. Duality gap: 11246818463.623901, tolerance: 778133067.1215106\n",
      "  model = cd_fast.enet_coordinate_descent_gram(\n",
      "/Users/adamklesc11/opt/anaconda3/lib/python3.8/site-packages/sklearn/linear_model/_coordinate_descent.py:526: ConvergenceWarning: Objective did not converge. You might want to increase the number of iterations. Duality gap: 11246706247.009033, tolerance: 778133067.1215106\n",
      "  model = cd_fast.enet_coordinate_descent_gram(\n",
      "/Users/adamklesc11/opt/anaconda3/lib/python3.8/site-packages/sklearn/linear_model/_coordinate_descent.py:526: ConvergenceWarning: Objective did not converge. You might want to increase the number of iterations. Duality gap: 11246706529.3042, tolerance: 778133067.1215106\n",
      "  model = cd_fast.enet_coordinate_descent_gram(\n",
      "/Users/adamklesc11/opt/anaconda3/lib/python3.8/site-packages/sklearn/linear_model/_coordinate_descent.py:526: ConvergenceWarning: Objective did not converge. You might want to increase the number of iterations. Duality gap: 11246521691.100586, tolerance: 778133067.1215106\n",
      "  model = cd_fast.enet_coordinate_descent_gram(\n",
      "/Users/adamklesc11/opt/anaconda3/lib/python3.8/site-packages/sklearn/linear_model/_coordinate_descent.py:526: ConvergenceWarning: Objective did not converge. You might want to increase the number of iterations. Duality gap: 11246558249.312256, tolerance: 778133067.1215106\n",
      "  model = cd_fast.enet_coordinate_descent_gram(\n",
      "/Users/adamklesc11/opt/anaconda3/lib/python3.8/site-packages/sklearn/linear_model/_coordinate_descent.py:526: ConvergenceWarning: Objective did not converge. You might want to increase the number of iterations. Duality gap: 11246622703.759277, tolerance: 778133067.1215106\n",
      "  model = cd_fast.enet_coordinate_descent_gram(\n",
      "/Users/adamklesc11/opt/anaconda3/lib/python3.8/site-packages/sklearn/linear_model/_coordinate_descent.py:526: ConvergenceWarning: Objective did not converge. You might want to increase the number of iterations. Duality gap: 11246434109.445557, tolerance: 778133067.1215106\n",
      "  model = cd_fast.enet_coordinate_descent_gram(\n",
      "/Users/adamklesc11/opt/anaconda3/lib/python3.8/site-packages/sklearn/linear_model/_coordinate_descent.py:526: ConvergenceWarning: Objective did not converge. You might want to increase the number of iterations. Duality gap: 11246640476.34253, tolerance: 778133067.1215106\n",
      "  model = cd_fast.enet_coordinate_descent_gram(\n",
      "/Users/adamklesc11/opt/anaconda3/lib/python3.8/site-packages/sklearn/linear_model/_coordinate_descent.py:526: ConvergenceWarning: Objective did not converge. You might want to increase the number of iterations. Duality gap: 11246389503.273193, tolerance: 778133067.1215106\n",
      "  model = cd_fast.enet_coordinate_descent_gram(\n",
      "/Users/adamklesc11/opt/anaconda3/lib/python3.8/site-packages/sklearn/linear_model/_coordinate_descent.py:526: ConvergenceWarning: Objective did not converge. You might want to increase the number of iterations. Duality gap: 11246542410.95105, tolerance: 778133067.1215106\n",
      "  model = cd_fast.enet_coordinate_descent_gram(\n",
      "/Users/adamklesc11/opt/anaconda3/lib/python3.8/site-packages/sklearn/linear_model/_coordinate_descent.py:526: ConvergenceWarning: Objective did not converge. You might want to increase the number of iterations. Duality gap: 11246414366.70166, tolerance: 778133067.1215106\n",
      "  model = cd_fast.enet_coordinate_descent_gram(\n",
      "/Users/adamklesc11/opt/anaconda3/lib/python3.8/site-packages/sklearn/linear_model/_coordinate_descent.py:526: ConvergenceWarning: Objective did not converge. You might want to increase the number of iterations. Duality gap: 11246511231.335693, tolerance: 778133067.1215106\n",
      "  model = cd_fast.enet_coordinate_descent_gram(\n",
      "/Users/adamklesc11/opt/anaconda3/lib/python3.8/site-packages/sklearn/linear_model/_coordinate_descent.py:526: ConvergenceWarning: Objective did not converge. You might want to increase the number of iterations. Duality gap: 412597479749.9551, tolerance: 803375304.0487227\n",
      "  model = cd_fast.enet_coordinate_descent_gram(\n",
      "/Users/adamklesc11/opt/anaconda3/lib/python3.8/site-packages/sklearn/linear_model/_coordinate_descent.py:526: ConvergenceWarning: Objective did not converge. You might want to increase the number of iterations. Duality gap: 400711759008.3103, tolerance: 803375304.0487227\n",
      "  model = cd_fast.enet_coordinate_descent_gram(\n",
      "/Users/adamklesc11/opt/anaconda3/lib/python3.8/site-packages/sklearn/linear_model/_coordinate_descent.py:526: ConvergenceWarning: Objective did not converge. You might want to increase the number of iterations. Duality gap: 387544702349.54376, tolerance: 803375304.0487227\n",
      "  model = cd_fast.enet_coordinate_descent_gram(\n",
      "/Users/adamklesc11/opt/anaconda3/lib/python3.8/site-packages/sklearn/linear_model/_coordinate_descent.py:526: ConvergenceWarning: Objective did not converge. You might want to increase the number of iterations. Duality gap: 374327080364.10455, tolerance: 803375304.0487227\n",
      "  model = cd_fast.enet_coordinate_descent_gram(\n",
      "/Users/adamklesc11/opt/anaconda3/lib/python3.8/site-packages/sklearn/linear_model/_coordinate_descent.py:526: ConvergenceWarning: Objective did not converge. You might want to increase the number of iterations. Duality gap: 352163955898.1452, tolerance: 803375304.0487227\n",
      "  model = cd_fast.enet_coordinate_descent_gram(\n",
      "/Users/adamklesc11/opt/anaconda3/lib/python3.8/site-packages/sklearn/linear_model/_coordinate_descent.py:526: ConvergenceWarning: Objective did not converge. You might want to increase the number of iterations. Duality gap: 335203597469.768, tolerance: 803375304.0487227\n",
      "  model = cd_fast.enet_coordinate_descent_gram(\n",
      "/Users/adamklesc11/opt/anaconda3/lib/python3.8/site-packages/sklearn/linear_model/_coordinate_descent.py:526: ConvergenceWarning: Objective did not converge. You might want to increase the number of iterations. Duality gap: 337786234869.1267, tolerance: 803375304.0487227\n",
      "  model = cd_fast.enet_coordinate_descent_gram(\n",
      "/Users/adamklesc11/opt/anaconda3/lib/python3.8/site-packages/sklearn/linear_model/_coordinate_descent.py:526: ConvergenceWarning: Objective did not converge. You might want to increase the number of iterations. Duality gap: 295589989135.5781, tolerance: 803375304.0487227\n",
      "  model = cd_fast.enet_coordinate_descent_gram(\n",
      "/Users/adamklesc11/opt/anaconda3/lib/python3.8/site-packages/sklearn/linear_model/_coordinate_descent.py:526: ConvergenceWarning: Objective did not converge. You might want to increase the number of iterations. Duality gap: 246855549380.40057, tolerance: 803375304.0487227\n",
      "  model = cd_fast.enet_coordinate_descent_gram(\n",
      "/Users/adamklesc11/opt/anaconda3/lib/python3.8/site-packages/sklearn/linear_model/_coordinate_descent.py:526: ConvergenceWarning: Objective did not converge. You might want to increase the number of iterations. Duality gap: 226673236472.1761, tolerance: 803375304.0487227\n",
      "  model = cd_fast.enet_coordinate_descent_gram(\n",
      "/Users/adamklesc11/opt/anaconda3/lib/python3.8/site-packages/sklearn/linear_model/_coordinate_descent.py:526: ConvergenceWarning: Objective did not converge. You might want to increase the number of iterations. Duality gap: 190398838748.81256, tolerance: 803375304.0487227\n",
      "  model = cd_fast.enet_coordinate_descent_gram(\n",
      "/Users/adamklesc11/opt/anaconda3/lib/python3.8/site-packages/sklearn/linear_model/_coordinate_descent.py:526: ConvergenceWarning: Objective did not converge. You might want to increase the number of iterations. Duality gap: 146088250327.86615, tolerance: 803375304.0487227\n",
      "  model = cd_fast.enet_coordinate_descent_gram(\n",
      "/Users/adamklesc11/opt/anaconda3/lib/python3.8/site-packages/sklearn/linear_model/_coordinate_descent.py:526: ConvergenceWarning: Objective did not converge. You might want to increase the number of iterations. Duality gap: 104190746132.35547, tolerance: 803375304.0487227\n",
      "  model = cd_fast.enet_coordinate_descent_gram(\n",
      "/Users/adamklesc11/opt/anaconda3/lib/python3.8/site-packages/sklearn/linear_model/_coordinate_descent.py:526: ConvergenceWarning: Objective did not converge. You might want to increase the number of iterations. Duality gap: 66082569918.746216, tolerance: 803375304.0487227\n",
      "  model = cd_fast.enet_coordinate_descent_gram(\n",
      "/Users/adamklesc11/opt/anaconda3/lib/python3.8/site-packages/sklearn/linear_model/_coordinate_descent.py:526: ConvergenceWarning: Objective did not converge. You might want to increase the number of iterations. Duality gap: 73702547835.97217, tolerance: 803375304.0487227\n",
      "  model = cd_fast.enet_coordinate_descent_gram(\n",
      "/Users/adamklesc11/opt/anaconda3/lib/python3.8/site-packages/sklearn/linear_model/_coordinate_descent.py:526: ConvergenceWarning: Objective did not converge. You might want to increase the number of iterations. Duality gap: 75039835617.66235, tolerance: 803375304.0487227\n",
      "  model = cd_fast.enet_coordinate_descent_gram(\n",
      "/Users/adamklesc11/opt/anaconda3/lib/python3.8/site-packages/sklearn/linear_model/_coordinate_descent.py:526: ConvergenceWarning: Objective did not converge. You might want to increase the number of iterations. Duality gap: 47879354326.74097, tolerance: 803375304.0487227\n",
      "  model = cd_fast.enet_coordinate_descent_gram(\n",
      "/Users/adamklesc11/opt/anaconda3/lib/python3.8/site-packages/sklearn/linear_model/_coordinate_descent.py:526: ConvergenceWarning: Objective did not converge. You might want to increase the number of iterations. Duality gap: 24025359360.567505, tolerance: 803375304.0487227\n",
      "  model = cd_fast.enet_coordinate_descent_gram(\n",
      "/Users/adamklesc11/opt/anaconda3/lib/python3.8/site-packages/sklearn/linear_model/_coordinate_descent.py:526: ConvergenceWarning: Objective did not converge. You might want to increase the number of iterations. Duality gap: 24488842120.67627, tolerance: 803375304.0487227\n",
      "  model = cd_fast.enet_coordinate_descent_gram(\n",
      "/Users/adamklesc11/opt/anaconda3/lib/python3.8/site-packages/sklearn/linear_model/_coordinate_descent.py:526: ConvergenceWarning: Objective did not converge. You might want to increase the number of iterations. Duality gap: 21682344401.26416, tolerance: 803375304.0487227\n",
      "  model = cd_fast.enet_coordinate_descent_gram(\n"
     ]
    },
    {
     "name": "stderr",
     "output_type": "stream",
     "text": [
      "/Users/adamklesc11/opt/anaconda3/lib/python3.8/site-packages/sklearn/linear_model/_coordinate_descent.py:526: ConvergenceWarning: Objective did not converge. You might want to increase the number of iterations. Duality gap: 16878491180.964722, tolerance: 803375304.0487227\n",
      "  model = cd_fast.enet_coordinate_descent_gram(\n",
      "/Users/adamklesc11/opt/anaconda3/lib/python3.8/site-packages/sklearn/linear_model/_coordinate_descent.py:526: ConvergenceWarning: Objective did not converge. You might want to increase the number of iterations. Duality gap: 9769935586.649414, tolerance: 803375304.0487227\n",
      "  model = cd_fast.enet_coordinate_descent_gram(\n",
      "/Users/adamklesc11/opt/anaconda3/lib/python3.8/site-packages/sklearn/linear_model/_coordinate_descent.py:526: ConvergenceWarning: Objective did not converge. You might want to increase the number of iterations. Duality gap: 14133660174.64795, tolerance: 803375304.0487227\n",
      "  model = cd_fast.enet_coordinate_descent_gram(\n",
      "/Users/adamklesc11/opt/anaconda3/lib/python3.8/site-packages/sklearn/linear_model/_coordinate_descent.py:526: ConvergenceWarning: Objective did not converge. You might want to increase the number of iterations. Duality gap: 15693209626.64392, tolerance: 803375304.0487227\n",
      "  model = cd_fast.enet_coordinate_descent_gram(\n",
      "/Users/adamklesc11/opt/anaconda3/lib/python3.8/site-packages/sklearn/linear_model/_coordinate_descent.py:526: ConvergenceWarning: Objective did not converge. You might want to increase the number of iterations. Duality gap: 14165458049.217285, tolerance: 803375304.0487227\n",
      "  model = cd_fast.enet_coordinate_descent_gram(\n",
      "/Users/adamklesc11/opt/anaconda3/lib/python3.8/site-packages/sklearn/linear_model/_coordinate_descent.py:526: ConvergenceWarning: Objective did not converge. You might want to increase the number of iterations. Duality gap: 11781804328.081055, tolerance: 803375304.0487227\n",
      "  model = cd_fast.enet_coordinate_descent_gram(\n",
      "/Users/adamklesc11/opt/anaconda3/lib/python3.8/site-packages/sklearn/linear_model/_coordinate_descent.py:526: ConvergenceWarning: Objective did not converge. You might want to increase the number of iterations. Duality gap: 11638859053.578857, tolerance: 803375304.0487227\n",
      "  model = cd_fast.enet_coordinate_descent_gram(\n",
      "/Users/adamklesc11/opt/anaconda3/lib/python3.8/site-packages/sklearn/linear_model/_coordinate_descent.py:526: ConvergenceWarning: Objective did not converge. You might want to increase the number of iterations. Duality gap: 12946567572.254395, tolerance: 803375304.0487227\n",
      "  model = cd_fast.enet_coordinate_descent_gram(\n",
      "/Users/adamklesc11/opt/anaconda3/lib/python3.8/site-packages/sklearn/linear_model/_coordinate_descent.py:526: ConvergenceWarning: Objective did not converge. You might want to increase the number of iterations. Duality gap: 13042112952.788574, tolerance: 803375304.0487227\n",
      "  model = cd_fast.enet_coordinate_descent_gram(\n",
      "/Users/adamklesc11/opt/anaconda3/lib/python3.8/site-packages/sklearn/linear_model/_coordinate_descent.py:526: ConvergenceWarning: Objective did not converge. You might want to increase the number of iterations. Duality gap: 12377552399.08545, tolerance: 803375304.0487227\n",
      "  model = cd_fast.enet_coordinate_descent_gram(\n",
      "/Users/adamklesc11/opt/anaconda3/lib/python3.8/site-packages/sklearn/linear_model/_coordinate_descent.py:526: ConvergenceWarning: Objective did not converge. You might want to increase the number of iterations. Duality gap: 11709507185.105225, tolerance: 803375304.0487227\n",
      "  model = cd_fast.enet_coordinate_descent_gram(\n",
      "/Users/adamklesc11/opt/anaconda3/lib/python3.8/site-packages/sklearn/linear_model/_coordinate_descent.py:526: ConvergenceWarning: Objective did not converge. You might want to increase the number of iterations. Duality gap: 12276573742.677246, tolerance: 803375304.0487227\n",
      "  model = cd_fast.enet_coordinate_descent_gram(\n",
      "/Users/adamklesc11/opt/anaconda3/lib/python3.8/site-packages/sklearn/linear_model/_coordinate_descent.py:526: ConvergenceWarning: Objective did not converge. You might want to increase the number of iterations. Duality gap: 13295466959.114258, tolerance: 803375304.0487227\n",
      "  model = cd_fast.enet_coordinate_descent_gram(\n",
      "/Users/adamklesc11/opt/anaconda3/lib/python3.8/site-packages/sklearn/linear_model/_coordinate_descent.py:526: ConvergenceWarning: Objective did not converge. You might want to increase the number of iterations. Duality gap: 13065187348.28418, tolerance: 803375304.0487227\n",
      "  model = cd_fast.enet_coordinate_descent_gram(\n",
      "/Users/adamklesc11/opt/anaconda3/lib/python3.8/site-packages/sklearn/linear_model/_coordinate_descent.py:526: ConvergenceWarning: Objective did not converge. You might want to increase the number of iterations. Duality gap: 12225164374.98877, tolerance: 803375304.0487227\n",
      "  model = cd_fast.enet_coordinate_descent_gram(\n",
      "/Users/adamklesc11/opt/anaconda3/lib/python3.8/site-packages/sklearn/linear_model/_coordinate_descent.py:526: ConvergenceWarning: Objective did not converge. You might want to increase the number of iterations. Duality gap: 11413460511.169678, tolerance: 803375304.0487227\n",
      "  model = cd_fast.enet_coordinate_descent_gram(\n",
      "/Users/adamklesc11/opt/anaconda3/lib/python3.8/site-packages/sklearn/linear_model/_coordinate_descent.py:526: ConvergenceWarning: Objective did not converge. You might want to increase the number of iterations. Duality gap: 11123865662.35022, tolerance: 803375304.0487227\n",
      "  model = cd_fast.enet_coordinate_descent_gram(\n",
      "/Users/adamklesc11/opt/anaconda3/lib/python3.8/site-packages/sklearn/linear_model/_coordinate_descent.py:526: ConvergenceWarning: Objective did not converge. You might want to increase the number of iterations. Duality gap: 11132812917.375122, tolerance: 803375304.0487227\n",
      "  model = cd_fast.enet_coordinate_descent_gram(\n",
      "/Users/adamklesc11/opt/anaconda3/lib/python3.8/site-packages/sklearn/linear_model/_coordinate_descent.py:526: ConvergenceWarning: Objective did not converge. You might want to increase the number of iterations. Duality gap: 11000141921.90503, tolerance: 803375304.0487227\n",
      "  model = cd_fast.enet_coordinate_descent_gram(\n",
      "/Users/adamklesc11/opt/anaconda3/lib/python3.8/site-packages/sklearn/linear_model/_coordinate_descent.py:526: ConvergenceWarning: Objective did not converge. You might want to increase the number of iterations. Duality gap: 11150631087.85144, tolerance: 803375304.0487227\n",
      "  model = cd_fast.enet_coordinate_descent_gram(\n",
      "/Users/adamklesc11/opt/anaconda3/lib/python3.8/site-packages/sklearn/linear_model/_coordinate_descent.py:526: ConvergenceWarning: Objective did not converge. You might want to increase the number of iterations. Duality gap: 11347291968.865479, tolerance: 803375304.0487227\n",
      "  model = cd_fast.enet_coordinate_descent_gram(\n",
      "/Users/adamklesc11/opt/anaconda3/lib/python3.8/site-packages/sklearn/linear_model/_coordinate_descent.py:526: ConvergenceWarning: Objective did not converge. You might want to increase the number of iterations. Duality gap: 11442647318.410156, tolerance: 803375304.0487227\n",
      "  model = cd_fast.enet_coordinate_descent_gram(\n",
      "/Users/adamklesc11/opt/anaconda3/lib/python3.8/site-packages/sklearn/linear_model/_coordinate_descent.py:526: ConvergenceWarning: Objective did not converge. You might want to increase the number of iterations. Duality gap: 11440417793.96167, tolerance: 803375304.0487227\n",
      "  model = cd_fast.enet_coordinate_descent_gram(\n",
      "/Users/adamklesc11/opt/anaconda3/lib/python3.8/site-packages/sklearn/linear_model/_coordinate_descent.py:526: ConvergenceWarning: Objective did not converge. You might want to increase the number of iterations. Duality gap: 11383743530.904785, tolerance: 803375304.0487227\n",
      "  model = cd_fast.enet_coordinate_descent_gram(\n",
      "/Users/adamklesc11/opt/anaconda3/lib/python3.8/site-packages/sklearn/linear_model/_coordinate_descent.py:526: ConvergenceWarning: Objective did not converge. You might want to increase the number of iterations. Duality gap: 11319905963.187988, tolerance: 803375304.0487227\n",
      "  model = cd_fast.enet_coordinate_descent_gram(\n",
      "/Users/adamklesc11/opt/anaconda3/lib/python3.8/site-packages/sklearn/linear_model/_coordinate_descent.py:526: ConvergenceWarning: Objective did not converge. You might want to increase the number of iterations. Duality gap: 11278527906.519043, tolerance: 803375304.0487227\n",
      "  model = cd_fast.enet_coordinate_descent_gram(\n",
      "/Users/adamklesc11/opt/anaconda3/lib/python3.8/site-packages/sklearn/linear_model/_coordinate_descent.py:526: ConvergenceWarning: Objective did not converge. You might want to increase the number of iterations. Duality gap: 11266892397.16919, tolerance: 803375304.0487227\n",
      "  model = cd_fast.enet_coordinate_descent_gram(\n",
      "/Users/adamklesc11/opt/anaconda3/lib/python3.8/site-packages/sklearn/linear_model/_coordinate_descent.py:526: ConvergenceWarning: Objective did not converge. You might want to increase the number of iterations. Duality gap: 11276685256.365479, tolerance: 803375304.0487227\n",
      "  model = cd_fast.enet_coordinate_descent_gram(\n",
      "/Users/adamklesc11/opt/anaconda3/lib/python3.8/site-packages/sklearn/linear_model/_coordinate_descent.py:526: ConvergenceWarning: Objective did not converge. You might want to increase the number of iterations. Duality gap: 11294244078.624268, tolerance: 803375304.0487227\n",
      "  model = cd_fast.enet_coordinate_descent_gram(\n",
      "/Users/adamklesc11/opt/anaconda3/lib/python3.8/site-packages/sklearn/linear_model/_coordinate_descent.py:526: ConvergenceWarning: Objective did not converge. You might want to increase the number of iterations. Duality gap: 11308636394.200928, tolerance: 803375304.0487227\n",
      "  model = cd_fast.enet_coordinate_descent_gram(\n",
      "/Users/adamklesc11/opt/anaconda3/lib/python3.8/site-packages/sklearn/linear_model/_coordinate_descent.py:526: ConvergenceWarning: Objective did not converge. You might want to increase the number of iterations. Duality gap: 11314996424.19104, tolerance: 803375304.0487227\n",
      "  model = cd_fast.enet_coordinate_descent_gram(\n",
      "/Users/adamklesc11/opt/anaconda3/lib/python3.8/site-packages/sklearn/linear_model/_coordinate_descent.py:526: ConvergenceWarning: Objective did not converge. You might want to increase the number of iterations. Duality gap: 11314000115.105469, tolerance: 803375304.0487227\n",
      "  model = cd_fast.enet_coordinate_descent_gram(\n",
      "/Users/adamklesc11/opt/anaconda3/lib/python3.8/site-packages/sklearn/linear_model/_coordinate_descent.py:526: ConvergenceWarning: Objective did not converge. You might want to increase the number of iterations. Duality gap: 11309092321.723633, tolerance: 803375304.0487227\n",
      "  model = cd_fast.enet_coordinate_descent_gram(\n",
      "/Users/adamklesc11/opt/anaconda3/lib/python3.8/site-packages/sklearn/linear_model/_coordinate_descent.py:526: ConvergenceWarning: Objective did not converge. You might want to increase the number of iterations. Duality gap: 11303911484.729004, tolerance: 803375304.0487227\n",
      "  model = cd_fast.enet_coordinate_descent_gram(\n",
      "/Users/adamklesc11/opt/anaconda3/lib/python3.8/site-packages/sklearn/linear_model/_coordinate_descent.py:526: ConvergenceWarning: Objective did not converge. You might want to increase the number of iterations. Duality gap: 11300609409.385376, tolerance: 803375304.0487227\n",
      "  model = cd_fast.enet_coordinate_descent_gram(\n",
      "/Users/adamklesc11/opt/anaconda3/lib/python3.8/site-packages/sklearn/linear_model/_coordinate_descent.py:526: ConvergenceWarning: Objective did not converge. You might want to increase the number of iterations. Duality gap: 11299636263.63916, tolerance: 803375304.0487227\n",
      "  model = cd_fast.enet_coordinate_descent_gram(\n",
      "/Users/adamklesc11/opt/anaconda3/lib/python3.8/site-packages/sklearn/linear_model/_coordinate_descent.py:526: ConvergenceWarning: Objective did not converge. You might want to increase the number of iterations. Duality gap: 11300243667.130127, tolerance: 803375304.0487227\n",
      "  model = cd_fast.enet_coordinate_descent_gram(\n",
      "/Users/adamklesc11/opt/anaconda3/lib/python3.8/site-packages/sklearn/linear_model/_coordinate_descent.py:526: ConvergenceWarning: Objective did not converge. You might want to increase the number of iterations. Duality gap: 11301399741.296753, tolerance: 803375304.0487227\n",
      "  model = cd_fast.enet_coordinate_descent_gram(\n",
      "/Users/adamklesc11/opt/anaconda3/lib/python3.8/site-packages/sklearn/linear_model/_coordinate_descent.py:526: ConvergenceWarning: Objective did not converge. You might want to increase the number of iterations. Duality gap: 11302259028.409424, tolerance: 803375304.0487227\n",
      "  model = cd_fast.enet_coordinate_descent_gram(\n",
      "/Users/adamklesc11/opt/anaconda3/lib/python3.8/site-packages/sklearn/linear_model/_coordinate_descent.py:526: ConvergenceWarning: Objective did not converge. You might want to increase the number of iterations. Duality gap: 11302511128.349121, tolerance: 803375304.0487227\n",
      "  model = cd_fast.enet_coordinate_descent_gram(\n",
      "/Users/adamklesc11/opt/anaconda3/lib/python3.8/site-packages/sklearn/linear_model/_coordinate_descent.py:526: ConvergenceWarning: Objective did not converge. You might want to increase the number of iterations. Duality gap: 11302207756.633057, tolerance: 803375304.0487227\n",
      "  model = cd_fast.enet_coordinate_descent_gram(\n"
     ]
    },
    {
     "name": "stderr",
     "output_type": "stream",
     "text": [
      "/Users/adamklesc11/opt/anaconda3/lib/python3.8/site-packages/sklearn/linear_model/_coordinate_descent.py:526: ConvergenceWarning: Objective did not converge. You might want to increase the number of iterations. Duality gap: 11301650769.578613, tolerance: 803375304.0487227\n",
      "  model = cd_fast.enet_coordinate_descent_gram(\n",
      "/Users/adamklesc11/opt/anaconda3/lib/python3.8/site-packages/sklearn/linear_model/_coordinate_descent.py:526: ConvergenceWarning: Objective did not converge. You might want to increase the number of iterations. Duality gap: 11301080539.791748, tolerance: 803375304.0487227\n",
      "  model = cd_fast.enet_coordinate_descent_gram(\n",
      "/Users/adamklesc11/opt/anaconda3/lib/python3.8/site-packages/sklearn/linear_model/_coordinate_descent.py:526: ConvergenceWarning: Objective did not converge. You might want to increase the number of iterations. Duality gap: 11300690409.462158, tolerance: 803375304.0487227\n",
      "  model = cd_fast.enet_coordinate_descent_gram(\n",
      "/Users/adamklesc11/opt/anaconda3/lib/python3.8/site-packages/sklearn/linear_model/_coordinate_descent.py:526: ConvergenceWarning: Objective did not converge. You might want to increase the number of iterations. Duality gap: 11300486940.915771, tolerance: 803375304.0487227\n",
      "  model = cd_fast.enet_coordinate_descent_gram(\n",
      "/Users/adamklesc11/opt/anaconda3/lib/python3.8/site-packages/sklearn/linear_model/_coordinate_descent.py:526: ConvergenceWarning: Objective did not converge. You might want to increase the number of iterations. Duality gap: 11300420576.592041, tolerance: 803375304.0487227\n",
      "  model = cd_fast.enet_coordinate_descent_gram(\n",
      "/Users/adamklesc11/opt/anaconda3/lib/python3.8/site-packages/sklearn/linear_model/_coordinate_descent.py:526: ConvergenceWarning: Objective did not converge. You might want to increase the number of iterations. Duality gap: 11300376003.979248, tolerance: 803375304.0487227\n",
      "  model = cd_fast.enet_coordinate_descent_gram(\n",
      "/Users/adamklesc11/opt/anaconda3/lib/python3.8/site-packages/sklearn/linear_model/_coordinate_descent.py:526: ConvergenceWarning: Objective did not converge. You might want to increase the number of iterations. Duality gap: 11300359833.260986, tolerance: 803375304.0487227\n",
      "  model = cd_fast.enet_coordinate_descent_gram(\n",
      "/Users/adamklesc11/opt/anaconda3/lib/python3.8/site-packages/sklearn/linear_model/_coordinate_descent.py:526: ConvergenceWarning: Objective did not converge. You might want to increase the number of iterations. Duality gap: 11300270044.659912, tolerance: 803375304.0487227\n",
      "  model = cd_fast.enet_coordinate_descent_gram(\n",
      "/Users/adamklesc11/opt/anaconda3/lib/python3.8/site-packages/sklearn/linear_model/_coordinate_descent.py:526: ConvergenceWarning: Objective did not converge. You might want to increase the number of iterations. Duality gap: 11300121990.807861, tolerance: 803375304.0487227\n",
      "  model = cd_fast.enet_coordinate_descent_gram(\n",
      "/Users/adamklesc11/opt/anaconda3/lib/python3.8/site-packages/sklearn/linear_model/_coordinate_descent.py:526: ConvergenceWarning: Objective did not converge. You might want to increase the number of iterations. Duality gap: 11299974901.962158, tolerance: 803375304.0487227\n",
      "  model = cd_fast.enet_coordinate_descent_gram(\n",
      "/Users/adamklesc11/opt/anaconda3/lib/python3.8/site-packages/sklearn/linear_model/_coordinate_descent.py:526: ConvergenceWarning: Objective did not converge. You might want to increase the number of iterations. Duality gap: 11299861105.648438, tolerance: 803375304.0487227\n",
      "  model = cd_fast.enet_coordinate_descent_gram(\n",
      "/Users/adamklesc11/opt/anaconda3/lib/python3.8/site-packages/sklearn/linear_model/_coordinate_descent.py:526: ConvergenceWarning: Objective did not converge. You might want to increase the number of iterations. Duality gap: 11299737939.714111, tolerance: 803375304.0487227\n",
      "  model = cd_fast.enet_coordinate_descent_gram(\n",
      "/Users/adamklesc11/opt/anaconda3/lib/python3.8/site-packages/sklearn/linear_model/_coordinate_descent.py:526: ConvergenceWarning: Objective did not converge. You might want to increase the number of iterations. Duality gap: 11299664342.138794, tolerance: 803375304.0487227\n",
      "  model = cd_fast.enet_coordinate_descent_gram(\n",
      "/Users/adamklesc11/opt/anaconda3/lib/python3.8/site-packages/sklearn/linear_model/_coordinate_descent.py:526: ConvergenceWarning: Objective did not converge. You might want to increase the number of iterations. Duality gap: 11299574538.746826, tolerance: 803375304.0487227\n",
      "  model = cd_fast.enet_coordinate_descent_gram(\n",
      "/Users/adamklesc11/opt/anaconda3/lib/python3.8/site-packages/sklearn/linear_model/_coordinate_descent.py:526: ConvergenceWarning: Objective did not converge. You might want to increase the number of iterations. Duality gap: 11299546292.788574, tolerance: 803375304.0487227\n",
      "  model = cd_fast.enet_coordinate_descent_gram(\n",
      "/Users/adamklesc11/opt/anaconda3/lib/python3.8/site-packages/sklearn/linear_model/_coordinate_descent.py:526: ConvergenceWarning: Objective did not converge. You might want to increase the number of iterations. Duality gap: 11299435277.833008, tolerance: 803375304.0487227\n",
      "  model = cd_fast.enet_coordinate_descent_gram(\n",
      "/Users/adamklesc11/opt/anaconda3/lib/python3.8/site-packages/sklearn/linear_model/_coordinate_descent.py:526: ConvergenceWarning: Objective did not converge. You might want to increase the number of iterations. Duality gap: 11299389418.334473, tolerance: 803375304.0487227\n",
      "  model = cd_fast.enet_coordinate_descent_gram(\n",
      "/Users/adamklesc11/opt/anaconda3/lib/python3.8/site-packages/sklearn/linear_model/_coordinate_descent.py:526: ConvergenceWarning: Objective did not converge. You might want to increase the number of iterations. Duality gap: 11299343848.140259, tolerance: 803375304.0487227\n",
      "  model = cd_fast.enet_coordinate_descent_gram(\n",
      "/Users/adamklesc11/opt/anaconda3/lib/python3.8/site-packages/sklearn/linear_model/_coordinate_descent.py:526: ConvergenceWarning: Objective did not converge. You might want to increase the number of iterations. Duality gap: 11299267838.700195, tolerance: 803375304.0487227\n",
      "  model = cd_fast.enet_coordinate_descent_gram(\n",
      "/Users/adamklesc11/opt/anaconda3/lib/python3.8/site-packages/sklearn/linear_model/_coordinate_descent.py:526: ConvergenceWarning: Objective did not converge. You might want to increase the number of iterations. Duality gap: 11299220090.917114, tolerance: 803375304.0487227\n",
      "  model = cd_fast.enet_coordinate_descent_gram(\n",
      "/Users/adamklesc11/opt/anaconda3/lib/python3.8/site-packages/sklearn/linear_model/_coordinate_descent.py:526: ConvergenceWarning: Objective did not converge. You might want to increase the number of iterations. Duality gap: 11299168696.841064, tolerance: 803375304.0487227\n",
      "  model = cd_fast.enet_coordinate_descent_gram(\n",
      "/Users/adamklesc11/opt/anaconda3/lib/python3.8/site-packages/sklearn/linear_model/_coordinate_descent.py:526: ConvergenceWarning: Objective did not converge. You might want to increase the number of iterations. Duality gap: 11299141383.783691, tolerance: 803375304.0487227\n",
      "  model = cd_fast.enet_coordinate_descent_gram(\n",
      "/Users/adamklesc11/opt/anaconda3/lib/python3.8/site-packages/sklearn/linear_model/_coordinate_descent.py:526: ConvergenceWarning: Objective did not converge. You might want to increase the number of iterations. Duality gap: 11299112380.541016, tolerance: 803375304.0487227\n",
      "  model = cd_fast.enet_coordinate_descent_gram(\n",
      "/Users/adamklesc11/opt/anaconda3/lib/python3.8/site-packages/sklearn/linear_model/_coordinate_descent.py:526: ConvergenceWarning: Objective did not converge. You might want to increase the number of iterations. Duality gap: 11299028171.43872, tolerance: 803375304.0487227\n",
      "  model = cd_fast.enet_coordinate_descent_gram(\n",
      "/Users/adamklesc11/opt/anaconda3/lib/python3.8/site-packages/sklearn/linear_model/_coordinate_descent.py:526: ConvergenceWarning: Objective did not converge. You might want to increase the number of iterations. Duality gap: 11299003024.348145, tolerance: 803375304.0487227\n",
      "  model = cd_fast.enet_coordinate_descent_gram(\n",
      "/Users/adamklesc11/opt/anaconda3/lib/python3.8/site-packages/sklearn/linear_model/_coordinate_descent.py:526: ConvergenceWarning: Objective did not converge. You might want to increase the number of iterations. Duality gap: 11299000515.256348, tolerance: 803375304.0487227\n",
      "  model = cd_fast.enet_coordinate_descent_gram(\n",
      "/Users/adamklesc11/opt/anaconda3/lib/python3.8/site-packages/sklearn/linear_model/_coordinate_descent.py:526: ConvergenceWarning: Objective did not converge. You might want to increase the number of iterations. Duality gap: 11298907773.665283, tolerance: 803375304.0487227\n",
      "  model = cd_fast.enet_coordinate_descent_gram(\n",
      "/Users/adamklesc11/opt/anaconda3/lib/python3.8/site-packages/sklearn/linear_model/_coordinate_descent.py:526: ConvergenceWarning: Objective did not converge. You might want to increase the number of iterations. Duality gap: 11298887488.499512, tolerance: 803375304.0487227\n",
      "  model = cd_fast.enet_coordinate_descent_gram(\n",
      "/Users/adamklesc11/opt/anaconda3/lib/python3.8/site-packages/sklearn/linear_model/_coordinate_descent.py:526: ConvergenceWarning: Objective did not converge. You might want to increase the number of iterations. Duality gap: 11298868696.064209, tolerance: 803375304.0487227\n",
      "  model = cd_fast.enet_coordinate_descent_gram(\n",
      "/Users/adamklesc11/opt/anaconda3/lib/python3.8/site-packages/sklearn/linear_model/_coordinate_descent.py:526: ConvergenceWarning: Objective did not converge. You might want to increase the number of iterations. Duality gap: 11298872727.277588, tolerance: 803375304.0487227\n",
      "  model = cd_fast.enet_coordinate_descent_gram(\n",
      "/Users/adamklesc11/opt/anaconda3/lib/python3.8/site-packages/sklearn/linear_model/_coordinate_descent.py:526: ConvergenceWarning: Objective did not converge. You might want to increase the number of iterations. Duality gap: 11298816993.622925, tolerance: 803375304.0487227\n",
      "  model = cd_fast.enet_coordinate_descent_gram(\n",
      "/Users/adamklesc11/opt/anaconda3/lib/python3.8/site-packages/sklearn/linear_model/_coordinate_descent.py:526: ConvergenceWarning: Objective did not converge. You might want to increase the number of iterations. Duality gap: 11298781898.583008, tolerance: 803375304.0487227\n",
      "  model = cd_fast.enet_coordinate_descent_gram(\n",
      "/Users/adamklesc11/opt/anaconda3/lib/python3.8/site-packages/sklearn/linear_model/_coordinate_descent.py:526: ConvergenceWarning: Objective did not converge. You might want to increase the number of iterations. Duality gap: 11298793781.45581, tolerance: 803375304.0487227\n",
      "  model = cd_fast.enet_coordinate_descent_gram(\n",
      "/Users/adamklesc11/opt/anaconda3/lib/python3.8/site-packages/sklearn/linear_model/_coordinate_descent.py:526: ConvergenceWarning: Objective did not converge. You might want to increase the number of iterations. Duality gap: 11298682927.712402, tolerance: 803375304.0487227\n",
      "  model = cd_fast.enet_coordinate_descent_gram(\n",
      "/Users/adamklesc11/opt/anaconda3/lib/python3.8/site-packages/sklearn/linear_model/_coordinate_descent.py:526: ConvergenceWarning: Objective did not converge. You might want to increase the number of iterations. Duality gap: 11298777927.730835, tolerance: 803375304.0487227\n",
      "  model = cd_fast.enet_coordinate_descent_gram(\n",
      "/Users/adamklesc11/opt/anaconda3/lib/python3.8/site-packages/sklearn/linear_model/_coordinate_descent.py:526: ConvergenceWarning: Objective did not converge. You might want to increase the number of iterations. Duality gap: 11298774965.080444, tolerance: 803375304.0487227\n",
      "  model = cd_fast.enet_coordinate_descent_gram(\n",
      "/Users/adamklesc11/opt/anaconda3/lib/python3.8/site-packages/sklearn/linear_model/_coordinate_descent.py:526: ConvergenceWarning: Objective did not converge. You might want to increase the number of iterations. Duality gap: 11298734129.248291, tolerance: 803375304.0487227\n",
      "  model = cd_fast.enet_coordinate_descent_gram(\n",
      "/Users/adamklesc11/opt/anaconda3/lib/python3.8/site-packages/sklearn/linear_model/_coordinate_descent.py:526: ConvergenceWarning: Objective did not converge. You might want to increase the number of iterations. Duality gap: 11298747606.542236, tolerance: 803375304.0487227\n",
      "  model = cd_fast.enet_coordinate_descent_gram(\n",
      "/Users/adamklesc11/opt/anaconda3/lib/python3.8/site-packages/sklearn/linear_model/_coordinate_descent.py:526: ConvergenceWarning: Objective did not converge. You might want to increase the number of iterations. Duality gap: 11298718913.926758, tolerance: 803375304.0487227\n",
      "  model = cd_fast.enet_coordinate_descent_gram(\n",
      "/Users/adamklesc11/opt/anaconda3/lib/python3.8/site-packages/sklearn/linear_model/_coordinate_descent.py:526: ConvergenceWarning: Objective did not converge. You might want to increase the number of iterations. Duality gap: 395183982861.7247, tolerance: 760708549.4053607\n",
      "  model = cd_fast.enet_coordinate_descent_gram(\n",
      "/Users/adamklesc11/opt/anaconda3/lib/python3.8/site-packages/sklearn/linear_model/_coordinate_descent.py:526: ConvergenceWarning: Objective did not converge. You might want to increase the number of iterations. Duality gap: 377835408280.69867, tolerance: 760708549.4053607\n",
      "  model = cd_fast.enet_coordinate_descent_gram(\n",
      "/Users/adamklesc11/opt/anaconda3/lib/python3.8/site-packages/sklearn/linear_model/_coordinate_descent.py:526: ConvergenceWarning: Objective did not converge. You might want to increase the number of iterations. Duality gap: 362374703877.254, tolerance: 760708549.4053607\n",
      "  model = cd_fast.enet_coordinate_descent_gram(\n",
      "/Users/adamklesc11/opt/anaconda3/lib/python3.8/site-packages/sklearn/linear_model/_coordinate_descent.py:526: ConvergenceWarning: Objective did not converge. You might want to increase the number of iterations. Duality gap: 340127143805.1307, tolerance: 760708549.4053607\n",
      "  model = cd_fast.enet_coordinate_descent_gram(\n",
      "/Users/adamklesc11/opt/anaconda3/lib/python3.8/site-packages/sklearn/linear_model/_coordinate_descent.py:526: ConvergenceWarning: Objective did not converge. You might want to increase the number of iterations. Duality gap: 320622367113.9222, tolerance: 760708549.4053607\n",
      "  model = cd_fast.enet_coordinate_descent_gram(\n"
     ]
    },
    {
     "name": "stderr",
     "output_type": "stream",
     "text": [
      "/Users/adamklesc11/opt/anaconda3/lib/python3.8/site-packages/sklearn/linear_model/_coordinate_descent.py:526: ConvergenceWarning: Objective did not converge. You might want to increase the number of iterations. Duality gap: 303256523066.87744, tolerance: 760708549.4053607\n",
      "  model = cd_fast.enet_coordinate_descent_gram(\n",
      "/Users/adamklesc11/opt/anaconda3/lib/python3.8/site-packages/sklearn/linear_model/_coordinate_descent.py:526: ConvergenceWarning: Objective did not converge. You might want to increase the number of iterations. Duality gap: 288480321629.0743, tolerance: 760708549.4053607\n",
      "  model = cd_fast.enet_coordinate_descent_gram(\n",
      "/Users/adamklesc11/opt/anaconda3/lib/python3.8/site-packages/sklearn/linear_model/_coordinate_descent.py:526: ConvergenceWarning: Objective did not converge. You might want to increase the number of iterations. Duality gap: 288422478213.5763, tolerance: 760708549.4053607\n",
      "  model = cd_fast.enet_coordinate_descent_gram(\n",
      "/Users/adamklesc11/opt/anaconda3/lib/python3.8/site-packages/sklearn/linear_model/_coordinate_descent.py:526: ConvergenceWarning: Objective did not converge. You might want to increase the number of iterations. Duality gap: 251970831629.90784, tolerance: 760708549.4053607\n",
      "  model = cd_fast.enet_coordinate_descent_gram(\n",
      "/Users/adamklesc11/opt/anaconda3/lib/python3.8/site-packages/sklearn/linear_model/_coordinate_descent.py:526: ConvergenceWarning: Objective did not converge. You might want to increase the number of iterations. Duality gap: 197627743081.94696, tolerance: 760708549.4053607\n",
      "  model = cd_fast.enet_coordinate_descent_gram(\n",
      "/Users/adamklesc11/opt/anaconda3/lib/python3.8/site-packages/sklearn/linear_model/_coordinate_descent.py:526: ConvergenceWarning: Objective did not converge. You might want to increase the number of iterations. Duality gap: 203957328545.84595, tolerance: 760708549.4053607\n",
      "  model = cd_fast.enet_coordinate_descent_gram(\n",
      "/Users/adamklesc11/opt/anaconda3/lib/python3.8/site-packages/sklearn/linear_model/_coordinate_descent.py:526: ConvergenceWarning: Objective did not converge. You might want to increase the number of iterations. Duality gap: 171951160520.96008, tolerance: 760708549.4053607\n",
      "  model = cd_fast.enet_coordinate_descent_gram(\n",
      "/Users/adamklesc11/opt/anaconda3/lib/python3.8/site-packages/sklearn/linear_model/_coordinate_descent.py:526: ConvergenceWarning: Objective did not converge. You might want to increase the number of iterations. Duality gap: 108317407268.56036, tolerance: 760708549.4053607\n",
      "  model = cd_fast.enet_coordinate_descent_gram(\n",
      "/Users/adamklesc11/opt/anaconda3/lib/python3.8/site-packages/sklearn/linear_model/_coordinate_descent.py:526: ConvergenceWarning: Objective did not converge. You might want to increase the number of iterations. Duality gap: 92479015807.5075, tolerance: 760708549.4053607\n",
      "  model = cd_fast.enet_coordinate_descent_gram(\n",
      "/Users/adamklesc11/opt/anaconda3/lib/python3.8/site-packages/sklearn/linear_model/_coordinate_descent.py:526: ConvergenceWarning: Objective did not converge. You might want to increase the number of iterations. Duality gap: 64884871611.121704, tolerance: 760708549.4053607\n",
      "  model = cd_fast.enet_coordinate_descent_gram(\n",
      "/Users/adamklesc11/opt/anaconda3/lib/python3.8/site-packages/sklearn/linear_model/_coordinate_descent.py:526: ConvergenceWarning: Objective did not converge. You might want to increase the number of iterations. Duality gap: 45201281026.177, tolerance: 760708549.4053607\n",
      "  model = cd_fast.enet_coordinate_descent_gram(\n",
      "/Users/adamklesc11/opt/anaconda3/lib/python3.8/site-packages/sklearn/linear_model/_coordinate_descent.py:526: ConvergenceWarning: Objective did not converge. You might want to increase the number of iterations. Duality gap: 40809602106.329834, tolerance: 760708549.4053607\n",
      "  model = cd_fast.enet_coordinate_descent_gram(\n",
      "/Users/adamklesc11/opt/anaconda3/lib/python3.8/site-packages/sklearn/linear_model/_coordinate_descent.py:526: ConvergenceWarning: Objective did not converge. You might want to increase the number of iterations. Duality gap: 29742821416.42859, tolerance: 760708549.4053607\n",
      "  model = cd_fast.enet_coordinate_descent_gram(\n",
      "/Users/adamklesc11/opt/anaconda3/lib/python3.8/site-packages/sklearn/linear_model/_coordinate_descent.py:526: ConvergenceWarning: Objective did not converge. You might want to increase the number of iterations. Duality gap: 18615072567.744873, tolerance: 760708549.4053607\n",
      "  model = cd_fast.enet_coordinate_descent_gram(\n",
      "/Users/adamklesc11/opt/anaconda3/lib/python3.8/site-packages/sklearn/linear_model/_coordinate_descent.py:526: ConvergenceWarning: Objective did not converge. You might want to increase the number of iterations. Duality gap: 29785923436.59497, tolerance: 760708549.4053607\n",
      "  model = cd_fast.enet_coordinate_descent_gram(\n",
      "/Users/adamklesc11/opt/anaconda3/lib/python3.8/site-packages/sklearn/linear_model/_coordinate_descent.py:526: ConvergenceWarning: Objective did not converge. You might want to increase the number of iterations. Duality gap: 27482305728.939453, tolerance: 760708549.4053607\n",
      "  model = cd_fast.enet_coordinate_descent_gram(\n",
      "/Users/adamklesc11/opt/anaconda3/lib/python3.8/site-packages/sklearn/linear_model/_coordinate_descent.py:526: ConvergenceWarning: Objective did not converge. You might want to increase the number of iterations. Duality gap: 18123330211.503906, tolerance: 760708549.4053607\n",
      "  model = cd_fast.enet_coordinate_descent_gram(\n",
      "/Users/adamklesc11/opt/anaconda3/lib/python3.8/site-packages/sklearn/linear_model/_coordinate_descent.py:526: ConvergenceWarning: Objective did not converge. You might want to increase the number of iterations. Duality gap: 10352977499.046509, tolerance: 760708549.4053607\n",
      "  model = cd_fast.enet_coordinate_descent_gram(\n",
      "/Users/adamklesc11/opt/anaconda3/lib/python3.8/site-packages/sklearn/linear_model/_coordinate_descent.py:526: ConvergenceWarning: Objective did not converge. You might want to increase the number of iterations. Duality gap: 11446777139.813477, tolerance: 760708549.4053607\n",
      "  model = cd_fast.enet_coordinate_descent_gram(\n",
      "/Users/adamklesc11/opt/anaconda3/lib/python3.8/site-packages/sklearn/linear_model/_coordinate_descent.py:526: ConvergenceWarning: Objective did not converge. You might want to increase the number of iterations. Duality gap: 10369383262.933838, tolerance: 760708549.4053607\n",
      "  model = cd_fast.enet_coordinate_descent_gram(\n",
      "/Users/adamklesc11/opt/anaconda3/lib/python3.8/site-packages/sklearn/linear_model/_coordinate_descent.py:526: ConvergenceWarning: Objective did not converge. You might want to increase the number of iterations. Duality gap: 8235086673.016602, tolerance: 760708549.4053607\n",
      "  model = cd_fast.enet_coordinate_descent_gram(\n",
      "/Users/adamklesc11/opt/anaconda3/lib/python3.8/site-packages/sklearn/linear_model/_coordinate_descent.py:526: ConvergenceWarning: Objective did not converge. You might want to increase the number of iterations. Duality gap: 6815843243.104858, tolerance: 760708549.4053607\n",
      "  model = cd_fast.enet_coordinate_descent_gram(\n",
      "/Users/adamklesc11/opt/anaconda3/lib/python3.8/site-packages/sklearn/linear_model/_coordinate_descent.py:526: ConvergenceWarning: Objective did not converge. You might want to increase the number of iterations. Duality gap: 8723796984.374268, tolerance: 760708549.4053607\n",
      "  model = cd_fast.enet_coordinate_descent_gram(\n",
      "/Users/adamklesc11/opt/anaconda3/lib/python3.8/site-packages/sklearn/linear_model/_coordinate_descent.py:526: ConvergenceWarning: Objective did not converge. You might want to increase the number of iterations. Duality gap: 9923552878.722168, tolerance: 760708549.4053607\n",
      "  model = cd_fast.enet_coordinate_descent_gram(\n",
      "/Users/adamklesc11/opt/anaconda3/lib/python3.8/site-packages/sklearn/linear_model/_coordinate_descent.py:526: ConvergenceWarning: Objective did not converge. You might want to increase the number of iterations. Duality gap: 10036009013.966064, tolerance: 760708549.4053607\n",
      "  model = cd_fast.enet_coordinate_descent_gram(\n",
      "/Users/adamklesc11/opt/anaconda3/lib/python3.8/site-packages/sklearn/linear_model/_coordinate_descent.py:526: ConvergenceWarning: Objective did not converge. You might want to increase the number of iterations. Duality gap: 9436550328.576172, tolerance: 760708549.4053607\n",
      "  model = cd_fast.enet_coordinate_descent_gram(\n",
      "/Users/adamklesc11/opt/anaconda3/lib/python3.8/site-packages/sklearn/linear_model/_coordinate_descent.py:526: ConvergenceWarning: Objective did not converge. You might want to increase the number of iterations. Duality gap: 8659734408.859375, tolerance: 760708549.4053607\n",
      "  model = cd_fast.enet_coordinate_descent_gram(\n",
      "/Users/adamklesc11/opt/anaconda3/lib/python3.8/site-packages/sklearn/linear_model/_coordinate_descent.py:526: ConvergenceWarning: Objective did not converge. You might want to increase the number of iterations. Duality gap: 8084499056.2561035, tolerance: 760708549.4053607\n",
      "  model = cd_fast.enet_coordinate_descent_gram(\n",
      "/Users/adamklesc11/opt/anaconda3/lib/python3.8/site-packages/sklearn/linear_model/_coordinate_descent.py:526: ConvergenceWarning: Objective did not converge. You might want to increase the number of iterations. Duality gap: 7846727394.841553, tolerance: 760708549.4053607\n",
      "  model = cd_fast.enet_coordinate_descent_gram(\n",
      "/Users/adamklesc11/opt/anaconda3/lib/python3.8/site-packages/sklearn/linear_model/_coordinate_descent.py:526: ConvergenceWarning: Objective did not converge. You might want to increase the number of iterations. Duality gap: 7898854334.580566, tolerance: 760708549.4053607\n",
      "  model = cd_fast.enet_coordinate_descent_gram(\n",
      "/Users/adamklesc11/opt/anaconda3/lib/python3.8/site-packages/sklearn/linear_model/_coordinate_descent.py:526: ConvergenceWarning: Objective did not converge. You might want to increase the number of iterations. Duality gap: 8105771811.940674, tolerance: 760708549.4053607\n",
      "  model = cd_fast.enet_coordinate_descent_gram(\n",
      "/Users/adamklesc11/opt/anaconda3/lib/python3.8/site-packages/sklearn/linear_model/_coordinate_descent.py:526: ConvergenceWarning: Objective did not converge. You might want to increase the number of iterations. Duality gap: 8326881414.782959, tolerance: 760708549.4053607\n",
      "  model = cd_fast.enet_coordinate_descent_gram(\n",
      "/Users/adamklesc11/opt/anaconda3/lib/python3.8/site-packages/sklearn/linear_model/_coordinate_descent.py:526: ConvergenceWarning: Objective did not converge. You might want to increase the number of iterations. Duality gap: 8469967936.775635, tolerance: 760708549.4053607\n",
      "  model = cd_fast.enet_coordinate_descent_gram(\n",
      "/Users/adamklesc11/opt/anaconda3/lib/python3.8/site-packages/sklearn/linear_model/_coordinate_descent.py:526: ConvergenceWarning: Objective did not converge. You might want to increase the number of iterations. Duality gap: 8509045585.4470215, tolerance: 760708549.4053607\n",
      "  model = cd_fast.enet_coordinate_descent_gram(\n",
      "/Users/adamklesc11/opt/anaconda3/lib/python3.8/site-packages/sklearn/linear_model/_coordinate_descent.py:526: ConvergenceWarning: Objective did not converge. You might want to increase the number of iterations. Duality gap: 8469515166.697266, tolerance: 760708549.4053607\n",
      "  model = cd_fast.enet_coordinate_descent_gram(\n",
      "/Users/adamklesc11/opt/anaconda3/lib/python3.8/site-packages/sklearn/linear_model/_coordinate_descent.py:526: ConvergenceWarning: Objective did not converge. You might want to increase the number of iterations. Duality gap: 8397823309.465332, tolerance: 760708549.4053607\n",
      "  model = cd_fast.enet_coordinate_descent_gram(\n",
      "/Users/adamklesc11/opt/anaconda3/lib/python3.8/site-packages/sklearn/linear_model/_coordinate_descent.py:526: ConvergenceWarning: Objective did not converge. You might want to increase the number of iterations. Duality gap: 8334500072.8845215, tolerance: 760708549.4053607\n",
      "  model = cd_fast.enet_coordinate_descent_gram(\n",
      "/Users/adamklesc11/opt/anaconda3/lib/python3.8/site-packages/sklearn/linear_model/_coordinate_descent.py:526: ConvergenceWarning: Objective did not converge. You might want to increase the number of iterations. Duality gap: 8300606200.989746, tolerance: 760708549.4053607\n",
      "  model = cd_fast.enet_coordinate_descent_gram(\n",
      "/Users/adamklesc11/opt/anaconda3/lib/python3.8/site-packages/sklearn/linear_model/_coordinate_descent.py:526: ConvergenceWarning: Objective did not converge. You might want to increase the number of iterations. Duality gap: 8297361319.126099, tolerance: 760708549.4053607\n",
      "  model = cd_fast.enet_coordinate_descent_gram(\n",
      "/Users/adamklesc11/opt/anaconda3/lib/python3.8/site-packages/sklearn/linear_model/_coordinate_descent.py:526: ConvergenceWarning: Objective did not converge. You might want to increase the number of iterations. Duality gap: 8313662926.074707, tolerance: 760708549.4053607\n",
      "  model = cd_fast.enet_coordinate_descent_gram(\n"
     ]
    },
    {
     "name": "stderr",
     "output_type": "stream",
     "text": [
      "/Users/adamklesc11/opt/anaconda3/lib/python3.8/site-packages/sklearn/linear_model/_coordinate_descent.py:526: ConvergenceWarning: Objective did not converge. You might want to increase the number of iterations. Duality gap: 8335209987.09436, tolerance: 760708549.4053607\n",
      "  model = cd_fast.enet_coordinate_descent_gram(\n",
      "/Users/adamklesc11/opt/anaconda3/lib/python3.8/site-packages/sklearn/linear_model/_coordinate_descent.py:526: ConvergenceWarning: Objective did not converge. You might want to increase the number of iterations. Duality gap: 8351343175.0373535, tolerance: 760708549.4053607\n",
      "  model = cd_fast.enet_coordinate_descent_gram(\n",
      "/Users/adamklesc11/opt/anaconda3/lib/python3.8/site-packages/sklearn/linear_model/_coordinate_descent.py:526: ConvergenceWarning: Objective did not converge. You might want to increase the number of iterations. Duality gap: 8357736316.309326, tolerance: 760708549.4053607\n",
      "  model = cd_fast.enet_coordinate_descent_gram(\n",
      "/Users/adamklesc11/opt/anaconda3/lib/python3.8/site-packages/sklearn/linear_model/_coordinate_descent.py:526: ConvergenceWarning: Objective did not converge. You might want to increase the number of iterations. Duality gap: 8355586812.74646, tolerance: 760708549.4053607\n",
      "  model = cd_fast.enet_coordinate_descent_gram(\n",
      "/Users/adamklesc11/opt/anaconda3/lib/python3.8/site-packages/sklearn/linear_model/_coordinate_descent.py:526: ConvergenceWarning: Objective did not converge. You might want to increase the number of iterations. Duality gap: 8348978317.683838, tolerance: 760708549.4053607\n",
      "  model = cd_fast.enet_coordinate_descent_gram(\n",
      "/Users/adamklesc11/opt/anaconda3/lib/python3.8/site-packages/sklearn/linear_model/_coordinate_descent.py:526: ConvergenceWarning: Objective did not converge. You might want to increase the number of iterations. Duality gap: 8342098276.896484, tolerance: 760708549.4053607\n",
      "  model = cd_fast.enet_coordinate_descent_gram(\n",
      "/Users/adamklesc11/opt/anaconda3/lib/python3.8/site-packages/sklearn/linear_model/_coordinate_descent.py:526: ConvergenceWarning: Objective did not converge. You might want to increase the number of iterations. Duality gap: 8337624604.941406, tolerance: 760708549.4053607\n",
      "  model = cd_fast.enet_coordinate_descent_gram(\n",
      "/Users/adamklesc11/opt/anaconda3/lib/python3.8/site-packages/sklearn/linear_model/_coordinate_descent.py:526: ConvergenceWarning: Objective did not converge. You might want to increase the number of iterations. Duality gap: 8336198215.6657715, tolerance: 760708549.4053607\n",
      "  model = cd_fast.enet_coordinate_descent_gram(\n",
      "/Users/adamklesc11/opt/anaconda3/lib/python3.8/site-packages/sklearn/linear_model/_coordinate_descent.py:526: ConvergenceWarning: Objective did not converge. You might want to increase the number of iterations. Duality gap: 8337049979.993164, tolerance: 760708549.4053607\n",
      "  model = cd_fast.enet_coordinate_descent_gram(\n",
      "/Users/adamklesc11/opt/anaconda3/lib/python3.8/site-packages/sklearn/linear_model/_coordinate_descent.py:526: ConvergenceWarning: Objective did not converge. You might want to increase the number of iterations. Duality gap: 8338829332.981689, tolerance: 760708549.4053607\n",
      "  model = cd_fast.enet_coordinate_descent_gram(\n",
      "/Users/adamklesc11/opt/anaconda3/lib/python3.8/site-packages/sklearn/linear_model/_coordinate_descent.py:526: ConvergenceWarning: Objective did not converge. You might want to increase the number of iterations. Duality gap: 8340415887.081421, tolerance: 760708549.4053607\n",
      "  model = cd_fast.enet_coordinate_descent_gram(\n",
      "/Users/adamklesc11/opt/anaconda3/lib/python3.8/site-packages/sklearn/linear_model/_coordinate_descent.py:526: ConvergenceWarning: Objective did not converge. You might want to increase the number of iterations. Duality gap: 8341114726.839844, tolerance: 760708549.4053607\n",
      "  model = cd_fast.enet_coordinate_descent_gram(\n",
      "/Users/adamklesc11/opt/anaconda3/lib/python3.8/site-packages/sklearn/linear_model/_coordinate_descent.py:526: ConvergenceWarning: Objective did not converge. You might want to increase the number of iterations. Duality gap: 8340965462.319336, tolerance: 760708549.4053607\n",
      "  model = cd_fast.enet_coordinate_descent_gram(\n",
      "/Users/adamklesc11/opt/anaconda3/lib/python3.8/site-packages/sklearn/linear_model/_coordinate_descent.py:526: ConvergenceWarning: Objective did not converge. You might want to increase the number of iterations. Duality gap: 8340238985.241943, tolerance: 760708549.4053607\n",
      "  model = cd_fast.enet_coordinate_descent_gram(\n",
      "/Users/adamklesc11/opt/anaconda3/lib/python3.8/site-packages/sklearn/linear_model/_coordinate_descent.py:526: ConvergenceWarning: Objective did not converge. You might want to increase the number of iterations. Duality gap: 8339398433.659424, tolerance: 760708549.4053607\n",
      "  model = cd_fast.enet_coordinate_descent_gram(\n",
      "/Users/adamklesc11/opt/anaconda3/lib/python3.8/site-packages/sklearn/linear_model/_coordinate_descent.py:526: ConvergenceWarning: Objective did not converge. You might want to increase the number of iterations. Duality gap: 8338749137.070557, tolerance: 760708549.4053607\n",
      "  model = cd_fast.enet_coordinate_descent_gram(\n",
      "/Users/adamklesc11/opt/anaconda3/lib/python3.8/site-packages/sklearn/linear_model/_coordinate_descent.py:526: ConvergenceWarning: Objective did not converge. You might want to increase the number of iterations. Duality gap: 8338359382.456665, tolerance: 760708549.4053607\n",
      "  model = cd_fast.enet_coordinate_descent_gram(\n",
      "/Users/adamklesc11/opt/anaconda3/lib/python3.8/site-packages/sklearn/linear_model/_coordinate_descent.py:526: ConvergenceWarning: Objective did not converge. You might want to increase the number of iterations. Duality gap: 8338282022.800049, tolerance: 760708549.4053607\n",
      "  model = cd_fast.enet_coordinate_descent_gram(\n",
      "/Users/adamklesc11/opt/anaconda3/lib/python3.8/site-packages/sklearn/linear_model/_coordinate_descent.py:526: ConvergenceWarning: Objective did not converge. You might want to increase the number of iterations. Duality gap: 8338276808.708374, tolerance: 760708549.4053607\n",
      "  model = cd_fast.enet_coordinate_descent_gram(\n",
      "/Users/adamklesc11/opt/anaconda3/lib/python3.8/site-packages/sklearn/linear_model/_coordinate_descent.py:526: ConvergenceWarning: Objective did not converge. You might want to increase the number of iterations. Duality gap: 8338365537.824219, tolerance: 760708549.4053607\n",
      "  model = cd_fast.enet_coordinate_descent_gram(\n",
      "/Users/adamklesc11/opt/anaconda3/lib/python3.8/site-packages/sklearn/linear_model/_coordinate_descent.py:526: ConvergenceWarning: Objective did not converge. You might want to increase the number of iterations. Duality gap: 8338370298.59082, tolerance: 760708549.4053607\n",
      "  model = cd_fast.enet_coordinate_descent_gram(\n",
      "/Users/adamklesc11/opt/anaconda3/lib/python3.8/site-packages/sklearn/linear_model/_coordinate_descent.py:526: ConvergenceWarning: Objective did not converge. You might want to increase the number of iterations. Duality gap: 8338241811.223999, tolerance: 760708549.4053607\n",
      "  model = cd_fast.enet_coordinate_descent_gram(\n",
      "/Users/adamklesc11/opt/anaconda3/lib/python3.8/site-packages/sklearn/linear_model/_coordinate_descent.py:526: ConvergenceWarning: Objective did not converge. You might want to increase the number of iterations. Duality gap: 8338082636.567383, tolerance: 760708549.4053607\n",
      "  model = cd_fast.enet_coordinate_descent_gram(\n",
      "/Users/adamklesc11/opt/anaconda3/lib/python3.8/site-packages/sklearn/linear_model/_coordinate_descent.py:526: ConvergenceWarning: Objective did not converge. You might want to increase the number of iterations. Duality gap: 8337978146.010742, tolerance: 760708549.4053607\n",
      "  model = cd_fast.enet_coordinate_descent_gram(\n",
      "/Users/adamklesc11/opt/anaconda3/lib/python3.8/site-packages/sklearn/linear_model/_coordinate_descent.py:526: ConvergenceWarning: Objective did not converge. You might want to increase the number of iterations. Duality gap: 8337789151.083496, tolerance: 760708549.4053607\n",
      "  model = cd_fast.enet_coordinate_descent_gram(\n",
      "/Users/adamklesc11/opt/anaconda3/lib/python3.8/site-packages/sklearn/linear_model/_coordinate_descent.py:526: ConvergenceWarning: Objective did not converge. You might want to increase the number of iterations. Duality gap: 8337661326.383545, tolerance: 760708549.4053607\n",
      "  model = cd_fast.enet_coordinate_descent_gram(\n",
      "/Users/adamklesc11/opt/anaconda3/lib/python3.8/site-packages/sklearn/linear_model/_coordinate_descent.py:526: ConvergenceWarning: Objective did not converge. You might want to increase the number of iterations. Duality gap: 8337622148.349731, tolerance: 760708549.4053607\n",
      "  model = cd_fast.enet_coordinate_descent_gram(\n",
      "/Users/adamklesc11/opt/anaconda3/lib/python3.8/site-packages/sklearn/linear_model/_coordinate_descent.py:526: ConvergenceWarning: Objective did not converge. You might want to increase the number of iterations. Duality gap: 8337522148.420166, tolerance: 760708549.4053607\n",
      "  model = cd_fast.enet_coordinate_descent_gram(\n",
      "/Users/adamklesc11/opt/anaconda3/lib/python3.8/site-packages/sklearn/linear_model/_coordinate_descent.py:526: ConvergenceWarning: Objective did not converge. You might want to increase the number of iterations. Duality gap: 8337462588.807861, tolerance: 760708549.4053607\n",
      "  model = cd_fast.enet_coordinate_descent_gram(\n",
      "/Users/adamklesc11/opt/anaconda3/lib/python3.8/site-packages/sklearn/linear_model/_coordinate_descent.py:526: ConvergenceWarning: Objective did not converge. You might want to increase the number of iterations. Duality gap: 8337365359.951538, tolerance: 760708549.4053607\n",
      "  model = cd_fast.enet_coordinate_descent_gram(\n",
      "/Users/adamklesc11/opt/anaconda3/lib/python3.8/site-packages/sklearn/linear_model/_coordinate_descent.py:526: ConvergenceWarning: Objective did not converge. You might want to increase the number of iterations. Duality gap: 8337341461.062866, tolerance: 760708549.4053607\n",
      "  model = cd_fast.enet_coordinate_descent_gram(\n",
      "/Users/adamklesc11/opt/anaconda3/lib/python3.8/site-packages/sklearn/linear_model/_coordinate_descent.py:526: ConvergenceWarning: Objective did not converge. You might want to increase the number of iterations. Duality gap: 8337301459.423584, tolerance: 760708549.4053607\n",
      "  model = cd_fast.enet_coordinate_descent_gram(\n",
      "/Users/adamklesc11/opt/anaconda3/lib/python3.8/site-packages/sklearn/linear_model/_coordinate_descent.py:526: ConvergenceWarning: Objective did not converge. You might want to increase the number of iterations. Duality gap: 8337223831.075806, tolerance: 760708549.4053607\n",
      "  model = cd_fast.enet_coordinate_descent_gram(\n",
      "/Users/adamklesc11/opt/anaconda3/lib/python3.8/site-packages/sklearn/linear_model/_coordinate_descent.py:526: ConvergenceWarning: Objective did not converge. You might want to increase the number of iterations. Duality gap: 8337170528.425781, tolerance: 760708549.4053607\n",
      "  model = cd_fast.enet_coordinate_descent_gram(\n",
      "/Users/adamklesc11/opt/anaconda3/lib/python3.8/site-packages/sklearn/linear_model/_coordinate_descent.py:526: ConvergenceWarning: Objective did not converge. You might want to increase the number of iterations. Duality gap: 8337142194.07666, tolerance: 760708549.4053607\n",
      "  model = cd_fast.enet_coordinate_descent_gram(\n",
      "/Users/adamklesc11/opt/anaconda3/lib/python3.8/site-packages/sklearn/linear_model/_coordinate_descent.py:526: ConvergenceWarning: Objective did not converge. You might want to increase the number of iterations. Duality gap: 8337065072.678589, tolerance: 760708549.4053607\n",
      "  model = cd_fast.enet_coordinate_descent_gram(\n",
      "/Users/adamklesc11/opt/anaconda3/lib/python3.8/site-packages/sklearn/linear_model/_coordinate_descent.py:526: ConvergenceWarning: Objective did not converge. You might want to increase the number of iterations. Duality gap: 8337040576.616089, tolerance: 760708549.4053607\n",
      "  model = cd_fast.enet_coordinate_descent_gram(\n",
      "/Users/adamklesc11/opt/anaconda3/lib/python3.8/site-packages/sklearn/linear_model/_coordinate_descent.py:526: ConvergenceWarning: Objective did not converge. You might want to increase the number of iterations. Duality gap: 8337066336.489502, tolerance: 760708549.4053607\n",
      "  model = cd_fast.enet_coordinate_descent_gram(\n",
      "/Users/adamklesc11/opt/anaconda3/lib/python3.8/site-packages/sklearn/linear_model/_coordinate_descent.py:526: ConvergenceWarning: Objective did not converge. You might want to increase the number of iterations. Duality gap: 8336926244.735352, tolerance: 760708549.4053607\n",
      "  model = cd_fast.enet_coordinate_descent_gram(\n",
      "/Users/adamklesc11/opt/anaconda3/lib/python3.8/site-packages/sklearn/linear_model/_coordinate_descent.py:526: ConvergenceWarning: Objective did not converge. You might want to increase the number of iterations. Duality gap: 8336998496.406128, tolerance: 760708549.4053607\n",
      "  model = cd_fast.enet_coordinate_descent_gram(\n",
      "/Users/adamklesc11/opt/anaconda3/lib/python3.8/site-packages/sklearn/linear_model/_coordinate_descent.py:526: ConvergenceWarning: Objective did not converge. You might want to increase the number of iterations. Duality gap: 8336958357.706665, tolerance: 760708549.4053607\n",
      "  model = cd_fast.enet_coordinate_descent_gram(\n",
      "/Users/adamklesc11/opt/anaconda3/lib/python3.8/site-packages/sklearn/linear_model/_coordinate_descent.py:526: ConvergenceWarning: Objective did not converge. You might want to increase the number of iterations. Duality gap: 8336895702.311523, tolerance: 760708549.4053607\n",
      "  model = cd_fast.enet_coordinate_descent_gram(\n",
      "/Users/adamklesc11/opt/anaconda3/lib/python3.8/site-packages/sklearn/linear_model/_coordinate_descent.py:526: ConvergenceWarning: Objective did not converge. You might want to increase the number of iterations. Duality gap: 8336749170.582275, tolerance: 760708549.4053607\n",
      "  model = cd_fast.enet_coordinate_descent_gram(\n",
      "/Users/adamklesc11/opt/anaconda3/lib/python3.8/site-packages/sklearn/linear_model/_coordinate_descent.py:526: ConvergenceWarning: Objective did not converge. You might want to increase the number of iterations. Duality gap: 8336845651.148193, tolerance: 760708549.4053607\n",
      "  model = cd_fast.enet_coordinate_descent_gram(\n",
      "/Users/adamklesc11/opt/anaconda3/lib/python3.8/site-packages/sklearn/linear_model/_coordinate_descent.py:526: ConvergenceWarning: Objective did not converge. You might want to increase the number of iterations. Duality gap: 8336768358.466187, tolerance: 760708549.4053607\n",
      "  model = cd_fast.enet_coordinate_descent_gram(\n",
      "/Users/adamklesc11/opt/anaconda3/lib/python3.8/site-packages/sklearn/linear_model/_coordinate_descent.py:526: ConvergenceWarning: Objective did not converge. You might want to increase the number of iterations. Duality gap: 8336744933.5529785, tolerance: 760708549.4053607\n",
      "  model = cd_fast.enet_coordinate_descent_gram(\n",
      "/Users/adamklesc11/opt/anaconda3/lib/python3.8/site-packages/sklearn/linear_model/_coordinate_descent.py:526: ConvergenceWarning: Objective did not converge. You might want to increase the number of iterations. Duality gap: 8336692485.145142, tolerance: 760708549.4053607\n",
      "  model = cd_fast.enet_coordinate_descent_gram(\n"
     ]
    },
    {
     "name": "stderr",
     "output_type": "stream",
     "text": [
      "/Users/adamklesc11/opt/anaconda3/lib/python3.8/site-packages/sklearn/linear_model/_coordinate_descent.py:526: ConvergenceWarning: Objective did not converge. You might want to increase the number of iterations. Duality gap: 8336558560.697998, tolerance: 760708549.4053607\n",
      "  model = cd_fast.enet_coordinate_descent_gram(\n",
      "/Users/adamklesc11/opt/anaconda3/lib/python3.8/site-packages/sklearn/linear_model/_coordinate_descent.py:526: ConvergenceWarning: Objective did not converge. You might want to increase the number of iterations. Duality gap: 8336894830.516846, tolerance: 760708549.4053607\n",
      "  model = cd_fast.enet_coordinate_descent_gram(\n",
      "/Users/adamklesc11/opt/anaconda3/lib/python3.8/site-packages/sklearn/linear_model/_coordinate_descent.py:526: ConvergenceWarning: Objective did not converge. You might want to increase the number of iterations. Duality gap: 8336574871.570068, tolerance: 760708549.4053607\n",
      "  model = cd_fast.enet_coordinate_descent_gram(\n",
      "/Users/adamklesc11/opt/anaconda3/lib/python3.8/site-packages/sklearn/linear_model/_coordinate_descent.py:526: ConvergenceWarning: Objective did not converge. You might want to increase the number of iterations. Duality gap: 8336832884.794922, tolerance: 760708549.4053607\n",
      "  model = cd_fast.enet_coordinate_descent_gram(\n",
      "/Users/adamklesc11/opt/anaconda3/lib/python3.8/site-packages/sklearn/linear_model/_coordinate_descent.py:526: ConvergenceWarning: Objective did not converge. You might want to increase the number of iterations. Duality gap: 8336395153.040405, tolerance: 760708549.4053607\n",
      "  model = cd_fast.enet_coordinate_descent_gram(\n",
      "/Users/adamklesc11/opt/anaconda3/lib/python3.8/site-packages/sklearn/linear_model/_coordinate_descent.py:526: ConvergenceWarning: Objective did not converge. You might want to increase the number of iterations. Duality gap: 8336877103.21167, tolerance: 760708549.4053607\n",
      "  model = cd_fast.enet_coordinate_descent_gram(\n",
      "/Users/adamklesc11/opt/anaconda3/lib/python3.8/site-packages/sklearn/linear_model/_coordinate_descent.py:526: ConvergenceWarning: Objective did not converge. You might want to increase the number of iterations. Duality gap: 8336439913.957031, tolerance: 760708549.4053607\n",
      "  model = cd_fast.enet_coordinate_descent_gram(\n",
      "/Users/adamklesc11/opt/anaconda3/lib/python3.8/site-packages/sklearn/linear_model/_coordinate_descent.py:526: ConvergenceWarning: Objective did not converge. You might want to increase the number of iterations. Duality gap: 8336787721.924805, tolerance: 760708549.4053607\n",
      "  model = cd_fast.enet_coordinate_descent_gram(\n",
      "/Users/adamklesc11/opt/anaconda3/lib/python3.8/site-packages/sklearn/linear_model/_coordinate_descent.py:526: ConvergenceWarning: Objective did not converge. You might want to increase the number of iterations. Duality gap: 402244084541.1869, tolerance: 731633840.9885501\n",
      "  model = cd_fast.enet_coordinate_descent_gram(\n",
      "/Users/adamklesc11/opt/anaconda3/lib/python3.8/site-packages/sklearn/linear_model/_coordinate_descent.py:526: ConvergenceWarning: Objective did not converge. You might want to increase the number of iterations. Duality gap: 387797361995.73456, tolerance: 731633840.9885501\n",
      "  model = cd_fast.enet_coordinate_descent_gram(\n",
      "/Users/adamklesc11/opt/anaconda3/lib/python3.8/site-packages/sklearn/linear_model/_coordinate_descent.py:526: ConvergenceWarning: Objective did not converge. You might want to increase the number of iterations. Duality gap: 371321111230.2485, tolerance: 731633840.9885501\n",
      "  model = cd_fast.enet_coordinate_descent_gram(\n",
      "/Users/adamklesc11/opt/anaconda3/lib/python3.8/site-packages/sklearn/linear_model/_coordinate_descent.py:526: ConvergenceWarning: Objective did not converge. You might want to increase the number of iterations. Duality gap: 339304588255.96246, tolerance: 731633840.9885501\n",
      "  model = cd_fast.enet_coordinate_descent_gram(\n",
      "/Users/adamklesc11/opt/anaconda3/lib/python3.8/site-packages/sklearn/linear_model/_coordinate_descent.py:526: ConvergenceWarning: Objective did not converge. You might want to increase the number of iterations. Duality gap: 324205450905.4021, tolerance: 731633840.9885501\n",
      "  model = cd_fast.enet_coordinate_descent_gram(\n",
      "/Users/adamklesc11/opt/anaconda3/lib/python3.8/site-packages/sklearn/linear_model/_coordinate_descent.py:526: ConvergenceWarning: Objective did not converge. You might want to increase the number of iterations. Duality gap: 303807166896.80054, tolerance: 731633840.9885501\n",
      "  model = cd_fast.enet_coordinate_descent_gram(\n",
      "/Users/adamklesc11/opt/anaconda3/lib/python3.8/site-packages/sklearn/linear_model/_coordinate_descent.py:526: ConvergenceWarning: Objective did not converge. You might want to increase the number of iterations. Duality gap: 253252713106.88287, tolerance: 731633840.9885501\n",
      "  model = cd_fast.enet_coordinate_descent_gram(\n",
      "/Users/adamklesc11/opt/anaconda3/lib/python3.8/site-packages/sklearn/linear_model/_coordinate_descent.py:526: ConvergenceWarning: Objective did not converge. You might want to increase the number of iterations. Duality gap: 212019691087.26, tolerance: 731633840.9885501\n",
      "  model = cd_fast.enet_coordinate_descent_gram(\n",
      "/Users/adamklesc11/opt/anaconda3/lib/python3.8/site-packages/sklearn/linear_model/_coordinate_descent.py:526: ConvergenceWarning: Objective did not converge. You might want to increase the number of iterations. Duality gap: 200712981409.36957, tolerance: 731633840.9885501\n",
      "  model = cd_fast.enet_coordinate_descent_gram(\n",
      "/Users/adamklesc11/opt/anaconda3/lib/python3.8/site-packages/sklearn/linear_model/_coordinate_descent.py:526: ConvergenceWarning: Objective did not converge. You might want to increase the number of iterations. Duality gap: 128988385511.40198, tolerance: 731633840.9885501\n",
      "  model = cd_fast.enet_coordinate_descent_gram(\n",
      "/Users/adamklesc11/opt/anaconda3/lib/python3.8/site-packages/sklearn/linear_model/_coordinate_descent.py:526: ConvergenceWarning: Objective did not converge. You might want to increase the number of iterations. Duality gap: 109205886897.33789, tolerance: 731633840.9885501\n",
      "  model = cd_fast.enet_coordinate_descent_gram(\n",
      "/Users/adamklesc11/opt/anaconda3/lib/python3.8/site-packages/sklearn/linear_model/_coordinate_descent.py:526: ConvergenceWarning: Objective did not converge. You might want to increase the number of iterations. Duality gap: 67607047168.37866, tolerance: 731633840.9885501\n",
      "  model = cd_fast.enet_coordinate_descent_gram(\n",
      "/Users/adamklesc11/opt/anaconda3/lib/python3.8/site-packages/sklearn/linear_model/_coordinate_descent.py:526: ConvergenceWarning: Objective did not converge. You might want to increase the number of iterations. Duality gap: 33611445399.515747, tolerance: 731633840.9885501\n",
      "  model = cd_fast.enet_coordinate_descent_gram(\n",
      "/Users/adamklesc11/opt/anaconda3/lib/python3.8/site-packages/sklearn/linear_model/_coordinate_descent.py:526: ConvergenceWarning: Objective did not converge. You might want to increase the number of iterations. Duality gap: 45443714923.14014, tolerance: 731633840.9885501\n",
      "  model = cd_fast.enet_coordinate_descent_gram(\n",
      "/Users/adamklesc11/opt/anaconda3/lib/python3.8/site-packages/sklearn/linear_model/_coordinate_descent.py:526: ConvergenceWarning: Objective did not converge. You might want to increase the number of iterations. Duality gap: 39573614901.24939, tolerance: 731633840.9885501\n",
      "  model = cd_fast.enet_coordinate_descent_gram(\n",
      "/Users/adamklesc11/opt/anaconda3/lib/python3.8/site-packages/sklearn/linear_model/_coordinate_descent.py:526: ConvergenceWarning: Objective did not converge. You might want to increase the number of iterations. Duality gap: 30340086345.494873, tolerance: 731633840.9885501\n",
      "  model = cd_fast.enet_coordinate_descent_gram(\n",
      "/Users/adamklesc11/opt/anaconda3/lib/python3.8/site-packages/sklearn/linear_model/_coordinate_descent.py:526: ConvergenceWarning: Objective did not converge. You might want to increase the number of iterations. Duality gap: 33434462363.791504, tolerance: 731633840.9885501\n",
      "  model = cd_fast.enet_coordinate_descent_gram(\n",
      "/Users/adamklesc11/opt/anaconda3/lib/python3.8/site-packages/sklearn/linear_model/_coordinate_descent.py:526: ConvergenceWarning: Objective did not converge. You might want to increase the number of iterations. Duality gap: 27928728415.097046, tolerance: 731633840.9885501\n",
      "  model = cd_fast.enet_coordinate_descent_gram(\n",
      "/Users/adamklesc11/opt/anaconda3/lib/python3.8/site-packages/sklearn/linear_model/_coordinate_descent.py:526: ConvergenceWarning: Objective did not converge. You might want to increase the number of iterations. Duality gap: 20912928572.754883, tolerance: 731633840.9885501\n",
      "  model = cd_fast.enet_coordinate_descent_gram(\n",
      "/Users/adamklesc11/opt/anaconda3/lib/python3.8/site-packages/sklearn/linear_model/_coordinate_descent.py:526: ConvergenceWarning: Objective did not converge. You might want to increase the number of iterations. Duality gap: 21833065692.57959, tolerance: 731633840.9885501\n",
      "  model = cd_fast.enet_coordinate_descent_gram(\n",
      "/Users/adamklesc11/opt/anaconda3/lib/python3.8/site-packages/sklearn/linear_model/_coordinate_descent.py:526: ConvergenceWarning: Objective did not converge. You might want to increase the number of iterations. Duality gap: 22971335013.943848, tolerance: 731633840.9885501\n",
      "  model = cd_fast.enet_coordinate_descent_gram(\n",
      "/Users/adamklesc11/opt/anaconda3/lib/python3.8/site-packages/sklearn/linear_model/_coordinate_descent.py:526: ConvergenceWarning: Objective did not converge. You might want to increase the number of iterations. Duality gap: 23365297487.37976, tolerance: 731633840.9885501\n",
      "  model = cd_fast.enet_coordinate_descent_gram(\n",
      "/Users/adamklesc11/opt/anaconda3/lib/python3.8/site-packages/sklearn/linear_model/_coordinate_descent.py:526: ConvergenceWarning: Objective did not converge. You might want to increase the number of iterations. Duality gap: 23200057170.798584, tolerance: 731633840.9885501\n",
      "  model = cd_fast.enet_coordinate_descent_gram(\n",
      "/Users/adamklesc11/opt/anaconda3/lib/python3.8/site-packages/sklearn/linear_model/_coordinate_descent.py:526: ConvergenceWarning: Objective did not converge. You might want to increase the number of iterations. Duality gap: 22908479455.17981, tolerance: 731633840.9885501\n",
      "  model = cd_fast.enet_coordinate_descent_gram(\n",
      "/Users/adamklesc11/opt/anaconda3/lib/python3.8/site-packages/sklearn/linear_model/_coordinate_descent.py:526: ConvergenceWarning: Objective did not converge. You might want to increase the number of iterations. Duality gap: 22594854527.165405, tolerance: 731633840.9885501\n",
      "  model = cd_fast.enet_coordinate_descent_gram(\n",
      "/Users/adamklesc11/opt/anaconda3/lib/python3.8/site-packages/sklearn/linear_model/_coordinate_descent.py:526: ConvergenceWarning: Objective did not converge. You might want to increase the number of iterations. Duality gap: 22448330873.56079, tolerance: 731633840.9885501\n",
      "  model = cd_fast.enet_coordinate_descent_gram(\n",
      "/Users/adamklesc11/opt/anaconda3/lib/python3.8/site-packages/sklearn/linear_model/_coordinate_descent.py:526: ConvergenceWarning: Objective did not converge. You might want to increase the number of iterations. Duality gap: 22461619100.23181, tolerance: 731633840.9885501\n",
      "  model = cd_fast.enet_coordinate_descent_gram(\n",
      "/Users/adamklesc11/opt/anaconda3/lib/python3.8/site-packages/sklearn/linear_model/_coordinate_descent.py:526: ConvergenceWarning: Objective did not converge. You might want to increase the number of iterations. Duality gap: 22553875198.39209, tolerance: 731633840.9885501\n",
      "  model = cd_fast.enet_coordinate_descent_gram(\n",
      "/Users/adamklesc11/opt/anaconda3/lib/python3.8/site-packages/sklearn/linear_model/_coordinate_descent.py:526: ConvergenceWarning: Objective did not converge. You might want to increase the number of iterations. Duality gap: 22649064863.945435, tolerance: 731633840.9885501\n",
      "  model = cd_fast.enet_coordinate_descent_gram(\n",
      "/Users/adamklesc11/opt/anaconda3/lib/python3.8/site-packages/sklearn/linear_model/_coordinate_descent.py:526: ConvergenceWarning: Objective did not converge. You might want to increase the number of iterations. Duality gap: 22704892154.1062, tolerance: 731633840.9885501\n",
      "  model = cd_fast.enet_coordinate_descent_gram(\n",
      "/Users/adamklesc11/opt/anaconda3/lib/python3.8/site-packages/sklearn/linear_model/_coordinate_descent.py:526: ConvergenceWarning: Objective did not converge. You might want to increase the number of iterations. Duality gap: 22714854260.541992, tolerance: 731633840.9885501\n",
      "  model = cd_fast.enet_coordinate_descent_gram(\n",
      "/Users/adamklesc11/opt/anaconda3/lib/python3.8/site-packages/sklearn/linear_model/_coordinate_descent.py:526: ConvergenceWarning: Objective did not converge. You might want to increase the number of iterations. Duality gap: 22694899336.190674, tolerance: 731633840.9885501\n",
      "  model = cd_fast.enet_coordinate_descent_gram(\n",
      "/Users/adamklesc11/opt/anaconda3/lib/python3.8/site-packages/sklearn/linear_model/_coordinate_descent.py:526: ConvergenceWarning: Objective did not converge. You might want to increase the number of iterations. Duality gap: 22666447252.286377, tolerance: 731633840.9885501\n",
      "  model = cd_fast.enet_coordinate_descent_gram(\n",
      "/Users/adamklesc11/opt/anaconda3/lib/python3.8/site-packages/sklearn/linear_model/_coordinate_descent.py:526: ConvergenceWarning: Objective did not converge. You might want to increase the number of iterations. Duality gap: 22644702281.195923, tolerance: 731633840.9885501\n",
      "  model = cd_fast.enet_coordinate_descent_gram(\n"
     ]
    },
    {
     "name": "stderr",
     "output_type": "stream",
     "text": [
      "/Users/adamklesc11/opt/anaconda3/lib/python3.8/site-packages/sklearn/linear_model/_coordinate_descent.py:526: ConvergenceWarning: Objective did not converge. You might want to increase the number of iterations. Duality gap: 22634995246.674683, tolerance: 731633840.9885501\n",
      "  model = cd_fast.enet_coordinate_descent_gram(\n",
      "/Users/adamklesc11/opt/anaconda3/lib/python3.8/site-packages/sklearn/linear_model/_coordinate_descent.py:526: ConvergenceWarning: Objective did not converge. You might want to increase the number of iterations. Duality gap: 22635059566.02771, tolerance: 731633840.9885501\n",
      "  model = cd_fast.enet_coordinate_descent_gram(\n",
      "/Users/adamklesc11/opt/anaconda3/lib/python3.8/site-packages/sklearn/linear_model/_coordinate_descent.py:526: ConvergenceWarning: Objective did not converge. You might want to increase the number of iterations. Duality gap: 22639508089.09192, tolerance: 731633840.9885501\n",
      "  model = cd_fast.enet_coordinate_descent_gram(\n",
      "/Users/adamklesc11/opt/anaconda3/lib/python3.8/site-packages/sklearn/linear_model/_coordinate_descent.py:526: ConvergenceWarning: Objective did not converge. You might want to increase the number of iterations. Duality gap: 22643606004.364136, tolerance: 731633840.9885501\n",
      "  model = cd_fast.enet_coordinate_descent_gram(\n",
      "/Users/adamklesc11/opt/anaconda3/lib/python3.8/site-packages/sklearn/linear_model/_coordinate_descent.py:526: ConvergenceWarning: Objective did not converge. You might want to increase the number of iterations. Duality gap: 22645005355.342163, tolerance: 731633840.9885501\n",
      "  model = cd_fast.enet_coordinate_descent_gram(\n",
      "/Users/adamklesc11/opt/anaconda3/lib/python3.8/site-packages/sklearn/linear_model/_coordinate_descent.py:526: ConvergenceWarning: Objective did not converge. You might want to increase the number of iterations. Duality gap: 22643656648.569946, tolerance: 731633840.9885501\n",
      "  model = cd_fast.enet_coordinate_descent_gram(\n",
      "/Users/adamklesc11/opt/anaconda3/lib/python3.8/site-packages/sklearn/linear_model/_coordinate_descent.py:526: ConvergenceWarning: Objective did not converge. You might want to increase the number of iterations. Duality gap: 22640759955.067505, tolerance: 731633840.9885501\n",
      "  model = cd_fast.enet_coordinate_descent_gram(\n",
      "/Users/adamklesc11/opt/anaconda3/lib/python3.8/site-packages/sklearn/linear_model/_coordinate_descent.py:526: ConvergenceWarning: Objective did not converge. You might want to increase the number of iterations. Duality gap: 22637671661.399536, tolerance: 731633840.9885501\n",
      "  model = cd_fast.enet_coordinate_descent_gram(\n",
      "/Users/adamklesc11/opt/anaconda3/lib/python3.8/site-packages/sklearn/linear_model/_coordinate_descent.py:526: ConvergenceWarning: Objective did not converge. You might want to increase the number of iterations. Duality gap: 22635246335.269897, tolerance: 731633840.9885501\n",
      "  model = cd_fast.enet_coordinate_descent_gram(\n",
      "/Users/adamklesc11/opt/anaconda3/lib/python3.8/site-packages/sklearn/linear_model/_coordinate_descent.py:526: ConvergenceWarning: Objective did not converge. You might want to increase the number of iterations. Duality gap: 22633696919.31128, tolerance: 731633840.9885501\n",
      "  model = cd_fast.enet_coordinate_descent_gram(\n",
      "/Users/adamklesc11/opt/anaconda3/lib/python3.8/site-packages/sklearn/linear_model/_coordinate_descent.py:526: ConvergenceWarning: Objective did not converge. You might want to increase the number of iterations. Duality gap: 22632799695.81775, tolerance: 731633840.9885501\n",
      "  model = cd_fast.enet_coordinate_descent_gram(\n",
      "/Users/adamklesc11/opt/anaconda3/lib/python3.8/site-packages/sklearn/linear_model/_coordinate_descent.py:526: ConvergenceWarning: Objective did not converge. You might want to increase the number of iterations. Duality gap: 22632175581.32849, tolerance: 731633840.9885501\n",
      "  model = cd_fast.enet_coordinate_descent_gram(\n",
      "/Users/adamklesc11/opt/anaconda3/lib/python3.8/site-packages/sklearn/linear_model/_coordinate_descent.py:526: ConvergenceWarning: Objective did not converge. You might want to increase the number of iterations. Duality gap: 22631547408.357666, tolerance: 731633840.9885501\n",
      "  model = cd_fast.enet_coordinate_descent_gram(\n",
      "/Users/adamklesc11/opt/anaconda3/lib/python3.8/site-packages/sklearn/linear_model/_coordinate_descent.py:526: ConvergenceWarning: Objective did not converge. You might want to increase the number of iterations. Duality gap: 22630781070.961426, tolerance: 731633840.9885501\n",
      "  model = cd_fast.enet_coordinate_descent_gram(\n",
      "/Users/adamklesc11/opt/anaconda3/lib/python3.8/site-packages/sklearn/linear_model/_coordinate_descent.py:526: ConvergenceWarning: Objective did not converge. You might want to increase the number of iterations. Duality gap: 22629905983.478516, tolerance: 731633840.9885501\n",
      "  model = cd_fast.enet_coordinate_descent_gram(\n",
      "/Users/adamklesc11/opt/anaconda3/lib/python3.8/site-packages/sklearn/linear_model/_coordinate_descent.py:526: ConvergenceWarning: Objective did not converge. You might want to increase the number of iterations. Duality gap: 22629004095.390503, tolerance: 731633840.9885501\n",
      "  model = cd_fast.enet_coordinate_descent_gram(\n",
      "/Users/adamklesc11/opt/anaconda3/lib/python3.8/site-packages/sklearn/linear_model/_coordinate_descent.py:526: ConvergenceWarning: Objective did not converge. You might want to increase the number of iterations. Duality gap: 22628142456.519897, tolerance: 731633840.9885501\n",
      "  model = cd_fast.enet_coordinate_descent_gram(\n",
      "/Users/adamklesc11/opt/anaconda3/lib/python3.8/site-packages/sklearn/linear_model/_coordinate_descent.py:526: ConvergenceWarning: Objective did not converge. You might want to increase the number of iterations. Duality gap: 22627382140.72766, tolerance: 731633840.9885501\n",
      "  model = cd_fast.enet_coordinate_descent_gram(\n",
      "/Users/adamklesc11/opt/anaconda3/lib/python3.8/site-packages/sklearn/linear_model/_coordinate_descent.py:526: ConvergenceWarning: Objective did not converge. You might want to increase the number of iterations. Duality gap: 22626716211.62207, tolerance: 731633840.9885501\n",
      "  model = cd_fast.enet_coordinate_descent_gram(\n",
      "/Users/adamklesc11/opt/anaconda3/lib/python3.8/site-packages/sklearn/linear_model/_coordinate_descent.py:526: ConvergenceWarning: Objective did not converge. You might want to increase the number of iterations. Duality gap: 22626133544.025513, tolerance: 731633840.9885501\n",
      "  model = cd_fast.enet_coordinate_descent_gram(\n",
      "/Users/adamklesc11/opt/anaconda3/lib/python3.8/site-packages/sklearn/linear_model/_coordinate_descent.py:526: ConvergenceWarning: Objective did not converge. You might want to increase the number of iterations. Duality gap: 22625589235.690796, tolerance: 731633840.9885501\n",
      "  model = cd_fast.enet_coordinate_descent_gram(\n",
      "/Users/adamklesc11/opt/anaconda3/lib/python3.8/site-packages/sklearn/linear_model/_coordinate_descent.py:526: ConvergenceWarning: Objective did not converge. You might want to increase the number of iterations. Duality gap: 22625081320.187378, tolerance: 731633840.9885501\n",
      "  model = cd_fast.enet_coordinate_descent_gram(\n",
      "/Users/adamklesc11/opt/anaconda3/lib/python3.8/site-packages/sklearn/linear_model/_coordinate_descent.py:526: ConvergenceWarning: Objective did not converge. You might want to increase the number of iterations. Duality gap: 22624598486.09839, tolerance: 731633840.9885501\n",
      "  model = cd_fast.enet_coordinate_descent_gram(\n",
      "/Users/adamklesc11/opt/anaconda3/lib/python3.8/site-packages/sklearn/linear_model/_coordinate_descent.py:526: ConvergenceWarning: Objective did not converge. You might want to increase the number of iterations. Duality gap: 22624140395.36609, tolerance: 731633840.9885501\n",
      "  model = cd_fast.enet_coordinate_descent_gram(\n",
      "/Users/adamklesc11/opt/anaconda3/lib/python3.8/site-packages/sklearn/linear_model/_coordinate_descent.py:526: ConvergenceWarning: Objective did not converge. You might want to increase the number of iterations. Duality gap: 22623693212.418213, tolerance: 731633840.9885501\n",
      "  model = cd_fast.enet_coordinate_descent_gram(\n",
      "/Users/adamklesc11/opt/anaconda3/lib/python3.8/site-packages/sklearn/linear_model/_coordinate_descent.py:526: ConvergenceWarning: Objective did not converge. You might want to increase the number of iterations. Duality gap: 22623302673.209473, tolerance: 731633840.9885501\n",
      "  model = cd_fast.enet_coordinate_descent_gram(\n",
      "/Users/adamklesc11/opt/anaconda3/lib/python3.8/site-packages/sklearn/linear_model/_coordinate_descent.py:526: ConvergenceWarning: Objective did not converge. You might want to increase the number of iterations. Duality gap: 22622916250.730347, tolerance: 731633840.9885501\n",
      "  model = cd_fast.enet_coordinate_descent_gram(\n",
      "/Users/adamklesc11/opt/anaconda3/lib/python3.8/site-packages/sklearn/linear_model/_coordinate_descent.py:526: ConvergenceWarning: Objective did not converge. You might want to increase the number of iterations. Duality gap: 22622563616.853638, tolerance: 731633840.9885501\n",
      "  model = cd_fast.enet_coordinate_descent_gram(\n",
      "/Users/adamklesc11/opt/anaconda3/lib/python3.8/site-packages/sklearn/linear_model/_coordinate_descent.py:526: ConvergenceWarning: Objective did not converge. You might want to increase the number of iterations. Duality gap: 22622233829.267334, tolerance: 731633840.9885501\n",
      "  model = cd_fast.enet_coordinate_descent_gram(\n",
      "/Users/adamklesc11/opt/anaconda3/lib/python3.8/site-packages/sklearn/linear_model/_coordinate_descent.py:526: ConvergenceWarning: Objective did not converge. You might want to increase the number of iterations. Duality gap: 22621938800.170044, tolerance: 731633840.9885501\n",
      "  model = cd_fast.enet_coordinate_descent_gram(\n",
      "/Users/adamklesc11/opt/anaconda3/lib/python3.8/site-packages/sklearn/linear_model/_coordinate_descent.py:526: ConvergenceWarning: Objective did not converge. You might want to increase the number of iterations. Duality gap: 22621654712.333496, tolerance: 731633840.9885501\n",
      "  model = cd_fast.enet_coordinate_descent_gram(\n",
      "/Users/adamklesc11/opt/anaconda3/lib/python3.8/site-packages/sklearn/linear_model/_coordinate_descent.py:526: ConvergenceWarning: Objective did not converge. You might want to increase the number of iterations. Duality gap: 22621390336.10608, tolerance: 731633840.9885501\n",
      "  model = cd_fast.enet_coordinate_descent_gram(\n",
      "/Users/adamklesc11/opt/anaconda3/lib/python3.8/site-packages/sklearn/linear_model/_coordinate_descent.py:526: ConvergenceWarning: Objective did not converge. You might want to increase the number of iterations. Duality gap: 22621152914.774292, tolerance: 731633840.9885501\n",
      "  model = cd_fast.enet_coordinate_descent_gram(\n",
      "/Users/adamklesc11/opt/anaconda3/lib/python3.8/site-packages/sklearn/linear_model/_coordinate_descent.py:526: ConvergenceWarning: Objective did not converge. You might want to increase the number of iterations. Duality gap: 22620921635.18347, tolerance: 731633840.9885501\n",
      "  model = cd_fast.enet_coordinate_descent_gram(\n",
      "/Users/adamklesc11/opt/anaconda3/lib/python3.8/site-packages/sklearn/linear_model/_coordinate_descent.py:526: ConvergenceWarning: Objective did not converge. You might want to increase the number of iterations. Duality gap: 22620708689.10498, tolerance: 731633840.9885501\n",
      "  model = cd_fast.enet_coordinate_descent_gram(\n",
      "/Users/adamklesc11/opt/anaconda3/lib/python3.8/site-packages/sklearn/linear_model/_coordinate_descent.py:526: ConvergenceWarning: Objective did not converge. You might want to increase the number of iterations. Duality gap: 22620508662.409912, tolerance: 731633840.9885501\n",
      "  model = cd_fast.enet_coordinate_descent_gram(\n",
      "/Users/adamklesc11/opt/anaconda3/lib/python3.8/site-packages/sklearn/linear_model/_coordinate_descent.py:526: ConvergenceWarning: Objective did not converge. You might want to increase the number of iterations. Duality gap: 22620300121.701904, tolerance: 731633840.9885501\n",
      "  model = cd_fast.enet_coordinate_descent_gram(\n",
      "/Users/adamklesc11/opt/anaconda3/lib/python3.8/site-packages/sklearn/linear_model/_coordinate_descent.py:526: ConvergenceWarning: Objective did not converge. You might want to increase the number of iterations. Duality gap: 22620153604.951294, tolerance: 731633840.9885501\n",
      "  model = cd_fast.enet_coordinate_descent_gram(\n",
      "/Users/adamklesc11/opt/anaconda3/lib/python3.8/site-packages/sklearn/linear_model/_coordinate_descent.py:526: ConvergenceWarning: Objective did not converge. You might want to increase the number of iterations. Duality gap: 22619985368.619995, tolerance: 731633840.9885501\n",
      "  model = cd_fast.enet_coordinate_descent_gram(\n",
      "/Users/adamklesc11/opt/anaconda3/lib/python3.8/site-packages/sklearn/linear_model/_coordinate_descent.py:526: ConvergenceWarning: Objective did not converge. You might want to increase the number of iterations. Duality gap: 22619866446.33496, tolerance: 731633840.9885501\n",
      "  model = cd_fast.enet_coordinate_descent_gram(\n"
     ]
    },
    {
     "name": "stderr",
     "output_type": "stream",
     "text": [
      "/Users/adamklesc11/opt/anaconda3/lib/python3.8/site-packages/sklearn/linear_model/_coordinate_descent.py:526: ConvergenceWarning: Objective did not converge. You might want to increase the number of iterations. Duality gap: 22619709126.94043, tolerance: 731633840.9885501\n",
      "  model = cd_fast.enet_coordinate_descent_gram(\n",
      "/Users/adamklesc11/opt/anaconda3/lib/python3.8/site-packages/sklearn/linear_model/_coordinate_descent.py:526: ConvergenceWarning: Objective did not converge. You might want to increase the number of iterations. Duality gap: 22619530475.15918, tolerance: 731633840.9885501\n",
      "  model = cd_fast.enet_coordinate_descent_gram(\n",
      "/Users/adamklesc11/opt/anaconda3/lib/python3.8/site-packages/sklearn/linear_model/_coordinate_descent.py:526: ConvergenceWarning: Objective did not converge. You might want to increase the number of iterations. Duality gap: 22619420824.771973, tolerance: 731633840.9885501\n",
      "  model = cd_fast.enet_coordinate_descent_gram(\n",
      "/Users/adamklesc11/opt/anaconda3/lib/python3.8/site-packages/sklearn/linear_model/_coordinate_descent.py:526: ConvergenceWarning: Objective did not converge. You might want to increase the number of iterations. Duality gap: 22619303658.41687, tolerance: 731633840.9885501\n",
      "  model = cd_fast.enet_coordinate_descent_gram(\n",
      "/Users/adamklesc11/opt/anaconda3/lib/python3.8/site-packages/sklearn/linear_model/_coordinate_descent.py:526: ConvergenceWarning: Objective did not converge. You might want to increase the number of iterations. Duality gap: 22619246258.78894, tolerance: 731633840.9885501\n",
      "  model = cd_fast.enet_coordinate_descent_gram(\n",
      "/Users/adamklesc11/opt/anaconda3/lib/python3.8/site-packages/sklearn/linear_model/_coordinate_descent.py:526: ConvergenceWarning: Objective did not converge. You might want to increase the number of iterations. Duality gap: 22619140013.843994, tolerance: 731633840.9885501\n",
      "  model = cd_fast.enet_coordinate_descent_gram(\n",
      "/Users/adamklesc11/opt/anaconda3/lib/python3.8/site-packages/sklearn/linear_model/_coordinate_descent.py:526: ConvergenceWarning: Objective did not converge. You might want to increase the number of iterations. Duality gap: 22619035543.196655, tolerance: 731633840.9885501\n",
      "  model = cd_fast.enet_coordinate_descent_gram(\n",
      "/Users/adamklesc11/opt/anaconda3/lib/python3.8/site-packages/sklearn/linear_model/_coordinate_descent.py:526: ConvergenceWarning: Objective did not converge. You might want to increase the number of iterations. Duality gap: 22618966276.444702, tolerance: 731633840.9885501\n",
      "  model = cd_fast.enet_coordinate_descent_gram(\n",
      "/Users/adamklesc11/opt/anaconda3/lib/python3.8/site-packages/sklearn/linear_model/_coordinate_descent.py:526: ConvergenceWarning: Objective did not converge. You might want to increase the number of iterations. Duality gap: 22618865426.560913, tolerance: 731633840.9885501\n",
      "  model = cd_fast.enet_coordinate_descent_gram(\n",
      "/Users/adamklesc11/opt/anaconda3/lib/python3.8/site-packages/sklearn/linear_model/_coordinate_descent.py:526: ConvergenceWarning: Objective did not converge. You might want to increase the number of iterations. Duality gap: 22618807280.552002, tolerance: 731633840.9885501\n",
      "  model = cd_fast.enet_coordinate_descent_gram(\n",
      "/Users/adamklesc11/opt/anaconda3/lib/python3.8/site-packages/sklearn/linear_model/_coordinate_descent.py:526: ConvergenceWarning: Objective did not converge. You might want to increase the number of iterations. Duality gap: 22618676726.381714, tolerance: 731633840.9885501\n",
      "  model = cd_fast.enet_coordinate_descent_gram(\n",
      "/Users/adamklesc11/opt/anaconda3/lib/python3.8/site-packages/sklearn/linear_model/_coordinate_descent.py:526: ConvergenceWarning: Objective did not converge. You might want to increase the number of iterations. Duality gap: 22618614241.976562, tolerance: 731633840.9885501\n",
      "  model = cd_fast.enet_coordinate_descent_gram(\n",
      "/Users/adamklesc11/opt/anaconda3/lib/python3.8/site-packages/sklearn/linear_model/_coordinate_descent.py:526: ConvergenceWarning: Objective did not converge. You might want to increase the number of iterations. Duality gap: 22618551658.81787, tolerance: 731633840.9885501\n",
      "  model = cd_fast.enet_coordinate_descent_gram(\n",
      "/Users/adamklesc11/opt/anaconda3/lib/python3.8/site-packages/sklearn/linear_model/_coordinate_descent.py:526: ConvergenceWarning: Objective did not converge. You might want to increase the number of iterations. Duality gap: 22618502559.798096, tolerance: 731633840.9885501\n",
      "  model = cd_fast.enet_coordinate_descent_gram(\n",
      "/Users/adamklesc11/opt/anaconda3/lib/python3.8/site-packages/sklearn/linear_model/_coordinate_descent.py:526: ConvergenceWarning: Objective did not converge. You might want to increase the number of iterations. Duality gap: 22618443611.02539, tolerance: 731633840.9885501\n",
      "  model = cd_fast.enet_coordinate_descent_gram(\n",
      "/Users/adamklesc11/opt/anaconda3/lib/python3.8/site-packages/sklearn/linear_model/_coordinate_descent.py:526: ConvergenceWarning: Objective did not converge. You might want to increase the number of iterations. Duality gap: 22618490660.395874, tolerance: 731633840.9885501\n",
      "  model = cd_fast.enet_coordinate_descent_gram(\n",
      "/Users/adamklesc11/opt/anaconda3/lib/python3.8/site-packages/sklearn/linear_model/_coordinate_descent.py:526: ConvergenceWarning: Objective did not converge. You might want to increase the number of iterations. Duality gap: 22618345284.72583, tolerance: 731633840.9885501\n",
      "  model = cd_fast.enet_coordinate_descent_gram(\n",
      "/Users/adamklesc11/opt/anaconda3/lib/python3.8/site-packages/sklearn/linear_model/_coordinate_descent.py:526: ConvergenceWarning: Objective did not converge. You might want to increase the number of iterations. Duality gap: 22618424356.594116, tolerance: 731633840.9885501\n",
      "  model = cd_fast.enet_coordinate_descent_gram(\n",
      "/Users/adamklesc11/opt/anaconda3/lib/python3.8/site-packages/sklearn/linear_model/_coordinate_descent.py:526: ConvergenceWarning: Objective did not converge. You might want to increase the number of iterations. Duality gap: 22618179901.032104, tolerance: 731633840.9885501\n",
      "  model = cd_fast.enet_coordinate_descent_gram(\n",
      "/Users/adamklesc11/opt/anaconda3/lib/python3.8/site-packages/sklearn/linear_model/_coordinate_descent.py:526: ConvergenceWarning: Objective did not converge. You might want to increase the number of iterations. Duality gap: 22618340669.461426, tolerance: 731633840.9885501\n",
      "  model = cd_fast.enet_coordinate_descent_gram(\n",
      "/Users/adamklesc11/opt/anaconda3/lib/python3.8/site-packages/sklearn/linear_model/_coordinate_descent.py:526: ConvergenceWarning: Objective did not converge. You might want to increase the number of iterations. Duality gap: 22618287262.734863, tolerance: 731633840.9885501\n",
      "  model = cd_fast.enet_coordinate_descent_gram(\n",
      "/Users/adamklesc11/opt/anaconda3/lib/python3.8/site-packages/sklearn/linear_model/_coordinate_descent.py:526: ConvergenceWarning: Objective did not converge. You might want to increase the number of iterations. Duality gap: 22618137267.59485, tolerance: 731633840.9885501\n",
      "  model = cd_fast.enet_coordinate_descent_gram(\n",
      "/Users/adamklesc11/opt/anaconda3/lib/python3.8/site-packages/sklearn/linear_model/_coordinate_descent.py:526: ConvergenceWarning: Objective did not converge. You might want to increase the number of iterations. Duality gap: 22618069796.180298, tolerance: 731633840.9885501\n",
      "  model = cd_fast.enet_coordinate_descent_gram(\n",
      "/Users/adamklesc11/opt/anaconda3/lib/python3.8/site-packages/sklearn/linear_model/_coordinate_descent.py:526: ConvergenceWarning: Objective did not converge. You might want to increase the number of iterations. Duality gap: 22618138424.24878, tolerance: 731633840.9885501\n",
      "  model = cd_fast.enet_coordinate_descent_gram(\n",
      "/Users/adamklesc11/opt/anaconda3/lib/python3.8/site-packages/sklearn/linear_model/_coordinate_descent.py:526: ConvergenceWarning: Objective did not converge. You might want to increase the number of iterations. Duality gap: 22618260128.836914, tolerance: 731633840.9885501\n",
      "  model = cd_fast.enet_coordinate_descent_gram(\n",
      "/Users/adamklesc11/opt/anaconda3/lib/python3.8/site-packages/sklearn/linear_model/_coordinate_descent.py:526: ConvergenceWarning: Objective did not converge. You might want to increase the number of iterations. Duality gap: 22617973956.188477, tolerance: 731633840.9885501\n",
      "  model = cd_fast.enet_coordinate_descent_gram(\n",
      "/Users/adamklesc11/opt/anaconda3/lib/python3.8/site-packages/sklearn/linear_model/_coordinate_descent.py:526: ConvergenceWarning: Objective did not converge. You might want to increase the number of iterations. Duality gap: 443092865826.90454, tolerance: 816865125.5190994\n",
      "  model = cd_fast.enet_coordinate_descent_gram(\n",
      "/Users/adamklesc11/opt/anaconda3/lib/python3.8/site-packages/sklearn/linear_model/_coordinate_descent.py:526: ConvergenceWarning: Objective did not converge. You might want to increase the number of iterations. Duality gap: 434231494621.4014, tolerance: 816865125.5190994\n",
      "  model = cd_fast.enet_coordinate_descent_gram(\n",
      "/Users/adamklesc11/opt/anaconda3/lib/python3.8/site-packages/sklearn/linear_model/_coordinate_descent.py:526: ConvergenceWarning: Objective did not converge. You might want to increase the number of iterations. Duality gap: 424634849392.0518, tolerance: 816865125.5190994\n",
      "  model = cd_fast.enet_coordinate_descent_gram(\n",
      "/Users/adamklesc11/opt/anaconda3/lib/python3.8/site-packages/sklearn/linear_model/_coordinate_descent.py:526: ConvergenceWarning: Objective did not converge. You might want to increase the number of iterations. Duality gap: 408542347838.9748, tolerance: 816865125.5190994\n",
      "  model = cd_fast.enet_coordinate_descent_gram(\n",
      "/Users/adamklesc11/opt/anaconda3/lib/python3.8/site-packages/sklearn/linear_model/_coordinate_descent.py:526: ConvergenceWarning: Objective did not converge. You might want to increase the number of iterations. Duality gap: 387728249636.65686, tolerance: 816865125.5190994\n",
      "  model = cd_fast.enet_coordinate_descent_gram(\n",
      "/Users/adamklesc11/opt/anaconda3/lib/python3.8/site-packages/sklearn/linear_model/_coordinate_descent.py:526: ConvergenceWarning: Objective did not converge. You might want to increase the number of iterations. Duality gap: 354943997852.9153, tolerance: 816865125.5190994\n",
      "  model = cd_fast.enet_coordinate_descent_gram(\n",
      "/Users/adamklesc11/opt/anaconda3/lib/python3.8/site-packages/sklearn/linear_model/_coordinate_descent.py:526: ConvergenceWarning: Objective did not converge. You might want to increase the number of iterations. Duality gap: 357138978580.80066, tolerance: 816865125.5190994\n",
      "  model = cd_fast.enet_coordinate_descent_gram(\n",
      "/Users/adamklesc11/opt/anaconda3/lib/python3.8/site-packages/sklearn/linear_model/_coordinate_descent.py:526: ConvergenceWarning: Objective did not converge. You might want to increase the number of iterations. Duality gap: 343157099220.9688, tolerance: 816865125.5190994\n",
      "  model = cd_fast.enet_coordinate_descent_gram(\n",
      "/Users/adamklesc11/opt/anaconda3/lib/python3.8/site-packages/sklearn/linear_model/_coordinate_descent.py:526: ConvergenceWarning: Objective did not converge. You might want to increase the number of iterations. Duality gap: 288063653400.48, tolerance: 816865125.5190994\n",
      "  model = cd_fast.enet_coordinate_descent_gram(\n",
      "/Users/adamklesc11/opt/anaconda3/lib/python3.8/site-packages/sklearn/linear_model/_coordinate_descent.py:526: ConvergenceWarning: Objective did not converge. You might want to increase the number of iterations. Duality gap: 250259233739.35437, tolerance: 816865125.5190994\n",
      "  model = cd_fast.enet_coordinate_descent_gram(\n",
      "/Users/adamklesc11/opt/anaconda3/lib/python3.8/site-packages/sklearn/linear_model/_coordinate_descent.py:526: ConvergenceWarning: Objective did not converge. You might want to increase the number of iterations. Duality gap: 242181110494.66003, tolerance: 816865125.5190994\n",
      "  model = cd_fast.enet_coordinate_descent_gram(\n",
      "/Users/adamklesc11/opt/anaconda3/lib/python3.8/site-packages/sklearn/linear_model/_coordinate_descent.py:526: ConvergenceWarning: Objective did not converge. You might want to increase the number of iterations. Duality gap: 179978092586.90845, tolerance: 816865125.5190994\n",
      "  model = cd_fast.enet_coordinate_descent_gram(\n",
      "/Users/adamklesc11/opt/anaconda3/lib/python3.8/site-packages/sklearn/linear_model/_coordinate_descent.py:526: ConvergenceWarning: Objective did not converge. You might want to increase the number of iterations. Duality gap: 152178567901.76123, tolerance: 816865125.5190994\n",
      "  model = cd_fast.enet_coordinate_descent_gram(\n"
     ]
    },
    {
     "name": "stderr",
     "output_type": "stream",
     "text": [
      "/Users/adamklesc11/opt/anaconda3/lib/python3.8/site-packages/sklearn/linear_model/_coordinate_descent.py:526: ConvergenceWarning: Objective did not converge. You might want to increase the number of iterations. Duality gap: 92389319012.82202, tolerance: 816865125.5190994\n",
      "  model = cd_fast.enet_coordinate_descent_gram(\n",
      "/Users/adamklesc11/opt/anaconda3/lib/python3.8/site-packages/sklearn/linear_model/_coordinate_descent.py:526: ConvergenceWarning: Objective did not converge. You might want to increase the number of iterations. Duality gap: 43129935444.98511, tolerance: 816865125.5190994\n",
      "  model = cd_fast.enet_coordinate_descent_gram(\n",
      "/Users/adamklesc11/opt/anaconda3/lib/python3.8/site-packages/sklearn/linear_model/_coordinate_descent.py:526: ConvergenceWarning: Objective did not converge. You might want to increase the number of iterations. Duality gap: 55002700247.01575, tolerance: 816865125.5190994\n",
      "  model = cd_fast.enet_coordinate_descent_gram(\n",
      "/Users/adamklesc11/opt/anaconda3/lib/python3.8/site-packages/sklearn/linear_model/_coordinate_descent.py:526: ConvergenceWarning: Objective did not converge. You might want to increase the number of iterations. Duality gap: 35214126291.48157, tolerance: 816865125.5190994\n",
      "  model = cd_fast.enet_coordinate_descent_gram(\n",
      "/Users/adamklesc11/opt/anaconda3/lib/python3.8/site-packages/sklearn/linear_model/_coordinate_descent.py:526: ConvergenceWarning: Objective did not converge. You might want to increase the number of iterations. Duality gap: 27914446835.551025, tolerance: 816865125.5190994\n",
      "  model = cd_fast.enet_coordinate_descent_gram(\n",
      "/Users/adamklesc11/opt/anaconda3/lib/python3.8/site-packages/sklearn/linear_model/_coordinate_descent.py:526: ConvergenceWarning: Objective did not converge. You might want to increase the number of iterations. Duality gap: 30034970912.713745, tolerance: 816865125.5190994\n",
      "  model = cd_fast.enet_coordinate_descent_gram(\n",
      "/Users/adamklesc11/opt/anaconda3/lib/python3.8/site-packages/sklearn/linear_model/_coordinate_descent.py:526: ConvergenceWarning: Objective did not converge. You might want to increase the number of iterations. Duality gap: 29363449928.75952, tolerance: 816865125.5190994\n",
      "  model = cd_fast.enet_coordinate_descent_gram(\n",
      "/Users/adamklesc11/opt/anaconda3/lib/python3.8/site-packages/sklearn/linear_model/_coordinate_descent.py:526: ConvergenceWarning: Objective did not converge. You might want to increase the number of iterations. Duality gap: 19567960781.515137, tolerance: 816865125.5190994\n",
      "  model = cd_fast.enet_coordinate_descent_gram(\n",
      "/Users/adamklesc11/opt/anaconda3/lib/python3.8/site-packages/sklearn/linear_model/_coordinate_descent.py:526: ConvergenceWarning: Objective did not converge. You might want to increase the number of iterations. Duality gap: 17174286451.266846, tolerance: 816865125.5190994\n",
      "  model = cd_fast.enet_coordinate_descent_gram(\n",
      "/Users/adamklesc11/opt/anaconda3/lib/python3.8/site-packages/sklearn/linear_model/_coordinate_descent.py:526: ConvergenceWarning: Objective did not converge. You might want to increase the number of iterations. Duality gap: 17667488988.61328, tolerance: 816865125.5190994\n",
      "  model = cd_fast.enet_coordinate_descent_gram(\n",
      "/Users/adamklesc11/opt/anaconda3/lib/python3.8/site-packages/sklearn/linear_model/_coordinate_descent.py:526: ConvergenceWarning: Objective did not converge. You might want to increase the number of iterations. Duality gap: 17730652572.787598, tolerance: 816865125.5190994\n",
      "  model = cd_fast.enet_coordinate_descent_gram(\n",
      "/Users/adamklesc11/opt/anaconda3/lib/python3.8/site-packages/sklearn/linear_model/_coordinate_descent.py:526: ConvergenceWarning: Objective did not converge. You might want to increase the number of iterations. Duality gap: 17525465054.00769, tolerance: 816865125.5190994\n",
      "  model = cd_fast.enet_coordinate_descent_gram(\n",
      "/Users/adamklesc11/opt/anaconda3/lib/python3.8/site-packages/sklearn/linear_model/_coordinate_descent.py:526: ConvergenceWarning: Objective did not converge. You might want to increase the number of iterations. Duality gap: 17257605764.320557, tolerance: 816865125.5190994\n",
      "  model = cd_fast.enet_coordinate_descent_gram(\n",
      "/Users/adamklesc11/opt/anaconda3/lib/python3.8/site-packages/sklearn/linear_model/_coordinate_descent.py:526: ConvergenceWarning: Objective did not converge. You might want to increase the number of iterations. Duality gap: 17067413896.782593, tolerance: 816865125.5190994\n",
      "  model = cd_fast.enet_coordinate_descent_gram(\n",
      "/Users/adamklesc11/opt/anaconda3/lib/python3.8/site-packages/sklearn/linear_model/_coordinate_descent.py:526: ConvergenceWarning: Objective did not converge. You might want to increase the number of iterations. Duality gap: 16999449082.927002, tolerance: 816865125.5190994\n",
      "  model = cd_fast.enet_coordinate_descent_gram(\n",
      "/Users/adamklesc11/opt/anaconda3/lib/python3.8/site-packages/sklearn/linear_model/_coordinate_descent.py:526: ConvergenceWarning: Objective did not converge. You might want to increase the number of iterations. Duality gap: 17026906798.429443, tolerance: 816865125.5190994\n",
      "  model = cd_fast.enet_coordinate_descent_gram(\n",
      "/Users/adamklesc11/opt/anaconda3/lib/python3.8/site-packages/sklearn/linear_model/_coordinate_descent.py:526: ConvergenceWarning: Objective did not converge. You might want to increase the number of iterations. Duality gap: 17094753662.736328, tolerance: 816865125.5190994\n",
      "  model = cd_fast.enet_coordinate_descent_gram(\n",
      "/Users/adamklesc11/opt/anaconda3/lib/python3.8/site-packages/sklearn/linear_model/_coordinate_descent.py:526: ConvergenceWarning: Objective did not converge. You might want to increase the number of iterations. Duality gap: 17155338737.262451, tolerance: 816865125.5190994\n",
      "  model = cd_fast.enet_coordinate_descent_gram(\n",
      "/Users/adamklesc11/opt/anaconda3/lib/python3.8/site-packages/sklearn/linear_model/_coordinate_descent.py:526: ConvergenceWarning: Objective did not converge. You might want to increase the number of iterations. Duality gap: 17185247953.051758, tolerance: 816865125.5190994\n",
      "  model = cd_fast.enet_coordinate_descent_gram(\n",
      "/Users/adamklesc11/opt/anaconda3/lib/python3.8/site-packages/sklearn/linear_model/_coordinate_descent.py:526: ConvergenceWarning: Objective did not converge. You might want to increase the number of iterations. Duality gap: 17184512894.061523, tolerance: 816865125.5190994\n",
      "  model = cd_fast.enet_coordinate_descent_gram(\n",
      "/Users/adamklesc11/opt/anaconda3/lib/python3.8/site-packages/sklearn/linear_model/_coordinate_descent.py:526: ConvergenceWarning: Objective did not converge. You might want to increase the number of iterations. Duality gap: 17166234461.67749, tolerance: 816865125.5190994\n",
      "  model = cd_fast.enet_coordinate_descent_gram(\n",
      "/Users/adamklesc11/opt/anaconda3/lib/python3.8/site-packages/sklearn/linear_model/_coordinate_descent.py:526: ConvergenceWarning: Objective did not converge. You might want to increase the number of iterations. Duality gap: 17145196947.566406, tolerance: 816865125.5190994\n",
      "  model = cd_fast.enet_coordinate_descent_gram(\n",
      "/Users/adamklesc11/opt/anaconda3/lib/python3.8/site-packages/sklearn/linear_model/_coordinate_descent.py:526: ConvergenceWarning: Objective did not converge. You might want to increase the number of iterations. Duality gap: 17130836110.87793, tolerance: 816865125.5190994\n",
      "  model = cd_fast.enet_coordinate_descent_gram(\n",
      "/Users/adamklesc11/opt/anaconda3/lib/python3.8/site-packages/sklearn/linear_model/_coordinate_descent.py:526: ConvergenceWarning: Objective did not converge. You might want to increase the number of iterations. Duality gap: 17125617929.25, tolerance: 816865125.5190994\n",
      "  model = cd_fast.enet_coordinate_descent_gram(\n",
      "/Users/adamklesc11/opt/anaconda3/lib/python3.8/site-packages/sklearn/linear_model/_coordinate_descent.py:526: ConvergenceWarning: Objective did not converge. You might want to increase the number of iterations. Duality gap: 17127077599.145264, tolerance: 816865125.5190994\n",
      "  model = cd_fast.enet_coordinate_descent_gram(\n",
      "/Users/adamklesc11/opt/anaconda3/lib/python3.8/site-packages/sklearn/linear_model/_coordinate_descent.py:526: ConvergenceWarning: Objective did not converge. You might want to increase the number of iterations. Duality gap: 17131053060.096558, tolerance: 816865125.5190994\n",
      "  model = cd_fast.enet_coordinate_descent_gram(\n",
      "/Users/adamklesc11/opt/anaconda3/lib/python3.8/site-packages/sklearn/linear_model/_coordinate_descent.py:526: ConvergenceWarning: Objective did not converge. You might want to increase the number of iterations. Duality gap: 17134209761.566895, tolerance: 816865125.5190994\n",
      "  model = cd_fast.enet_coordinate_descent_gram(\n",
      "/Users/adamklesc11/opt/anaconda3/lib/python3.8/site-packages/sklearn/linear_model/_coordinate_descent.py:526: ConvergenceWarning: Objective did not converge. You might want to increase the number of iterations. Duality gap: 17135067310.63562, tolerance: 816865125.5190994\n",
      "  model = cd_fast.enet_coordinate_descent_gram(\n",
      "/Users/adamklesc11/opt/anaconda3/lib/python3.8/site-packages/sklearn/linear_model/_coordinate_descent.py:526: ConvergenceWarning: Objective did not converge. You might want to increase the number of iterations. Duality gap: 17133819178.048584, tolerance: 816865125.5190994\n",
      "  model = cd_fast.enet_coordinate_descent_gram(\n",
      "/Users/adamklesc11/opt/anaconda3/lib/python3.8/site-packages/sklearn/linear_model/_coordinate_descent.py:526: ConvergenceWarning: Objective did not converge. You might want to increase the number of iterations. Duality gap: 17131488498.0542, tolerance: 816865125.5190994\n",
      "  model = cd_fast.enet_coordinate_descent_gram(\n",
      "/Users/adamklesc11/opt/anaconda3/lib/python3.8/site-packages/sklearn/linear_model/_coordinate_descent.py:526: ConvergenceWarning: Objective did not converge. You might want to increase the number of iterations. Duality gap: 17129142916.896729, tolerance: 816865125.5190994\n",
      "  model = cd_fast.enet_coordinate_descent_gram(\n",
      "/Users/adamklesc11/opt/anaconda3/lib/python3.8/site-packages/sklearn/linear_model/_coordinate_descent.py:526: ConvergenceWarning: Objective did not converge. You might want to increase the number of iterations. Duality gap: 17127402257.1781, tolerance: 816865125.5190994\n",
      "  model = cd_fast.enet_coordinate_descent_gram(\n",
      "/Users/adamklesc11/opt/anaconda3/lib/python3.8/site-packages/sklearn/linear_model/_coordinate_descent.py:526: ConvergenceWarning: Objective did not converge. You might want to increase the number of iterations. Duality gap: 17126378303.800049, tolerance: 816865125.5190994\n",
      "  model = cd_fast.enet_coordinate_descent_gram(\n",
      "/Users/adamklesc11/opt/anaconda3/lib/python3.8/site-packages/sklearn/linear_model/_coordinate_descent.py:526: ConvergenceWarning: Objective did not converge. You might want to increase the number of iterations. Duality gap: 17125863517.807617, tolerance: 816865125.5190994\n",
      "  model = cd_fast.enet_coordinate_descent_gram(\n",
      "/Users/adamklesc11/opt/anaconda3/lib/python3.8/site-packages/sklearn/linear_model/_coordinate_descent.py:526: ConvergenceWarning: Objective did not converge. You might want to increase the number of iterations. Duality gap: 17125540531.590332, tolerance: 816865125.5190994\n",
      "  model = cd_fast.enet_coordinate_descent_gram(\n",
      "/Users/adamklesc11/opt/anaconda3/lib/python3.8/site-packages/sklearn/linear_model/_coordinate_descent.py:526: ConvergenceWarning: Objective did not converge. You might want to increase the number of iterations. Duality gap: 17125169901.85144, tolerance: 816865125.5190994\n",
      "  model = cd_fast.enet_coordinate_descent_gram(\n",
      "/Users/adamklesc11/opt/anaconda3/lib/python3.8/site-packages/sklearn/linear_model/_coordinate_descent.py:526: ConvergenceWarning: Objective did not converge. You might want to increase the number of iterations. Duality gap: 17124671116.500488, tolerance: 816865125.5190994\n",
      "  model = cd_fast.enet_coordinate_descent_gram(\n",
      "/Users/adamklesc11/opt/anaconda3/lib/python3.8/site-packages/sklearn/linear_model/_coordinate_descent.py:526: ConvergenceWarning: Objective did not converge. You might want to increase the number of iterations. Duality gap: 17124048712.247803, tolerance: 816865125.5190994\n",
      "  model = cd_fast.enet_coordinate_descent_gram(\n",
      "/Users/adamklesc11/opt/anaconda3/lib/python3.8/site-packages/sklearn/linear_model/_coordinate_descent.py:526: ConvergenceWarning: Objective did not converge. You might want to increase the number of iterations. Duality gap: 17123408312.664062, tolerance: 816865125.5190994\n",
      "  model = cd_fast.enet_coordinate_descent_gram(\n",
      "/Users/adamklesc11/opt/anaconda3/lib/python3.8/site-packages/sklearn/linear_model/_coordinate_descent.py:526: ConvergenceWarning: Objective did not converge. You might want to increase the number of iterations. Duality gap: 17122795022.44043, tolerance: 816865125.5190994\n",
      "  model = cd_fast.enet_coordinate_descent_gram(\n",
      "/Users/adamklesc11/opt/anaconda3/lib/python3.8/site-packages/sklearn/linear_model/_coordinate_descent.py:526: ConvergenceWarning: Objective did not converge. You might want to increase the number of iterations. Duality gap: 17122263224.224731, tolerance: 816865125.5190994\n",
      "  model = cd_fast.enet_coordinate_descent_gram(\n"
     ]
    },
    {
     "name": "stderr",
     "output_type": "stream",
     "text": [
      "/Users/adamklesc11/opt/anaconda3/lib/python3.8/site-packages/sklearn/linear_model/_coordinate_descent.py:526: ConvergenceWarning: Objective did not converge. You might want to increase the number of iterations. Duality gap: 17121806365.696533, tolerance: 816865125.5190994\n",
      "  model = cd_fast.enet_coordinate_descent_gram(\n",
      "/Users/adamklesc11/opt/anaconda3/lib/python3.8/site-packages/sklearn/linear_model/_coordinate_descent.py:526: ConvergenceWarning: Objective did not converge. You might want to increase the number of iterations. Duality gap: 17121410170.96753, tolerance: 816865125.5190994\n",
      "  model = cd_fast.enet_coordinate_descent_gram(\n",
      "/Users/adamklesc11/opt/anaconda3/lib/python3.8/site-packages/sklearn/linear_model/_coordinate_descent.py:526: ConvergenceWarning: Objective did not converge. You might want to increase the number of iterations. Duality gap: 17121061062.294434, tolerance: 816865125.5190994\n",
      "  model = cd_fast.enet_coordinate_descent_gram(\n",
      "/Users/adamklesc11/opt/anaconda3/lib/python3.8/site-packages/sklearn/linear_model/_coordinate_descent.py:526: ConvergenceWarning: Objective did not converge. You might want to increase the number of iterations. Duality gap: 17120721770.885254, tolerance: 816865125.5190994\n",
      "  model = cd_fast.enet_coordinate_descent_gram(\n",
      "/Users/adamklesc11/opt/anaconda3/lib/python3.8/site-packages/sklearn/linear_model/_coordinate_descent.py:526: ConvergenceWarning: Objective did not converge. You might want to increase the number of iterations. Duality gap: 17120386658.233398, tolerance: 816865125.5190994\n",
      "  model = cd_fast.enet_coordinate_descent_gram(\n",
      "/Users/adamklesc11/opt/anaconda3/lib/python3.8/site-packages/sklearn/linear_model/_coordinate_descent.py:526: ConvergenceWarning: Objective did not converge. You might want to increase the number of iterations. Duality gap: 17120090506.07788, tolerance: 816865125.5190994\n",
      "  model = cd_fast.enet_coordinate_descent_gram(\n",
      "/Users/adamklesc11/opt/anaconda3/lib/python3.8/site-packages/sklearn/linear_model/_coordinate_descent.py:526: ConvergenceWarning: Objective did not converge. You might want to increase the number of iterations. Duality gap: 17119782160.945557, tolerance: 816865125.5190994\n",
      "  model = cd_fast.enet_coordinate_descent_gram(\n",
      "/Users/adamklesc11/opt/anaconda3/lib/python3.8/site-packages/sklearn/linear_model/_coordinate_descent.py:526: ConvergenceWarning: Objective did not converge. You might want to increase the number of iterations. Duality gap: 17119487683.636963, tolerance: 816865125.5190994\n",
      "  model = cd_fast.enet_coordinate_descent_gram(\n",
      "/Users/adamklesc11/opt/anaconda3/lib/python3.8/site-packages/sklearn/linear_model/_coordinate_descent.py:526: ConvergenceWarning: Objective did not converge. You might want to increase the number of iterations. Duality gap: 17119222327.005127, tolerance: 816865125.5190994\n",
      "  model = cd_fast.enet_coordinate_descent_gram(\n",
      "/Users/adamklesc11/opt/anaconda3/lib/python3.8/site-packages/sklearn/linear_model/_coordinate_descent.py:526: ConvergenceWarning: Objective did not converge. You might want to increase the number of iterations. Duality gap: 17119008917.461182, tolerance: 816865125.5190994\n",
      "  model = cd_fast.enet_coordinate_descent_gram(\n",
      "/Users/adamklesc11/opt/anaconda3/lib/python3.8/site-packages/sklearn/linear_model/_coordinate_descent.py:526: ConvergenceWarning: Objective did not converge. You might want to increase the number of iterations. Duality gap: 17118782984.0354, tolerance: 816865125.5190994\n",
      "  model = cd_fast.enet_coordinate_descent_gram(\n",
      "/Users/adamklesc11/opt/anaconda3/lib/python3.8/site-packages/sklearn/linear_model/_coordinate_descent.py:526: ConvergenceWarning: Objective did not converge. You might want to increase the number of iterations. Duality gap: 17118567642.116577, tolerance: 816865125.5190994\n",
      "  model = cd_fast.enet_coordinate_descent_gram(\n",
      "/Users/adamklesc11/opt/anaconda3/lib/python3.8/site-packages/sklearn/linear_model/_coordinate_descent.py:526: ConvergenceWarning: Objective did not converge. You might want to increase the number of iterations. Duality gap: 17118388789.397705, tolerance: 816865125.5190994\n",
      "  model = cd_fast.enet_coordinate_descent_gram(\n",
      "/Users/adamklesc11/opt/anaconda3/lib/python3.8/site-packages/sklearn/linear_model/_coordinate_descent.py:526: ConvergenceWarning: Objective did not converge. You might want to increase the number of iterations. Duality gap: 17118212307.291016, tolerance: 816865125.5190994\n",
      "  model = cd_fast.enet_coordinate_descent_gram(\n",
      "/Users/adamklesc11/opt/anaconda3/lib/python3.8/site-packages/sklearn/linear_model/_coordinate_descent.py:526: ConvergenceWarning: Objective did not converge. You might want to increase the number of iterations. Duality gap: 17118016573.695679, tolerance: 816865125.5190994\n",
      "  model = cd_fast.enet_coordinate_descent_gram(\n",
      "/Users/adamklesc11/opt/anaconda3/lib/python3.8/site-packages/sklearn/linear_model/_coordinate_descent.py:526: ConvergenceWarning: Objective did not converge. You might want to increase the number of iterations. Duality gap: 17117894905.215088, tolerance: 816865125.5190994\n",
      "  model = cd_fast.enet_coordinate_descent_gram(\n",
      "/Users/adamklesc11/opt/anaconda3/lib/python3.8/site-packages/sklearn/linear_model/_coordinate_descent.py:526: ConvergenceWarning: Objective did not converge. You might want to increase the number of iterations. Duality gap: 17117735531.493286, tolerance: 816865125.5190994\n",
      "  model = cd_fast.enet_coordinate_descent_gram(\n",
      "/Users/adamklesc11/opt/anaconda3/lib/python3.8/site-packages/sklearn/linear_model/_coordinate_descent.py:526: ConvergenceWarning: Objective did not converge. You might want to increase the number of iterations. Duality gap: 17117611452.994995, tolerance: 816865125.5190994\n",
      "  model = cd_fast.enet_coordinate_descent_gram(\n",
      "/Users/adamklesc11/opt/anaconda3/lib/python3.8/site-packages/sklearn/linear_model/_coordinate_descent.py:526: ConvergenceWarning: Objective did not converge. You might want to increase the number of iterations. Duality gap: 17117472948.308838, tolerance: 816865125.5190994\n",
      "  model = cd_fast.enet_coordinate_descent_gram(\n",
      "/Users/adamklesc11/opt/anaconda3/lib/python3.8/site-packages/sklearn/linear_model/_coordinate_descent.py:526: ConvergenceWarning: Objective did not converge. You might want to increase the number of iterations. Duality gap: 17117344607.559814, tolerance: 816865125.5190994\n",
      "  model = cd_fast.enet_coordinate_descent_gram(\n",
      "/Users/adamklesc11/opt/anaconda3/lib/python3.8/site-packages/sklearn/linear_model/_coordinate_descent.py:526: ConvergenceWarning: Objective did not converge. You might want to increase the number of iterations. Duality gap: 17117225979.5979, tolerance: 816865125.5190994\n",
      "  model = cd_fast.enet_coordinate_descent_gram(\n",
      "/Users/adamklesc11/opt/anaconda3/lib/python3.8/site-packages/sklearn/linear_model/_coordinate_descent.py:526: ConvergenceWarning: Objective did not converge. You might want to increase the number of iterations. Duality gap: 17117138952.799927, tolerance: 816865125.5190994\n",
      "  model = cd_fast.enet_coordinate_descent_gram(\n",
      "/Users/adamklesc11/opt/anaconda3/lib/python3.8/site-packages/sklearn/linear_model/_coordinate_descent.py:526: ConvergenceWarning: Objective did not converge. You might want to increase the number of iterations. Duality gap: 17117019585.470703, tolerance: 816865125.5190994\n",
      "  model = cd_fast.enet_coordinate_descent_gram(\n",
      "/Users/adamklesc11/opt/anaconda3/lib/python3.8/site-packages/sklearn/linear_model/_coordinate_descent.py:526: ConvergenceWarning: Objective did not converge. You might want to increase the number of iterations. Duality gap: 17116978274.578247, tolerance: 816865125.5190994\n",
      "  model = cd_fast.enet_coordinate_descent_gram(\n",
      "/Users/adamklesc11/opt/anaconda3/lib/python3.8/site-packages/sklearn/linear_model/_coordinate_descent.py:526: ConvergenceWarning: Objective did not converge. You might want to increase the number of iterations. Duality gap: 17116833348.236328, tolerance: 816865125.5190994\n",
      "  model = cd_fast.enet_coordinate_descent_gram(\n",
      "/Users/adamklesc11/opt/anaconda3/lib/python3.8/site-packages/sklearn/linear_model/_coordinate_descent.py:526: ConvergenceWarning: Objective did not converge. You might want to increase the number of iterations. Duality gap: 17116816787.340698, tolerance: 816865125.5190994\n",
      "  model = cd_fast.enet_coordinate_descent_gram(\n",
      "/Users/adamklesc11/opt/anaconda3/lib/python3.8/site-packages/sklearn/linear_model/_coordinate_descent.py:526: ConvergenceWarning: Objective did not converge. You might want to increase the number of iterations. Duality gap: 17116733960.327637, tolerance: 816865125.5190994\n",
      "  model = cd_fast.enet_coordinate_descent_gram(\n",
      "/Users/adamklesc11/opt/anaconda3/lib/python3.8/site-packages/sklearn/linear_model/_coordinate_descent.py:526: ConvergenceWarning: Objective did not converge. You might want to increase the number of iterations. Duality gap: 17116625755.488037, tolerance: 816865125.5190994\n",
      "  model = cd_fast.enet_coordinate_descent_gram(\n",
      "/Users/adamklesc11/opt/anaconda3/lib/python3.8/site-packages/sklearn/linear_model/_coordinate_descent.py:526: ConvergenceWarning: Objective did not converge. You might want to increase the number of iterations. Duality gap: 17116651967.025024, tolerance: 816865125.5190994\n",
      "  model = cd_fast.enet_coordinate_descent_gram(\n",
      "/Users/adamklesc11/opt/anaconda3/lib/python3.8/site-packages/sklearn/linear_model/_coordinate_descent.py:526: ConvergenceWarning: Objective did not converge. You might want to increase the number of iterations. Duality gap: 17116569235.77002, tolerance: 816865125.5190994\n",
      "  model = cd_fast.enet_coordinate_descent_gram(\n",
      "/Users/adamklesc11/opt/anaconda3/lib/python3.8/site-packages/sklearn/linear_model/_coordinate_descent.py:526: ConvergenceWarning: Objective did not converge. You might want to increase the number of iterations. Duality gap: 17116454492.633423, tolerance: 816865125.5190994\n",
      "  model = cd_fast.enet_coordinate_descent_gram(\n",
      "/Users/adamklesc11/opt/anaconda3/lib/python3.8/site-packages/sklearn/linear_model/_coordinate_descent.py:526: ConvergenceWarning: Objective did not converge. You might want to increase the number of iterations. Duality gap: 17116486420.002563, tolerance: 816865125.5190994\n",
      "  model = cd_fast.enet_coordinate_descent_gram(\n",
      "/Users/adamklesc11/opt/anaconda3/lib/python3.8/site-packages/sklearn/linear_model/_coordinate_descent.py:526: ConvergenceWarning: Objective did not converge. You might want to increase the number of iterations. Duality gap: 17116342086.321655, tolerance: 816865125.5190994\n",
      "  model = cd_fast.enet_coordinate_descent_gram(\n",
      "/Users/adamklesc11/opt/anaconda3/lib/python3.8/site-packages/sklearn/linear_model/_coordinate_descent.py:526: ConvergenceWarning: Objective did not converge. You might want to increase the number of iterations. Duality gap: 17116269997.31665, tolerance: 816865125.5190994\n",
      "  model = cd_fast.enet_coordinate_descent_gram(\n",
      "/Users/adamklesc11/opt/anaconda3/lib/python3.8/site-packages/sklearn/linear_model/_coordinate_descent.py:526: ConvergenceWarning: Objective did not converge. You might want to increase the number of iterations. Duality gap: 17116350730.781616, tolerance: 816865125.5190994\n",
      "  model = cd_fast.enet_coordinate_descent_gram(\n",
      "/Users/adamklesc11/opt/anaconda3/lib/python3.8/site-packages/sklearn/linear_model/_coordinate_descent.py:526: ConvergenceWarning: Objective did not converge. You might want to increase the number of iterations. Duality gap: 17116263512.723389, tolerance: 816865125.5190994\n",
      "  model = cd_fast.enet_coordinate_descent_gram(\n",
      "/Users/adamklesc11/opt/anaconda3/lib/python3.8/site-packages/sklearn/linear_model/_coordinate_descent.py:526: ConvergenceWarning: Objective did not converge. You might want to increase the number of iterations. Duality gap: 17116204306.69751, tolerance: 816865125.5190994\n",
      "  model = cd_fast.enet_coordinate_descent_gram(\n",
      "/Users/adamklesc11/opt/anaconda3/lib/python3.8/site-packages/sklearn/linear_model/_coordinate_descent.py:526: ConvergenceWarning: Objective did not converge. You might want to increase the number of iterations. Duality gap: 17116256652.842041, tolerance: 816865125.5190994\n",
      "  model = cd_fast.enet_coordinate_descent_gram(\n",
      "/Users/adamklesc11/opt/anaconda3/lib/python3.8/site-packages/sklearn/linear_model/_coordinate_descent.py:526: ConvergenceWarning: Objective did not converge. You might want to increase the number of iterations. Duality gap: 17116158136.722046, tolerance: 816865125.5190994\n",
      "  model = cd_fast.enet_coordinate_descent_gram(\n",
      "/Users/adamklesc11/opt/anaconda3/lib/python3.8/site-packages/sklearn/linear_model/_coordinate_descent.py:526: ConvergenceWarning: Objective did not converge. You might want to increase the number of iterations. Duality gap: 17116104500.939697, tolerance: 816865125.5190994\n",
      "  model = cd_fast.enet_coordinate_descent_gram(\n",
      "/Users/adamklesc11/opt/anaconda3/lib/python3.8/site-packages/sklearn/linear_model/_coordinate_descent.py:526: ConvergenceWarning: Objective did not converge. You might want to increase the number of iterations. Duality gap: 17116025810.760498, tolerance: 816865125.5190994\n",
      "  model = cd_fast.enet_coordinate_descent_gram(\n",
      "/Users/adamklesc11/opt/anaconda3/lib/python3.8/site-packages/sklearn/linear_model/_coordinate_descent.py:526: ConvergenceWarning: Objective did not converge. You might want to increase the number of iterations. Duality gap: 17116082211.065063, tolerance: 816865125.5190994\n",
      "  model = cd_fast.enet_coordinate_descent_gram(\n",
      "/Users/adamklesc11/opt/anaconda3/lib/python3.8/site-packages/sklearn/linear_model/_coordinate_descent.py:526: ConvergenceWarning: Objective did not converge. You might want to increase the number of iterations. Duality gap: 17116029336.69165, tolerance: 816865125.5190994\n",
      "  model = cd_fast.enet_coordinate_descent_gram(\n",
      "/Users/adamklesc11/opt/anaconda3/lib/python3.8/site-packages/sklearn/linear_model/_coordinate_descent.py:526: ConvergenceWarning: Objective did not converge. You might want to increase the number of iterations. Duality gap: 17115993930.96753, tolerance: 816865125.5190994\n",
      "  model = cd_fast.enet_coordinate_descent_gram(\n",
      "/Users/adamklesc11/opt/anaconda3/lib/python3.8/site-packages/sklearn/linear_model/_coordinate_descent.py:526: ConvergenceWarning: Objective did not converge. You might want to increase the number of iterations. Duality gap: 17116053171.232788, tolerance: 816865125.5190994\n",
      "  model = cd_fast.enet_coordinate_descent_gram(\n"
     ]
    },
    {
     "name": "stderr",
     "output_type": "stream",
     "text": [
      "/Users/adamklesc11/opt/anaconda3/lib/python3.8/site-packages/sklearn/linear_model/_coordinate_descent.py:526: ConvergenceWarning: Objective did not converge. You might want to increase the number of iterations. Duality gap: 17115911590.82788, tolerance: 816865125.5190994\n",
      "  model = cd_fast.enet_coordinate_descent_gram(\n",
      "/Users/adamklesc11/opt/anaconda3/lib/python3.8/site-packages/sklearn/linear_model/_coordinate_descent.py:530: ConvergenceWarning: Objective did not converge. You might want to increase the number of iterations. Duality gap: 528465632100.1876, tolerance: 972711210.8729936\n",
      "  model = cd_fast.enet_coordinate_descent(\n"
     ]
    },
    {
     "data": {
      "text/plain": [
       "LassoCV(alphas=array([0.001     , 0.00107227, 0.00114976, 0.00123285, 0.00132194,\n",
       "       0.00141747, 0.00151991, 0.00162975, 0.00174753, 0.00187382,\n",
       "       0.00200923, 0.00215443, 0.00231013, 0.00247708, 0.00265609,\n",
       "       0.00284804, 0.00305386, 0.00327455, 0.00351119, 0.00376494,\n",
       "       0.00403702, 0.00432876, 0.00464159, 0.00497702, 0.0053367 ,\n",
       "       0.00572237, 0.00613591, 0.00657933, 0.0070548 , 0.00756463,\n",
       "       0.008...\n",
       "       0.09326033, 0.1       , 0.10722672, 0.1149757 , 0.12328467,\n",
       "       0.13219411, 0.14174742, 0.15199111, 0.16297508, 0.17475284,\n",
       "       0.18738174, 0.2009233 , 0.21544347, 0.23101297, 0.24770764,\n",
       "       0.26560878, 0.28480359, 0.30538555, 0.32745492, 0.35111917,\n",
       "       0.37649358, 0.40370173, 0.43287613, 0.46415888, 0.49770236,\n",
       "       0.53366992, 0.57223677, 0.61359073, 0.65793322, 0.70548023,\n",
       "       0.75646333, 0.81113083, 0.869749  , 0.93260335, 1.        ]),\n",
       "        cv=5)"
      ]
     },
     "execution_count": 243,
     "metadata": {},
     "output_type": "execute_result"
    }
   ],
   "source": [
    "# Set up a list of Lasso alphas to check.\n",
    "l_alphas = np.logspace(-3, 0, 100)\n",
    "lasso = LassoCV(alphas=l_alphas, cv=5)\n",
    "# Cross-validate over our list of Lasso alphas.\n",
    "lasso.fit(Z_train, y_train)\n",
    "# Fit model using best ridge alpha!"
   ]
  },
  {
   "cell_type": "code",
   "execution_count": 244,
   "id": "db7944a0",
   "metadata": {},
   "outputs": [
    {
     "data": {
      "text/plain": [
       "1.0"
      ]
     },
     "execution_count": 244,
     "metadata": {},
     "output_type": "execute_result"
    }
   ],
   "source": [
    "lasso.alpha_"
   ]
  },
  {
   "cell_type": "code",
   "execution_count": 245,
   "id": "3d84b248",
   "metadata": {},
   "outputs": [
    {
     "data": {
      "text/plain": [
       "array([0.001, 1.   ])"
      ]
     },
     "execution_count": 245,
     "metadata": {},
     "output_type": "execute_result"
    }
   ],
   "source": [
    "l_alphas[[0, -1]]"
   ]
  },
  {
   "cell_type": "code",
   "execution_count": 246,
   "id": "a383c920",
   "metadata": {},
   "outputs": [
    {
     "data": {
      "text/plain": [
       "(0.8858975650513014, 0.8821231022794424)"
      ]
     },
     "execution_count": 246,
     "metadata": {},
     "output_type": "execute_result"
    }
   ],
   "source": [
    "lasso.score(Z_train, y_train), lasso.score(Z_test, y_test)\n"
   ]
  },
  {
   "cell_type": "code",
   "execution_count": 247,
   "id": "d8e58a1e",
   "metadata": {},
   "outputs": [
    {
     "data": {
      "text/plain": [
       "array([ -1200.15671077,  -7961.88364813,  -8626.04447131,  -7978.97080634,\n",
       "        -5497.5428375 ,  -7773.56123469,   2478.53340436,   5094.30741273,\n",
       "        -5368.28913373,  -3343.06559042,    642.51848974,  22696.76166244,\n",
       "        -1333.50849202,   4350.79277696,   3033.05132556,  16546.71041658,\n",
       "        11084.39991003,  -2033.25399561,   3291.67777042,  13684.50540734,\n",
       "        -1541.62047596,   6341.27286549,    335.64975077,   8320.85129232,\n",
       "         6775.38932113,  -1866.23129174,  -5300.05490107,  21017.21321949,\n",
       "        -5939.70854503,  13875.53708333, -11046.29388279, -12429.31916585,\n",
       "        11003.55802345,   2627.25773986,   6938.01902469,   2126.1532576 ,\n",
       "         2648.29507101,   8835.34931043,  -7556.13163068,   4860.79611677,\n",
       "        -1600.8717609 ,  -7600.35305759,  -4894.74859218,   4022.26252281,\n",
       "       -10182.90946706,   8791.40896144,   9893.23166505,    793.54819607,\n",
       "       -11449.83040817, -21824.31930501,  18044.52674082,  -8954.86934684,\n",
       "        -2608.78943987,   7630.89520156])"
      ]
     },
     "execution_count": 247,
     "metadata": {},
     "output_type": "execute_result"
    }
   ],
   "source": [
    "ridge_cv.coef_"
   ]
  },
  {
   "cell_type": "code",
   "execution_count": 248,
   "id": "f58cbfef",
   "metadata": {},
   "outputs": [
    {
     "data": {
      "text/plain": [
       "array([  3879.30642719, -18404.26836312, -21552.98602162,  -7852.24757021,\n",
       "       -17321.75607464,   4317.41460533, -15563.44392045,  18110.16934214,\n",
       "         7186.2694566 , -47740.6018974 ,  39240.56679345,  72856.10726277,\n",
       "       -12760.67932128,  -2556.24077889,   6781.91306336,  55013.53557518,\n",
       "        -7650.13631501, -11806.26228731,  12941.25268924,   1505.64110016,\n",
       "       -19161.87186225,  20807.87404034, -18030.19977497,  -3709.09334715,\n",
       "        10254.12437883,  -2167.50747362,  -9866.54410068,  31156.70933455,\n",
       "       -23067.7178168 ,  25201.55799256,   7882.80044131, -47838.80453293,\n",
       "         7719.48211263,  11363.60134648,  17182.13310134,  -5822.24101953,\n",
       "       -15950.13220461,  20112.64196481,   -178.24277079,  18785.39503199,\n",
       "        -3579.80748419, -26580.6161015 ,  -2561.20171766,   6422.48899425,\n",
       "       -20996.37049316,  11453.78233225,  17995.78654264,   8210.67241643,\n",
       "        -1664.6939479 , -35987.84543917,  36841.53389515,   5668.21010835,\n",
       "       -13975.97827327,  -5126.46596778])"
      ]
     },
     "execution_count": 248,
     "metadata": {},
     "output_type": "execute_result"
    }
   ],
   "source": [
    "lasso.coef_"
   ]
  },
  {
   "cell_type": "code",
   "execution_count": 249,
   "id": "7f90511e",
   "metadata": {},
   "outputs": [],
   "source": [
    "features = ['Overall_Qual', 'Exter_Qual', 'Gr_Liv_Area', 'Kitchen_Qual', 'Garage_Area', 'Garage_Cars',\n",
    "           'Total_Bsmt_SF', '1st_Flr_SF', 'Bsmt_Qual']\n",
    "X = traindice[features]"
   ]
  },
  {
   "cell_type": "code",
   "execution_count": 250,
   "id": "9f20ce1c",
   "metadata": {},
   "outputs": [
    {
     "data": {
      "text/plain": [
       "Overall_Qual                   3879.306427\n",
       "Exter_Qual                   -18404.268363\n",
       "Gr_Liv_Area                  -21552.986022\n",
       "Kitchen_Qual                  -7852.247570\n",
       "Garage_Area                  -17321.756075\n",
       "Garage_Cars                    4317.414605\n",
       "Total_Bsmt_SF                -15563.443920\n",
       "1st_Flr_SF                    18110.169342\n",
       "Bsmt_Qual                      7186.269457\n",
       "Overall_Qual^2               -47740.601897\n",
       "Overall_Qual Exter_Qual       39240.566793\n",
       "Overall_Qual Gr_Liv_Area      72856.107263\n",
       "Overall_Qual Kitchen_Qual    -12760.679321\n",
       "Overall_Qual Garage_Area      -2556.240779\n",
       "Overall_Qual Garage_Cars       6781.913063\n",
       "Overall_Qual Total_Bsmt_SF    55013.535575\n",
       "Overall_Qual 1st_Flr_SF       -7650.136315\n",
       "Overall_Qual Bsmt_Qual       -11806.262287\n",
       "Exter_Qual^2                  12941.252689\n",
       "Exter_Qual Gr_Liv_Area         1505.641100\n",
       "Exter_Qual Kitchen_Qual      -19161.871862\n",
       "Exter_Qual Garage_Area        20807.874040\n",
       "Exter_Qual Garage_Cars       -18030.199775\n",
       "Exter_Qual Total_Bsmt_SF      -3709.093347\n",
       "Exter_Qual 1st_Flr_SF         10254.124379\n",
       "Exter_Qual Bsmt_Qual          -2167.507474\n",
       "Gr_Liv_Area^2                 -9866.544101\n",
       "Gr_Liv_Area Kitchen_Qual      31156.709335\n",
       "Gr_Liv_Area Garage_Area      -23067.717817\n",
       "Gr_Liv_Area Garage_Cars       25201.557993\n",
       "Gr_Liv_Area Total_Bsmt_SF      7882.800441\n",
       "Gr_Liv_Area 1st_Flr_SF       -47838.804533\n",
       "Gr_Liv_Area Bsmt_Qual          7719.482113\n",
       "Kitchen_Qual^2                11363.601346\n",
       "Kitchen_Qual Garage_Area      17182.133101\n",
       "Kitchen_Qual Garage_Cars      -5822.241020\n",
       "Kitchen_Qual Total_Bsmt_SF   -15950.132205\n",
       "Kitchen_Qual 1st_Flr_SF       20112.641965\n",
       "Kitchen_Qual Bsmt_Qual         -178.242771\n",
       "Garage_Area^2                 18785.395032\n",
       "Garage_Area Garage_Cars       -3579.807484\n",
       "Garage_Area Total_Bsmt_SF    -26580.616101\n",
       "Garage_Area 1st_Flr_SF        -2561.201718\n",
       "Garage_Area Bsmt_Qual          6422.488994\n",
       "Garage_Cars^2                -20996.370493\n",
       "Garage_Cars Total_Bsmt_SF     11453.782332\n",
       "Garage_Cars 1st_Flr_SF        17995.786543\n",
       "Garage_Cars Bsmt_Qual          8210.672416\n",
       "Total_Bsmt_SF^2               -1664.693948\n",
       "Total_Bsmt_SF 1st_Flr_SF     -35987.845439\n",
       "Total_Bsmt_SF Bsmt_Qual       36841.533895\n",
       "1st_Flr_SF^2                   5668.210108\n",
       "1st_Flr_SF Bsmt_Qual         -13975.978273\n",
       "Bsmt_Qual^2                   -5126.465968\n",
       "dtype: float64"
      ]
     },
     "execution_count": 250,
     "metadata": {},
     "output_type": "execute_result"
    }
   ],
   "source": [
    "lasso_coefs = pd.Series(lasso.coef_, index=poly.get_feature_names(X.columns))\n",
    "lasso_coefs"
   ]
  },
  {
   "cell_type": "code",
   "execution_count": 251,
   "id": "778ef2d1",
   "metadata": {},
   "outputs": [
    {
     "data": {
      "text/plain": [
       "<AxesSubplot:>"
      ]
     },
     "execution_count": 251,
     "metadata": {},
     "output_type": "execute_result"
    },
    {
     "data": {
      "image/png": "[encoded data removed]",
      "text/plain": [
       "<Figure size 576x720 with 1 Axes>"
      ]
     },
     "metadata": {
      "needs_background": "light"
     },
     "output_type": "display_data"
    }
   ],
   "source": [
    "plt.figure(figsize=(8, 10))\n",
    "lasso_coefs[lasso_coefs > 0].sort_values().plot.barh()"
   ]
  },
  {
   "cell_type": "code",
   "execution_count": 252,
   "id": "3aacba4c",
   "metadata": {},
   "outputs": [
    {
     "data": {
      "text/plain": [
       "<AxesSubplot:>"
      ]
     },
     "execution_count": 252,
     "metadata": {},
     "output_type": "execute_result"
    },
    {
     "data": {
      "image/png": "[encoded data removed]",
      "text/plain": [
       "<Figure size 576x720 with 1 Axes>"
      ]
     },
     "metadata": {
      "needs_background": "light"
     },
     "output_type": "display_data"
    }
   ],
   "source": [
    "plt.figure(figsize=(8, 10))\n",
    "lasso_coefs[lasso_coefs < 0].sort_values().plot.barh()"
   ]
  },
  {
   "cell_type": "code",
   "execution_count": 253,
   "id": "95e5dfc4",
   "metadata": {},
   "outputs": [
    {
     "data": {
      "text/plain": [
       "-14981.212745638066"
      ]
     },
     "execution_count": 253,
     "metadata": {},
     "output_type": "execute_result"
    }
   ],
   "source": [
    "lasso_coefs[lasso_coefs < 0].sort_values().mean()"
   ]
  },
  {
   "cell_type": "code",
   "execution_count": 254,
   "id": "1198ee6d",
   "metadata": {},
   "outputs": [
    {
     "data": {
      "text/plain": [
       "28"
      ]
     },
     "execution_count": 254,
     "metadata": {},
     "output_type": "execute_result"
    }
   ],
   "source": [
    "len(lasso_coefs[lasso_coefs < 0].sort_values())"
   ]
  },
  {
   "cell_type": "code",
   "execution_count": 255,
   "id": "04146099",
   "metadata": {},
   "outputs": [
    {
     "data": {
      "text/plain": [
       "-419473.95687786577"
      ]
     },
     "execution_count": 255,
     "metadata": {},
     "output_type": "execute_result"
    }
   ],
   "source": [
    "lasso_coefs[lasso_coefs < 0].sum()"
   ]
  },
  {
   "cell_type": "code",
   "execution_count": 256,
   "id": "91810a08",
   "metadata": {},
   "outputs": [
    {
     "data": {
      "text/plain": [
       "26"
      ]
     },
     "execution_count": 256,
     "metadata": {},
     "output_type": "execute_result"
    }
   ],
   "source": [
    "len(lasso_coefs[lasso_coefs > 0].sort_values())"
   ]
  },
  {
   "cell_type": "code",
   "execution_count": 257,
   "id": "fc1b65a7",
   "metadata": {},
   "outputs": [
    {
     "data": {
      "text/plain": [
       "478890.9703493267"
      ]
     },
     "execution_count": 257,
     "metadata": {},
     "output_type": "execute_result"
    }
   ],
   "source": [
    "lasso_coefs[lasso_coefs > 0].sum()"
   ]
  },
  {
   "cell_type": "code",
   "execution_count": 258,
   "id": "fa58bfb6",
   "metadata": {},
   "outputs": [
    {
     "data": {
      "text/plain": [
       "1100.315064286312"
      ]
     },
     "execution_count": 258,
     "metadata": {},
     "output_type": "execute_result"
    }
   ],
   "source": [
    "lasso_coefs.mean()"
   ]
  },
  {
   "cell_type": "code",
   "execution_count": 259,
   "id": "9ba1e0c8",
   "metadata": {},
   "outputs": [
    {
     "data": {
      "text/plain": [
       "Gr_Liv_Area 1st_Flr_SF       -47838.804533\n",
       "Overall_Qual^2               -47740.601897\n",
       "Total_Bsmt_SF 1st_Flr_SF     -35987.845439\n",
       "Garage_Area Total_Bsmt_SF    -26580.616101\n",
       "Gr_Liv_Area Garage_Area      -23067.717817\n",
       "Gr_Liv_Area                  -21552.986022\n",
       "Garage_Cars^2                -20996.370493\n",
       "Exter_Qual Kitchen_Qual      -19161.871862\n",
       "Exter_Qual                   -18404.268363\n",
       "Exter_Qual Garage_Cars       -18030.199775\n",
       "Garage_Area                  -17321.756075\n",
       "Kitchen_Qual Total_Bsmt_SF   -15950.132205\n",
       "Total_Bsmt_SF                -15563.443920\n",
       "dtype: float64"
      ]
     },
     "execution_count": 259,
     "metadata": {},
     "output_type": "execute_result"
    }
   ],
   "source": [
    "lasso_coefs[lasso_coefs < -14981.212745638066].sort_values()"
   ]
  },
  {
   "cell_type": "code",
   "execution_count": 260,
   "id": "4ffcbdeb",
   "metadata": {},
   "outputs": [
    {
     "data": {
      "text/plain": [
       "18418.8834749741"
      ]
     },
     "execution_count": 260,
     "metadata": {},
     "output_type": "execute_result"
    }
   ],
   "source": [
    "lasso_coefs[lasso_coefs > 0].sort_values().mean()"
   ]
  },
  {
   "cell_type": "code",
   "execution_count": 261,
   "id": "502aef28",
   "metadata": {},
   "outputs": [
    {
     "data": {
      "text/plain": [
       "Garage_Area^2                 18785.395032\n",
       "Kitchen_Qual 1st_Flr_SF       20112.641965\n",
       "Exter_Qual Garage_Area        20807.874040\n",
       "Gr_Liv_Area Garage_Cars       25201.557993\n",
       "Gr_Liv_Area Kitchen_Qual      31156.709335\n",
       "Total_Bsmt_SF Bsmt_Qual       36841.533895\n",
       "Overall_Qual Exter_Qual       39240.566793\n",
       "Overall_Qual Total_Bsmt_SF    55013.535575\n",
       "Overall_Qual Gr_Liv_Area      72856.107263\n",
       "dtype: float64"
      ]
     },
     "execution_count": 261,
     "metadata": {},
     "output_type": "execute_result"
    }
   ],
   "source": [
    "lasso_coefs[lasso_coefs > 18418.8834749741].sort_values()"
   ]
  },
  {
   "cell_type": "code",
   "execution_count": 262,
   "id": "9a6476bd",
   "metadata": {},
   "outputs": [
    {
     "data": {
      "text/plain": [
       "Overall_Qual Gr_Liv_Area      72856.107263\n",
       "Overall_Qual Total_Bsmt_SF    55013.535575\n",
       "Overall_Qual Exter_Qual       39240.566793\n",
       "Total_Bsmt_SF Bsmt_Qual       36841.533895\n",
       "Gr_Liv_Area Kitchen_Qual      31156.709335\n",
       "Gr_Liv_Area Garage_Cars       25201.557993\n",
       "Exter_Qual Garage_Area        20807.874040\n",
       "Kitchen_Qual 1st_Flr_SF       20112.641965\n",
       "Garage_Area^2                 18785.395032\n",
       "1st_Flr_SF                    18110.169342\n",
       "Garage_Cars 1st_Flr_SF        17995.786543\n",
       "Kitchen_Qual Garage_Area      17182.133101\n",
       "Exter_Qual^2                  12941.252689\n",
       "Garage_Cars Total_Bsmt_SF     11453.782332\n",
       "Kitchen_Qual^2                11363.601346\n",
       "Exter_Qual 1st_Flr_SF         10254.124379\n",
       "Garage_Cars Bsmt_Qual          8210.672416\n",
       "Gr_Liv_Area Total_Bsmt_SF      7882.800441\n",
       "Gr_Liv_Area Bsmt_Qual          7719.482113\n",
       "Bsmt_Qual                      7186.269457\n",
       "Overall_Qual Garage_Cars       6781.913063\n",
       "Garage_Area Bsmt_Qual          6422.488994\n",
       "1st_Flr_SF^2                   5668.210108\n",
       "Garage_Cars                    4317.414605\n",
       "Overall_Qual                   3879.306427\n",
       "Exter_Qual Gr_Liv_Area         1505.641100\n",
       "dtype: float64"
      ]
     },
     "execution_count": 262,
     "metadata": {},
     "output_type": "execute_result"
    }
   ],
   "source": [
    "lasso_coefs[lasso_coefs > 0].sort_values(ascending=False)"
   ]
  },
  {
   "cell_type": "markdown",
   "id": "c0aa429a",
   "metadata": {},
   "source": [
    "CONSIDERING "
   ]
  },
  {
   "cell_type": "markdown",
   "id": "0033d559",
   "metadata": {},
   "source": [
    "CREATION OF LIST OF VALUES FOR LATER"
   ]
  },
  {
   "cell_type": "code",
   "execution_count": 263,
   "id": "261073d8",
   "metadata": {},
   "outputs": [
    {
     "data": {
      "text/html": [
       "<div>\n",
       "<style scoped>\n",
       "    .dataframe tbody tr th:only-of-type {\n",
       "        vertical-align: middle;\n",
       "    }\n",
       "\n",
       "    .dataframe tbody tr th {\n",
       "        vertical-align: top;\n",
       "    }\n",
       "\n",
       "    .dataframe thead th {\n",
       "        text-align: right;\n",
       "    }\n",
       "</style>\n",
       "<table border=\"1\" class=\"dataframe\">\n",
       "  <thead>\n",
       "    <tr style=\"text-align: right;\">\n",
       "      <th></th>\n",
       "      <th>SalePrice</th>\n",
       "    </tr>\n",
       "  </thead>\n",
       "  <tbody>\n",
       "    <tr>\n",
       "      <th>Garage_Area 1st_Flr_SF</th>\n",
       "      <td>0.705365</td>\n",
       "    </tr>\n",
       "    <tr>\n",
       "      <th>Kitchen_Qual^2</th>\n",
       "      <td>0.708433</td>\n",
       "    </tr>\n",
       "    <tr>\n",
       "      <th>Exter_Qual</th>\n",
       "      <td>0.712146</td>\n",
       "    </tr>\n",
       "    <tr>\n",
       "      <th>Exter_Qual^2</th>\n",
       "      <td>0.721290</td>\n",
       "    </tr>\n",
       "    <tr>\n",
       "      <th>Exter_Qual Total_Bsmt_SF</th>\n",
       "      <td>0.735545</td>\n",
       "    </tr>\n",
       "    <tr>\n",
       "      <th>Total_Bsmt_SF Bsmt_Qual</th>\n",
       "      <td>0.742991</td>\n",
       "    </tr>\n",
       "    <tr>\n",
       "      <th>Exter_Qual 1st_Flr_SF</th>\n",
       "      <td>0.753101</td>\n",
       "    </tr>\n",
       "    <tr>\n",
       "      <th>Gr_Liv_Area Garage_Area</th>\n",
       "      <td>0.754659</td>\n",
       "    </tr>\n",
       "    <tr>\n",
       "      <th>Exter_Qual Bsmt_Qual</th>\n",
       "      <td>0.755313</td>\n",
       "    </tr>\n",
       "    <tr>\n",
       "      <th>Kitchen_Qual Total_Bsmt_SF</th>\n",
       "      <td>0.759551</td>\n",
       "    </tr>\n",
       "    <tr>\n",
       "      <th>Garage_Cars 1st_Flr_SF</th>\n",
       "      <td>0.760121</td>\n",
       "    </tr>\n",
       "    <tr>\n",
       "      <th>1st_Flr_SF Bsmt_Qual</th>\n",
       "      <td>0.760798</td>\n",
       "    </tr>\n",
       "    <tr>\n",
       "      <th>Exter_Qual Kitchen_Qual</th>\n",
       "      <td>0.766494</td>\n",
       "    </tr>\n",
       "    <tr>\n",
       "      <th>Kitchen_Qual 1st_Flr_SF</th>\n",
       "      <td>0.767139</td>\n",
       "    </tr>\n",
       "    <tr>\n",
       "      <th>Garage_Cars Total_Bsmt_SF</th>\n",
       "      <td>0.767335</td>\n",
       "    </tr>\n",
       "    <tr>\n",
       "      <th>Overall_Qual Total_Bsmt_SF</th>\n",
       "      <td>0.768630</td>\n",
       "    </tr>\n",
       "    <tr>\n",
       "      <th>Exter_Qual Garage_Area</th>\n",
       "      <td>0.769923</td>\n",
       "    </tr>\n",
       "    <tr>\n",
       "      <th>Garage_Cars Bsmt_Qual</th>\n",
       "      <td>0.770014</td>\n",
       "    </tr>\n",
       "    <tr>\n",
       "      <th>Kitchen_Qual Bsmt_Qual</th>\n",
       "      <td>0.775066</td>\n",
       "    </tr>\n",
       "    <tr>\n",
       "      <th>Garage_Area Bsmt_Qual</th>\n",
       "      <td>0.775321</td>\n",
       "    </tr>\n",
       "    <tr>\n",
       "      <th>Exter_Qual Garage_Cars</th>\n",
       "      <td>0.778026</td>\n",
       "    </tr>\n",
       "    <tr>\n",
       "      <th>Overall_Qual 1st_Flr_SF</th>\n",
       "      <td>0.792151</td>\n",
       "    </tr>\n",
       "    <tr>\n",
       "      <th>Gr_Liv_Area Garage_Cars</th>\n",
       "      <td>0.793274</td>\n",
       "    </tr>\n",
       "    <tr>\n",
       "      <th>Kitchen_Qual Garage_Area</th>\n",
       "      <td>0.794718</td>\n",
       "    </tr>\n",
       "    <tr>\n",
       "      <th>Overall_Qual</th>\n",
       "      <td>0.800207</td>\n",
       "    </tr>\n",
       "    <tr>\n",
       "      <th>Kitchen_Qual Garage_Cars</th>\n",
       "      <td>0.803750</td>\n",
       "    </tr>\n",
       "    <tr>\n",
       "      <th>Overall_Qual Bsmt_Qual</th>\n",
       "      <td>0.812202</td>\n",
       "    </tr>\n",
       "    <tr>\n",
       "      <th>Overall_Qual Garage_Area</th>\n",
       "      <td>0.813247</td>\n",
       "    </tr>\n",
       "    <tr>\n",
       "      <th>Gr_Liv_Area Bsmt_Qual</th>\n",
       "      <td>0.814206</td>\n",
       "    </tr>\n",
       "    <tr>\n",
       "      <th>Exter_Qual Gr_Liv_Area</th>\n",
       "      <td>0.817933</td>\n",
       "    </tr>\n",
       "    <tr>\n",
       "      <th>Gr_Liv_Area Kitchen_Qual</th>\n",
       "      <td>0.819606</td>\n",
       "    </tr>\n",
       "    <tr>\n",
       "      <th>Overall_Qual Garage_Cars</th>\n",
       "      <td>0.819935</td>\n",
       "    </tr>\n",
       "    <tr>\n",
       "      <th>Overall_Qual^2</th>\n",
       "      <td>0.825539</td>\n",
       "    </tr>\n",
       "    <tr>\n",
       "      <th>Overall_Qual Kitchen_Qual</th>\n",
       "      <td>0.826133</td>\n",
       "    </tr>\n",
       "    <tr>\n",
       "      <th>Overall_Qual Exter_Qual</th>\n",
       "      <td>0.828303</td>\n",
       "    </tr>\n",
       "    <tr>\n",
       "      <th>Overall_Qual Gr_Liv_Area</th>\n",
       "      <td>0.837152</td>\n",
       "    </tr>\n",
       "  </tbody>\n",
       "</table>\n",
       "</div>"
      ],
      "text/plain": [
       "                            SalePrice\n",
       "Garage_Area 1st_Flr_SF       0.705365\n",
       "Kitchen_Qual^2               0.708433\n",
       "Exter_Qual                   0.712146\n",
       "Exter_Qual^2                 0.721290\n",
       "Exter_Qual Total_Bsmt_SF     0.735545\n",
       "Total_Bsmt_SF Bsmt_Qual      0.742991\n",
       "Exter_Qual 1st_Flr_SF        0.753101\n",
       "Gr_Liv_Area Garage_Area      0.754659\n",
       "Exter_Qual Bsmt_Qual         0.755313\n",
       "Kitchen_Qual Total_Bsmt_SF   0.759551\n",
       "Garage_Cars 1st_Flr_SF       0.760121\n",
       "1st_Flr_SF Bsmt_Qual         0.760798\n",
       "Exter_Qual Kitchen_Qual      0.766494\n",
       "Kitchen_Qual 1st_Flr_SF      0.767139\n",
       "Garage_Cars Total_Bsmt_SF    0.767335\n",
       "Overall_Qual Total_Bsmt_SF   0.768630\n",
       "Exter_Qual Garage_Area       0.769923\n",
       "Garage_Cars Bsmt_Qual        0.770014\n",
       "Kitchen_Qual Bsmt_Qual       0.775066\n",
       "Garage_Area Bsmt_Qual        0.775321\n",
       "Exter_Qual Garage_Cars       0.778026\n",
       "Overall_Qual 1st_Flr_SF      0.792151\n",
       "Gr_Liv_Area Garage_Cars      0.793274\n",
       "Kitchen_Qual Garage_Area     0.794718\n",
       "Overall_Qual                 0.800207\n",
       "Kitchen_Qual Garage_Cars     0.803750\n",
       "Overall_Qual Bsmt_Qual       0.812202\n",
       "Overall_Qual Garage_Area     0.813247\n",
       "Gr_Liv_Area Bsmt_Qual        0.814206\n",
       "Exter_Qual Gr_Liv_Area       0.817933\n",
       "Gr_Liv_Area Kitchen_Qual     0.819606\n",
       "Overall_Qual Garage_Cars     0.819935\n",
       "Overall_Qual^2               0.825539\n",
       "Overall_Qual Kitchen_Qual    0.826133\n",
       "Overall_Qual Exter_Qual      0.828303\n",
       "Overall_Qual Gr_Liv_Area     0.837152"
      ]
     },
     "execution_count": 263,
     "metadata": {},
     "output_type": "execute_result"
    }
   ],
   "source": [
    "polycorr7 = polycorr.loc[polycorr['SalePrice'] > 0.7]\n",
    "polycorr7"
   ]
  },
  {
   "cell_type": "code",
   "execution_count": 264,
   "id": "acd9040f",
   "metadata": {},
   "outputs": [
    {
     "data": {
      "text/plain": [
       "SalePrice  Garage_Area 1st_Flr_SF        0.705365\n",
       "           Kitchen_Qual^2                0.708433\n",
       "           Exter_Qual                    0.712146\n",
       "           Exter_Qual^2                  0.721290\n",
       "           Exter_Qual Total_Bsmt_SF      0.735545\n",
       "           Total_Bsmt_SF Bsmt_Qual       0.742991\n",
       "           Exter_Qual 1st_Flr_SF         0.753101\n",
       "           Gr_Liv_Area Garage_Area       0.754659\n",
       "           Exter_Qual Bsmt_Qual          0.755313\n",
       "           Kitchen_Qual Total_Bsmt_SF    0.759551\n",
       "           Garage_Cars 1st_Flr_SF        0.760121\n",
       "           1st_Flr_SF Bsmt_Qual          0.760798\n",
       "           Exter_Qual Kitchen_Qual       0.766494\n",
       "           Kitchen_Qual 1st_Flr_SF       0.767139\n",
       "           Garage_Cars Total_Bsmt_SF     0.767335\n",
       "           Overall_Qual Total_Bsmt_SF    0.768630\n",
       "           Exter_Qual Garage_Area        0.769923\n",
       "           Garage_Cars Bsmt_Qual         0.770014\n",
       "           Kitchen_Qual Bsmt_Qual        0.775066\n",
       "           Garage_Area Bsmt_Qual         0.775321\n",
       "           Exter_Qual Garage_Cars        0.778026\n",
       "           Overall_Qual 1st_Flr_SF       0.792151\n",
       "           Gr_Liv_Area Garage_Cars       0.793274\n",
       "           Kitchen_Qual Garage_Area      0.794718\n",
       "           Overall_Qual                  0.800207\n",
       "           Kitchen_Qual Garage_Cars      0.803750\n",
       "           Overall_Qual Bsmt_Qual        0.812202\n",
       "           Overall_Qual Garage_Area      0.813247\n",
       "           Gr_Liv_Area Bsmt_Qual         0.814206\n",
       "           Exter_Qual Gr_Liv_Area        0.817933\n",
       "           Gr_Liv_Area Kitchen_Qual      0.819606\n",
       "           Overall_Qual Garage_Cars      0.819935\n",
       "           Overall_Qual^2                0.825539\n",
       "           Overall_Qual Kitchen_Qual     0.826133\n",
       "           Overall_Qual Exter_Qual       0.828303\n",
       "           Overall_Qual Gr_Liv_Area      0.837152\n",
       "dtype: float64"
      ]
     },
     "execution_count": 264,
     "metadata": {},
     "output_type": "execute_result"
    }
   ],
   "source": [
    "pcsort = polycorr7.unstack().sort_values()\n",
    "pcsort"
   ]
  },
  {
   "cell_type": "code",
   "execution_count": 265,
   "id": "1b94a854",
   "metadata": {},
   "outputs": [
    {
     "name": "stdout",
     "output_type": "stream",
     "text": [
      "['Garage_Area 1st_Flr_SF', 'Kitchen_Qual^2', 'Exter_Qual', 'Exter_Qual^2', 'Exter_Qual Total_Bsmt_SF', 'Total_Bsmt_SF Bsmt_Qual', 'Exter_Qual 1st_Flr_SF', 'Gr_Liv_Area Garage_Area', 'Exter_Qual Bsmt_Qual', 'Kitchen_Qual Total_Bsmt_SF', 'Garage_Cars 1st_Flr_SF', '1st_Flr_SF Bsmt_Qual', 'Exter_Qual Kitchen_Qual', 'Kitchen_Qual 1st_Flr_SF', 'Garage_Cars Total_Bsmt_SF', 'Overall_Qual Total_Bsmt_SF', 'Exter_Qual Garage_Area', 'Garage_Cars Bsmt_Qual', 'Kitchen_Qual Bsmt_Qual', 'Garage_Area Bsmt_Qual', 'Exter_Qual Garage_Cars', 'Overall_Qual 1st_Flr_SF', 'Gr_Liv_Area Garage_Cars', 'Kitchen_Qual Garage_Area', 'Overall_Qual', 'Kitchen_Qual Garage_Cars', 'Overall_Qual Bsmt_Qual', 'Overall_Qual Garage_Area', 'Gr_Liv_Area Bsmt_Qual', 'Exter_Qual Gr_Liv_Area', 'Gr_Liv_Area Kitchen_Qual', 'Overall_Qual Garage_Cars', 'Overall_Qual^2', 'Overall_Qual Kitchen_Qual', 'Overall_Qual Exter_Qual', 'Overall_Qual Gr_Liv_Area']\n"
     ]
    }
   ],
   "source": [
    "keylist7 =[]\n",
    "for n in pcsort.items():\n",
    "    keylist7.append(n[0][1])\n",
    "print(keylist7)"
   ]
  },
  {
   "cell_type": "markdown",
   "id": "45da37a9",
   "metadata": {},
   "source": [
    "### CREATION OF SEPARATE POLYNOMIAL FEATURES AND MODEL\n",
    "Features ranging from 0.8 - 1"
   ]
  },
  {
   "cell_type": "code",
   "execution_count": 266,
   "id": "46e4c1e6",
   "metadata": {},
   "outputs": [],
   "source": [
    "features = ['Overall_Qual Gr_Liv_Area', 'Overall_Qual Exter_Qual', 'Overall_Qual Kitchen_Qual', 'Overall_Qual^2',\n",
    "           'Overall_Qual Garage_Cars', 'Gr_Liv_Area Kitchen_Qual', 'Exter_Qual Gr_Liv_Area', 'Gr_Liv_Area Bsmt_Qual',\n",
    "           'Kitchen_Qual Garage_Cars', 'Overall_Qual']\n",
    "X = poly2df[features]\n",
    "y = poly2df['SalePrice']"
   ]
  },
  {
   "cell_type": "code",
   "execution_count": 267,
   "id": "e44f3a7e",
   "metadata": {},
   "outputs": [
    {
     "data": {
      "text/html": [
       "<div>\n",
       "<style scoped>\n",
       "    .dataframe tbody tr th:only-of-type {\n",
       "        vertical-align: middle;\n",
       "    }\n",
       "\n",
       "    .dataframe tbody tr th {\n",
       "        vertical-align: top;\n",
       "    }\n",
       "\n",
       "    .dataframe thead th {\n",
       "        text-align: right;\n",
       "    }\n",
       "</style>\n",
       "<table border=\"1\" class=\"dataframe\">\n",
       "  <thead>\n",
       "    <tr style=\"text-align: right;\">\n",
       "      <th></th>\n",
       "      <th>Overall_Qual Gr_Liv_Area</th>\n",
       "      <th>Overall_Qual Exter_Qual</th>\n",
       "      <th>Overall_Qual Kitchen_Qual</th>\n",
       "      <th>Overall_Qual^2</th>\n",
       "      <th>Overall_Qual Garage_Cars</th>\n",
       "      <th>Gr_Liv_Area Kitchen_Qual</th>\n",
       "      <th>Exter_Qual Gr_Liv_Area</th>\n",
       "      <th>Gr_Liv_Area Bsmt_Qual</th>\n",
       "      <th>Kitchen_Qual Garage_Cars</th>\n",
       "      <th>Overall_Qual</th>\n",
       "    </tr>\n",
       "  </thead>\n",
       "  <tbody>\n",
       "    <tr>\n",
       "      <th>532</th>\n",
       "      <td>9522.0</td>\n",
       "      <td>18.0</td>\n",
       "      <td>12.0</td>\n",
       "      <td>36.0</td>\n",
       "      <td>12.0</td>\n",
       "      <td>3174.0</td>\n",
       "      <td>4761.0</td>\n",
       "      <td>4761.0</td>\n",
       "      <td>4.0</td>\n",
       "      <td>6.0</td>\n",
       "    </tr>\n",
       "    <tr>\n",
       "      <th>415</th>\n",
       "      <td>15869.0</td>\n",
       "      <td>21.0</td>\n",
       "      <td>14.0</td>\n",
       "      <td>49.0</td>\n",
       "      <td>14.0</td>\n",
       "      <td>4534.0</td>\n",
       "      <td>6801.0</td>\n",
       "      <td>6801.0</td>\n",
       "      <td>4.0</td>\n",
       "      <td>7.0</td>\n",
       "    </tr>\n",
       "    <tr>\n",
       "      <th>273</th>\n",
       "      <td>4320.0</td>\n",
       "      <td>15.0</td>\n",
       "      <td>15.0</td>\n",
       "      <td>25.0</td>\n",
       "      <td>10.0</td>\n",
       "      <td>2592.0</td>\n",
       "      <td>2592.0</td>\n",
       "      <td>2592.0</td>\n",
       "      <td>6.0</td>\n",
       "      <td>5.0</td>\n",
       "    </tr>\n",
       "    <tr>\n",
       "      <th>1460</th>\n",
       "      <td>15820.0</td>\n",
       "      <td>28.0</td>\n",
       "      <td>21.0</td>\n",
       "      <td>49.0</td>\n",
       "      <td>14.0</td>\n",
       "      <td>6780.0</td>\n",
       "      <td>9040.0</td>\n",
       "      <td>11300.0</td>\n",
       "      <td>6.0</td>\n",
       "      <td>7.0</td>\n",
       "    </tr>\n",
       "    <tr>\n",
       "      <th>250</th>\n",
       "      <td>20008.0</td>\n",
       "      <td>32.0</td>\n",
       "      <td>24.0</td>\n",
       "      <td>64.0</td>\n",
       "      <td>24.0</td>\n",
       "      <td>7503.0</td>\n",
       "      <td>10004.0</td>\n",
       "      <td>10004.0</td>\n",
       "      <td>9.0</td>\n",
       "      <td>8.0</td>\n",
       "    </tr>\n",
       "  </tbody>\n",
       "</table>\n",
       "</div>"
      ],
      "text/plain": [
       "      Overall_Qual Gr_Liv_Area  Overall_Qual Exter_Qual  \\\n",
       "532                     9522.0                     18.0   \n",
       "415                    15869.0                     21.0   \n",
       "273                     4320.0                     15.0   \n",
       "1460                   15820.0                     28.0   \n",
       "250                    20008.0                     32.0   \n",
       "\n",
       "      Overall_Qual Kitchen_Qual  Overall_Qual^2  Overall_Qual Garage_Cars  \\\n",
       "532                        12.0            36.0                      12.0   \n",
       "415                        14.0            49.0                      14.0   \n",
       "273                        15.0            25.0                      10.0   \n",
       "1460                       21.0            49.0                      14.0   \n",
       "250                        24.0            64.0                      24.0   \n",
       "\n",
       "      Gr_Liv_Area Kitchen_Qual  Exter_Qual Gr_Liv_Area  Gr_Liv_Area Bsmt_Qual  \\\n",
       "532                     3174.0                  4761.0                 4761.0   \n",
       "415                     4534.0                  6801.0                 6801.0   \n",
       "273                     2592.0                  2592.0                 2592.0   \n",
       "1460                    6780.0                  9040.0                11300.0   \n",
       "250                     7503.0                 10004.0                10004.0   \n",
       "\n",
       "      Kitchen_Qual Garage_Cars  Overall_Qual  \n",
       "532                        4.0           6.0  \n",
       "415                        4.0           7.0  \n",
       "273                        6.0           5.0  \n",
       "1460                       6.0           7.0  \n",
       "250                        9.0           8.0  "
      ]
     },
     "execution_count": 267,
     "metadata": {},
     "output_type": "execute_result"
    }
   ],
   "source": [
    "X_train, X_test, y_train, y_test = train_test_split(X,y, random_state = 42)\n",
    "X_train.head()"
   ]
  },
  {
   "cell_type": "code",
   "execution_count": 268,
   "id": "2ac3b294",
   "metadata": {},
   "outputs": [
    {
     "data": {
      "text/plain": [
       "LinearRegression()"
      ]
     },
     "execution_count": 268,
     "metadata": {},
     "output_type": "execute_result"
    }
   ],
   "source": [
    "lr = LinearRegression()\n",
    "lr.fit(X_train, y_train)"
   ]
  },
  {
   "cell_type": "code",
   "execution_count": 269,
   "id": "bf491c50",
   "metadata": {},
   "outputs": [
    {
     "data": {
      "text/plain": [
       "0.790398542156717"
      ]
     },
     "execution_count": 269,
     "metadata": {},
     "output_type": "execute_result"
    }
   ],
   "source": [
    "cross_val_score(lr, X_train, y_train).mean()"
   ]
  },
  {
   "cell_type": "code",
   "execution_count": 270,
   "id": "edb68f39",
   "metadata": {},
   "outputs": [
    {
     "data": {
      "text/plain": [
       "0.8504439902109354"
      ]
     },
     "execution_count": 270,
     "metadata": {},
     "output_type": "execute_result"
    }
   ],
   "source": [
    "cross_val_score(lr, X_test, y_test).mean()"
   ]
  },
  {
   "cell_type": "code",
   "execution_count": 271,
   "id": "740b056b",
   "metadata": {},
   "outputs": [],
   "source": [
    "preds = lr.predict(X_train)"
   ]
  },
  {
   "cell_type": "code",
   "execution_count": 272,
   "id": "a86d4254",
   "metadata": {},
   "outputs": [
    {
     "data": {
      "text/plain": [
       "0.8073760416135062"
      ]
     },
     "execution_count": 272,
     "metadata": {},
     "output_type": "execute_result"
    }
   ],
   "source": [
    "metrics.r2_score(y_train, preds)"
   ]
  },
  {
   "cell_type": "code",
   "execution_count": 273,
   "id": "946a54d7",
   "metadata": {},
   "outputs": [
    {
     "data": {
      "text/plain": [
       "0.8061145880549829"
      ]
     },
     "execution_count": 273,
     "metadata": {},
     "output_type": "execute_result"
    }
   ],
   "source": [
    "r2adj(lr, X_train, y_train)"
   ]
  },
  {
   "cell_type": "code",
   "execution_count": 274,
   "id": "6cf98873",
   "metadata": {},
   "outputs": [
    {
     "data": {
      "text/plain": [
       "22827.281626137"
      ]
     },
     "execution_count": 274,
     "metadata": {},
     "output_type": "execute_result"
    }
   ],
   "source": [
    "metrics.mean_absolute_error(y_train, preds)"
   ]
  },
  {
   "cell_type": "code",
   "execution_count": 275,
   "id": "37059e51",
   "metadata": {},
   "outputs": [
    {
     "data": {
      "text/plain": [
       "34903.49725988188"
      ]
     },
     "execution_count": 275,
     "metadata": {},
     "output_type": "execute_result"
    }
   ],
   "source": [
    "metrics.mean_squared_error(y_train, preds, squared=False)"
   ]
  },
  {
   "cell_type": "code",
   "execution_count": 276,
   "id": "00c36eb2",
   "metadata": {},
   "outputs": [
    {
     "data": {
      "text/plain": [
       "1218254120.9705818"
      ]
     },
     "execution_count": 276,
     "metadata": {},
     "output_type": "execute_result"
    }
   ],
   "source": [
    "metrics.mean_squared_error(y_train, preds)"
   ]
  },
  {
   "cell_type": "code",
   "execution_count": 277,
   "id": "b280a3dc",
   "metadata": {},
   "outputs": [
    {
     "data": {
      "text/plain": [
       "<matplotlib.collections.PathCollection at 0x7fc6279cd7c0>"
      ]
     },
     "execution_count": 277,
     "metadata": {},
     "output_type": "execute_result"
    },
    {
     "data": {
      "image/png": "[encoded data removed]",
      "text/plain": [
       "<Figure size 432x288 with 1 Axes>"
      ]
     },
     "metadata": {
      "needs_background": "light"
     },
     "output_type": "display_data"
    }
   ],
   "source": [
    "plt.scatter(x=preds, y = y_train)"
   ]
  },
  {
   "cell_type": "code",
   "execution_count": 278,
   "id": "55407b08",
   "metadata": {},
   "outputs": [
    {
     "data": {
      "text/plain": [
       "(array([163., 601., 361., 235., 100.,  45.,  26.,   4.,   1.,   2.]),\n",
       " array([ 56682.98973706, 109421.15956352, 162159.32938999, 214897.49921646,\n",
       "        267635.66904293, 320373.83886939, 373112.00869586, 425850.17852233,\n",
       "        478588.3483488 , 531326.51817526, 584064.68800173]),\n",
       " <BarContainer object of 10 artists>)"
      ]
     },
     "execution_count": 278,
     "metadata": {},
     "output_type": "execute_result"
    },
    {
     "data": {
      "image/png": "[encoded data removed]",
      "text/plain": [
       "<Figure size 432x288 with 1 Axes>"
      ]
     },
     "metadata": {
      "needs_background": "light"
     },
     "output_type": "display_data"
    }
   ],
   "source": [
    "plt.hist(preds)"
   ]
  },
  {
   "cell_type": "code",
   "execution_count": 279,
   "id": "538af155",
   "metadata": {},
   "outputs": [],
   "source": [
    "preds = lr.predict(X_test)"
   ]
  },
  {
   "cell_type": "code",
   "execution_count": 280,
   "id": "dcec8d04",
   "metadata": {},
   "outputs": [
    {
     "data": {
      "text/plain": [
       "0.8528771992887367"
      ]
     },
     "execution_count": 280,
     "metadata": {},
     "output_type": "execute_result"
    }
   ],
   "source": [
    "metrics.r2_score(y_test, preds)"
   ]
  },
  {
   "cell_type": "code",
   "execution_count": 281,
   "id": "6727abd6",
   "metadata": {},
   "outputs": [
    {
     "data": {
      "text/plain": [
       "0.849946466206839"
      ]
     },
     "execution_count": 281,
     "metadata": {},
     "output_type": "execute_result"
    }
   ],
   "source": [
    "r2adj(lr, X_test, y_test)"
   ]
  },
  {
   "cell_type": "code",
   "execution_count": 282,
   "id": "a1b7ccce",
   "metadata": {},
   "outputs": [
    {
     "data": {
      "text/plain": [
       "21895.68748422965"
      ]
     },
     "execution_count": 282,
     "metadata": {},
     "output_type": "execute_result"
    }
   ],
   "source": [
    "metrics.mean_absolute_error(y_test, preds)"
   ]
  },
  {
   "cell_type": "code",
   "execution_count": 283,
   "id": "78454707",
   "metadata": {},
   "outputs": [
    {
     "data": {
      "text/plain": [
       "30055.57576822912"
      ]
     },
     "execution_count": 283,
     "metadata": {},
     "output_type": "execute_result"
    }
   ],
   "source": [
    "metrics.mean_squared_error(y_test, preds, squared=False)"
   ]
  },
  {
   "cell_type": "code",
   "execution_count": 284,
   "id": "cc2f003e",
   "metadata": {},
   "outputs": [
    {
     "data": {
      "text/plain": [
       "903337634.7597613"
      ]
     },
     "execution_count": 284,
     "metadata": {},
     "output_type": "execute_result"
    }
   ],
   "source": [
    "metrics.mean_squared_error(y_test, preds)"
   ]
  },
  {
   "cell_type": "code",
   "execution_count": 285,
   "id": "acf9cf7e",
   "metadata": {},
   "outputs": [
    {
     "data": {
      "text/plain": [
       "<matplotlib.lines.Line2D at 0x7fc627af73a0>"
      ]
     },
     "execution_count": 285,
     "metadata": {},
     "output_type": "execute_result"
    },
    {
     "data": {
      "image/png": "[encoded data removed]",
      "text/plain": [
       "<Figure size 432x288 with 1 Axes>"
      ]
     },
     "metadata": {
      "needs_background": "light"
     },
     "output_type": "display_data"
    }
   ],
   "source": [
    "plt.scatter(preds, y_test)\n",
    "plt.axhline(y_test.mean(), color='r')"
   ]
  },
  {
   "cell_type": "code",
   "execution_count": 286,
   "id": "b3c57ae8",
   "metadata": {},
   "outputs": [
    {
     "data": {
      "text/plain": [
       "(array([  5.,  37., 160., 141.,  72.,  39.,  24.,  15.,  10.,  10.]),\n",
       " array([ 12789. ,  57510.1, 102231.2, 146952.3, 191673.4, 236394.5,\n",
       "        281115.6, 325836.7, 370557.8, 415278.9, 460000. ]),\n",
       " <BarContainer object of 10 artists>)"
      ]
     },
     "execution_count": 286,
     "metadata": {},
     "output_type": "execute_result"
    },
    {
     "data": {
      "image/png": "[encoded data removed]",
      "text/plain": [
       "<Figure size 432x288 with 1 Axes>"
      ]
     },
     "metadata": {
      "needs_background": "light"
     },
     "output_type": "display_data"
    }
   ],
   "source": [
    "plt.hist(preds, color='r', alpha=.5)\n",
    "plt.hist(y_test, color = 'blue', alpha=.5)"
   ]
  },
  {
   "cell_type": "markdown",
   "id": "441d0f9f",
   "metadata": {},
   "source": [
    "## KAGGLE SUBMISSION"
   ]
  },
  {
   "cell_type": "markdown",
   "id": "8edf3a4a",
   "metadata": {},
   "source": [
    "## CREATION OF SEPARATE POLYNOMIAL FEATURES AND MODEL\n",
    "Features ranging from 0.7-1.0"
   ]
  },
  {
   "cell_type": "code",
   "execution_count": 287,
   "id": "e07e8e67",
   "metadata": {},
   "outputs": [],
   "source": [
    "features = keylist7\n",
    "X = poly2df[features]\n",
    "y = poly2df['SalePrice']"
   ]
  },
  {
   "cell_type": "code",
   "execution_count": 288,
   "id": "e2a00ca8",
   "metadata": {},
   "outputs": [
    {
     "data": {
      "text/html": [
       "<div>\n",
       "<style scoped>\n",
       "    .dataframe tbody tr th:only-of-type {\n",
       "        vertical-align: middle;\n",
       "    }\n",
       "\n",
       "    .dataframe tbody tr th {\n",
       "        vertical-align: top;\n",
       "    }\n",
       "\n",
       "    .dataframe thead th {\n",
       "        text-align: right;\n",
       "    }\n",
       "</style>\n",
       "<table border=\"1\" class=\"dataframe\">\n",
       "  <thead>\n",
       "    <tr style=\"text-align: right;\">\n",
       "      <th></th>\n",
       "      <th>Garage_Area 1st_Flr_SF</th>\n",
       "      <th>Kitchen_Qual^2</th>\n",
       "      <th>Exter_Qual</th>\n",
       "      <th>Exter_Qual^2</th>\n",
       "      <th>Exter_Qual Total_Bsmt_SF</th>\n",
       "      <th>Total_Bsmt_SF Bsmt_Qual</th>\n",
       "      <th>Exter_Qual 1st_Flr_SF</th>\n",
       "      <th>Gr_Liv_Area Garage_Area</th>\n",
       "      <th>Exter_Qual Bsmt_Qual</th>\n",
       "      <th>Kitchen_Qual Total_Bsmt_SF</th>\n",
       "      <th>...</th>\n",
       "      <th>Overall_Qual Bsmt_Qual</th>\n",
       "      <th>Overall_Qual Garage_Area</th>\n",
       "      <th>Gr_Liv_Area Bsmt_Qual</th>\n",
       "      <th>Exter_Qual Gr_Liv_Area</th>\n",
       "      <th>Gr_Liv_Area Kitchen_Qual</th>\n",
       "      <th>Overall_Qual Garage_Cars</th>\n",
       "      <th>Overall_Qual^2</th>\n",
       "      <th>Overall_Qual Kitchen_Qual</th>\n",
       "      <th>Overall_Qual Exter_Qual</th>\n",
       "      <th>Overall_Qual Gr_Liv_Area</th>\n",
       "    </tr>\n",
       "  </thead>\n",
       "  <tbody>\n",
       "    <tr>\n",
       "      <th>532</th>\n",
       "      <td>833175.0</td>\n",
       "      <td>4.0</td>\n",
       "      <td>3.0</td>\n",
       "      <td>9.0</td>\n",
       "      <td>4761.0</td>\n",
       "      <td>4761.0</td>\n",
       "      <td>4761.0</td>\n",
       "      <td>833175.0</td>\n",
       "      <td>9.0</td>\n",
       "      <td>3174.0</td>\n",
       "      <td>...</td>\n",
       "      <td>18.0</td>\n",
       "      <td>3150.0</td>\n",
       "      <td>4761.0</td>\n",
       "      <td>4761.0</td>\n",
       "      <td>3174.0</td>\n",
       "      <td>12.0</td>\n",
       "      <td>36.0</td>\n",
       "      <td>12.0</td>\n",
       "      <td>18.0</td>\n",
       "      <td>9522.0</td>\n",
       "    </tr>\n",
       "    <tr>\n",
       "      <th>415</th>\n",
       "      <td>628476.0</td>\n",
       "      <td>4.0</td>\n",
       "      <td>3.0</td>\n",
       "      <td>9.0</td>\n",
       "      <td>3015.0</td>\n",
       "      <td>3015.0</td>\n",
       "      <td>3786.0</td>\n",
       "      <td>1128966.0</td>\n",
       "      <td>9.0</td>\n",
       "      <td>2010.0</td>\n",
       "      <td>...</td>\n",
       "      <td>21.0</td>\n",
       "      <td>3486.0</td>\n",
       "      <td>6801.0</td>\n",
       "      <td>6801.0</td>\n",
       "      <td>4534.0</td>\n",
       "      <td>14.0</td>\n",
       "      <td>49.0</td>\n",
       "      <td>14.0</td>\n",
       "      <td>21.0</td>\n",
       "      <td>15869.0</td>\n",
       "    </tr>\n",
       "    <tr>\n",
       "      <th>273</th>\n",
       "      <td>622080.0</td>\n",
       "      <td>9.0</td>\n",
       "      <td>3.0</td>\n",
       "      <td>9.0</td>\n",
       "      <td>2592.0</td>\n",
       "      <td>2592.0</td>\n",
       "      <td>2592.0</td>\n",
       "      <td>622080.0</td>\n",
       "      <td>9.0</td>\n",
       "      <td>2592.0</td>\n",
       "      <td>...</td>\n",
       "      <td>15.0</td>\n",
       "      <td>3600.0</td>\n",
       "      <td>2592.0</td>\n",
       "      <td>2592.0</td>\n",
       "      <td>2592.0</td>\n",
       "      <td>10.0</td>\n",
       "      <td>25.0</td>\n",
       "      <td>15.0</td>\n",
       "      <td>15.0</td>\n",
       "      <td>4320.0</td>\n",
       "    </tr>\n",
       "    <tr>\n",
       "      <th>1460</th>\n",
       "      <td>696098.0</td>\n",
       "      <td>9.0</td>\n",
       "      <td>4.0</td>\n",
       "      <td>16.0</td>\n",
       "      <td>5224.0</td>\n",
       "      <td>6530.0</td>\n",
       "      <td>5224.0</td>\n",
       "      <td>1204580.0</td>\n",
       "      <td>20.0</td>\n",
       "      <td>3918.0</td>\n",
       "      <td>...</td>\n",
       "      <td>35.0</td>\n",
       "      <td>3731.0</td>\n",
       "      <td>11300.0</td>\n",
       "      <td>9040.0</td>\n",
       "      <td>6780.0</td>\n",
       "      <td>14.0</td>\n",
       "      <td>49.0</td>\n",
       "      <td>21.0</td>\n",
       "      <td>28.0</td>\n",
       "      <td>15820.0</td>\n",
       "    </tr>\n",
       "    <tr>\n",
       "      <th>250</th>\n",
       "      <td>939501.0</td>\n",
       "      <td>9.0</td>\n",
       "      <td>4.0</td>\n",
       "      <td>16.0</td>\n",
       "      <td>4968.0</td>\n",
       "      <td>4968.0</td>\n",
       "      <td>5004.0</td>\n",
       "      <td>1878251.0</td>\n",
       "      <td>16.0</td>\n",
       "      <td>3726.0</td>\n",
       "      <td>...</td>\n",
       "      <td>32.0</td>\n",
       "      <td>6008.0</td>\n",
       "      <td>10004.0</td>\n",
       "      <td>10004.0</td>\n",
       "      <td>7503.0</td>\n",
       "      <td>24.0</td>\n",
       "      <td>64.0</td>\n",
       "      <td>24.0</td>\n",
       "      <td>32.0</td>\n",
       "      <td>20008.0</td>\n",
       "    </tr>\n",
       "  </tbody>\n",
       "</table>\n",
       "<p>5 rows × 36 columns</p>\n",
       "</div>"
      ],
      "text/plain": [
       "      Garage_Area 1st_Flr_SF  Kitchen_Qual^2  Exter_Qual  Exter_Qual^2  \\\n",
       "532                 833175.0             4.0         3.0           9.0   \n",
       "415                 628476.0             4.0         3.0           9.0   \n",
       "273                 622080.0             9.0         3.0           9.0   \n",
       "1460                696098.0             9.0         4.0          16.0   \n",
       "250                 939501.0             9.0         4.0          16.0   \n",
       "\n",
       "      Exter_Qual Total_Bsmt_SF  Total_Bsmt_SF Bsmt_Qual  \\\n",
       "532                     4761.0                   4761.0   \n",
       "415                     3015.0                   3015.0   \n",
       "273                     2592.0                   2592.0   \n",
       "1460                    5224.0                   6530.0   \n",
       "250                     4968.0                   4968.0   \n",
       "\n",
       "      Exter_Qual 1st_Flr_SF  Gr_Liv_Area Garage_Area  Exter_Qual Bsmt_Qual  \\\n",
       "532                  4761.0                 833175.0                   9.0   \n",
       "415                  3786.0                1128966.0                   9.0   \n",
       "273                  2592.0                 622080.0                   9.0   \n",
       "1460                 5224.0                1204580.0                  20.0   \n",
       "250                  5004.0                1878251.0                  16.0   \n",
       "\n",
       "      Kitchen_Qual Total_Bsmt_SF  ...  Overall_Qual Bsmt_Qual  \\\n",
       "532                       3174.0  ...                    18.0   \n",
       "415                       2010.0  ...                    21.0   \n",
       "273                       2592.0  ...                    15.0   \n",
       "1460                      3918.0  ...                    35.0   \n",
       "250                       3726.0  ...                    32.0   \n",
       "\n",
       "      Overall_Qual Garage_Area  Gr_Liv_Area Bsmt_Qual  Exter_Qual Gr_Liv_Area  \\\n",
       "532                     3150.0                 4761.0                  4761.0   \n",
       "415                     3486.0                 6801.0                  6801.0   \n",
       "273                     3600.0                 2592.0                  2592.0   \n",
       "1460                    3731.0                11300.0                  9040.0   \n",
       "250                     6008.0                10004.0                 10004.0   \n",
       "\n",
       "      Gr_Liv_Area Kitchen_Qual  Overall_Qual Garage_Cars  Overall_Qual^2  \\\n",
       "532                     3174.0                      12.0            36.0   \n",
       "415                     4534.0                      14.0            49.0   \n",
       "273                     2592.0                      10.0            25.0   \n",
       "1460                    6780.0                      14.0            49.0   \n",
       "250                     7503.0                      24.0            64.0   \n",
       "\n",
       "      Overall_Qual Kitchen_Qual  Overall_Qual Exter_Qual  \\\n",
       "532                        12.0                     18.0   \n",
       "415                        14.0                     21.0   \n",
       "273                        15.0                     15.0   \n",
       "1460                       21.0                     28.0   \n",
       "250                        24.0                     32.0   \n",
       "\n",
       "      Overall_Qual Gr_Liv_Area  \n",
       "532                     9522.0  \n",
       "415                    15869.0  \n",
       "273                     4320.0  \n",
       "1460                   15820.0  \n",
       "250                    20008.0  \n",
       "\n",
       "[5 rows x 36 columns]"
      ]
     },
     "execution_count": 288,
     "metadata": {},
     "output_type": "execute_result"
    }
   ],
   "source": [
    "X_train, X_test, y_train, y_test = train_test_split(X,y, random_state = 42)\n",
    "X_train.head()"
   ]
  },
  {
   "cell_type": "code",
   "execution_count": 289,
   "id": "0378c38b",
   "metadata": {},
   "outputs": [
    {
     "data": {
      "text/plain": [
       "LinearRegression()"
      ]
     },
     "execution_count": 289,
     "metadata": {},
     "output_type": "execute_result"
    }
   ],
   "source": [
    "lr = LinearRegression()\n",
    "lr.fit(X_train, y_train)"
   ]
  },
  {
   "cell_type": "code",
   "execution_count": 290,
   "id": "89f4a11f",
   "metadata": {},
   "outputs": [
    {
     "data": {
      "text/plain": [
       "0.8432200727203674"
      ]
     },
     "execution_count": 290,
     "metadata": {},
     "output_type": "execute_result"
    }
   ],
   "source": [
    "cross_val_score(lr, X_train, y_train).mean()"
   ]
  },
  {
   "cell_type": "code",
   "execution_count": 291,
   "id": "1c704bce",
   "metadata": {},
   "outputs": [
    {
     "data": {
      "text/plain": [
       "0.8771033141355996"
      ]
     },
     "execution_count": 291,
     "metadata": {},
     "output_type": "execute_result"
    }
   ],
   "source": [
    "cross_val_score(lr, X_test, y_test).mean()"
   ]
  },
  {
   "cell_type": "code",
   "execution_count": 292,
   "id": "592adb8c",
   "metadata": {},
   "outputs": [],
   "source": [
    "preds = lr.predict(X_train)"
   ]
  },
  {
   "cell_type": "code",
   "execution_count": 293,
   "id": "2a6db44a",
   "metadata": {},
   "outputs": [
    {
     "data": {
      "text/plain": [
       "0.8442777723234922"
      ]
     },
     "execution_count": 293,
     "metadata": {},
     "output_type": "execute_result"
    }
   ],
   "source": [
    "metrics.r2_score(preds, y_train)"
   ]
  },
  {
   "cell_type": "code",
   "execution_count": 294,
   "id": "bd5c0c03",
   "metadata": {},
   "outputs": [
    {
     "data": {
      "text/plain": [
       "0.8620282041597598"
      ]
     },
     "execution_count": 294,
     "metadata": {},
     "output_type": "execute_result"
    }
   ],
   "source": [
    "r2adj(lr, X_train, y_train)"
   ]
  },
  {
   "cell_type": "code",
   "execution_count": 295,
   "id": "52d1dfbe",
   "metadata": {},
   "outputs": [
    {
     "data": {
      "text/plain": [
       "19852.974396459926"
      ]
     },
     "execution_count": 295,
     "metadata": {},
     "output_type": "execute_result"
    }
   ],
   "source": [
    "metrics.mean_absolute_error(y_train, preds)"
   ]
  },
  {
   "cell_type": "code",
   "execution_count": 296,
   "id": "03c580e5",
   "metadata": {},
   "outputs": [
    {
     "data": {
      "text/plain": [
       "852167030.371429"
      ]
     },
     "execution_count": 296,
     "metadata": {},
     "output_type": "execute_result"
    }
   ],
   "source": [
    "metrics.mean_squared_error(y_train, preds)"
   ]
  },
  {
   "cell_type": "code",
   "execution_count": 297,
   "id": "3061989f",
   "metadata": {},
   "outputs": [
    {
     "data": {
      "text/plain": [
       "29191.90008155394"
      ]
     },
     "execution_count": 297,
     "metadata": {},
     "output_type": "execute_result"
    }
   ],
   "source": [
    "metrics.mean_squared_error(y_train, preds, squared=False)"
   ]
  },
  {
   "cell_type": "code",
   "execution_count": 298,
   "id": "253f62be",
   "metadata": {},
   "outputs": [
    {
     "data": {
      "text/plain": [
       "<matplotlib.lines.Line2D at 0x7fc6263541c0>"
      ]
     },
     "execution_count": 298,
     "metadata": {},
     "output_type": "execute_result"
    },
    {
     "data": {
      "image/png": "[encoded data removed]",
      "text/plain": [
       "<Figure size 432x288 with 1 Axes>"
      ]
     },
     "metadata": {
      "needs_background": "light"
     },
     "output_type": "display_data"
    }
   ],
   "source": [
    "plt.scatter(preds, y_train)\n",
    "plt.axhline(y_train.mean())"
   ]
  },
  {
   "cell_type": "code",
   "execution_count": 299,
   "id": "c7334113",
   "metadata": {},
   "outputs": [
    {
     "data": {
      "text/plain": [
       "(array([ 34., 390., 620., 263., 129.,  51.,  28.,  10.,   6.,   7.]),\n",
       " array([ 13100. ,  72955.7, 132811.4, 192667.1, 252522.8, 312378.5,\n",
       "        372234.2, 432089.9, 491945.6, 551801.3, 611657. ]),\n",
       " <BarContainer object of 10 artists>)"
      ]
     },
     "execution_count": 299,
     "metadata": {},
     "output_type": "execute_result"
    },
    {
     "data": {
      "image/png": "[encoded data removed]",
      "text/plain": [
       "<Figure size 432x288 with 1 Axes>"
      ]
     },
     "metadata": {
      "needs_background": "light"
     },
     "output_type": "display_data"
    }
   ],
   "source": [
    "plt.hist(preds, color='r', alpha=.5)\n",
    "plt.hist(y_train, color = 'blue', alpha=.5)"
   ]
  },
  {
   "cell_type": "code",
   "execution_count": 300,
   "id": "22a4724b",
   "metadata": {},
   "outputs": [],
   "source": [
    "preds = lr.predict(X_test)"
   ]
  },
  {
   "cell_type": "code",
   "execution_count": 301,
   "id": "51e5a9db",
   "metadata": {},
   "outputs": [
    {
     "data": {
      "text/plain": [
       "0.8581122538978999"
      ]
     },
     "execution_count": 301,
     "metadata": {},
     "output_type": "execute_result"
    }
   ],
   "source": [
    "metrics.r2_score(preds, y_test)"
   ]
  },
  {
   "cell_type": "code",
   "execution_count": 302,
   "id": "15721ed4",
   "metadata": {},
   "outputs": [
    {
     "data": {
      "text/plain": [
       "0.8678265793166212"
      ]
     },
     "execution_count": 302,
     "metadata": {},
     "output_type": "execute_result"
    }
   ],
   "source": [
    "r2adj(lr, X_test, y_test)"
   ]
  },
  {
   "cell_type": "code",
   "execution_count": 303,
   "id": "18646edc",
   "metadata": {},
   "outputs": [
    {
     "data": {
      "text/plain": [
       "19430.5812319146"
      ]
     },
     "execution_count": 303,
     "metadata": {},
     "output_type": "execute_result"
    }
   ],
   "source": [
    "metrics.mean_absolute_error(y_test, preds)"
   ]
  },
  {
   "cell_type": "code",
   "execution_count": 304,
   "id": "d06de64d",
   "metadata": {},
   "outputs": [
    {
     "data": {
      "text/plain": [
       "754486097.8953315"
      ]
     },
     "execution_count": 304,
     "metadata": {},
     "output_type": "execute_result"
    }
   ],
   "source": [
    "metrics.mean_squared_error(y_test, preds)"
   ]
  },
  {
   "cell_type": "code",
   "execution_count": 305,
   "id": "4b2a37e2",
   "metadata": {},
   "outputs": [
    {
     "data": {
      "text/plain": [
       "27467.910329971073"
      ]
     },
     "execution_count": 305,
     "metadata": {},
     "output_type": "execute_result"
    }
   ],
   "source": [
    "metrics.mean_squared_error(y_test, preds, squared=False)"
   ]
  },
  {
   "cell_type": "code",
   "execution_count": 306,
   "id": "3f266e0e",
   "metadata": {},
   "outputs": [
    {
     "data": {
      "text/plain": [
       "<matplotlib.lines.Line2D at 0x7fc625e7ffa0>"
      ]
     },
     "execution_count": 306,
     "metadata": {},
     "output_type": "execute_result"
    },
    {
     "data": {
      "image/png": "[encoded data removed]",
      "text/plain": [
       "<Figure size 432x288 with 1 Axes>"
      ]
     },
     "metadata": {
      "needs_background": "light"
     },
     "output_type": "display_data"
    }
   ],
   "source": [
    "plt.scatter(preds, y_test)\n",
    "plt.axhline(y_test.mean())"
   ]
  },
  {
   "cell_type": "code",
   "execution_count": 307,
   "id": "ec7fc269",
   "metadata": {},
   "outputs": [
    {
     "data": {
      "text/plain": [
       "(array([  5.,  37., 160., 141.,  72.,  39.,  24.,  15.,  10.,  10.]),\n",
       " array([ 12789. ,  57510.1, 102231.2, 146952.3, 191673.4, 236394.5,\n",
       "        281115.6, 325836.7, 370557.8, 415278.9, 460000. ]),\n",
       " <BarContainer object of 10 artists>)"
      ]
     },
     "execution_count": 307,
     "metadata": {},
     "output_type": "execute_result"
    },
    {
     "data": {
      "image/png": "[encoded data removed]",
      "text/plain": [
       "<Figure size 432x288 with 1 Axes>"
      ]
     },
     "metadata": {
      "needs_background": "light"
     },
     "output_type": "display_data"
    }
   ],
   "source": [
    "plt.hist(preds, color ='r', alpha=.5)\n",
    "plt.hist(y_test, color='blue', alpha=.5)"
   ]
  },
  {
   "cell_type": "code",
   "execution_count": null,
   "id": "c73cee2e",
   "metadata": {},
   "outputs": [],
   "source": []
  },
  {
   "cell_type": "code",
   "execution_count": null,
   "id": "db0e6421",
   "metadata": {},
   "outputs": [],
   "source": []
  },
  {
   "cell_type": "code",
   "execution_count": null,
   "id": "2692f6af",
   "metadata": {},
   "outputs": [],
   "source": []
  },
  {
   "cell_type": "markdown",
   "id": "5b293ab3",
   "metadata": {},
   "source": [
    "### CREATION OF POLYNOMIALS FOR COLS BETWEEN 0.5-0.6"
   ]
  },
  {
   "cell_type": "code",
   "execution_count": 308,
   "id": "db84f572",
   "metadata": {},
   "outputs": [],
   "source": [
    "features = ['Year_Built', 'Garage_Finish', 'Year_Remod/Add', 'Fireplace_Qu','Full_Bath',\n",
    "             'TotRms_AbvGrd', 'Mas_Vnr_Area']\n",
    "X = traindice[features]\n",
    "y = traindice['SalePrice']"
   ]
  },
  {
   "cell_type": "code",
   "execution_count": 309,
   "id": "48052329",
   "metadata": {},
   "outputs": [
    {
     "data": {
      "text/plain": [
       "PolynomialFeatures(include_bias=False)"
      ]
     },
     "execution_count": 309,
     "metadata": {},
     "output_type": "execute_result"
    }
   ],
   "source": [
    "poly = PolynomialFeatures(include_bias = False)\n",
    "poly.fit(X)"
   ]
  },
  {
   "cell_type": "code",
   "execution_count": 310,
   "id": "ced549b4",
   "metadata": {},
   "outputs": [
    {
     "data": {
      "text/plain": [
       "array([[1.9760e+03, 2.0000e+00, 2.0050e+03, ..., 3.6000e+01, 1.7340e+03,\n",
       "        8.3521e+04],\n",
       "       [1.9960e+03, 2.0000e+00, 1.9970e+03, ..., 6.4000e+01, 1.0560e+03,\n",
       "        1.7424e+04],\n",
       "       [1.9530e+03, 1.0000e+00, 2.0070e+03, ..., 2.5000e+01, 0.0000e+00,\n",
       "        0.0000e+00],\n",
       "       ...,\n",
       "       [1.9280e+03, 1.0000e+00, 1.9500e+03, ..., 8.1000e+01, 0.0000e+00,\n",
       "        0.0000e+00],\n",
       "       [1.9560e+03, 1.0000e+00, 1.9560e+03, ..., 3.6000e+01, 0.0000e+00,\n",
       "        0.0000e+00],\n",
       "       [1.9990e+03, 3.0000e+00, 1.9990e+03, ..., 4.9000e+01, 0.0000e+00,\n",
       "        0.0000e+00]])"
      ]
     },
     "execution_count": 310,
     "metadata": {},
     "output_type": "execute_result"
    }
   ],
   "source": [
    "X_poly = poly.transform(X)\n",
    "X_poly"
   ]
  },
  {
   "cell_type": "code",
   "execution_count": 311,
   "id": "09a3670f",
   "metadata": {},
   "outputs": [
    {
     "data": {
      "text/plain": [
       "['Year_Built',\n",
       " 'Garage_Finish',\n",
       " 'Year_Remod/Add',\n",
       " 'Fireplace_Qu',\n",
       " 'Full_Bath',\n",
       " 'TotRms_AbvGrd',\n",
       " 'Mas_Vnr_Area',\n",
       " 'Year_Built^2',\n",
       " 'Year_Built Garage_Finish',\n",
       " 'Year_Built Year_Remod/Add',\n",
       " 'Year_Built Fireplace_Qu',\n",
       " 'Year_Built Full_Bath',\n",
       " 'Year_Built TotRms_AbvGrd',\n",
       " 'Year_Built Mas_Vnr_Area',\n",
       " 'Garage_Finish^2',\n",
       " 'Garage_Finish Year_Remod/Add',\n",
       " 'Garage_Finish Fireplace_Qu',\n",
       " 'Garage_Finish Full_Bath',\n",
       " 'Garage_Finish TotRms_AbvGrd',\n",
       " 'Garage_Finish Mas_Vnr_Area',\n",
       " 'Year_Remod/Add^2',\n",
       " 'Year_Remod/Add Fireplace_Qu',\n",
       " 'Year_Remod/Add Full_Bath',\n",
       " 'Year_Remod/Add TotRms_AbvGrd',\n",
       " 'Year_Remod/Add Mas_Vnr_Area',\n",
       " 'Fireplace_Qu^2',\n",
       " 'Fireplace_Qu Full_Bath',\n",
       " 'Fireplace_Qu TotRms_AbvGrd',\n",
       " 'Fireplace_Qu Mas_Vnr_Area',\n",
       " 'Full_Bath^2',\n",
       " 'Full_Bath TotRms_AbvGrd',\n",
       " 'Full_Bath Mas_Vnr_Area',\n",
       " 'TotRms_AbvGrd^2',\n",
       " 'TotRms_AbvGrd Mas_Vnr_Area',\n",
       " 'Mas_Vnr_Area^2']"
      ]
     },
     "execution_count": 311,
     "metadata": {},
     "output_type": "execute_result"
    }
   ],
   "source": [
    "poly.get_feature_names(features)"
   ]
  },
  {
   "cell_type": "code",
   "execution_count": 312,
   "id": "68d25b45",
   "metadata": {},
   "outputs": [
    {
     "data": {
      "text/html": [
       "<div>\n",
       "<style scoped>\n",
       "    .dataframe tbody tr th:only-of-type {\n",
       "        vertical-align: middle;\n",
       "    }\n",
       "\n",
       "    .dataframe tbody tr th {\n",
       "        vertical-align: top;\n",
       "    }\n",
       "\n",
       "    .dataframe thead th {\n",
       "        text-align: right;\n",
       "    }\n",
       "</style>\n",
       "<table border=\"1\" class=\"dataframe\">\n",
       "  <thead>\n",
       "    <tr style=\"text-align: right;\">\n",
       "      <th></th>\n",
       "      <th>Year_Built</th>\n",
       "      <th>Garage_Finish</th>\n",
       "      <th>Year_Remod/Add</th>\n",
       "      <th>Fireplace_Qu</th>\n",
       "      <th>Full_Bath</th>\n",
       "      <th>TotRms_AbvGrd</th>\n",
       "      <th>Mas_Vnr_Area</th>\n",
       "      <th>Year_Built^2</th>\n",
       "      <th>Year_Built Garage_Finish</th>\n",
       "      <th>Year_Built Year_Remod/Add</th>\n",
       "      <th>...</th>\n",
       "      <th>Fireplace_Qu^2</th>\n",
       "      <th>Fireplace_Qu Full_Bath</th>\n",
       "      <th>Fireplace_Qu TotRms_AbvGrd</th>\n",
       "      <th>Fireplace_Qu Mas_Vnr_Area</th>\n",
       "      <th>Full_Bath^2</th>\n",
       "      <th>Full_Bath TotRms_AbvGrd</th>\n",
       "      <th>Full_Bath Mas_Vnr_Area</th>\n",
       "      <th>TotRms_AbvGrd^2</th>\n",
       "      <th>TotRms_AbvGrd Mas_Vnr_Area</th>\n",
       "      <th>Mas_Vnr_Area^2</th>\n",
       "    </tr>\n",
       "  </thead>\n",
       "  <tbody>\n",
       "    <tr>\n",
       "      <th>0</th>\n",
       "      <td>1976.0</td>\n",
       "      <td>2.0</td>\n",
       "      <td>2005.0</td>\n",
       "      <td>0.0</td>\n",
       "      <td>2.0</td>\n",
       "      <td>6.0</td>\n",
       "      <td>289.0</td>\n",
       "      <td>3904576.0</td>\n",
       "      <td>3952.0</td>\n",
       "      <td>3961880.0</td>\n",
       "      <td>...</td>\n",
       "      <td>0.0</td>\n",
       "      <td>0.0</td>\n",
       "      <td>0.0</td>\n",
       "      <td>0.0</td>\n",
       "      <td>4.0</td>\n",
       "      <td>12.0</td>\n",
       "      <td>578.0</td>\n",
       "      <td>36.0</td>\n",
       "      <td>1734.0</td>\n",
       "      <td>83521.0</td>\n",
       "    </tr>\n",
       "    <tr>\n",
       "      <th>1</th>\n",
       "      <td>1996.0</td>\n",
       "      <td>2.0</td>\n",
       "      <td>1997.0</td>\n",
       "      <td>3.0</td>\n",
       "      <td>2.0</td>\n",
       "      <td>8.0</td>\n",
       "      <td>132.0</td>\n",
       "      <td>3984016.0</td>\n",
       "      <td>3992.0</td>\n",
       "      <td>3986012.0</td>\n",
       "      <td>...</td>\n",
       "      <td>9.0</td>\n",
       "      <td>6.0</td>\n",
       "      <td>24.0</td>\n",
       "      <td>396.0</td>\n",
       "      <td>4.0</td>\n",
       "      <td>16.0</td>\n",
       "      <td>264.0</td>\n",
       "      <td>64.0</td>\n",
       "      <td>1056.0</td>\n",
       "      <td>17424.0</td>\n",
       "    </tr>\n",
       "    <tr>\n",
       "      <th>2</th>\n",
       "      <td>1953.0</td>\n",
       "      <td>1.0</td>\n",
       "      <td>2007.0</td>\n",
       "      <td>0.0</td>\n",
       "      <td>1.0</td>\n",
       "      <td>5.0</td>\n",
       "      <td>0.0</td>\n",
       "      <td>3814209.0</td>\n",
       "      <td>1953.0</td>\n",
       "      <td>3919671.0</td>\n",
       "      <td>...</td>\n",
       "      <td>0.0</td>\n",
       "      <td>0.0</td>\n",
       "      <td>0.0</td>\n",
       "      <td>0.0</td>\n",
       "      <td>1.0</td>\n",
       "      <td>5.0</td>\n",
       "      <td>0.0</td>\n",
       "      <td>25.0</td>\n",
       "      <td>0.0</td>\n",
       "      <td>0.0</td>\n",
       "    </tr>\n",
       "    <tr>\n",
       "      <th>3</th>\n",
       "      <td>2006.0</td>\n",
       "      <td>3.0</td>\n",
       "      <td>2007.0</td>\n",
       "      <td>0.0</td>\n",
       "      <td>2.0</td>\n",
       "      <td>7.0</td>\n",
       "      <td>0.0</td>\n",
       "      <td>4024036.0</td>\n",
       "      <td>6018.0</td>\n",
       "      <td>4026042.0</td>\n",
       "      <td>...</td>\n",
       "      <td>0.0</td>\n",
       "      <td>0.0</td>\n",
       "      <td>0.0</td>\n",
       "      <td>0.0</td>\n",
       "      <td>4.0</td>\n",
       "      <td>14.0</td>\n",
       "      <td>0.0</td>\n",
       "      <td>49.0</td>\n",
       "      <td>0.0</td>\n",
       "      <td>0.0</td>\n",
       "    </tr>\n",
       "    <tr>\n",
       "      <th>4</th>\n",
       "      <td>1900.0</td>\n",
       "      <td>1.0</td>\n",
       "      <td>1993.0</td>\n",
       "      <td>0.0</td>\n",
       "      <td>2.0</td>\n",
       "      <td>6.0</td>\n",
       "      <td>0.0</td>\n",
       "      <td>3610000.0</td>\n",
       "      <td>1900.0</td>\n",
       "      <td>3786700.0</td>\n",
       "      <td>...</td>\n",
       "      <td>0.0</td>\n",
       "      <td>0.0</td>\n",
       "      <td>0.0</td>\n",
       "      <td>0.0</td>\n",
       "      <td>4.0</td>\n",
       "      <td>12.0</td>\n",
       "      <td>0.0</td>\n",
       "      <td>36.0</td>\n",
       "      <td>0.0</td>\n",
       "      <td>0.0</td>\n",
       "    </tr>\n",
       "    <tr>\n",
       "      <th>...</th>\n",
       "      <td>...</td>\n",
       "      <td>...</td>\n",
       "      <td>...</td>\n",
       "      <td>...</td>\n",
       "      <td>...</td>\n",
       "      <td>...</td>\n",
       "      <td>...</td>\n",
       "      <td>...</td>\n",
       "      <td>...</td>\n",
       "      <td>...</td>\n",
       "      <td>...</td>\n",
       "      <td>...</td>\n",
       "      <td>...</td>\n",
       "      <td>...</td>\n",
       "      <td>...</td>\n",
       "      <td>...</td>\n",
       "      <td>...</td>\n",
       "      <td>...</td>\n",
       "      <td>...</td>\n",
       "      <td>...</td>\n",
       "      <td>...</td>\n",
       "    </tr>\n",
       "    <tr>\n",
       "      <th>2046</th>\n",
       "      <td>2007.0</td>\n",
       "      <td>3.0</td>\n",
       "      <td>2007.0</td>\n",
       "      <td>4.0</td>\n",
       "      <td>2.0</td>\n",
       "      <td>7.0</td>\n",
       "      <td>0.0</td>\n",
       "      <td>4028049.0</td>\n",
       "      <td>6021.0</td>\n",
       "      <td>4028049.0</td>\n",
       "      <td>...</td>\n",
       "      <td>16.0</td>\n",
       "      <td>8.0</td>\n",
       "      <td>28.0</td>\n",
       "      <td>0.0</td>\n",
       "      <td>4.0</td>\n",
       "      <td>14.0</td>\n",
       "      <td>0.0</td>\n",
       "      <td>49.0</td>\n",
       "      <td>0.0</td>\n",
       "      <td>0.0</td>\n",
       "    </tr>\n",
       "    <tr>\n",
       "      <th>2047</th>\n",
       "      <td>1940.0</td>\n",
       "      <td>1.0</td>\n",
       "      <td>1950.0</td>\n",
       "      <td>0.0</td>\n",
       "      <td>1.0</td>\n",
       "      <td>4.0</td>\n",
       "      <td>0.0</td>\n",
       "      <td>3763600.0</td>\n",
       "      <td>1940.0</td>\n",
       "      <td>3783000.0</td>\n",
       "      <td>...</td>\n",
       "      <td>0.0</td>\n",
       "      <td>0.0</td>\n",
       "      <td>0.0</td>\n",
       "      <td>0.0</td>\n",
       "      <td>1.0</td>\n",
       "      <td>4.0</td>\n",
       "      <td>0.0</td>\n",
       "      <td>16.0</td>\n",
       "      <td>0.0</td>\n",
       "      <td>0.0</td>\n",
       "    </tr>\n",
       "    <tr>\n",
       "      <th>2048</th>\n",
       "      <td>1928.0</td>\n",
       "      <td>1.0</td>\n",
       "      <td>1950.0</td>\n",
       "      <td>3.0</td>\n",
       "      <td>1.0</td>\n",
       "      <td>9.0</td>\n",
       "      <td>0.0</td>\n",
       "      <td>3717184.0</td>\n",
       "      <td>1928.0</td>\n",
       "      <td>3759600.0</td>\n",
       "      <td>...</td>\n",
       "      <td>9.0</td>\n",
       "      <td>3.0</td>\n",
       "      <td>27.0</td>\n",
       "      <td>0.0</td>\n",
       "      <td>1.0</td>\n",
       "      <td>9.0</td>\n",
       "      <td>0.0</td>\n",
       "      <td>81.0</td>\n",
       "      <td>0.0</td>\n",
       "      <td>0.0</td>\n",
       "    </tr>\n",
       "    <tr>\n",
       "      <th>2049</th>\n",
       "      <td>1956.0</td>\n",
       "      <td>1.0</td>\n",
       "      <td>1956.0</td>\n",
       "      <td>4.0</td>\n",
       "      <td>1.0</td>\n",
       "      <td>6.0</td>\n",
       "      <td>0.0</td>\n",
       "      <td>3825936.0</td>\n",
       "      <td>1956.0</td>\n",
       "      <td>3825936.0</td>\n",
       "      <td>...</td>\n",
       "      <td>16.0</td>\n",
       "      <td>4.0</td>\n",
       "      <td>24.0</td>\n",
       "      <td>0.0</td>\n",
       "      <td>1.0</td>\n",
       "      <td>6.0</td>\n",
       "      <td>0.0</td>\n",
       "      <td>36.0</td>\n",
       "      <td>0.0</td>\n",
       "      <td>0.0</td>\n",
       "    </tr>\n",
       "    <tr>\n",
       "      <th>2050</th>\n",
       "      <td>1999.0</td>\n",
       "      <td>3.0</td>\n",
       "      <td>1999.0</td>\n",
       "      <td>3.0</td>\n",
       "      <td>2.0</td>\n",
       "      <td>7.0</td>\n",
       "      <td>0.0</td>\n",
       "      <td>3996001.0</td>\n",
       "      <td>5997.0</td>\n",
       "      <td>3996001.0</td>\n",
       "      <td>...</td>\n",
       "      <td>9.0</td>\n",
       "      <td>6.0</td>\n",
       "      <td>21.0</td>\n",
       "      <td>0.0</td>\n",
       "      <td>4.0</td>\n",
       "      <td>14.0</td>\n",
       "      <td>0.0</td>\n",
       "      <td>49.0</td>\n",
       "      <td>0.0</td>\n",
       "      <td>0.0</td>\n",
       "    </tr>\n",
       "  </tbody>\n",
       "</table>\n",
       "<p>2051 rows × 35 columns</p>\n",
       "</div>"
      ],
      "text/plain": [
       "      Year_Built  Garage_Finish  Year_Remod/Add  Fireplace_Qu  Full_Bath  \\\n",
       "0         1976.0            2.0          2005.0           0.0        2.0   \n",
       "1         1996.0            2.0          1997.0           3.0        2.0   \n",
       "2         1953.0            1.0          2007.0           0.0        1.0   \n",
       "3         2006.0            3.0          2007.0           0.0        2.0   \n",
       "4         1900.0            1.0          1993.0           0.0        2.0   \n",
       "...          ...            ...             ...           ...        ...   \n",
       "2046      2007.0            3.0          2007.0           4.0        2.0   \n",
       "2047      1940.0            1.0          1950.0           0.0        1.0   \n",
       "2048      1928.0            1.0          1950.0           3.0        1.0   \n",
       "2049      1956.0            1.0          1956.0           4.0        1.0   \n",
       "2050      1999.0            3.0          1999.0           3.0        2.0   \n",
       "\n",
       "      TotRms_AbvGrd  Mas_Vnr_Area  Year_Built^2  Year_Built Garage_Finish  \\\n",
       "0               6.0         289.0     3904576.0                    3952.0   \n",
       "1               8.0         132.0     3984016.0                    3992.0   \n",
       "2               5.0           0.0     3814209.0                    1953.0   \n",
       "3               7.0           0.0     4024036.0                    6018.0   \n",
       "4               6.0           0.0     3610000.0                    1900.0   \n",
       "...             ...           ...           ...                       ...   \n",
       "2046            7.0           0.0     4028049.0                    6021.0   \n",
       "2047            4.0           0.0     3763600.0                    1940.0   \n",
       "2048            9.0           0.0     3717184.0                    1928.0   \n",
       "2049            6.0           0.0     3825936.0                    1956.0   \n",
       "2050            7.0           0.0     3996001.0                    5997.0   \n",
       "\n",
       "      Year_Built Year_Remod/Add  ...  Fireplace_Qu^2  Fireplace_Qu Full_Bath  \\\n",
       "0                     3961880.0  ...             0.0                     0.0   \n",
       "1                     3986012.0  ...             9.0                     6.0   \n",
       "2                     3919671.0  ...             0.0                     0.0   \n",
       "3                     4026042.0  ...             0.0                     0.0   \n",
       "4                     3786700.0  ...             0.0                     0.0   \n",
       "...                         ...  ...             ...                     ...   \n",
       "2046                  4028049.0  ...            16.0                     8.0   \n",
       "2047                  3783000.0  ...             0.0                     0.0   \n",
       "2048                  3759600.0  ...             9.0                     3.0   \n",
       "2049                  3825936.0  ...            16.0                     4.0   \n",
       "2050                  3996001.0  ...             9.0                     6.0   \n",
       "\n",
       "      Fireplace_Qu TotRms_AbvGrd  Fireplace_Qu Mas_Vnr_Area  Full_Bath^2  \\\n",
       "0                            0.0                        0.0          4.0   \n",
       "1                           24.0                      396.0          4.0   \n",
       "2                            0.0                        0.0          1.0   \n",
       "3                            0.0                        0.0          4.0   \n",
       "4                            0.0                        0.0          4.0   \n",
       "...                          ...                        ...          ...   \n",
       "2046                        28.0                        0.0          4.0   \n",
       "2047                         0.0                        0.0          1.0   \n",
       "2048                        27.0                        0.0          1.0   \n",
       "2049                        24.0                        0.0          1.0   \n",
       "2050                        21.0                        0.0          4.0   \n",
       "\n",
       "      Full_Bath TotRms_AbvGrd  Full_Bath Mas_Vnr_Area  TotRms_AbvGrd^2  \\\n",
       "0                        12.0                   578.0             36.0   \n",
       "1                        16.0                   264.0             64.0   \n",
       "2                         5.0                     0.0             25.0   \n",
       "3                        14.0                     0.0             49.0   \n",
       "4                        12.0                     0.0             36.0   \n",
       "...                       ...                     ...              ...   \n",
       "2046                     14.0                     0.0             49.0   \n",
       "2047                      4.0                     0.0             16.0   \n",
       "2048                      9.0                     0.0             81.0   \n",
       "2049                      6.0                     0.0             36.0   \n",
       "2050                     14.0                     0.0             49.0   \n",
       "\n",
       "      TotRms_AbvGrd Mas_Vnr_Area  Mas_Vnr_Area^2  \n",
       "0                         1734.0         83521.0  \n",
       "1                         1056.0         17424.0  \n",
       "2                            0.0             0.0  \n",
       "3                            0.0             0.0  \n",
       "4                            0.0             0.0  \n",
       "...                          ...             ...  \n",
       "2046                         0.0             0.0  \n",
       "2047                         0.0             0.0  \n",
       "2048                         0.0             0.0  \n",
       "2049                         0.0             0.0  \n",
       "2050                         0.0             0.0  \n",
       "\n",
       "[2051 rows x 35 columns]"
      ]
     },
     "execution_count": 312,
     "metadata": {},
     "output_type": "execute_result"
    }
   ],
   "source": [
    "poly3df = pd.DataFrame(X_poly, columns = poly.get_feature_names(features))\n",
    "poly3df"
   ]
  },
  {
   "cell_type": "code",
   "execution_count": 313,
   "id": "8ba0bbc3",
   "metadata": {},
   "outputs": [
    {
     "data": {
      "text/html": [
       "<div>\n",
       "<style scoped>\n",
       "    .dataframe tbody tr th:only-of-type {\n",
       "        vertical-align: middle;\n",
       "    }\n",
       "\n",
       "    .dataframe tbody tr th {\n",
       "        vertical-align: top;\n",
       "    }\n",
       "\n",
       "    .dataframe thead th {\n",
       "        text-align: right;\n",
       "    }\n",
       "</style>\n",
       "<table border=\"1\" class=\"dataframe\">\n",
       "  <thead>\n",
       "    <tr style=\"text-align: right;\">\n",
       "      <th></th>\n",
       "      <th>SalePrice</th>\n",
       "    </tr>\n",
       "  </thead>\n",
       "  <tbody>\n",
       "    <tr>\n",
       "      <th>Mas_Vnr_Area^2</th>\n",
       "      <td>0.381692</td>\n",
       "    </tr>\n",
       "    <tr>\n",
       "      <th>TotRms_AbvGrd^2</th>\n",
       "      <td>0.490617</td>\n",
       "    </tr>\n",
       "    <tr>\n",
       "      <th>Mas_Vnr_Area</th>\n",
       "      <td>0.503579</td>\n",
       "    </tr>\n",
       "    <tr>\n",
       "      <th>TotRms_AbvGrd</th>\n",
       "      <td>0.504014</td>\n",
       "    </tr>\n",
       "    <tr>\n",
       "      <th>Year_Remod/Add Mas_Vnr_Area</th>\n",
       "      <td>0.507068</td>\n",
       "    </tr>\n",
       "    <tr>\n",
       "      <th>Year_Built Mas_Vnr_Area</th>\n",
       "      <td>0.507377</td>\n",
       "    </tr>\n",
       "    <tr>\n",
       "      <th>Year_Remod/Add TotRms_AbvGrd</th>\n",
       "      <td>0.524402</td>\n",
       "    </tr>\n",
       "    <tr>\n",
       "      <th>Full_Bath^2</th>\n",
       "      <td>0.533664</td>\n",
       "    </tr>\n",
       "    <tr>\n",
       "      <th>Year_Built TotRms_AbvGrd</th>\n",
       "      <td>0.537303</td>\n",
       "    </tr>\n",
       "    <tr>\n",
       "      <th>Garage_Finish^2</th>\n",
       "      <td>0.537432</td>\n",
       "    </tr>\n",
       "    <tr>\n",
       "      <th>Full_Bath</th>\n",
       "      <td>0.537969</td>\n",
       "    </tr>\n",
       "    <tr>\n",
       "      <th>Fireplace_Qu</th>\n",
       "      <td>0.538925</td>\n",
       "    </tr>\n",
       "    <tr>\n",
       "      <th>Year_Remod/Add Fireplace_Qu</th>\n",
       "      <td>0.544417</td>\n",
       "    </tr>\n",
       "    <tr>\n",
       "      <th>TotRms_AbvGrd Mas_Vnr_Area</th>\n",
       "      <td>0.544961</td>\n",
       "    </tr>\n",
       "    <tr>\n",
       "      <th>Year_Built Fireplace_Qu</th>\n",
       "      <td>0.547301</td>\n",
       "    </tr>\n",
       "    <tr>\n",
       "      <th>Year_Remod/Add Full_Bath</th>\n",
       "      <td>0.547517</td>\n",
       "    </tr>\n",
       "    <tr>\n",
       "      <th>Fireplace_Qu^2</th>\n",
       "      <td>0.548293</td>\n",
       "    </tr>\n",
       "    <tr>\n",
       "      <th>Year_Remod/Add</th>\n",
       "      <td>0.550370</td>\n",
       "    </tr>\n",
       "    <tr>\n",
       "      <th>Year_Remod/Add^2</th>\n",
       "      <td>0.550681</td>\n",
       "    </tr>\n",
       "    <tr>\n",
       "      <th>Year_Built Full_Bath</th>\n",
       "      <td>0.552592</td>\n",
       "    </tr>\n",
       "    <tr>\n",
       "      <th>Garage_Finish</th>\n",
       "      <td>0.557839</td>\n",
       "    </tr>\n",
       "    <tr>\n",
       "      <th>Garage_Finish Year_Remod/Add</th>\n",
       "      <td>0.564118</td>\n",
       "    </tr>\n",
       "    <tr>\n",
       "      <th>Year_Built Garage_Finish</th>\n",
       "      <td>0.565489</td>\n",
       "    </tr>\n",
       "    <tr>\n",
       "      <th>Full_Bath Mas_Vnr_Area</th>\n",
       "      <td>0.566371</td>\n",
       "    </tr>\n",
       "    <tr>\n",
       "      <th>Year_Built</th>\n",
       "      <td>0.571849</td>\n",
       "    </tr>\n",
       "    <tr>\n",
       "      <th>Year_Built^2</th>\n",
       "      <td>0.574040</td>\n",
       "    </tr>\n",
       "    <tr>\n",
       "      <th>Garage_Finish Mas_Vnr_Area</th>\n",
       "      <td>0.582316</td>\n",
       "    </tr>\n",
       "    <tr>\n",
       "      <th>Fireplace_Qu Mas_Vnr_Area</th>\n",
       "      <td>0.586461</td>\n",
       "    </tr>\n",
       "    <tr>\n",
       "      <th>Full_Bath TotRms_AbvGrd</th>\n",
       "      <td>0.601315</td>\n",
       "    </tr>\n",
       "    <tr>\n",
       "      <th>Fireplace_Qu TotRms_AbvGrd</th>\n",
       "      <td>0.621161</td>\n",
       "    </tr>\n",
       "    <tr>\n",
       "      <th>Year_Built Year_Remod/Add</th>\n",
       "      <td>0.622283</td>\n",
       "    </tr>\n",
       "    <tr>\n",
       "      <th>Fireplace_Qu Full_Bath</th>\n",
       "      <td>0.637987</td>\n",
       "    </tr>\n",
       "    <tr>\n",
       "      <th>Garage_Finish Fireplace_Qu</th>\n",
       "      <td>0.638771</td>\n",
       "    </tr>\n",
       "    <tr>\n",
       "      <th>Garage_Finish Full_Bath</th>\n",
       "      <td>0.656986</td>\n",
       "    </tr>\n",
       "    <tr>\n",
       "      <th>Garage_Finish TotRms_AbvGrd</th>\n",
       "      <td>0.672570</td>\n",
       "    </tr>\n",
       "  </tbody>\n",
       "</table>\n",
       "</div>"
      ],
      "text/plain": [
       "                              SalePrice\n",
       "Mas_Vnr_Area^2                 0.381692\n",
       "TotRms_AbvGrd^2                0.490617\n",
       "Mas_Vnr_Area                   0.503579\n",
       "TotRms_AbvGrd                  0.504014\n",
       "Year_Remod/Add Mas_Vnr_Area    0.507068\n",
       "Year_Built Mas_Vnr_Area        0.507377\n",
       "Year_Remod/Add TotRms_AbvGrd   0.524402\n",
       "Full_Bath^2                    0.533664\n",
       "Year_Built TotRms_AbvGrd       0.537303\n",
       "Garage_Finish^2                0.537432\n",
       "Full_Bath                      0.537969\n",
       "Fireplace_Qu                   0.538925\n",
       "Year_Remod/Add Fireplace_Qu    0.544417\n",
       "TotRms_AbvGrd Mas_Vnr_Area     0.544961\n",
       "Year_Built Fireplace_Qu        0.547301\n",
       "Year_Remod/Add Full_Bath       0.547517\n",
       "Fireplace_Qu^2                 0.548293\n",
       "Year_Remod/Add                 0.550370\n",
       "Year_Remod/Add^2               0.550681\n",
       "Year_Built Full_Bath           0.552592\n",
       "Garage_Finish                  0.557839\n",
       "Garage_Finish Year_Remod/Add   0.564118\n",
       "Year_Built Garage_Finish       0.565489\n",
       "Full_Bath Mas_Vnr_Area         0.566371\n",
       "Year_Built                     0.571849\n",
       "Year_Built^2                   0.574040\n",
       "Garage_Finish Mas_Vnr_Area     0.582316\n",
       "Fireplace_Qu Mas_Vnr_Area      0.586461\n",
       "Full_Bath TotRms_AbvGrd        0.601315\n",
       "Fireplace_Qu TotRms_AbvGrd     0.621161\n",
       "Year_Built Year_Remod/Add      0.622283\n",
       "Fireplace_Qu Full_Bath         0.637987\n",
       "Garage_Finish Fireplace_Qu     0.638771\n",
       "Garage_Finish Full_Bath        0.656986\n",
       "Garage_Finish TotRms_AbvGrd    0.672570"
      ]
     },
     "execution_count": 313,
     "metadata": {},
     "output_type": "execute_result"
    }
   ],
   "source": [
    "poly3df['SalePrice'] = traindice['SalePrice']\n",
    "\n",
    "poly3corr = poly3df.corr()[['SalePrice']].sort_values('SalePrice').iloc[:-1, :]\n",
    "poly3corr"
   ]
  },
  {
   "cell_type": "markdown",
   "id": "d90b017e",
   "metadata": {},
   "source": [
    "### Third Feature Setting\n",
    "Using features from original training dataframe with coefficients ranging from 0.3-1.0"
   ]
  },
  {
   "cell_type": "code",
   "execution_count": 314,
   "id": "07d5c4a8",
   "metadata": {},
   "outputs": [],
   "source": [
    "features = ['Overall_Qual', 'Exter_Qual', 'Gr_Liv_Area', 'Kitchen_Qual', 'Garage_Area', 'Garage_Cars',\n",
    "           'Total_Bsmt_SF', '1st_Flr_SF', 'Bsmt_Qual', 'Year_Built', 'Garage_Finish', 'Year_Remod/Add', 'Fireplace_Qu',\n",
    "           'Full_Bath', 'TotRms_AbvGrd', 'Mas_Vnr_Area', 'Wood_Deck_SF', 'Open_Porch_SF', 'Lot_Frontage', \n",
    "            'BsmtFin_SF_1', 'Fireplaces']\n",
    "X = traindice[features]\n",
    "y = traindice['SalePrice']"
   ]
  },
  {
   "cell_type": "code",
   "execution_count": 315,
   "id": "6e6c7c11",
   "metadata": {},
   "outputs": [
    {
     "data": {
      "text/html": [
       "<div>\n",
       "<style scoped>\n",
       "    .dataframe tbody tr th:only-of-type {\n",
       "        vertical-align: middle;\n",
       "    }\n",
       "\n",
       "    .dataframe tbody tr th {\n",
       "        vertical-align: top;\n",
       "    }\n",
       "\n",
       "    .dataframe thead th {\n",
       "        text-align: right;\n",
       "    }\n",
       "</style>\n",
       "<table border=\"1\" class=\"dataframe\">\n",
       "  <thead>\n",
       "    <tr style=\"text-align: right;\">\n",
       "      <th></th>\n",
       "      <th>Overall_Qual</th>\n",
       "      <th>Exter_Qual</th>\n",
       "      <th>Gr_Liv_Area</th>\n",
       "      <th>Kitchen_Qual</th>\n",
       "      <th>Garage_Area</th>\n",
       "      <th>Garage_Cars</th>\n",
       "      <th>Total_Bsmt_SF</th>\n",
       "      <th>1st_Flr_SF</th>\n",
       "      <th>Bsmt_Qual</th>\n",
       "      <th>Year_Built</th>\n",
       "      <th>...</th>\n",
       "      <th>Year_Remod/Add</th>\n",
       "      <th>Fireplace_Qu</th>\n",
       "      <th>Full_Bath</th>\n",
       "      <th>TotRms_AbvGrd</th>\n",
       "      <th>Mas_Vnr_Area</th>\n",
       "      <th>Wood_Deck_SF</th>\n",
       "      <th>Open_Porch_SF</th>\n",
       "      <th>Lot_Frontage</th>\n",
       "      <th>BsmtFin_SF_1</th>\n",
       "      <th>Fireplaces</th>\n",
       "    </tr>\n",
       "  </thead>\n",
       "  <tbody>\n",
       "    <tr>\n",
       "      <th>532</th>\n",
       "      <td>6</td>\n",
       "      <td>3</td>\n",
       "      <td>1587</td>\n",
       "      <td>2</td>\n",
       "      <td>525.0</td>\n",
       "      <td>2.0</td>\n",
       "      <td>1587.0</td>\n",
       "      <td>1587</td>\n",
       "      <td>3</td>\n",
       "      <td>1971</td>\n",
       "      <td>...</td>\n",
       "      <td>1971</td>\n",
       "      <td>4</td>\n",
       "      <td>2</td>\n",
       "      <td>7</td>\n",
       "      <td>302.0</td>\n",
       "      <td>0</td>\n",
       "      <td>44</td>\n",
       "      <td>85.0</td>\n",
       "      <td>838.0</td>\n",
       "      <td>1</td>\n",
       "    </tr>\n",
       "    <tr>\n",
       "      <th>415</th>\n",
       "      <td>7</td>\n",
       "      <td>3</td>\n",
       "      <td>2267</td>\n",
       "      <td>2</td>\n",
       "      <td>498.0</td>\n",
       "      <td>2.0</td>\n",
       "      <td>1005.0</td>\n",
       "      <td>1262</td>\n",
       "      <td>3</td>\n",
       "      <td>1937</td>\n",
       "      <td>...</td>\n",
       "      <td>1980</td>\n",
       "      <td>4</td>\n",
       "      <td>1</td>\n",
       "      <td>7</td>\n",
       "      <td>0.0</td>\n",
       "      <td>521</td>\n",
       "      <td>0</td>\n",
       "      <td>107.0</td>\n",
       "      <td>288.0</td>\n",
       "      <td>2</td>\n",
       "    </tr>\n",
       "    <tr>\n",
       "      <th>273</th>\n",
       "      <td>5</td>\n",
       "      <td>3</td>\n",
       "      <td>864</td>\n",
       "      <td>3</td>\n",
       "      <td>720.0</td>\n",
       "      <td>2.0</td>\n",
       "      <td>864.0</td>\n",
       "      <td>864</td>\n",
       "      <td>3</td>\n",
       "      <td>1950</td>\n",
       "      <td>...</td>\n",
       "      <td>2002</td>\n",
       "      <td>0</td>\n",
       "      <td>1</td>\n",
       "      <td>5</td>\n",
       "      <td>0.0</td>\n",
       "      <td>194</td>\n",
       "      <td>0</td>\n",
       "      <td>60.0</td>\n",
       "      <td>398.0</td>\n",
       "      <td>0</td>\n",
       "    </tr>\n",
       "    <tr>\n",
       "      <th>1460</th>\n",
       "      <td>7</td>\n",
       "      <td>4</td>\n",
       "      <td>2260</td>\n",
       "      <td>3</td>\n",
       "      <td>533.0</td>\n",
       "      <td>2.0</td>\n",
       "      <td>1306.0</td>\n",
       "      <td>1306</td>\n",
       "      <td>5</td>\n",
       "      <td>1996</td>\n",
       "      <td>...</td>\n",
       "      <td>1997</td>\n",
       "      <td>0</td>\n",
       "      <td>2</td>\n",
       "      <td>7</td>\n",
       "      <td>0.0</td>\n",
       "      <td>296</td>\n",
       "      <td>44</td>\n",
       "      <td>80.0</td>\n",
       "      <td>1201.0</td>\n",
       "      <td>0</td>\n",
       "    </tr>\n",
       "    <tr>\n",
       "      <th>250</th>\n",
       "      <td>8</td>\n",
       "      <td>4</td>\n",
       "      <td>2501</td>\n",
       "      <td>3</td>\n",
       "      <td>751.0</td>\n",
       "      <td>3.0</td>\n",
       "      <td>1242.0</td>\n",
       "      <td>1251</td>\n",
       "      <td>4</td>\n",
       "      <td>1995</td>\n",
       "      <td>...</td>\n",
       "      <td>1995</td>\n",
       "      <td>3</td>\n",
       "      <td>2</td>\n",
       "      <td>9</td>\n",
       "      <td>466.0</td>\n",
       "      <td>192</td>\n",
       "      <td>87</td>\n",
       "      <td>0.0</td>\n",
       "      <td>0.0</td>\n",
       "      <td>1</td>\n",
       "    </tr>\n",
       "  </tbody>\n",
       "</table>\n",
       "<p>5 rows × 21 columns</p>\n",
       "</div>"
      ],
      "text/plain": [
       "      Overall_Qual  Exter_Qual  Gr_Liv_Area  Kitchen_Qual  Garage_Area  \\\n",
       "532              6           3         1587             2        525.0   \n",
       "415              7           3         2267             2        498.0   \n",
       "273              5           3          864             3        720.0   \n",
       "1460             7           4         2260             3        533.0   \n",
       "250              8           4         2501             3        751.0   \n",
       "\n",
       "      Garage_Cars  Total_Bsmt_SF  1st_Flr_SF  Bsmt_Qual  Year_Built  ...  \\\n",
       "532           2.0         1587.0        1587          3        1971  ...   \n",
       "415           2.0         1005.0        1262          3        1937  ...   \n",
       "273           2.0          864.0         864          3        1950  ...   \n",
       "1460          2.0         1306.0        1306          5        1996  ...   \n",
       "250           3.0         1242.0        1251          4        1995  ...   \n",
       "\n",
       "      Year_Remod/Add  Fireplace_Qu  Full_Bath  TotRms_AbvGrd  Mas_Vnr_Area  \\\n",
       "532             1971             4          2              7         302.0   \n",
       "415             1980             4          1              7           0.0   \n",
       "273             2002             0          1              5           0.0   \n",
       "1460            1997             0          2              7           0.0   \n",
       "250             1995             3          2              9         466.0   \n",
       "\n",
       "      Wood_Deck_SF  Open_Porch_SF  Lot_Frontage  BsmtFin_SF_1  Fireplaces  \n",
       "532              0             44          85.0         838.0           1  \n",
       "415            521              0         107.0         288.0           2  \n",
       "273            194              0          60.0         398.0           0  \n",
       "1460           296             44          80.0        1201.0           0  \n",
       "250            192             87           0.0           0.0           1  \n",
       "\n",
       "[5 rows x 21 columns]"
      ]
     },
     "execution_count": 315,
     "metadata": {},
     "output_type": "execute_result"
    }
   ],
   "source": [
    "X_train, X_test, y_train, y_test = train_test_split(X,y, random_state = 42)\n",
    "X_train.head()"
   ]
  },
  {
   "cell_type": "code",
   "execution_count": 316,
   "id": "a220a5c6",
   "metadata": {},
   "outputs": [
    {
     "data": {
      "text/plain": [
       "LinearRegression()"
      ]
     },
     "execution_count": 316,
     "metadata": {},
     "output_type": "execute_result"
    }
   ],
   "source": [
    "lr = LinearRegression()\n",
    "lr.fit(X_train, y_train)"
   ]
  },
  {
   "cell_type": "code",
   "execution_count": 317,
   "id": "7faa5e09",
   "metadata": {},
   "outputs": [
    {
     "data": {
      "text/plain": [
       "0.8143456479151828"
      ]
     },
     "execution_count": 317,
     "metadata": {},
     "output_type": "execute_result"
    }
   ],
   "source": [
    "lr.score(X_train, y_train)"
   ]
  },
  {
   "cell_type": "code",
   "execution_count": 318,
   "id": "60503c61",
   "metadata": {},
   "outputs": [
    {
     "data": {
      "text/plain": [
       "0.871843004710855"
      ]
     },
     "execution_count": 318,
     "metadata": {},
     "output_type": "execute_result"
    }
   ],
   "source": [
    "lr.score(X_test, y_test)"
   ]
  },
  {
   "cell_type": "code",
   "execution_count": 319,
   "id": "c7a3505a",
   "metadata": {},
   "outputs": [
    {
     "data": {
      "text/plain": [
       "array([0.84219032, 0.83028979, 0.83414378, 0.78828944, 0.608362  ])"
      ]
     },
     "execution_count": 319,
     "metadata": {},
     "output_type": "execute_result"
    }
   ],
   "source": [
    "cross_val_score(lr, X_train, y_train)"
   ]
  },
  {
   "cell_type": "code",
   "execution_count": 320,
   "id": "1c1e82b0",
   "metadata": {},
   "outputs": [
    {
     "data": {
      "text/plain": [
       "0.780655066744433"
      ]
     },
     "execution_count": 320,
     "metadata": {},
     "output_type": "execute_result"
    }
   ],
   "source": [
    "cross_val_score(lr, X_train, y_train).mean()"
   ]
  },
  {
   "cell_type": "code",
   "execution_count": 321,
   "id": "36d75c03",
   "metadata": {},
   "outputs": [
    {
     "data": {
      "text/plain": [
       "DummyRegressor()"
      ]
     },
     "execution_count": 321,
     "metadata": {},
     "output_type": "execute_result"
    }
   ],
   "source": [
    "dummy = DummyRegressor()\n",
    "dummy.fit(X_train, y_train)"
   ]
  },
  {
   "cell_type": "code",
   "execution_count": 322,
   "id": "13a69dbb",
   "metadata": {},
   "outputs": [
    {
     "data": {
      "text/plain": [
       "0.0"
      ]
     },
     "execution_count": 322,
     "metadata": {},
     "output_type": "execute_result"
    }
   ],
   "source": [
    "dummy.score(X_train, y_train)"
   ]
  },
  {
   "cell_type": "code",
   "execution_count": 323,
   "id": "563c7e9c",
   "metadata": {},
   "outputs": [
    {
     "data": {
      "text/plain": [
       "-0.00043273813883448753"
      ]
     },
     "execution_count": 323,
     "metadata": {},
     "output_type": "execute_result"
    }
   ],
   "source": [
    "dummy.score(X_test, y_test)"
   ]
  },
  {
   "cell_type": "code",
   "execution_count": 324,
   "id": "b916ee04",
   "metadata": {},
   "outputs": [
    {
     "data": {
      "text/plain": [
       "-0.0009377481689546663"
      ]
     },
     "execution_count": 324,
     "metadata": {},
     "output_type": "execute_result"
    }
   ],
   "source": [
    "cross_val_score(dummy, X_train, y_train).mean()"
   ]
  },
  {
   "cell_type": "code",
   "execution_count": 325,
   "id": "7fe85b9b",
   "metadata": {},
   "outputs": [
    {
     "data": {
      "text/plain": [
       "DecisionTreeRegressor()"
      ]
     },
     "execution_count": 325,
     "metadata": {},
     "output_type": "execute_result"
    }
   ],
   "source": [
    "tree = DecisionTreeRegressor()\n",
    "tree.fit(X_train, y_train)"
   ]
  },
  {
   "cell_type": "code",
   "execution_count": 326,
   "id": "5a382ba6",
   "metadata": {},
   "outputs": [
    {
     "data": {
      "text/plain": [
       "0.9999999814950216"
      ]
     },
     "execution_count": 326,
     "metadata": {},
     "output_type": "execute_result"
    }
   ],
   "source": [
    "tree.score(X_train, y_train)"
   ]
  },
  {
   "cell_type": "code",
   "execution_count": 327,
   "id": "9728c460",
   "metadata": {},
   "outputs": [
    {
     "data": {
      "text/plain": [
       "0.7952750477299381"
      ]
     },
     "execution_count": 327,
     "metadata": {},
     "output_type": "execute_result"
    }
   ],
   "source": [
    "tree.score(X_test, y_test)"
   ]
  },
  {
   "cell_type": "code",
   "execution_count": 328,
   "id": "9e43e324",
   "metadata": {},
   "outputs": [
    {
     "data": {
      "text/plain": [
       "0.7128150881045509"
      ]
     },
     "execution_count": 328,
     "metadata": {},
     "output_type": "execute_result"
    }
   ],
   "source": [
    "cross_val_score(tree, X_train, y_train).mean()"
   ]
  }
 ],
 "metadata": {
  "kernelspec": {
   "display_name": "Python 3",
   "language": "python",
   "name": "python3"
  },
  "language_info": {
   "codemirror_mode": {
    "name": "ipython",
    "version": 3
   },
   "file_extension": ".py",
   "mimetype": "text/x-python",
   "name": "python",
   "nbconvert_exporter": "python",
   "pygments_lexer": "ipython3",
   "version": "3.8.8"
  }
 },
 "nbformat": 4,
 "nbformat_minor": 5
}
